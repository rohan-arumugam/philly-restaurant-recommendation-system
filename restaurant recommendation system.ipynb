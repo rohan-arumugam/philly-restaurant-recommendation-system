{
 "cells": [
  {
   "cell_type": "code",
   "execution_count": 184,
   "metadata": {},
   "outputs": [],
   "source": [
    "# modified sta 141c project\n",
    "# use yelp dataset and filtering methods to create recommendation system\n",
    "import json \n",
    "import pandas as pd\n",
    "import numpy as np\n",
    "import os\n",
    "import tarfile\n",
    "import dask.dataframe as dd\n",
    "import matplotlib.pyplot as plt\n",
    "import plotly.express as px\n",
    "from builtins import isinstance\n",
    "import ast\n",
    "import warnings\n",
    "from joblib import parallel_backend\n",
    "from sklearn.model_selection import train_test_split\n",
    "from sklearn.neighbors import KNeighborsClassifier\n",
    "from sklearn.metrics import accuracy_score\n",
    "from sklearn.decomposition import TruncatedSVD\n",
    "warnings.filterwarnings('ignore')\n",
    "os.chdir('C:\\\\Users\\\\Rohan\\\\Downloads')"
   ]
  },
  {
   "attachments": {},
   "cell_type": "markdown",
   "metadata": {},
   "source": [
    "## Loading Data In"
   ]
  },
  {
   "cell_type": "code",
   "execution_count": 3,
   "metadata": {},
   "outputs": [],
   "source": [
    "path = \"C:\\\\Users\\\\Rohan\\\\Downloads\\\\yelp_dataset\"\n",
    "folder_path = \"C:\\\\Users\\\\Rohan\\\\Downloads\\\\yelp extracted\"\n",
    "\n",
    "#with tarfile.open(path, 'r') as tar: # extract dataset\n",
    "    #tar.extractall(path = folder_path)\n",
    "\n",
    "business = dd.read_json(folder_path + '\\\\yelp_academic_dataset_business.json', lines = True) # get business ids along with identifying characteristics\n",
    "reviews = dd.read_json(folder_path + '\\\\yelp_academic_dataset_review.json', lines = True)\n",
    "business = business.compute()\n",
    "reviews = reviews.compute()"
   ]
  },
  {
   "cell_type": "code",
   "execution_count": 92,
   "metadata": {},
   "outputs": [
    {
     "data": {
      "text/html": [
       "<div>\n",
       "<style scoped>\n",
       "    .dataframe tbody tr th:only-of-type {\n",
       "        vertical-align: middle;\n",
       "    }\n",
       "\n",
       "    .dataframe tbody tr th {\n",
       "        vertical-align: top;\n",
       "    }\n",
       "\n",
       "    .dataframe thead th {\n",
       "        text-align: right;\n",
       "    }\n",
       "</style>\n",
       "<table border=\"1\" class=\"dataframe\">\n",
       "  <thead>\n",
       "    <tr style=\"text-align: right;\">\n",
       "      <th></th>\n",
       "      <th>business_id</th>\n",
       "      <th>name</th>\n",
       "      <th>address</th>\n",
       "      <th>city</th>\n",
       "      <th>state</th>\n",
       "      <th>postal_code</th>\n",
       "      <th>latitude</th>\n",
       "      <th>longitude</th>\n",
       "      <th>stars</th>\n",
       "      <th>review_count</th>\n",
       "      <th>is_open</th>\n",
       "      <th>attributes</th>\n",
       "      <th>categories</th>\n",
       "      <th>hours</th>\n",
       "    </tr>\n",
       "  </thead>\n",
       "  <tbody>\n",
       "    <tr>\n",
       "      <th>3</th>\n",
       "      <td>MTSW4McQd7CbVtyjqoe9mw</td>\n",
       "      <td>St Honore Pastries</td>\n",
       "      <td>935 Race St</td>\n",
       "      <td>Philadelphia</td>\n",
       "      <td>PA</td>\n",
       "      <td>19107</td>\n",
       "      <td>39.955505</td>\n",
       "      <td>-75.155564</td>\n",
       "      <td>4.0</td>\n",
       "      <td>80</td>\n",
       "      <td>1</td>\n",
       "      <td>{'RestaurantsDelivery': 'False', 'OutdoorSeati...</td>\n",
       "      <td>Restaurants, Food, Bubble Tea, Coffee &amp; Tea, B...</td>\n",
       "      <td>{'Monday': '7:0-20:0', 'Tuesday': '7:0-20:0', ...</td>\n",
       "    </tr>\n",
       "    <tr>\n",
       "      <th>15</th>\n",
       "      <td>MUTTqe8uqyMdBl186RmNeA</td>\n",
       "      <td>Tuna Bar</td>\n",
       "      <td>205 Race St</td>\n",
       "      <td>Philadelphia</td>\n",
       "      <td>PA</td>\n",
       "      <td>19106</td>\n",
       "      <td>39.953949</td>\n",
       "      <td>-75.143226</td>\n",
       "      <td>4.0</td>\n",
       "      <td>245</td>\n",
       "      <td>1</td>\n",
       "      <td>{'RestaurantsReservations': 'True', 'Restauran...</td>\n",
       "      <td>Sushi Bars, Restaurants, Japanese</td>\n",
       "      <td>{'Tuesday': '13:30-22:0', 'Wednesday': '13:30-...</td>\n",
       "    </tr>\n",
       "    <tr>\n",
       "      <th>19</th>\n",
       "      <td>ROeacJQwBeh05Rqg7F6TCg</td>\n",
       "      <td>BAP</td>\n",
       "      <td>1224 South St</td>\n",
       "      <td>Philadelphia</td>\n",
       "      <td>PA</td>\n",
       "      <td>19147</td>\n",
       "      <td>39.943223</td>\n",
       "      <td>-75.162568</td>\n",
       "      <td>4.5</td>\n",
       "      <td>205</td>\n",
       "      <td>1</td>\n",
       "      <td>{'NoiseLevel': 'u'quiet'', 'GoodForMeal': '{'d...</td>\n",
       "      <td>Korean, Restaurants</td>\n",
       "      <td>{'Monday': '11:30-20:30', 'Tuesday': '11:30-20...</td>\n",
       "    </tr>\n",
       "    <tr>\n",
       "      <th>35</th>\n",
       "      <td>aPNXGTDkf-4bjhyMBQxqpQ</td>\n",
       "      <td>Craft Hall</td>\n",
       "      <td>901 N Delaware Ave</td>\n",
       "      <td>Philadelphia</td>\n",
       "      <td>PA</td>\n",
       "      <td>19123</td>\n",
       "      <td>39.962582</td>\n",
       "      <td>-75.135657</td>\n",
       "      <td>3.5</td>\n",
       "      <td>65</td>\n",
       "      <td>1</td>\n",
       "      <td>{'OutdoorSeating': 'True', 'RestaurantsPriceRa...</td>\n",
       "      <td>Eatertainment, Arts &amp; Entertainment, Brewpubs,...</td>\n",
       "      <td>{'Monday': '0:0-0:0', 'Wednesday': '16:0-22:0'...</td>\n",
       "    </tr>\n",
       "    <tr>\n",
       "      <th>82</th>\n",
       "      <td>ppFCk9aQkM338Rgwpl2F5A</td>\n",
       "      <td>Wawa</td>\n",
       "      <td>3604 Chestnut St</td>\n",
       "      <td>Philadelphia</td>\n",
       "      <td>PA</td>\n",
       "      <td>19104</td>\n",
       "      <td>39.954573</td>\n",
       "      <td>-75.194894</td>\n",
       "      <td>3.0</td>\n",
       "      <td>56</td>\n",
       "      <td>1</td>\n",
       "      <td>{'Alcohol': 'u'none'', 'RestaurantsGoodForGrou...</td>\n",
       "      <td>Restaurants, Automotive, Delis, Gas Stations, ...</td>\n",
       "      <td>{'Monday': '0:0-0:0', 'Tuesday': '0:0-0:0', 'W...</td>\n",
       "    </tr>\n",
       "  </tbody>\n",
       "</table>\n",
       "</div>"
      ],
      "text/plain": [
       "               business_id                name             address  \\\n",
       "3   MTSW4McQd7CbVtyjqoe9mw  St Honore Pastries         935 Race St   \n",
       "15  MUTTqe8uqyMdBl186RmNeA            Tuna Bar         205 Race St   \n",
       "19  ROeacJQwBeh05Rqg7F6TCg                 BAP       1224 South St   \n",
       "35  aPNXGTDkf-4bjhyMBQxqpQ          Craft Hall  901 N Delaware Ave   \n",
       "82  ppFCk9aQkM338Rgwpl2F5A                Wawa    3604 Chestnut St   \n",
       "\n",
       "            city state postal_code   latitude  longitude  stars  review_count  \\\n",
       "3   Philadelphia    PA       19107  39.955505 -75.155564    4.0            80   \n",
       "15  Philadelphia    PA       19106  39.953949 -75.143226    4.0           245   \n",
       "19  Philadelphia    PA       19147  39.943223 -75.162568    4.5           205   \n",
       "35  Philadelphia    PA       19123  39.962582 -75.135657    3.5            65   \n",
       "82  Philadelphia    PA       19104  39.954573 -75.194894    3.0            56   \n",
       "\n",
       "    is_open                                         attributes  \\\n",
       "3         1  {'RestaurantsDelivery': 'False', 'OutdoorSeati...   \n",
       "15        1  {'RestaurantsReservations': 'True', 'Restauran...   \n",
       "19        1  {'NoiseLevel': 'u'quiet'', 'GoodForMeal': '{'d...   \n",
       "35        1  {'OutdoorSeating': 'True', 'RestaurantsPriceRa...   \n",
       "82        1  {'Alcohol': 'u'none'', 'RestaurantsGoodForGrou...   \n",
       "\n",
       "                                           categories  \\\n",
       "3   Restaurants, Food, Bubble Tea, Coffee & Tea, B...   \n",
       "15                  Sushi Bars, Restaurants, Japanese   \n",
       "19                                Korean, Restaurants   \n",
       "35  Eatertainment, Arts & Entertainment, Brewpubs,...   \n",
       "82  Restaurants, Automotive, Delis, Gas Stations, ...   \n",
       "\n",
       "                                                hours  \n",
       "3   {'Monday': '7:0-20:0', 'Tuesday': '7:0-20:0', ...  \n",
       "15  {'Tuesday': '13:30-22:0', 'Wednesday': '13:30-...  \n",
       "19  {'Monday': '11:30-20:30', 'Tuesday': '11:30-20...  \n",
       "35  {'Monday': '0:0-0:0', 'Wednesday': '16:0-22:0'...  \n",
       "82  {'Monday': '0:0-0:0', 'Tuesday': '0:0-0:0', 'W...  "
      ]
     },
     "execution_count": 92,
     "metadata": {},
     "output_type": "execute_result"
    }
   ],
   "source": [
    "philly = business[(business['city'] == 'Philadelphia') & (business['categories'].str.contains('Restaurant')) & (business['is_open'] == 1)] # get only open restaurants in philly from original dataset\n",
    "philly.head()\n"
   ]
  },
  {
   "attachments": {},
   "cell_type": "markdown",
   "metadata": {},
   "source": [
    "## Initial Plots"
   ]
  },
  {
   "cell_type": "code",
   "execution_count": 72,
   "metadata": {},
   "outputs": [
    {
     "data": {
      "application/vnd.plotly.v1+json": {
       "config": {
        "plotlyServerURL": "https://plot.ly"
       },
       "data": [
        {
         "customdata": [
          [
           "935 Race St",
           4,
           80
          ],
          [
           "205 Race St",
           4,
           245
          ],
          [
           "1224 South St",
           4.5,
           205
          ],
          [
           "901 N Delaware Ave",
           3.5,
           65
          ],
          [
           "3604 Chestnut St",
           3,
           56
          ],
          [
           "1800 Spring Garden St",
           3,
           137
          ],
          [
           "700 E. Hunting Park",
           1.5,
           15
          ],
          [
           "765 S 4th St",
           4.5,
           183
          ],
          [
           "2609 Edgemont St",
           4.5,
           12
          ],
          [
           "219 S 52nd St",
           4.5,
           66
          ],
          [
           "2101 Pennsylvania Ave",
           4.5,
           11
          ],
          [
           "1128 S Broad St",
           2.5,
           16
          ],
          [
           "130 S 18th St",
           4,
           618
          ],
          [
           "6600 N 5th St",
           4.5,
           351
          ],
          [
           "509 S 2nd St",
           4,
           604
          ],
          [
           "9711 Roosevelt Blvd",
           4,
           80
          ],
          [
           "1208 N. Broad",
           2,
           21
          ],
          [
           "1120 Buttonwood St",
           4,
           31
          ],
          [
           "716 Adams Ave",
           2,
           7
          ],
          [
           "272 S 20th St",
           4,
           28
          ],
          [
           "501 Franklin Mill Cir",
           1.5,
           20
          ],
          [
           "4914 Baltimore Ave",
           4,
           301
          ],
          [
           "2000 Market St",
           4,
           65
          ],
          [
           "2401 E Allegheny Ave",
           3.5,
           6
          ],
          [
           "820 N Broad St",
           4.5,
           138
          ],
          [
           "3744 Spruce St",
           3.5,
           50
          ],
          [
           "6151 Ridge Ave",
           3,
           54
          ],
          [
           "3124 Richmond St",
           4.5,
           29
          ],
          [
           "7235 Rising Sun Ave",
           4.5,
           116
          ],
          [
           "51 N 12th St",
           4,
           485
          ],
          [
           "610 S 5th St",
           4.5,
           159
          ],
          [
           "8630 Germantown Ave",
           3,
           151
          ],
          [
           "2041 Coral St, Ste 2",
           4.5,
           10
          ],
          [
           "8500 Essington Ave",
           2.5,
           172
          ],
          [
           "3200 Richmond St",
           2.5,
           8
          ],
          [
           "4618 Baltimore Ave",
           4.5,
           458
          ],
          [
           "1337 W Olney Ave",
           3.5,
           13
          ],
          [
           "1801 Lombard St",
           4,
           323
          ],
          [
           "3492 Tilden St",
           4.5,
           31
          ],
          [
           "743 S 8th St",
           4.5,
           49
          ],
          [
           "933 N Broad St",
           3.5,
           11
          ],
          [
           "38th and Spruce",
           4,
           81
          ],
          [
           "250 Catharine St",
           4.5,
           85
          ],
          [
           "4715 N Front St",
           3.5,
           10
          ],
          [
           "2730 W Girard Ave",
           3,
           77
          ],
          [
           "2955 Market St, Ste 221",
           3.5,
           8
          ],
          [
           "700 S 5th St",
           4,
           51
          ],
          [
           "3447-61 Richmond St",
           3.5,
           12
          ],
          [
           "3711 Market St",
           4,
           783
          ],
          [
           "776 S 4th St",
           4,
           13
          ],
          [
           "1326 W Girard Ave",
           3,
           9
          ],
          [
           "700 Moore St",
           4.5,
           73
          ],
          [
           "6227 Lancaster Ave",
           2.5,
           20
          ],
          [
           "2614 W Girard Ave",
           2.5,
           20
          ],
          [
           "3400 Lancaster Ave",
           2,
           9
          ],
          [
           "1228 Chestnut St",
           4,
           5
          ],
          [
           "711 Locust St",
           4,
           5
          ],
          [
           "427 Franklin Mills Cir",
           4.5,
           23
          ],
          [
           "7301 Oxford Ave",
           2,
           76
          ],
          [
           "212 S 12th St",
           4.5,
           310
          ],
          [
           "5431 N 5th St",
           2.5,
           6
          ],
          [
           "6201 N Front St, Ste 16",
           3,
           15
          ],
          [
           "1946 Lombard St",
           3.5,
           615
          ],
          [
           "6438 Rising Sun Ave",
           3,
           19
          ],
          [
           "312 Market St",
           2.5,
           33
          ],
          [
           "3517 Cottman Ave",
           2.5,
           15
          ],
          [
           "121 S 17th St",
           3.5,
           385
          ],
          [
           "114 Levering St",
           3.5,
           110
          ],
          [
           "4728 Baltimore Ave",
           4,
           304
          ],
          [
           "1601 John F Kennedy Blvd",
           4.5,
           91
          ],
          [
           "5754 Baltimore Ave",
           2,
           5
          ],
          [
           "8500 Essington Ave, A West Terminal",
           4,
           95
          ],
          [
           "6237 Frankford Ave",
           2,
           25
          ],
          [
           "200 W Oregon Ave",
           3,
           10
          ],
          [
           "3818 Morrell Ave",
           3.5,
           50
          ],
          [
           "847 N 16th St",
           4.5,
           192
          ],
          [
           "1528 W Ritner St",
           4,
           43
          ],
          [
           "1320 S 21st St",
           3.5,
           5
          ],
          [
           "5726 N Broad St",
           4,
           142
          ],
          [
           "7375 Crabtree St",
           3.5,
           11
          ],
          [
           "3300 Market St",
           4,
           12
          ],
          [
           "4200 G St.",
           4,
           17
          ],
          [
           "2015 E Moyamensing Ave",
           3.5,
           29
          ],
          [
           "19th St & Market St",
           2.5,
           45
          ],
          [
           "247 S 17th St",
           3.5,
           339
          ],
          [
           "223 S Sydenham St",
           2,
           5
          ],
          [
           "4249 Ridge Ave",
           4,
           122
          ],
          [
           "2533 Poplar St",
           4,
           176
          ],
          [
           "6728 Bustleton Ave",
           3,
           22
          ],
          [
           "",
           4.5,
           19
          ],
          [
           "275 St James Pl",
           4,
           9
          ],
          [
           "2308 W Oregon Ave, Ste C",
           2,
           26
          ],
          [
           "1301 S 3rd St",
           4.5,
           30
          ],
          [
           "228 Arch St",
           4.5,
           193
          ],
          [
           "51 N 12th St",
           3.5,
           40
          ],
          [
           "1614 W Ritner St",
           3.5,
           88
          ],
          [
           "39 S 19th St, Ste 41",
           3,
           225
          ],
          [
           "3820 Lancaster Ave",
           3.5,
           6
          ],
          [
           "426 W Girard Ave",
           4,
           338
          ],
          [
           "3009 N 22nd St",
           3.5,
           10
          ],
          [
           "646 S 55th St, West Phildelphia",
           2,
           9
          ],
          [
           "3334 N Broad St",
           5,
           8
          ],
          [
           "833 Adams Ave",
           3.5,
           62
          ],
          [
           "3503 B St, Ste 4B",
           4,
           12
          ],
          [
           "5450 Rutland St",
           2,
           13
          ],
          [
           "710 Adams Ave",
           1,
           22
          ],
          [
           "4511 Baltimore Ave",
           4,
           64
          ],
          [
           "6047 Ogontz Ave",
           1.5,
           24
          ],
          [
           "1165 S 11th St",
           4,
           67
          ],
          [
           "8919 Ridge Ave",
           3.5,
           47
          ],
          [
           "2654 S 10th St",
           3.5,
           184
          ],
          [
           "1030 N 2nd St, Unit 101",
           4,
           108
          ],
          [
           "900 S 9th St",
           4,
           93
          ],
          [
           "928 Pine St",
           4,
           249
          ],
          [
           "919 N 18th St",
           2.5,
           8
          ],
          [
           "6824 Torresdale Ave",
           4,
           27
          ],
          [
           "1533 S 11th St",
           4,
           88
          ],
          [
           "7600 Ogontz Ave",
           2,
           36
          ],
          [
           "226 Market St",
           3.5,
           446
          ],
          [
           "712 W Girard Ave",
           3,
           21
          ],
          [
           "1436 South St",
           2.5,
           276
          ],
          [
           "6414 Frankford Ave, Unit 11",
           4.5,
           8
          ],
          [
           "7935 Frankford Ave",
           4,
           79
          ],
          [
           "5945 Woodland Ave",
           2,
           15
          ],
          [
           "1 S 12th St",
           4.5,
           24
          ],
          [
           "1306 Frankford Ave",
           4.5,
           241
          ],
          [
           "8100 Ridge Ave",
           3.5,
           98
          ],
          [
           "9175 Roosevelt, Ste 2",
           2.5,
           12
          ],
          [
           "4000 Spruce St",
           3,
           334
          ],
          [
           "10863 Bustleton Ave",
           4,
           89
          ],
          [
           "324 S 10th St",
           3.5,
           113
          ],
          [
           "4625 Linden Ave",
           4,
           123
          ],
          [
           "6669 Germantown Ave",
           5,
           29
          ],
          [
           "1625 Chestnut St",
           2.5,
           18
          ],
          [
           "2230 Fairmount Ave",
           4.5,
           510
          ],
          [
           "306 S 16th St",
           3.5,
           307
          ],
          [
           "408 S 2nd St",
           3.5,
           453
          ],
          [
           "306 W Chelten Ave",
           3.5,
           37
          ],
          [
           "4243 Main St",
           3,
           312
          ],
          [
           "1505 South St",
           5,
           91
          ],
          [
           "1414 Synder Ave",
           3.5,
           105
          ],
          [
           "1629 S 7th St",
           4,
           11
          ],
          [
           "2900 Grays Ferry Ave",
           4.5,
           22
          ],
          [
           "947 Federal St",
           4,
           154
          ],
          [
           "933 Race St",
           4.5,
           68
          ],
          [
           "3521 Bowman St",
           3.5,
           129
          ],
          [
           "427 S Broad St",
           4,
           240
          ],
          [
           "4514 City Ave",
           4,
           12
          ],
          [
           "2400 Coral St",
           4.5,
           68
          ],
          [
           "705 E Passyunk Ave",
           4.5,
           11
          ],
          [
           "2201 Penrose Ave, Ste3",
           4,
           55
          ],
          [
           "2481 Grant Ave",
           4,
           181
          ],
          [
           "3313 Wharton St",
           2,
           16
          ],
          [
           "214 S 40th St",
           4,
           314
          ],
          [
           "415 W Willow Grove Ave",
           4,
           13
          ],
          [
           "3401 Walnut St",
           4.5,
           46
          ],
          [
           "1901 Callowhill St",
           4,
           552
          ],
          [
           "2537 Kensington Ave",
           4.5,
           67
          ],
          [
           "1703 S 9th St",
           4.5,
           24
          ],
          [
           "7236-40 Germantown Ave",
           2.5,
           28
          ],
          [
           "6030 Torresdale Ave",
           4.5,
           380
          ],
          [
           "7153 Ogontz Ave",
           3,
           5
          ],
          [
           "930 Locust St",
           5,
           13
          ],
          [
           "1528 Frankford Ave",
           4.5,
           1121
          ],
          [
           "2049 W Oregon Ave",
           3,
           17
          ],
          [
           "529 E Girard Ave",
           4,
           210
          ],
          [
           "4251 Main St",
           4.5,
           423
          ],
          [
           "240 W Chelten Ave",
           2.5,
           16
          ],
          [
           "1921 Fairmount Ave",
           3.5,
           151
          ],
          [
           "8901 Franford Ave",
           1.5,
           15
          ],
          [
           "1328 W Girard Ave",
           4.5,
           21
          ],
          [
           "1212 N 52nd St",
           2.5,
           106
          ],
          [
           "125 N 15th St",
           3.5,
           30
          ],
          [
           "1801 John F Kennedy Blvd",
           3,
           131
          ],
          [
           "2119 N 63rd St",
           3.5,
           36
          ],
          [
           "6201 N Front St, Ste 120",
           4.5,
           77
          ],
          [
           "4919 N 5th St",
           2.5,
           55
          ],
          [
           "501 N 13th St",
           4,
           618
          ],
          [
           "9173 Roosevelt Boulevard",
           1.5,
           14
          ],
          [
           "1640 S 10th St",
           4.5,
           6
          ],
          [
           "50 S 3rd St",
           4.5,
           245
          ],
          [
           "1038 Race St",
           4,
           231
          ],
          [
           "8500 Essington Ave, Terminal D, Philadelphia International Airport",
           3.5,
           81
          ],
          [
           "12th St & Filbert St",
           4,
           263
          ],
          [
           "5701 Germantown Ave",
           4,
           10
          ],
          [
           "240 South St",
           4,
           74
          ],
          [
           "3087 Holme Ave",
           4.5,
           15
          ],
          [
           "2528 S 24th St",
           4,
           32
          ],
          [
           "157 N 9th St",
           4,
           43
          ],
          [
           "935 Arch St",
           3.5,
           32
          ],
          [
           "760 S 9th St",
           3.5,
           653
          ],
          [
           "S 31st & Ludlow St",
           4.5,
           248
          ],
          [
           "4373 Main St",
           4,
           34
          ],
          [
           "1615 E Passyunk Ave",
           4,
           73
          ],
          [
           "1256 W Montgomery Ave",
           5,
           7
          ],
          [
           "401 S Columbus Blvd",
           1.5,
           16
          ],
          [
           "600 Washington Ave, Ste 18 A",
           4,
           84
          ],
          [
           "3401 Walnut St",
           3.5,
           30
          ],
          [
           "129 S 30th St",
           4,
           46
          ],
          [
           "1828 S St",
           3.5,
           87
          ],
          [
           "38 S 60th St",
           4,
           10
          ],
          [
           "911 Tyson Ave",
           2,
           5
          ],
          [
           "4056 Lancaster Ave",
           3,
           19
          ],
          [
           "6601 Hegerman St",
           3.5,
           13
          ],
          [
           "7602 Castor Ave",
           3.5,
           43
          ],
          [
           "3942 Spruce St",
           3,
           221
          ],
          [
           "8108 Bustleton Ave",
           4,
           40
          ],
          [
           "2535-37 Castor Ave",
           2.5,
           55
          ],
          [
           "4805 N Front St",
           4.5,
           14
          ],
          [
           "5000 City Line Ave",
           2.5,
           50
          ],
          [
           "345 N 12th St",
           4.5,
           202
          ],
          [
           "5514 Rising Sun Ave",
           3.5,
           19
          ],
          [
           "2201 Spruce St",
           4.5,
           213
          ],
          [
           "8202 Roosevelt Blvd",
           3.5,
           23
          ],
          [
           "3152 N Broad St",
           4,
           10
          ],
          [
           "1149 N 3rd St",
           5,
           31
          ],
          [
           "3467 Richmond St",
           4,
           35
          ],
          [
           "1934 Liacouras Walk",
           3.5,
           9
          ],
          [
           "1100 Jackson St",
           4,
           71
          ],
          [
           "3020 S Broad St",
           4.5,
           31
          ],
          [
           "1624 W Olney Ave",
           2.5,
           39
          ],
          [
           "130 S 19th St",
           4,
           614
          ],
          [
           "433 Chestnut St",
           3.5,
           618
          ],
          [
           "2560 Aramingo Ave",
           2.5,
           19
          ],
          [
           "24th & Passyunk Ave",
           5,
           22
          ],
          [
           "2805 N 22nd St",
           2,
           14
          ],
          [
           "2-4 N 32nd St",
           4,
           5
          ],
          [
           "2901 N 5th St",
           2.5,
           24
          ],
          [
           "7962 Dungan Rd",
           4.5,
           23
          ],
          [
           "38th & Walnut",
           4.5,
           50
          ],
          [
           "1936 Liacouras Walk",
           1.5,
           6
          ],
          [
           "4812 Rising Sun Ave",
           2,
           26
          ],
          [
           "601 S 52nd St",
           4.5,
           7
          ],
          [
           "Spring Garden St",
           4.5,
           23
          ],
          [
           "1200  S Federal St",
           3,
           34
          ],
          [
           "5604 Greene St",
           2.5,
           46
          ],
          [
           "2133 Huntingdon St",
           5,
           10
          ],
          [
           "3400 S Lawrence St",
           4,
           101
          ],
          [
           "5500 Lancaster Ave",
           3,
           44
          ],
          [
           "5548 Wayne Ave",
           3,
           35
          ],
          [
           "4047 Market St",
           3,
           10
          ],
          [
           "90 Franklin Mills Blvd",
           2,
           19
          ],
          [
           "15 S 8th St",
           2,
           32
          ],
          [
           "5920 Germantown Ave",
           3.5,
           27
          ],
          [
           "117 N 10th St",
           3.5,
           1112
          ],
          [
           "4600 Roosevelt Blvd",
           2.5,
           17
          ],
          [
           "23 N 33rd St",
           5,
           14
          ],
          [
           "127 S 18th St",
           4,
           1082
          ],
          [
           "1429 Arch St",
           3.5,
           96
          ],
          [
           "6505 Woodland Ave",
           4,
           49
          ],
          [
           "517 S Leithgow St",
           4.5,
           659
          ],
          [
           "1526 Packer Ave",
           3.5,
           590
          ],
          [
           "5711 Ridge Ave",
           2,
           40
          ],
          [
           "1040 N 2nd St",
           3.5,
           1014
          ],
          [
           "128 S 11th St",
           3.5,
           65
          ],
          [
           "2661 E Cumberland St",
           3.5,
           75
          ],
          [
           "8225 Germantown Ave",
           3.5,
           83
          ],
          [
           "2850-2876 Saint Vincent St",
           3,
           13
          ],
          [
           "56 S 2nd St",
           4,
           845
          ],
          [
           "1201 Spruce St",
           2,
           15
          ],
          [
           "219 N 11th St",
           4,
           231
          ],
          [
           "220 S 17th St",
           4.5,
           325
          ],
          [
           "118 S 20th St",
           4,
           1553
          ],
          [
           "4415 Main St",
           4.5,
           53
          ],
          [
           "116 S 11th St",
           3.5,
           232
          ],
          [
           "1623 Ridge Ave",
           5,
           28
          ],
          [
           "4776 Richmond St",
           3.5,
           18
          ],
          [
           "2821 W Girard Ave",
           4.5,
           282
          ],
          [
           "21 S 12th St",
           4.5,
           51
          ],
          [
           "4600 N Broad St",
           3.5,
           59
          ],
          [
           "232-50 W. Lehigh Avenue",
           1.5,
           9
          ],
          [
           "202 Market St",
           3,
           29
          ],
          [
           "1445 N American St",
           4,
           24
          ],
          [
           "1001 N 2nd St",
           4,
           221
          ],
          [
           "2325 E Venango St",
           3,
           6
          ],
          [
           "1939 Callowhill St",
           4,
           651
          ],
          [
           "4903 N 5th St",
           4.5,
           6
          ],
          [
           "5045 Wissahickon Ave",
           3,
           12
          ],
          [
           "719 S 4th St",
           3.5,
           149
          ],
          [
           "104 South 18th St",
           4,
           321
          ],
          [
           "4034 Walnut St",
           3.5,
           191
          ],
          [
           "6500-02 Rising Sun Ave",
           4,
           44
          ],
          [
           "1701 Locust St",
           3.5,
           290
          ],
          [
           "20th & Ludlow St",
           4.5,
           420
          ],
          [
           "705 N 2nd St",
           4,
           392
          ],
          [
           "200 S 43rd St",
           4,
           96
          ],
          [
           "7411 Stenton Ave",
           3.5,
           25
          ],
          [
           "1326 Spruce St",
           4.5,
           12
          ],
          [
           "5706 N 5th St",
           1,
           5
          ],
          [
           "6649 Castor Ave",
           4.5,
           25
          ],
          [
           "3401 Walnut St",
           4.5,
           11
          ],
          [
           "5241 Germantown Ave",
           2.5,
           63
          ],
          [
           "2312 N 29th St",
           4,
           5
          ],
          [
           "250 E Girard Ave",
           4.5,
           10
          ],
          [
           "1542 Tasker St",
           4,
           7
          ],
          [
           "1001 Market St, Ste K07",
           4,
           6
          ],
          [
           "5148 Locust St",
           3,
           19
          ],
          [
           "1617 John F Kennedy Blvd",
           3,
           66
          ],
          [
           "1700 Lombard St",
           3.5,
           225
          ],
          [
           "2535 Aramingo Ave",
           2.5,
           43
          ],
          [
           "1312 Spruce St",
           4.5,
           489
          ],
          [
           "212 Market St",
           3,
           24
          ],
          [
           "1363 E Lycoming St",
           1,
           5
          ],
          [
           "837 N 2nd St",
           4,
           156
          ],
          [
           "1701 John F Kennedy Blvd",
           3,
           48
          ],
          [
           "255 S  10th St",
           4.5,
           53
          ],
          [
           "1714 S 5th St",
           5,
           6
          ],
          [
           "1308 W Girard Ave",
           4,
           19
          ],
          [
           "3180 Grant Ave",
           4,
           82
          ],
          [
           "17 S 43rd St",
           3.5,
           39
          ],
          [
           "620 S 2nd St",
           3,
           147
          ],
          [
           "1699 Grant Ave",
           4,
           209
          ],
          [
           "6114 Lancaster Ave",
           1.5,
           9
          ],
          [
           "2719 E Allegheny Ave",
           5,
           9
          ],
          [
           "1736 N 13th St",
           4.5,
           8
          ],
          [
           "577 Franklin Mills Cir",
           2.5,
           6
          ],
          [
           "1517 E Wadsworth Ave",
           4.5,
           22
          ],
          [
           "1837 Chestnut St",
           4,
           550
          ],
          [
           "2634 Belgrade St",
           4.5,
           66
          ],
          [
           "4441 Germantown Ave",
           4,
           126
          ],
          [
           "14101 Bustleton Ave",
           3.5,
           9
          ],
          [
           "2265 N Howard St",
           3.5,
           5
          ],
          [
           "6701 Ridge Ave",
           3.5,
           48
          ],
          [
           "2104 Market St",
           4,
           150
          ],
          [
           "7141 Ogontz Ave",
           2.5,
           14
          ],
          [
           "222 Market St",
           3.5,
           316
          ],
          [
           "9220 Ashton Rd",
           3,
           12
          ],
          [
           "1137 Spruce St",
           4.5,
           770
          ],
          [
           "2459 N 54th St",
           3,
           204
          ],
          [
           "3341 Grant Ave",
           3.5,
           8
          ],
          [
           "701 N Seventh St",
           4,
           321
          ],
          [
           "1300 South St",
           4,
           106
          ],
          [
           "",
           5,
           10
          ],
          [
           "",
           4,
           34
          ],
          [
           "106 S 20th St",
           5,
           20
          ],
          [
           "4251 Walnut St",
           2.5,
           40
          ],
          [
           "1819 E Passyunk Ave",
           4.5,
           113
          ],
          [
           "100 Levering St",
           4.5,
           77
          ],
          [
           "2040 Lombard St",
           3.5,
           7
          ],
          [
           "7124 Ridge Ave, Ste 10",
           3.5,
           6
          ],
          [
           "12333 Academy Rd",
           3,
           14
          ],
          [
           "1010 Cherry St",
           3,
           22
          ],
          [
           "2212 S St",
           4,
           531
          ],
          [
           "3447 Germantown Ave",
           4.5,
           9
          ],
          [
           "4600 City Ave",
           2.5,
           15
          ],
          [
           "516 S 5th St",
           5,
           18
          ],
          [
           "9321-23 Krewstown Rd",
           4.5,
           19
          ],
          [
           "800 N 4th St",
           4,
           1396
          ],
          [
           "9969 Bustleton Ave",
           3,
           14
          ],
          [
           "1200 Market St",
           3.5,
           505
          ],
          [
           "5601 Germantown Ave",
           3.5,
           30
          ],
          [
           "1201 Race St",
           3,
           11
          ],
          [
           "1835 N 12th St, Ste 9, Temple University Main Campus",
           4.5,
           50
          ],
          [
           "121 S 16th St",
           3.5,
           593
          ],
          [
           "1004 Race St",
           3,
           95
          ],
          [
           "3701 Germantown Ave",
           3.5,
           8
          ],
          [
           "2500 S Broad & Porter",
           4,
           187
          ],
          [
           "3600 Richmond St",
           4.5,
           7
          ],
          [
           "330 Oregon Ave",
           2.5,
           43
          ],
          [
           "801 N 2nd St",
           4.5,
           46
          ],
          [
           "7144 Elmwood Ave",
           2.5,
           30
          ],
          [
           "216 N 33rd St",
           4,
           19
          ],
          [
           "2551 S 12th St",
           4.5,
           51
          ],
          [
           "13032 Bustleton Ave",
           4,
           43
          ],
          [
           "900 Washington Ave",
           3,
           6
          ],
          [
           "2900 Robbins Ave",
           2.5,
           18
          ],
          [
           "202 E Girard Ave",
           4,
           315
          ],
          [
           "111 S Independence Mall E",
           3,
           20
          ],
          [
           "38th St & Spruce St",
           4.5,
           104
          ],
          [
           "20 S 36th St",
           3,
           159
          ],
          [
           "232 S 45th St",
           4,
           10
          ],
          [
           "4145 Chestnut St",
           2,
           56
          ],
          [
           "3739 Lancaster Ave",
           3.5,
           58
          ],
          [
           "2327 Gaul St",
           3.5,
           93
          ],
          [
           "2048 Sansom St",
           3.5,
           317
          ],
          [
           "401 N 21st St",
           4,
           15
          ],
          [
           "7424 Frankford Ave",
           3.5,
           11
          ],
          [
           "1219 S 2nd St",
           4,
           530
          ],
          [
           "212 Arch St",
           4,
           181
          ],
          [
           "909 Arch St",
           4,
           544
          ],
          [
           "200 Market St",
           3.5,
           554
          ],
          [
           "2033 S Bancroft St",
           5,
           10
          ],
          [
           "2604 E Somerset St",
           4,
           372
          ],
          [
           "620 S 9th St",
           4.5,
           477
          ],
          [
           "7405 Stenton Ave",
           4,
           103
          ],
          [
           "4201 Comly St",
           4,
           17
          ],
          [
           "217 Chestnut St",
           4,
           2109
          ],
          [
           "132 Chestnut St",
           4.5,
           221
          ],
          [
           "1532 Snyder Ave",
           4.5,
           369
          ],
          [
           "138 Chestnut St",
           4.5,
           28
          ],
          [
           "6127 Ridge Ave",
           3,
           140
          ],
          [
           "965 Frankford Ave",
           5,
           22
          ],
          [
           "51 Maplewood Ave",
           5,
           6
          ],
          [
           "1318 Chestnut St",
           3.5,
           526
          ],
          [
           "1200 Market St",
           3.5,
           390
          ],
          [
           "1019 S 11th St",
           4,
           322
          ],
          [
           "201 S 60th St",
           2,
           28
          ],
          [
           "37TH Spruce St",
           4,
           17
          ],
          [
           "617 S 3rd St",
           4,
           99
          ],
          [
           "2508-10 Welsh Rd",
           3.5,
           29
          ],
          [
           "315 N 12th St",
           4.5,
           239
          ],
          [
           "4653 Walnut St",
           4.5,
           141
          ],
          [
           "122 Lombard St",
           4.5,
           6
          ],
          [
           "4010 Cottman Ave",
           3,
           44
          ],
          [
           "1416 Frankford Ave",
           4,
           250
          ],
          [
           "8901 Ridge Ave",
           2.5,
           6
          ],
          [
           "2104 Chestnut St",
           4.5,
           162
          ],
          [
           "2053 S Beechwood St",
           4.5,
           91
          ],
          [
           "1420 Locust St",
           2.5,
           35
          ],
          [
           "221 N 11th St",
           4,
           421
          ],
          [
           "607 S 7th St",
           4.5,
           11
          ],
          [
           "2821 N Broad St",
           2.5,
           11
          ],
          [
           "8000 Essington Ave",
           3.5,
           26
          ],
          [
           "4013 Fairdale Rd",
           3.5,
           16
          ],
          [
           "2655 S Iseminger St",
           4.5,
           34
          ],
          [
           "1926 E Passyunk Ave",
           4.5,
           24
          ],
          [
           "6554 North Lambert St.",
           4,
           51
          ],
          [
           "6352 Algon Ave",
           2.5,
           11
          ],
          [
           "302 W Oregon Ave",
           3.5,
           209
          ],
          [
           "932 S 10th St",
           4.5,
           61
          ],
          [
           "901 S Columbus Blvd",
           3.5,
           132
          ],
          [
           "1509 Mifflin St, Newbold",
           4,
           530
          ],
          [
           "9918 Roosevelt Blvd",
           4,
           22
          ],
          [
           "225 S 18th St",
           3.5,
           1159
          ],
          [
           "1734 E Passyunk Ave",
           3,
           291
          ],
          [
           "225 S Broad St",
           3.5,
           132
          ],
          [
           "1619 Grant Ave, Ste 5",
           1,
           5
          ],
          [
           "20 N 16th St",
           4.5,
           7
          ],
          [
           "600 Chestnut St",
           4.5,
           6
          ],
          [
           "401 S Columbus Blvd",
           3,
           165
          ],
          [
           "2535 S 13th St",
           4.5,
           158
          ],
          [
           "4371 Main St",
           4,
           86
          ],
          [
           "1735 Market St",
           3.5,
           34
          ],
          [
           "14 E Snyder Ave",
           4.5,
           1564
          ],
          [
           "4653 Umbria St",
           4.5,
           118
          ],
          [
           "2620 Rhawn St",
           2.5,
           17
          ],
          [
           "7536 Castor Ave",
           3,
           10
          ],
          [
           "425 W Girard Ave",
           4.5,
           18
          ],
          [
           "6620 N Broad St",
           1.5,
           5
          ],
          [
           "5810 Greene St",
           3.5,
           12
          ],
          [
           "1102 S 47th St",
           4,
           18
          ],
          [
           "7979 Oxford Ave",
           4.5,
           71
          ],
          [
           "1017 Arch St, Fl 1",
           4,
           169
          ],
          [
           "4004 Chestnut St",
           4,
           514
          ],
          [
           "2220 Walnut St",
           4,
           282
          ],
          [
           "8101 Ridge Ave",
           4.5,
           92
          ],
          [
           "5892 Henry Ave",
           3.5,
           19
          ],
          [
           "2159 Ridge Ave",
           4,
           12
          ],
          [
           "990 Spring Garden St",
           5,
           27
          ],
          [
           "",
           4,
           12
          ],
          [
           "1100 Washington Ave",
           4.5,
           30
          ],
          [
           "1334 Walnut St",
           4,
           322
          ],
          [
           "2539 Castor Ave, Aramingo Super Ctr",
           3.5,
           112
          ],
          [
           "5506 Chestnut St",
           1.5,
           13
          ],
          [
           "12th St & Arch St",
           3.5,
           589
          ],
          [
           "1528 Walnut St",
           3,
           93
          ],
          [
           "",
           4,
           6
          ],
          [
           "224 S 15th St",
           4,
           1279
          ],
          [
           "1142 Crease St",
           4,
           436
          ],
          [
           "6057 Castor Ave",
           4,
           5
          ],
          [
           "45 N 13th St",
           4,
           400
          ],
          [
           "2818 Cottman Ave",
           4,
           37
          ],
          [
           "1100 Washington Ave",
           3,
           133
          ],
          [
           "1167 S 9th St",
           4,
           10
          ],
          [
           "262 S 10th St",
           4.5,
           938
          ],
          [
           "421 N 7th St",
           3,
           44
          ],
          [
           "3300 Fairmount Ave",
           4,
           17
          ],
          [
           "1626 S Columbus Blvd",
           4,
           10
          ],
          [
           "8TH And Wharton St",
           4,
           97
          ],
          [
           "127 S 10th St",
           3,
           41
          ],
          [
           "940 S 9th St",
           4.5,
           350
          ],
          [
           "3401 Walnut St",
           2.5,
           15
          ],
          [
           "231 McClellan St",
           4.5,
           251
          ],
          [
           "5921 N Broad St",
           4,
           12
          ],
          [
           "6424 Castor Ave",
           3.5,
           128
          ],
          [
           "",
           3.5,
           147
          ],
          [
           "7725 Germantown Ave",
           4.5,
           189
          ],
          [
           "8636 Germantown Ave",
           4,
           140
          ],
          [
           "4048 Woodhaven Rd",
           2.5,
           43
          ],
          [
           "223 S Sydenham St",
           3.5,
           157
          ],
          [
           "7157 Germantown Ave",
           3.5,
           108
          ],
          [
           "232 N Radnor Chester Rd",
           3.5,
           15
          ],
          [
           "4658 G St",
           3.5,
           15
          ],
          [
           "1431 Arch St",
           4,
           56
          ],
          [
           "3736 Spruce St",
           4,
           43
          ],
          [
           "237 S 10th St",
           3.5,
           77
          ],
          [
           "938 Arch St",
           4,
           228
          ],
          [
           "428 W Olney Ave",
           3,
           7
          ],
          [
           "3084 Frankford Ave",
           2,
           6
          ],
          [
           "6053 Ridge Ave",
           3.5,
           157
          ],
          [
           "768 S 8th St",
           4.5,
           8
          ],
          [
           "9280 Roosevelt Blvd",
           3,
           129
          ],
          [
           "1134 S 9th St",
           4,
           27
          ],
          [
           "9436 State Rd",
           3,
           42
          ],
          [
           "3901 Conshohocken Ave",
           1.5,
           13
          ],
          [
           "240 S 22nd St",
           4.5,
           60
          ],
          [
           "205 South 13th St",
           4.5,
           1097
          ],
          [
           "1122-38 Washington Ave, Ste B",
           4.5,
           224
          ],
          [
           "900 Packer Ave",
           2.5,
           10
          ],
          [
           "227 S 18th St",
           4,
           2761
          ],
          [
           "7165 Germantown Ave",
           3,
           7
          ],
          [
           "12319 Academy Rd",
           4,
           54
          ],
          [
           "7233 Frankford Ave",
           3.5,
           61
          ],
          [
           "623 S 6th St",
           4.5,
           619
          ],
          [
           "727 S 2nd St",
           4,
           69
          ],
          [
           "1701 John F Kennedy Blvd",
           3,
           50
          ],
          [
           "1900 Grant Ave",
           2.5,
           6
          ],
          [
           "1804 Callowhill St",
           4,
           1721
          ],
          [
           "4638 N 5st",
           3,
           11
          ],
          [
           "3601 S Broad St",
           3,
           46
          ],
          [
           "339 N 11th St",
           4,
           203
          ],
          [
           "2736 E Allegheny Ave",
           4.5,
           27
          ],
          [
           "1200 W Berks St",
           4.5,
           6
          ],
          [
           "603 S 4th St",
           4,
           289
          ],
          [
           "131 S 13th St",
           4,
           1039
          ],
          [
           "204 N 9th St",
           4.5,
           1693
          ],
          [
           "1 Boathouse Row",
           4,
           52
          ],
          [
           "1201 Frankford Ave",
           4,
           556
          ],
          [
           "8000 Essington Ave, Level 2, Terminal B",
           2.5,
           40
          ],
          [
           "8800 Essington Ave, Food Court, B-C Connector",
           2.5,
           7
          ],
          [
           "1600 N Broad St, Unit 7",
           4.5,
           151
          ],
          [
           "1335 Frankford Ave",
           4.5,
           509
          ],
          [
           "111 S Independence Mall E",
           4,
           38
          ],
          [
           "3731 Walnut St",
           3,
           163
          ],
          [
           "701 Adams Ave",
           3,
           12
          ],
          [
           "4266 Main St",
           3.5,
           599
          ],
          [
           "630 N 2nd St",
           4.5,
           299
          ],
          [
           "601 Walnut St",
           4,
           130
          ],
          [
           "2040 Hamilton St",
           2.5,
           9
          ],
          [
           "210 W Chelten Ave",
           2.5,
           29
          ],
          [
           "3602 Chestnut St",
           2.5,
           203
          ],
          [
           "9113 E Roosevelt Blvd",
           2.5,
           18
          ],
          [
           "1123 Walnut St",
           2.5,
           7
          ],
          [
           "9910 Frankford Ave",
           3.5,
           17
          ],
          [
           "1624 Cottman Ave",
           2,
           18
          ],
          [
           "4356 Main St",
           3.5,
           417
          ],
          [
           "2016 Penrose Ave",
           4,
           386
          ],
          [
           "6421 Woodland Ave",
           4,
           8
          ],
          [
           "1412 South St",
           4,
           159
          ],
          [
           "500 Spring Garden St",
           4,
           755
          ],
          [
           "6201 N Front St, Ste 124-B",
           4,
           8
          ],
          [
           "1000 S Broad St",
           1.5,
           24
          ],
          [
           "3001 N Front St",
           4,
           29
          ],
          [
           "1925 S Broad St",
           4,
           120
          ],
          [
           "1100 Federal St",
           3,
           143
          ],
          [
           "7199 Buselton Ave",
           3.5,
           128
          ],
          [
           "1516 Chestnut St",
           2,
           52
          ],
          [
           "2700 S 10th St",
           3.5,
           27
          ],
          [
           "931 N 2nd St",
           4,
           904
          ],
          [
           "2100 S 17th St",
           3,
           21
          ],
          [
           "701 Chestnut St",
           4,
           79
          ],
          [
           "7165 Germantown Ave",
           3.5,
           23
          ],
          [
           "",
           4.5,
           50
          ],
          [
           "125 N 11th St",
           4.5,
           63
          ],
          [
           "6750 Ridge Ave",
           3.5,
           92
          ],
          [
           "2205 N Broad St",
           5,
           9
          ],
          [
           "2125 N 63rd St",
           3.5,
           21
          ],
          [
           "14258 Bustleton Ave",
           3.5,
           23
          ],
          [
           "2816 W Girard Ave",
           4.5,
           210
          ],
          [
           "811 S 8th St",
           4.5,
           88
          ],
          [
           "7802 Limekiln Pike",
           4,
           95
          ],
          [
           "1441 S 7th St",
           4,
           13
          ],
          [
           "1615 Chancellor St",
           4,
           313
          ],
          [
           "1805 Walnut St",
           3,
           126
          ],
          [
           "1625 Chestnut St",
           3,
           31
          ],
          [
           "1320 Walnut St",
           3,
           166
          ],
          [
           "701 S 4th St",
           4,
           224
          ],
          [
           "925 Levick St",
           3,
           16
          ],
          [
           "1016 Race St",
           4,
           72
          ],
          [
           "1038 Arch St",
           3,
           9
          ],
          [
           "9 S 52nd St",
           5,
           15
          ],
          [
           "2301 E Butler St",
           3,
           41
          ],
          [
           "224 S 40th St",
           3.5,
           461
          ],
          [
           "1600 N Broad St",
           1.5,
           10
          ],
          [
           "1830 Ludlow St, Fl 11",
           3.5,
           44
          ],
          [
           "261 S 13th St",
           4,
           117
          ],
          [
           "Reading Terminal Market",
           3.5,
           125
          ],
          [
           "1619 Grant Ave",
           3.5,
           39
          ],
          [
           "2301 N 29th St",
           3.5,
           11
          ],
          [
           "2001 Fitzwater St",
           3.5,
           167
          ],
          [
           "2001 N Gratz St",
           3.5,
           6
          ],
          [
           "124 Market St",
           3.5,
           63
          ],
          [
           "6801 Frankford Ave",
           2.5,
           26
          ],
          [
           "6391 Oxford Ave",
           3,
           5
          ],
          [
           "10253 Bustleton Ave",
           3.5,
           38
          ],
          [
           "304 S 52nd St",
           4.5,
           14
          ],
          [
           "Philadelphia International Airport - 8000 Essington Ave, Terminal B",
           3.5,
           108
          ],
          [
           "133 N 11th St",
           4.5,
           12
          ],
          [
           "2723 E Cumberland St",
           4.5,
           8
          ],
          [
           "3209 Willits Rd",
           3.5,
           52
          ],
          [
           "4421 Aramingo Ave",
           1.5,
           57
          ],
          [
           "1729 Chestnut St",
           3.5,
           133
          ],
          [
           "8500 Essington Ave",
           3.5,
           37
          ],
          [
           "8500 Essington Ave, Philadelphia International Airport, Terminal A",
           3.5,
           125
          ],
          [
           "1838 S 18th St",
           4,
           25
          ],
          [
           "1304 S 9th St",
           3,
           26
          ],
          [
           "6381 Germantown Ave",
           4.5,
           45
          ],
          [
           "1916 Welsh Rd, Ste 14",
           2.5,
           74
          ],
          [
           "900 Packer Ave",
           4,
           27
          ],
          [
           "229 Market St",
           4.5,
           66
          ],
          [
           "842 Red Lion Rd, Ste 3",
           3.5,
           10
          ],
          [
           "4333 Spruce St",
           3.5,
           494
          ],
          [
           "1408 South St",
           1.5,
           5
          ],
          [
           "1700 Benjamin Franklin Pkwy",
           3.5,
           301
          ],
          [
           "1625 Chestnut St",
           3.5,
           56
          ],
          [
           "718 South St",
           4,
           764
          ],
          [
           "613 S 4th St, Fl 2",
           2.5,
           8
          ],
          [
           "10 Avenue Of The Arts",
           3.5,
           143
          ],
          [
           "2833 Cottman Ave",
           3.5,
           47
          ],
          [
           "200 S Broad St",
           3.5,
           168
          ],
          [
           "20 S 17th St",
           4,
           5
          ],
          [
           "4145 Chestnut St",
           3,
           31
          ],
          [
           "2900 Island Ave",
           1.5,
           7
          ],
          [
           "2513 Tulip St",
           5,
           103
          ],
          [
           "227 N 34th St",
           4,
           833
          ],
          [
           "4260 Main St",
           4.5,
           137
          ],
          [
           "141 N 9th St",
           4.5,
           181
          ],
          [
           "1606 W Passyunk Ave",
           4.5,
           166
          ],
          [
           "51 N 12th St",
           4,
           284
          ],
          [
           "1524 Sansom St",
           4,
           328
          ],
          [
           "4501 Woodhaven Rd",
           2,
           42
          ],
          [
           "51 N 12th St",
           2.5,
           261
          ],
          [
           "2160 W Olney Ave",
           3,
           44
          ],
          [
           "2401 Cheltenham Ave",
           2.5,
           11
          ],
          [
           "2955 Market St",
           2.5,
           5
          ],
          [
           "115 W Lehigh Ave",
           3.5,
           25
          ],
          [
           "6240 Stenton Ave",
           2,
           7
          ],
          [
           "327 Spring Garden Street",
           3,
           11
          ],
          [
           "PhilDelphia Airport, Terminal F",
           2.5,
           40
          ],
          [
           "7903 Ogontz Ave",
           3,
           27
          ],
          [
           "909 E Cayuga St",
           4,
           8
          ],
          [
           "220 S 16th St",
           3,
           318
          ],
          [
           "6543 Roosevelt Blvd.",
           1.5,
           14
          ],
          [
           "123 N 10th St",
           4,
           332
          ],
          [
           "201 W Allegheny Ave",
           3.5,
           117
          ],
          [
           "1014 Federal St",
           5,
           58
          ],
          [
           "500 E Wyoming Ave",
           3.5,
           22
          ],
          [
           "219 S Broad St, Rooftop of Cambria Hotel",
           3,
           206
          ],
          [
           "903 S 9th St",
           4,
           191
          ],
          [
           "2135 Wolf St",
           2,
           134
          ],
          [
           "6784 Germantown Ave",
           3,
           55
          ],
          [
           "120 Lombard St",
           4,
           546
          ],
          [
           "2204 Washington Ave",
           4.5,
           29
          ],
          [
           "1200 Market St",
           2,
           7
          ],
          [
           "632 S 5th St",
           4,
           177
          ],
          [
           "2039 S 5th St",
           4,
           14
          ],
          [
           "6413 Castor Ave",
           3,
           11
          ],
          [
           "1022 N Marshall St",
           4,
           22
          ],
          [
           "1021 Arch St",
           3,
           163
          ],
          [
           "110 S 40th St",
           3.5,
           127
          ],
          [
           "6802 Torresdale Ave",
           3,
           31
          ],
          [
           "1116 Walnut St",
           3.5,
           629
          ],
          [
           "1500 Walnut St",
           4.5,
           1290
          ],
          [
           "9813 Bustleton Ave",
           4,
           20
          ],
          [
           "2354 S 7th St",
           3.5,
           9
          ],
          [
           "9241-43 Roosevelt Blvd",
           3,
           46
          ],
          [
           "824 S 8th St",
           3,
           41
          ],
          [
           "613 S 4th St",
           4.5,
           85
          ],
          [
           "7700 Island Ave",
           1.5,
           14
          ],
          [
           "4201 Market St",
           2.5,
           63
          ],
          [
           "4141 Main St",
           3.5,
           97
          ],
          [
           "6422 Rising Sun Ave",
           3.5,
           23
          ],
          [
           "3528 Germantown Ave",
           4.5,
           43
          ],
          [
           "3680 Aramingo Ave",
           2,
           11
          ],
          [
           "1255 E Palmer St",
           5,
           72
          ],
          [
           "607 S 2nd St",
           4.5,
           66
          ],
          [
           "800 Mifflin St",
           4,
           111
          ],
          [
           "1600 S 7th St",
           3,
           6
          ],
          [
           "1 S Penn Sq",
           4,
           88
          ],
          [
           "4640 Roosevelt Blvd",
           3.5,
           64
          ],
          [
           "339 S 13th St",
           4.5,
           268
          ],
          [
           "1730 Chestnut St",
           4.5,
           29
          ],
          [
           "2550 Welsh Rd",
           2.5,
           11
          ],
          [
           "7135 Germantown Ave",
           4,
           22
          ],
          [
           "1024 S 9th St",
           4.5,
           69
          ],
          [
           "3252 Ryan Ave",
           3.5,
           28
          ],
          [
           "157 Byberry Rd",
           2.5,
           15
          ],
          [
           "810 S 47th St",
           4.5,
           247
          ],
          [
           "1525 Sansom St",
           4,
           912
          ],
          [
           "1326 Spruce St",
           4,
           219
          ],
          [
           "37 S 19th St",
           3.5,
           93
          ],
          [
           "N 13th St 33-43",
           1.5,
           10
          ],
          [
           "2885 Aramingo Ave",
           4,
           38
          ],
          [
           "11000 Roosevelt Blvd",
           3,
           224
          ],
          [
           "3700 Sansom St",
           4.5,
           12
          ],
          [
           "1617 E Passyunk Ave",
           4.5,
           326
          ],
          [
           "1441 Synder Ave",
           4,
           8
          ],
          [
           "443 S St",
           2.5,
           51
          ],
          [
           "6001 Harbison St",
           2.5,
           7
          ],
          [
           "1600 W Girard Ave",
           4.5,
           48
          ],
          [
           "15 S 3rd St",
           4,
           381
          ],
          [
           "1111 Locust St",
           4,
           87
          ],
          [
           "236 Market St",
           3.5,
           119
          ],
          [
           "2728 Orthodox St",
           3.5,
           39
          ],
          [
           "425 S Broad St",
           4.5,
           28
          ],
          [
           "1337 Chestnut St",
           4,
           1426
          ],
          [
           "1310 Frankford Ave",
           4,
           318
          ],
          [
           "1000 Frankford Ave, Ste 1",
           4,
           7
          ],
          [
           "4309 Locust St",
           4,
           260
          ],
          [
           "",
           4,
           39
          ],
          [
           "11058 Rennard St",
           3.5,
           18
          ],
          [
           "3935 Walnut St",
           1.5,
           89
          ],
          [
           "4030 City Ave",
           2.5,
           186
          ],
          [
           "7964 Verree Rd",
           4.5,
           22
          ],
          [
           "710 W Girard Ave",
           3.5,
           304
          ],
          [
           "5511 N 5th St",
           3.5,
           10
          ],
          [
           "4435 Baltimore Ave",
           3,
           12
          ],
          [
           "2015 Walnut St",
           4,
           276
          ],
          [
           "414 S 2nd St",
           4.5,
           73
          ],
          [
           "8400 Germantown Ave",
           3.5,
           384
          ],
          [
           "2156 N Broad St",
           4,
           8
          ],
          [
           "8221 Germantown Ave",
           4.5,
           8
          ],
          [
           "7360 Frankford Ave",
           2,
           7
          ],
          [
           "4002 Lancaster Ave",
           4,
           112
          ],
          [
           "7557 Haverford Ave",
           4,
           69
          ],
          [
           "1235 E Palmer St",
           4,
           250
          ],
          [
           "7971 Castor Ave",
           2.5,
           34
          ],
          [
           "420 S 2nd St",
           4,
           601
          ],
          [
           "9645 James St",
           3.5,
           419
          ],
          [
           "2227 Pine St",
           4,
           75
          ],
          [
           "1625 2nd St",
           4.5,
           24
          ],
          [
           "236 S 21st St",
           4.5,
           52
          ],
          [
           "261 S 17th St",
           3.5,
           331
          ],
          [
           "1100 Pattison Ave",
           3.5,
           50
          ],
          [
           "5022 Wayne Ave",
           1.5,
           11
          ],
          [
           "6019 Torresdale Ave",
           1,
           6
          ],
          [
           "2801 W Girard Ave",
           4,
           15
          ],
          [
           "1500 Ridge Ave",
           4,
           118
          ],
          [
           "1835 Chestnut St",
           3.5,
           185
          ],
          [
           "140 N Columbus Blvd",
           3.5,
           252
          ],
          [
           "2718 Cecil B Moore Ave",
           3.5,
           13
          ],
          [
           "41ST And Walnut",
           4.5,
           84
          ],
          [
           "3208 Red Lion Rd",
           3,
           49
          ],
          [
           "4653 Rising Sun Ave",
           4,
           14
          ],
          [
           "108 S 20th St",
           4.5,
           78
          ],
          [
           "1800 S 4th St",
           4.5,
           165
          ],
          [
           "4460 Main St",
           4,
           337
          ],
          [
           "2123 W Oregon Ave",
           4,
           66
          ],
          [
           "1301 Vine St",
           4.5,
           5
          ],
          [
           "117 E Chelten Ave",
           2,
           22
          ],
          [
           "1602 South Delaware Ave",
           3,
           31
          ],
          [
           "1820 S 13th St",
           4,
           126
          ],
          [
           "114 S 12th St",
           3.5,
           73
          ],
          [
           "4510 City Ave",
           4,
           332
          ],
          [
           "1434 Cecil B Moore Ave",
           3.5,
           67
          ],
          [
           "1600 Arch Pkwy",
           3.5,
           245
          ],
          [
           "228 Market St",
           4,
           1697
          ],
          [
           "1701 Benjamin Franklin Pkwy",
           3,
           14
          ],
          [
           "7127 Germantown Ave",
           4.5,
           76
          ],
          [
           "2013 Chestnut St",
           4,
           26
          ],
          [
           "1433 W Passyunk Ave",
           3,
           41
          ],
          [
           "1516 Sansom St, Fl 2",
           4,
           617
          ],
          [
           "7 Valley Green Rd",
           3.5,
           191
          ],
          [
           "5001 Linden Ave",
           4,
           17
          ],
          [
           "604 N 2nd St",
           4,
           142
          ],
          [
           "808 Chestnut St",
           1.5,
           9
          ],
          [
           "1026 Wolf St",
           4,
           107
          ],
          [
           "2141 Cottman Ave, Unit D",
           4,
           189
          ],
          [
           "1 E Penn Square",
           3,
           22
          ],
          [
           "1824 E Passyunk Ave",
           3,
           149
          ],
          [
           "4423 Locust St",
           3.5,
           87
          ],
          [
           "1900 Market St, Ste 100",
           3,
           52
          ],
          [
           "1717 Cottman Ave",
           3,
           85
          ],
          [
           "109 Green Ln",
           4,
           14
          ],
          [
           "2626 Rhawn St",
           4.5,
           7
          ],
          [
           "2522 W Lehigh Ave",
           3.5,
           5
          ],
          [
           "2842 Saint Vincent St",
           3.5,
           6
          ],
          [
           "1819 N 54th St",
           3,
           15
          ],
          [
           "3148 N Broad st",
           2,
           13
          ],
          [
           "237 St James Pl",
           4.5,
           3065
          ],
          [
           "1029 Germantown Ave",
           3,
           146
          ],
          [
           "517 W Girard Ave",
           4,
           130
          ],
          [
           "1555 E Wadsworth Ave",
           3.5,
           6
          ],
          [
           "2552 Grant Ave",
           3.5,
           54
          ],
          [
           "2013 Chestnut St",
           3.5,
           968
          ],
          [
           "2210 Cottman Ave",
           3,
           124
          ],
          [
           "5420 Ridge Ave",
           4,
           25
          ],
          [
           "1 Garage Access Rd",
           3,
           9
          ],
          [
           "3294 Gaul St",
           4,
           5
          ],
          [
           "2401 E Norris St",
           4,
           650
          ],
          [
           "11000 Roosevelt Blvd",
           4,
           20
          ],
          [
           "2537 E Somerset St",
           5,
           6
          ],
          [
           "1007 S 9th St",
           5,
           80
          ],
          [
           "936 Race St",
           3.5,
           218
          ],
          [
           "3703 Pulaski Ave",
           3,
           36
          ],
          [
           "165 W Girard Ave",
           4.5,
           137
          ],
          [
           "2003 N 13th St",
           3,
           15
          ],
          [
           "112 Chestnut St",
           4,
           68
          ],
          [
           "4529 Springfield Ave",
           4.5,
           206
          ],
          [
           "7366 Frankford Ave",
           3.5,
           9
          ],
          [
           "7220 Frankford Ave",
           2,
           19
          ],
          [
           "8500 Essington Ave, Terminal A, Philadelphia International Airport",
           2.5,
           200
          ],
          [
           "2843 Tyson Ave",
           4,
           18
          ],
          [
           "6208 Passyunk Ave",
           4,
           5
          ],
          [
           "9315 Old Bustleton Ave",
           4,
           211
          ],
          [
           "917 S 9th St",
           4.5,
           140
          ],
          [
           "1180 S 10th St",
           3.5,
           302
          ],
          [
           "Philadelphia International Airport",
           2,
           9
          ],
          [
           "1100 Washington Ave",
           4,
           95
          ],
          [
           "201 S Christopher Columbus Blvd",
           3,
           73
          ],
          [
           "6443 Castor Ave",
           4,
           43
          ],
          [
           "5532 Greene St",
           5,
           7
          ],
          [
           "4834 Spruce St",
           3.5,
           10
          ],
          [
           "2748 Germantown Ave",
           3.5,
           11
          ],
          [
           "1711 S Broad St",
           4,
           13
          ],
          [
           "2654 S 18th St",
           2,
           15
          ],
          [
           "5009 North 5th St",
           4.5,
           7
          ],
          [
           "912-16 Walnut St, Ste 16",
           3.5,
           52
          ],
          [
           "1401 W Passyunk Ave",
           4.5,
           28
          ],
          [
           "2008 Oregon Avenue",
           2,
           16
          ],
          [
           "10002 Verree Rd",
           3,
           34
          ],
          [
           "2001 Memphis St",
           4.5,
           233
          ],
          [
           "435 W Chew Ave",
           4,
           5
          ],
          [
           "6th St & Chestnut St",
           4.5,
           11
          ],
          [
           "1711 South St",
           4.5,
           157
          ],
          [
           "1117 S 11th St",
           4,
           285
          ],
          [
           "2101 W Hunting Park Ave",
           3,
           14
          ],
          [
           "5911 Ridge Ave",
           2.5,
           36
          ],
          [
           "742 Red Lion Rd",
           4,
           11
          ],
          [
           "3301 Richmond St",
           4,
           113
          ],
          [
           "135 S 18th St",
           3,
           7
          ],
          [
           "1001 Spruce St",
           4,
           242
          ],
          [
           "322 N Broad St",
           4,
           17
          ],
          [
           "925 Race St",
           3.5,
           28
          ],
          [
           "1833 John F Kennedy Blvd",
           4,
           27
          ],
          [
           "111 S Independence Mall E",
           3,
           18
          ],
          [
           "4550 Mitchell St",
           3.5,
           317
          ],
          [
           "9910 Frankford Ave",
           4,
           24
          ],
          [
           "1716 Chestnut St",
           4.5,
           1138
          ],
          [
           "3110 W Cheltenham Ave",
           1.5,
           16
          ],
          [
           "",
           3.5,
           30
          ],
          [
           "130 S 11th St",
           2.5,
           63
          ],
          [
           "269 S 44th St",
           3.5,
           185
          ],
          [
           "5539 N 5th St",
           3,
           13
          ],
          [
           "6391 Oxford Ave, Ste B",
           1.5,
           25
          ],
          [
           "9987 Bustleton Ave",
           4.5,
           19
          ],
          [
           "210 W Rittenhouse Sq",
           4.5,
           434
          ],
          [
           "6730 Old York Rd",
           3,
           21
          ],
          [
           "22 S 3rd St",
           4,
           875
          ],
          [
           "46 S 4th St",
           4,
           9
          ],
          [
           "1310 South St",
           4.5,
           29
          ],
          [
           "1511 Locust St",
           3.5,
           396
          ],
          [
           "1710 Sansom St",
           4,
           265
          ],
          [
           "1723 Locust St",
           4.5,
           144
          ],
          [
           "8000 Essington Ave, Terminal A",
           4,
           10
          ],
          [
           "4909 Catharine St",
           3.5,
           46
          ],
          [
           "11716 Bustleton Ave",
           2.5,
           14
          ],
          [
           "8221 Germantown Ave",
           4.5,
           46
          ],
          [
           "6190 Ridge Ave",
           4,
           48
          ],
          [
           "6300 Battersby St",
           3,
           58
          ],
          [
           "1617 Jfk Blvd",
           3,
           59
          ],
          [
           "3749 Midvale Ave",
           4,
           22
          ],
          [
           "1140 S 9th St",
           3,
           16
          ],
          [
           "234 S St",
           3,
           25
          ],
          [
           "8919 Ridge Ave Store",
           4,
           127
          ],
          [
           "6801 Frankford Ave",
           2.5,
           10
          ],
          [
           "748 E Tioga St",
           3,
           17
          ],
          [
           "3600 Spruce St",
           4.5,
           88
          ],
          [
           "111 S Independence Mall E",
           4,
           14
          ],
          [
           "205 Bainbridge St",
           2.5,
           10
          ],
          [
           "219 E Willow Grove Ave",
           4.5,
           9
          ],
          [
           "7124-62 Ridge Ave",
           2,
           36
          ],
          [
           "227 S 20th St",
           4.5,
           148
          ],
          [
           "2532 S Broad St",
           4.5,
           26
          ],
          [
           "2501 S 70th St",
           3,
           10
          ],
          [
           "1135 S Broad St",
           3,
           146
          ],
          [
           "47 N 13th St",
           3.5,
           32
          ],
          [
           "5520 Whitaker Ave",
           3.5,
           51
          ],
          [
           "3635 Lancaster Ave",
           4,
           214
          ],
          [
           "4160 Monument Rd, Ste 10",
           2,
           18
          ],
          [
           "367 Durfor St",
           2.5,
           32
          ],
          [
           "402 Wood St",
           4,
           309
          ],
          [
           "900 Packer Ave",
           3.5,
           27
          ],
          [
           "7816 Castor Ave",
           3,
           37
          ],
          [
           "2046 Sansom St",
           4,
           57
          ],
          [
           "1401 S 20th St",
           4.5,
           60
          ],
          [
           "757 S Front St",
           4.5,
           89
          ],
          [
           "111 S Independence Mall E",
           3.5,
           12
          ],
          [
           "145 N 11th St",
           4.5,
           691
          ],
          [
           "430 Walnut St",
           4.5,
           364
          ],
          [
           "1425 Locust St",
           4,
           25
          ],
          [
           "2206 Christopher Columbus Blvd",
           3,
           365
          ],
          [
           "704 Chestnut St",
           3,
           93
          ],
          [
           "40 N 52nd St",
           4,
           36
          ],
          [
           "125 S 18th St",
           3,
           133
          ],
          [
           "701 Cathedral Rd",
           4,
           7
          ],
          [
           "1234 Locust St",
           4,
           1147
          ],
          [
           "525 N 11th St",
           4,
           24
          ],
          [
           "2028 Fairmount Ave",
           3.5,
           456
          ],
          [
           "1730 Chestnut St",
           4,
           550
          ],
          [
           "7644 City Line Ave, Ste F11",
           2,
           33
          ],
          [
           "6142 Market St",
           3.5,
           25
          ],
          [
           "7706 Ogontz Ave",
           4,
           13
          ],
          [
           "1907 E Passyunk Ave",
           4,
           45
          ],
          [
           "9806 Bustleton Ave",
           4,
           11
          ],
          [
           "3931 Walnut St",
           4,
           372
          ],
          [
           "1706 Locust St",
           4,
           437
          ],
          [
           "1201 Filbert St",
           3.5,
           676
          ],
          [
           "630 South St",
           4.5,
           312
          ],
          [
           "1301 N Howard St",
           4.5,
           162
          ],
          [
           "3611 Walnut St",
           4,
           272
          ],
          [
           "6047 Woodland Ave",
           1.5,
           42
          ],
          [
           "1001 N Delaware Ave",
           2.5,
           10
          ],
          [
           "2000 S 17th St",
           4,
           52
          ],
          [
           "7959 Verree Rd",
           3,
           24
          ],
          [
           "8515 Germantown Ave",
           3,
           58
          ],
          [
           "4311 Main St",
           3.5,
           288
          ],
          [
           "1776 Benjamin Franklin Pkwy",
           4.5,
           51
          ],
          [
           "173 W Chew Ave",
           3.5,
           7
          ],
          [
           "5955 N 5th St",
           4,
           181
          ],
          [
           "600 Wendover St",
           4,
           2686
          ],
          [
           "1801 Market St",
           3,
           94
          ],
          [
           "2530 Aramingo Ave",
           1.5,
           27
          ],
          [
           "111 S Independence Mall E",
           4,
           95
          ],
          [
           "1800 Market St",
           4,
           9
          ],
          [
           "6045 Baltimore Ave",
           2.5,
           8
          ],
          [
           "5847 Market St",
           4,
           13
          ],
          [
           "337 S St",
           4,
           722
          ],
          [
           "2313 E Venango St",
           2.5,
           16
          ],
          [
           "120 W Oregon",
           2,
           23
          ],
          [
           "2608 Girard Ave",
           4,
           8
          ],
          [
           "234-236 S11th St",
           3.5,
           42
          ],
          [
           "1717 Arch St",
           3.5,
           29
          ],
          [
           "9319 Krewstown Rd",
           2.5,
           58
          ],
          [
           "8500 Essington Ave",
           2.5,
           31
          ],
          [
           "9910 Frankford Ave, #262",
           1.5,
           7
          ],
          [
           "622 S 2nd St",
           4,
           97
          ],
          [
           "241 Chestnut St",
           2,
           5
          ],
          [
           "1602 Locust St",
           4,
           753
          ],
          [
           "6420 Frankford Ave",
           4,
           55
          ],
          [
           "3804 Morrell Ave",
           2.5,
           28
          ],
          [
           "1901 N Mascher St",
           3.5,
           10
          ],
          [
           "1438 Federal St",
           5,
           8
          ],
          [
           "1714 Cherry St",
           3,
           124
          ],
          [
           "5021 Baltimore Ave",
           3.5,
           276
          ],
          [
           "1526 Sansom St",
           4.5,
           8
          ],
          [
           "635 W Girard Ave",
           4,
           32
          ],
          [
           "6635 Castor Ave",
           2.5,
           13
          ],
          [
           "3120 S 20th St",
           3.5,
           153
          ],
          [
           "1016-18 Race St",
           4,
           75
          ],
          [
           "7555 Haverford Ave",
           4.5,
           82
          ],
          [
           "28 S 40th St",
           3.5,
           51
          ],
          [
           "3542 Cottman Ave",
           2.5,
           90
          ],
          [
           "9140 Roosevelt Blvd E, ACROSS THE STREET FROM NORTHEAST SHOPPING CENTER",
           2,
           113
          ],
          [
           "541 E Girard Ave",
           4,
           559
          ],
          [
           "1764 Frankford Ave",
           4.5,
           6
          ],
          [
           "4207 Ridge Ave",
           4,
           57
          ],
          [
           "7300 Bustleton Ave",
           3,
           76
          ],
          [
           "817 Christian St",
           4.5,
           120
          ],
          [
           "10101 Verree Rd",
           3,
           27
          ],
          [
           "1923 N 12th St",
           3,
           8
          ],
          [
           "1034 Spruce St",
           4.5,
           57
          ],
          [
           "6618 Castor Ave",
           4.5,
           88
          ],
          [
           "119 S 39th St",
           3,
           119
          ],
          [
           "400 Spring Garden St",
           4,
           87
          ],
          [
           "3945 Chestnut St",
           3.5,
           6
          ],
          [
           "7613 Castor Ave",
           1.5,
           22
          ],
          [
           "6024 Ridge Ave",
           4.5,
           163
          ],
          [
           "1616 Chestnut St",
           4.5,
           96
          ],
          [
           "153 W Porter St",
           4.5,
           7
          ],
          [
           "1001 Race St",
           3,
           522
          ],
          [
           "1322 Chestnut St",
           3,
           203
          ],
          [
           "1244 Snyder Ave",
           4,
           120
          ],
          [
           "400 Washington Ave",
           4.5,
           93
          ],
          [
           "1500 S Broad St",
           5,
           24
          ],
          [
           "129 W Laurel St",
           3.5,
           424
          ],
          [
           "115 N 10th St",
           4,
           65
          ],
          [
           "1800 W Eleanor St",
           2.5,
           22
          ],
          [
           "9800 Germantown Pike",
           3,
           114
          ],
          [
           "7617 Ogontz Ave",
           3.5,
           91
          ],
          [
           "100 N 18th St, Ste 120",
           4,
           201
          ],
          [
           "253 S 20th St",
           4.5,
           50
          ],
          [
           "6545 Elmwood Ave",
           1.5,
           15
          ],
          [
           "3748 Germantown Ave",
           2,
           22
          ],
          [
           "51 N 12th St",
           4,
           189
          ],
          [
           "604 S 2nd St",
           4.5,
           52
          ],
          [
           "2647 S 13th St",
           3.5,
           43
          ],
          [
           "931 Spring Garden St",
           4.5,
           102
          ],
          [
           "112 S 11th St",
           3.5,
           90
          ],
          [
           "5222 Walnut St",
           1,
           5
          ],
          [
           "28 S 20th St",
           4,
           142
          ],
          [
           "252 S 16th St",
           3.5,
           209
          ],
          [
           "3001 Castor Ave",
           3,
           39
          ],
          [
           "8500 Essington Ave, Terminal B",
           2.5,
           16
          ],
          [
           "3324 Kensington Ave",
           5,
           69
          ],
          [
           "607 E Girard Ave",
           3,
           26
          ],
          [
           "990 Filbert St",
           2.5,
           144
          ],
          [
           "300 S Broad St",
           3.5,
           155
          ],
          [
           "400 Arch St",
           2,
           12
          ],
          [
           "161 W Chelten Ave",
           2.5,
           9
          ],
          [
           "4008 Market St",
           4,
           33
          ],
          [
           "1009 Canal St",
           4,
           6
          ],
          [
           "600 Washington Ave, Ste 9",
           4,
           170
          ],
          [
           "1438 Point Breeze Ave",
           4,
           9
          ],
          [
           "3971 Ford Rd",
           2.5,
           38
          ],
          [
           "12012 Bustleton Ave",
           4,
           282
          ],
          [
           "1700 Sansom St",
           5,
           14
          ],
          [
           "5717 Rising Sun Ave",
           4.5,
           8
          ],
          [
           "2001 W Oregon Ave",
           3.5,
           55
          ],
          [
           "120 S 17th St",
           3.5,
           30
          ],
          [
           "106 N 10th St",
           4.5,
           5
          ],
          [
           "10865 Bustleton Ave",
           4.5,
           83
          ],
          [
           "32 S 18th St",
           4.5,
           93
          ],
          [
           "212 Walnut St, Fl 2",
           3.5,
           689
          ],
          [
           "1408 S 12th St",
           4.5,
           15
          ],
          [
           "1928 N 12th St",
           4.5,
           24
          ],
          [
           "2552 E Allegheny Ave",
           4,
           14
          ],
          [
           "9701 Roosevelt Rd",
           2.5,
           158
          ],
          [
           "205 N 4th St",
           4,
           194
          ],
          [
           "3651 Lancaster Ave",
           4,
           57
          ],
          [
           "1300 Pine St",
           3,
           209
          ],
          [
           "234 N 9th St",
           3,
           215
          ],
          [
           "130 S 17th St",
           4.5,
           1161
          ],
          [
           "7500 State Rd",
           4.5,
           721
          ],
          [
           "1420 W. Cecil B Moore, Ste A",
           1.5,
           26
          ],
          [
           "1000 Arch St",
           3.5,
           319
          ],
          [
           "5550 Chester Ave",
           3,
           5
          ],
          [
           "3899 Aramingo Ave",
           4.5,
           9
          ],
          [
           "1439 Vine St",
           4.5,
           28
          ],
          [
           "5043 Wissahickon Ave",
           5,
           28
          ],
          [
           "907 S 9th St",
           5,
           5
          ],
          [
           "",
           4.5,
           142
          ],
          [
           "7804 Limekiln Pike",
           3.5,
           23
          ],
          [
           "1715 Chestnut St",
           3.5,
           74
          ],
          [
           "1136 Arch St",
           4.5,
           76
          ],
          [
           "2201 Pennsylvania Ave",
           4,
           82
          ],
          [
           "137 W Berkley St",
           3.5,
           34
          ],
          [
           "1934 E Passyunk Ave",
           4,
           119
          ],
          [
           "3925 Walnut St, Ste 128",
           2.5,
           146
          ],
          [
           "4322 N Broad St",
           3.5,
           10
          ],
          [
           "744 Red Lion Rd",
           3.5,
           9
          ],
          [
           "7135 Germantown Ave",
           5,
           6
          ],
          [
           "210 S 40th St",
           4,
           53
          ],
          [
           "4503 N Broad St",
           4.5,
           6
          ],
          [
           "1001 Intrepid Ave",
           3,
           6
          ],
          [
           "719 Sansom St",
           4.5,
           280
          ],
          [
           "909 N 2nd St",
           4,
           484
          ],
          [
           "51 N 12th St",
           4,
           298
          ],
          [
           "12TH And Arch St",
           4.5,
           58
          ],
          [
           "1829 John F Kennedy Blvd",
           4,
           183
          ],
          [
           "1144 S 9th St",
           4.5,
           149
          ],
          [
           "2421 E Allegheny",
           2.5,
           14
          ],
          [
           "1256 W Montgomery Ave",
           4,
           33
          ],
          [
           "109 N 10th St",
           4,
           181
          ],
          [
           "7950 Oxford Ave",
           4.5,
           86
          ],
          [
           "4134 Chester Ave",
           4.5,
           25
          ],
          [
           "Terminal A W",
           1.5,
           24
          ],
          [
           "9311 Krewstown Rd",
           4,
           102
          ],
          [
           "701 S 50th St",
           3.5,
           158
          ],
          [
           "138 S 11th St",
           3.5,
           129
          ],
          [
           "925 Arch St",
           3,
           127
          ],
          [
           "1030 South 8th St",
           3.5,
           19
          ],
          [
           "1801 S 4th St",
           5,
           9
          ],
          [
           "3806 Morrell Ave",
           4,
           19
          ],
          [
           "51 N 12th St",
           4.5,
           718
          ],
          [
           "401 S Columbus Blvd",
           3.5,
           874
          ],
          [
           "2102 Chestnut St",
           4.5,
           94
          ],
          [
           "229 S 45th St",
           3.5,
           307
          ],
          [
           "4365 Main St",
           3.5,
           306
          ],
          [
           "5536 Torresdale Ave",
           1.5,
           11
          ],
          [
           "1529 Morris St",
           4.5,
           40
          ],
          [
           "2441 Aspen St",
           4.5,
           9
          ],
          [
           "1421 Arch St",
           3.5,
           154
          ],
          [
           "1625 Chestnut St",
           3,
           13
          ],
          [
           "111 N 10th St",
           4,
           100
          ],
          [
           "8605 Germantown Ave",
           4,
           8
          ],
          [
           "3517 Lancaster Ave",
           3.5,
           55
          ],
          [
           "1148 S 11th St",
           3.5,
           455
          ],
          [
           "2615 South St",
           4,
           35
          ],
          [
           "1424 Cecil B Moore Ave",
           4,
           58
          ],
          [
           "201 Chestnut St",
           3,
           23
          ],
          [
           "3421 Walnut St",
           4,
           102
          ],
          [
           "2101 Pennsylvania Ave",
           4,
           53
          ],
          [
           "2301 S 7th St",
           4,
           59
          ],
          [
           "135 South St",
           4.5,
           127
          ],
          [
           "20 S 18th St",
           4,
           531
          ],
          [
           "4161 Main St",
           3,
           195
          ],
          [
           "1119 Locust St",
           4.5,
           246
          ],
          [
           "1549 S 13th St",
           4,
           303
          ],
          [
           "1540 Pratt St",
           4,
           11
          ],
          [
           "812 N 2nd St",
           3.5,
           394
          ],
          [
           "391 Lyceum Ave",
           3.5,
           28
          ],
          [
           "6255 Limekiln Pike",
           2,
           5
          ],
          [
           "253 S 16th St, Apt 1",
           3.5,
           524
          ],
          [
           "4411 Main St",
           2.5,
           40
          ],
          [
           "6109 Ridge Ave",
           5,
           8
          ],
          [
           "1133 S Broad St",
           3,
           17
          ],
          [
           "1940 W Passyunk Ave",
           2.5,
           56
          ],
          [
           "1839 Spruce St",
           3.5,
           265
          ],
          [
           "2012 Sansom St",
           3.5,
           451
          ],
          [
           "801 Walnut St",
           3.5,
           239
          ],
          [
           "8229 Germantown Ave",
           4.5,
           6
          ],
          [
           "2311 Cottman Ave",
           2,
           12
          ],
          [
           "6832 Bustleton Ave",
           3.5,
           10
          ],
          [
           "8914 Frankford Ave",
           3,
           8
          ],
          [
           "246 Market St",
           2.5,
           6
          ],
          [
           "263 S 15th St",
           3.5,
           488
          ],
          [
           "263 S 17th St",
           4,
           43
          ],
          [
           "3734 Germantown Ave",
           3,
           54
          ],
          [
           "207 S Sydenham St",
           4.5,
           810
          ],
          [
           "123 S 18th St",
           4.5,
           880
          ],
          [
           "111 S Independence Mall E",
           4,
           37
          ],
          [
           "1683 Grant Ave",
           3.5,
           93
          ],
          [
           "2927 Kensington Ave",
           4,
           7
          ],
          [
           "Walnut St",
           4.5,
           23
          ],
          [
           "135 S 17th St, Ste A",
           4,
           178
          ],
          [
           "2916 N 22nd St",
           4,
           79
          ],
          [
           "910 Chestnut St",
           3.5,
           7
          ],
          [
           "2047 Chestnut St",
           3.5,
           18
          ],
          [
           "7911-17 Ogontz Ave",
           1.5,
           31
          ],
          [
           "8026 Bustleton Ave",
           4,
           31
          ],
          [
           "8220 West Bartram Ave",
           3,
           56
          ],
          [
           "614 N 2nd St",
           4,
           248
          ],
          [
           "201 W Girard Ave",
           3,
           47
          ],
          [
           "1430 Walnut St",
           3,
           381
          ],
          [
           "1619 Grant Ave",
           3,
           104
          ],
          [
           "1700 S 2nd St",
           4,
           72
          ],
          [
           "9242 N Delaware Ave",
           3.5,
           221
          ],
          [
           "4923 Germantown Ave",
           2.5,
           15
          ],
          [
           "3600 Fisk Ave",
           4,
           109
          ],
          [
           "7598 Haverford Ave, Ste A",
           3,
           19
          ],
          [
           "2900 W Girard Ave",
           3.5,
           11
          ],
          [
           "7001 Roosevelt Blvd",
           2.5,
           8
          ],
          [
           "10000 Roosevelt Blvd",
           3.5,
           80
          ],
          [
           "1 Dock St",
           3,
           23
          ],
          [
           "4239 Baltimore Ave",
           3.5,
           197
          ],
          [
           "5822 Roosevelt Blvd",
           1.5,
           8
          ],
          [
           "7232 Haverford Ave",
           2.5,
           32
          ],
          [
           "1516 Tasker St",
           3.5,
           377
          ],
          [
           "1995 Franklin Mills Cir",
           2,
           185
          ],
          [
           "3 Crescent Dr, Ste 200",
           2.5,
           47
          ],
          [
           "2301 Lombard St",
           4,
           199
          ],
          [
           "136 S 45th St",
           4.5,
           90
          ],
          [
           "218 Market St",
           3.5,
           240
          ],
          [
           "1410 S St",
           3,
           36
          ],
          [
           "7552 Haverford Ave",
           3,
           13
          ],
          [
           "210 S 13th St",
           3.5,
           191
          ],
          [
           "946 N 2nd St",
           3,
           74
          ],
          [
           "2842 Saint Vincent St, Unit B2",
           3.5,
           8
          ],
          [
           "51 N 12th St, Ste 58",
           3.5,
           42
          ],
          [
           "4741 Princeton Ave",
           4.5,
           58
          ],
          [
           "1429 Marlborough St",
           4,
           9
          ],
          [
           "9763 Roosevelt Blvd",
           3.5,
           100
          ],
          [
           "615 South St",
           5,
           26
          ],
          [
           "7940 Torresdale Ave",
           4,
           78
          ],
          [
           "112 N 10th St",
           4.5,
           237
          ],
          [
           "101 S Columbus Blvd",
           4,
           67
          ],
          [
           "518 S 4th St",
           2.5,
           6
          ],
          [
           "2100 South St",
           3.5,
           12
          ],
          [
           "4400 Woodland Ave",
           5,
           16
          ],
          [
           "616 South St",
           3.5,
           38
          ],
          [
           "1 Citizens Bank Way",
           3,
           28
          ],
          [
           "10 S Front St",
           4,
           220
          ],
          [
           "1190 Market St",
           2,
           19
          ],
          [
           "2020 Penrose Ave, Ste D",
           2.5,
           13
          ],
          [
           "1518 Chestnut St",
           4,
           301
          ],
          [
           "2533 E Clearfield St",
           4.5,
           22
          ],
          [
           "140 S 11th St",
           3.5,
           198
          ],
          [
           "2135 N 63rd St",
           3,
           50
          ],
          [
           "9999 Bustleton Ave",
           4,
           122
          ],
          [
           "1534 Franklin Mills Cir",
           3.5,
           20
          ],
          [
           "199 W Godfrey Ave",
           2.5,
           48
          ],
          [
           "1627 South St",
           4,
           66
          ],
          [
           "11701 Bustleton Ave",
           4,
           63
          ],
          [
           "330 W Oregon Ave",
           4,
           71
          ],
          [
           "1624 Locust St, Floor 5",
           5,
           5
          ],
          [
           "3619 Aramingo Avenue",
           3.5,
           19
          ],
          [
           "51 N 12th St",
           4.5,
           73
          ],
          [
           "4501 Castor Ave",
           2,
           5
          ],
          [
           "8500 Henry Ave",
           4,
           121
          ],
          [
           "1001 N 2nd St",
           3.5,
           126
          ],
          [
           "2804 W Lehigh Ave",
           4.5,
           55
          ],
          [
           "1625 Chestnut St, Ste F6",
           3.5,
           24
          ],
          [
           "7500 Bustleton Avenue",
           2.5,
           12
          ],
          [
           "3816 Chestnut St, Space 2",
           3.5,
           35
          ],
          [
           "1543 E Luzerne St",
           3.5,
           9
          ],
          [
           "4201 Manayunk Ave",
           3.5,
           14
          ],
          [
           "1356 N 2nd St",
           4,
           256
          ],
          [
           "1291 W Norris St",
           4.5,
           111
          ],
          [
           "7100 Castor Ave",
           2.5,
           29
          ],
          [
           "640 N Broad St",
           4,
           877
          ],
          [
           "216 S 11th St",
           4,
           443
          ],
          [
           "7814 Castor Ave",
           3.5,
           18
          ],
          [
           "10783 Bustleton Ave",
           4,
           21
          ],
          [
           "942 Market Street",
           3.5,
           35
          ],
          [
           "1527 Cecil B Moore Ave",
           4,
           60
          ],
          [
           "3878 Frankford Ave",
           4,
           76
          ],
          [
           "942 Race St",
           3,
           174
          ],
          [
           "2743 Poplar St",
           4,
           182
          ],
          [
           "1126 Walnut St",
           3,
           341
          ],
          [
           "15 S 20th St",
           4.5,
           304
          ],
          [
           "5213 Frankford Ave",
           4.5,
           7
          ],
          [
           "1234 N Delaware Ave",
           4.5,
           91
          ],
          [
           "1121 Walnut St",
           4,
           183
          ],
          [
           "6517 Elmwood Ave",
           4,
           116
          ],
          [
           "5013 N Broad St",
           4,
           17
          ],
          [
           "1600-5 N Broad St",
           3.5,
           15
          ],
          [
           "1253 N Front St",
           4,
           716
          ],
          [
           "5201 Market St",
           3.5,
           5
          ],
          [
           "2217 S 7th St",
           4.5,
           22
          ],
          [
           "400 S 43rd St",
           4,
           106
          ],
          [
           "2063 South St",
           3,
           300
          ],
          [
           "6258 N Broad St",
           4,
           5
          ],
          [
           "5901 Ridge Avenue",
           2,
           41
          ],
          [
           "400 Spring Garden St",
           3.5,
           17
          ],
          [
           "3601 Market St",
           4.5,
           50
          ],
          [
           "184 E Evergreen Ave",
           4,
           5
          ],
          [
           "2328 Fairmount Ave",
           3,
           91
          ],
          [
           "8312 State Rd",
           3.5,
           15
          ],
          [
           "325 N Christopher Columbus Blvd",
           2.5,
           515
          ],
          [
           "2439 S 12th St",
           3,
           22
          ],
          [
           "800 S Broad St",
           2.5,
           36
          ],
          [
           "2554 S American St",
           4,
           15
          ],
          [
           "3300 Market St",
           4.5,
           44
          ],
          [
           "7136 Germantown Ave",
           4,
           380
          ],
          [
           "6150 Woodland Ave",
           4.5,
           19
          ],
          [
           "1837 E Passyunk Ave",
           4,
           48
          ],
          [
           "1455 Franklin Mills Cir",
           2.5,
           159
          ],
          [
           "2211 Stenton Ave",
           1.5,
           17
          ],
          [
           "6300 City Line Ave",
           2,
           5
          ],
          [
           "106 S 13th St",
           4,
           668
          ],
          [
           "37th St And Walnut St",
           4,
           79
          ],
          [
           "1008 Race St",
           4.5,
           125
          ],
          [
           "1400 Stenton Ave",
           3,
           5
          ],
          [
           "2534-36 Kensington Ave",
           4.5,
           157
          ],
          [
           "6168 Ridge Ave",
           5,
           54
          ],
          [
           "2550 Grant Ave",
           3,
           35
          ],
          [
           "7426 Frankford Ave",
           4,
           9
          ],
          [
           "6602 Frankford Ave",
           2.5,
           21
          ],
          [
           "814 S 47th St",
           4.5,
           53
          ],
          [
           "1701 John F Kennedy Blvd",
           3.5,
           22
          ],
          [
           "1441 W Shunk St",
           2.5,
           71
          ],
          [
           "2431 Aramingo Ave",
           3,
           24
          ],
          [
           "",
           4.5,
           20
          ],
          [
           "1500 John F Kennedy Blvd",
           4,
           22
          ],
          [
           "1002 Race St",
           4,
           232
          ],
          [
           "261 S 20th St",
           3.5,
           421
          ],
          [
           "300 S Broad St",
           3.5,
           10
          ],
          [
           "8229 Germantown Ave",
           4.5,
           18
          ],
          [
           "1511 Kitty Hawk Ave",
           4,
           59
          ],
          [
           "2809 S. Front St",
           1.5,
           15
          ],
          [
           "53RD Market St",
           2.5,
           10
          ],
          [
           "1838 W Cheltenham Ave",
           3,
           41
          ],
          [
           "3865 N 7th St",
           3.5,
           16
          ],
          [
           "4630 Baltimore Ave",
           4,
           393
          ],
          [
           "500 W Oregon Ave",
           3.5,
           43
          ],
          [
           "1556 E Wadsworth Ave",
           3,
           11
          ],
          [
           "4312 Megargee St",
           2.5,
           30
          ],
          [
           "237 S 18th St",
           4.5,
           789
          ],
          [
           "5726-46 Baltimore Ave",
           2,
           14
          ],
          [
           "112 S 18th St",
           4.5,
           12
          ],
          [
           "1743 South St",
           4,
           368
          ],
          [
           "2300 Cottman Ave",
           5,
           6
          ],
          [
           "2234 W Passyunk Ave",
           3.5,
           307
          ],
          [
           "6842 Bustleton Ave",
           3.5,
           87
          ],
          [
           "108 W Susquehanna Ave",
           2.5,
           15
          ],
          [
           "1412 W Diamond St",
           3,
           23
          ],
          [
           "3 Snyder Ave",
           2.5,
           88
          ],
          [
           "1020 Cherry St",
           3.5,
           613
          ],
          [
           "",
           3,
           56
          ],
          [
           "1800 Callowhill St",
           4,
           15
          ],
          [
           "8229 Germantown Ave",
           3.5,
           173
          ],
          [
           "1754 S Hicks St",
           4.5,
           383
          ],
          [
           "308 S 52nd St",
           3.5,
           5
          ],
          [
           "3573 Frankford Ave",
           3,
           11
          ],
          [
           "762 S 10th St",
           4,
           415
          ],
          [
           "1020 Race St",
           4,
           2672
          ],
          [
           "2244 Fairmount Ave",
           4.5,
           217
          ],
          [
           "2226 Cottman Ave",
           3.5,
           25
          ],
          [
           "320 Walnut St",
           4.5,
           193
          ],
          [
           "3709-25 N. Broad Street",
           1.5,
           6
          ],
          [
           "51 N 12th St",
           3,
           67
          ],
          [
           "1701 John F Kennedy Blvd",
           3,
           20
          ],
          [
           "700 S 4th St",
           4,
           620
          ],
          [
           "719 N 2nd St",
           4.5,
           5
          ],
          [
           "1342 Bleigh Ave",
           4,
           87
          ],
          [
           "9456 State Rd",
           4,
           66
          ],
          [
           "1444 S Broad St",
           4,
           26
          ],
          [
           "1211 Chestnut St, Fl 1",
           4.5,
           7
          ],
          [
           "400 S St",
           3.5,
           2736
          ],
          [
           "5344 Master St",
           3,
           14
          ],
          [
           "530 South St",
           4,
           692
          ],
          [
           "126 Chestnut St",
           4.5,
           203
          ],
          [
           "6201 North Front St, Ste 124",
           4.5,
           33
          ],
          [
           "99 South 17th Street at Liberty Place",
           3,
           250
          ],
          [
           "5601 Vine St",
           2,
           9
          ],
          [
           "3940 Baltimore Ave",
           4,
           203
          ],
          [
           "6301 Haverford Ave",
           3.5,
           5
          ],
          [
           "6024 Ridge Ave, Ste 104",
           4,
           222
          ],
          [
           "1429 Wolf St",
           4.5,
           144
          ],
          [
           "821 Dudley St",
           4.5,
           14
          ],
          [
           "1308 W Girard Ave",
           3.5,
           15
          ],
          [
           "1615 W Ritner St",
           4.5,
           27
          ],
          [
           "927 Race St",
           4.5,
           99
          ],
          [
           "8000 Essington Ave",
           3,
           29
          ],
          [
           "1515 Porter St",
           5,
           38
          ],
          [
           "1101 Filbert St",
           2.5,
           46
          ],
          [
           "1999 N 52nd St",
           3,
           35
          ],
          [
           "4540 Baltimore Ave",
           3.5,
           111
          ],
          [
           "4051 Market St",
           4.5,
           68
          ],
          [
           "4330 Sheffield Ave",
           3.5,
           64
          ],
          [
           "6300 Frankford Ave",
           4,
           113
          ],
          [
           "2108 South St",
           4,
           93
          ],
          [
           "122 Lombard St",
           4.5,
           10
          ],
          [
           "1232 N Front St",
           4.5,
           17
          ],
          [
           "7404 Drexel Rd",
           2.5,
           12
          ],
          [
           "191450000 Jackson St Phila",
           4.5,
           58
          ],
          [
           "1835 Snyder Ave",
           4.5,
           6
          ],
          [
           "4163 N 9th St",
           2,
           6
          ],
          [
           "5100 City Ave",
           2,
           21
          ],
          [
           "6555 Greene St",
           3,
           136
          ],
          [
           "100 N18th St",
           4,
           497
          ],
          [
           "2118 Cottman Ave",
           2.5,
           47
          ],
          [
           "1100 S Christopher Columbus Blvd, Unit 22",
           4,
           419
          ],
          [
           "1701 John F Kennedy Blvd",
           3.5,
           8
          ],
          [
           "1100 Washington Ave",
           4,
           738
          ],
          [
           "2025 Fairmount Ave",
           3.5,
           9
          ],
          [
           "2106 S Broad St",
           4,
           152
          ],
          [
           "5734 Old 2nd St",
           4,
           531
          ],
          [
           "3925 Walnut St, Ste 136",
           3,
           69
          ],
          [
           "230 S 40th St, Ste 140",
           3.5,
           65
          ],
          [
           "1150 Market St",
           4,
           324
          ],
          [
           "8000 Pine Rd",
           2,
           18
          ],
          [
           "117 Chestnut St",
           4,
           561
          ],
          [
           "6417 Harbison Ave.",
           1.5,
           15
          ],
          [
           "301 W Allegheny Ave",
           5,
           6
          ],
          [
           "2400 S 19th St",
           4,
           183
          ],
          [
           "1701 John F Kennedy Blvd, Ste C120",
           3,
           29
          ],
          [
           "102 Rector St, Fl 3",
           4.5,
           18
          ],
          [
           "1919 Market St, Ste 101",
           3.5,
           135
          ],
          [
           "924 Walnut St",
           3.5,
           173
          ],
          [
           "1735 Market St, Fl 52",
           3.5,
           57
          ],
          [
           "4201 Main St",
           4,
           477
          ],
          [
           "852 S 2nd St",
           4,
           101
          ],
          [
           "337 Spring Garden St",
           4,
           21
          ],
          [
           "1841 S 2nd St",
           5,
           11
          ],
          [
           "701 N 3rd St",
           4.5,
           172
          ],
          [
           "120 S 17th St",
           3.5,
           14
          ],
          [
           "1033 Spring Garden St",
           4,
           186
          ],
          [
           "3600 Aramingo Avenue",
           1.5,
           23
          ],
          [
           "1138 Pine St",
           3.5,
           318
          ],
          [
           "8756 Frankford Ave",
           4,
           18
          ],
          [
           "11000 Roosevelt Blvd",
           3.5,
           25
          ],
          [
           "140 S Broad St",
           4,
           72
          ],
          [
           "9456 State Rd",
           4.5,
           7
          ],
          [
           "6783 N 5th St",
           4,
           104
          ],
          [
           "128 S 12th St",
           3.5,
           188
          ],
          [
           "2400 S 10th St",
           3,
           43
          ],
          [
           "132 S 20th St",
           2,
           144
          ],
          [
           "2920 N 5th St",
           4,
           5
          ],
          [
           "29 E Chelten Ave",
           1,
           16
          ],
          [
           "1009 Christian St",
           4.5,
           472
          ],
          [
           "3420 Sansom St",
           4,
           1301
          ],
          [
           "1613 Pratt St",
           2.5,
           10
          ],
          [
           "3432 Sansom St",
           3.5,
           466
          ],
          [
           "6100 Frankford Ave",
           2,
           20
          ],
          [
           "9859 Bustleton Ave",
           4,
           14
          ],
          [
           "1701 Green St",
           3.5,
           226
          ],
          [
           "3200 Red Lion Rd",
           3.5,
           30
          ],
          [
           "4535 N 5th St",
           4,
           402
          ],
          [
           "3549 Chestnut St",
           3,
           417
          ],
          [
           "655 N Broad St",
           3,
           162
          ],
          [
           "100 S 21st St",
           4.5,
           70
          ],
          [
           "400 E Wyoming Ave",
           2,
           17
          ],
          [
           "15000 Endicott St",
           4.5,
           18
          ],
          [
           "1420 Ellsworth St",
           3.5,
           9
          ],
          [
           "2461 Grant Ave",
           4.5,
           86
          ],
          [
           "1850 W Ritner St",
           4.5,
           29
          ],
          [
           "1219 S 9th St",
           2.5,
           3401
          ],
          [
           "1320 W Olney Ave",
           3.5,
           21
          ],
          [
           "7856 Haverford Ave",
           2,
           20
          ],
          [
           "1400 S 13th St",
           4.5,
           20
          ],
          [
           "4948 Rising Sun Ave",
           2.5,
           17
          ],
          [
           "5734 N 2nd St",
           1.5,
           12
          ],
          [
           "2514 E York St",
           4.5,
           246
          ],
          [
           "6620 Woodland Ave",
           3.5,
           74
          ],
          [
           "1939 N Front St",
           4.5,
           88
          ],
          [
           "1200 Constitution Ave",
           4,
           12
          ],
          [
           "1916 E Washington Ln",
           4,
           11
          ],
          [
           "6000 Woodland Ave",
           2,
           10
          ],
          [
           "1526 W Ritner St",
           4,
           82
          ],
          [
           "6141 Ridge Ave",
           4,
           135
          ],
          [
           "1300 S 18th St",
           2.5,
           24
          ],
          [
           "1501 E Susquehanna Ave",
           4,
           50
          ],
          [
           "2711 Comly Rd",
           4,
           59
          ],
          [
           "1901 John F Kennedy Blvd",
           4,
           52
          ],
          [
           "1037 S 8th St",
           4.5,
           47
          ],
          [
           "1523 E Wadsworth Ave",
           2,
           24
          ],
          [
           "611 S 7th St",
           4.5,
           566
          ],
          [
           "2118 Washington Ave",
           3.5,
           93
          ],
          [
           "4600 Woodland Ave",
           5,
           14
          ],
          [
           "6000 Tabor Ave",
           4,
           8
          ],
          [
           "326 Roxborough Ave",
           4,
           133
          ],
          [
           "941 Spruce St",
           3.5,
           597
          ],
          [
           "1521 Columbus Blvd",
           2,
           33
          ],
          [
           "34 S 11th St",
           3.5,
           19
          ],
          [
           "2 Penn Center Concourse",
           2.5,
           5
          ],
          [
           "122 S 12th St",
           4,
           108
          ],
          [
           "1009 Arch St",
           3.5,
           706
          ],
          [
           "2201 S 7th St",
           3,
           7
          ],
          [
           "Citizens Bank Park",
           3,
           56
          ],
          [
           "1431 Frankford Ave",
           3,
           229
          ],
          [
           "930 Race St",
           3.5,
           254
          ],
          [
           "4420 Walnut St",
           4,
           646
          ],
          [
           "150 S Independence Mall W",
           4,
           26
          ],
          [
           "2536 Pine St",
           4.5,
           44
          ],
          [
           "102 Rector St",
           4,
           604
          ],
          [
           "2711 Comly Rd",
           3.5,
           176
          ],
          [
           "1742 E Passyunk Ave",
           3.5,
           58
          ],
          [
           "7171 Stenton Ave",
           2,
           5
          ],
          [
           "6833 Germantown Ave",
           3,
           68
          ],
          [
           "7601 Lindbergh Blvd",
           2,
           30
          ],
          [
           "1714 Walnut St",
           3.5,
           751
          ],
          [
           "708 S 50th St",
           4,
           37
          ],
          [
           "1046 Tasker St",
           4.5,
           396
          ],
          [
           "2000 Hamilton St, Ste 104",
           4,
           257
          ],
          [
           "5104 N 5th St",
           3.5,
           37
          ],
          [
           "7060 Germantown Ave",
           5,
           8
          ],
          [
           "3032 North Broad St.",
           1,
           12
          ],
          [
           "4249 Walnut St",
           4,
           71
          ],
          [
           "8221 Germantown Ave",
           4,
           35
          ],
          [
           "6627 Chew Ave",
           1.5,
           12
          ],
          [
           "126 S 11th St",
           4,
           21
          ],
          [
           "1414 S Penn Square",
           4,
           20
          ],
          [
           "7201 Woodland Ave",
           4.5,
           7
          ],
          [
           "6001 Ridge Avenue",
           2,
           28
          ],
          [
           "1336 Chestnut St",
           3,
           309
          ],
          [
           "1838 E Passyunk Ave",
           4.5,
           164
          ],
          [
           "5912 Old York Rd",
           5,
           27
          ],
          [
           "116 S 18th St",
           2,
           357
          ],
          [
           "236 N 2nd St, Unit 1",
           4,
           7
          ],
          [
           "2313 E Venango St",
           3.5,
           16
          ],
          [
           "903 N 2nd St",
           4,
           312
          ],
          [
           "1907 Sansom St",
           4,
           18
          ],
          [
           "2319 Walnut St",
           4.5,
           110
          ],
          [
           "3400 Civic Center Blvd.",
           4,
           7
          ],
          [
           "33 S 16th St",
           2.5,
           8
          ],
          [
           "534 W Girard Ave",
           4,
           33
          ],
          [
           "110 S 16th St",
           3.5,
           560
          ],
          [
           "712-14 S St",
           4,
           253
          ],
          [
           "648 Roxborough Ave",
           4,
           131
          ],
          [
           "114 S 20th St",
           4,
           877
          ],
          [
           "1501 Snyder Ave",
           3,
           287
          ],
          [
           "2320 W Oregon Ave",
           2.5,
           99
          ],
          [
           "227 W Allegheny Ave",
           4,
           37
          ],
          [
           "7252 Elmwood Ave",
           4,
           5
          ],
          [
           "5603 Greene St",
           3.5,
           38
          ],
          [
           "1233 N 31st St",
           4.5,
           155
          ],
          [
           "571 Adams Ave",
           3.5,
           38
          ],
          [
           "3818 Chestnut St",
           4,
           33
          ],
          [
           "20 S 2nd St",
           4,
           193
          ],
          [
           "1303 Dickinson St",
           4.5,
           437
          ],
          [
           "262 S 19th St",
           4,
           242
          ],
          [
           "4247 Main St",
           4,
           176
          ],
          [
           "1823 Sansom St",
           3.5,
           226
          ],
          [
           "7572 Haverford Ave",
           3,
           5
          ],
          [
           "2311 Cottman Ave",
           1.5,
           15
          ],
          [
           "1648 E Passyunk Ave",
           4,
           557
          ],
          [
           "2840 Cottman Ave",
           3.5,
           29
          ],
          [
           "1619 Grant Ave",
           4.5,
           12
          ],
          [
           "",
           4.5,
           29
          ],
          [
           "401 N 21st St",
           2,
           81
          ],
          [
           "1101 Market St",
           1.5,
           10
          ],
          [
           "2721 E Somerset St",
           4.5,
           29
          ],
          [
           "10201 Bustleton Ave",
           4,
           102
          ],
          [
           "1100 W Montgomery Ave, Ste B",
           3.5,
           25
          ],
          [
           "2221 South St",
           2.5,
           118
          ],
          [
           "1833 Fairmount Ave",
           4,
           265
          ],
          [
           "9910 Frankford Ave",
           4,
           11
          ],
          [
           "51 N 12th St",
           4.5,
           6
          ],
          [
           "449 S 61st St",
           2.5,
           10
          ],
          [
           "5935 Ogontz Ave",
           2.5,
           14
          ],
          [
           "1500 Locust St, Apt 2705",
           2,
           6
          ],
          [
           "740 Mifflin St",
           3,
           29
          ],
          [
           "1653 S 27th St",
           3,
           28
          ],
          [
           "24 S 2nd St",
           2.5,
           215
          ],
          [
           "3300 Henry Ave",
           4,
           104
          ],
          [
           "52 S 2nd St",
           4,
           228
          ],
          [
           "1 N 19th St, Fl 60",
           4,
           129
          ],
          [
           "1218 Pine St",
           3.5,
           120
          ],
          [
           "8500 Essington Ave, Ste C26",
           2.5,
           87
          ],
          [
           "2328 E Norris St",
           4.5,
           20
          ],
          [
           "3235 Powelton Ave",
           2,
           20
          ],
          [
           "801 E Passyunk Ave",
           4.5,
           145
          ],
          [
           "2417 Welsh Rd",
           3.5,
           40
          ],
          [
           "5437 N Lawrence St",
           4.5,
           25
          ],
          [
           "39 E Oregon Ave",
           4,
           1910
          ],
          [
           "4207 Walnut St",
           4,
           77
          ],
          [
           "1320 Spring Garden St",
           3,
           5
          ],
          [
           "1526 Packer Ave",
           3,
           5
          ],
          [
           "1231 Race St",
           3.5,
           5
          ],
          [
           "2720 W Girard Ave",
           5,
           8
          ],
          [
           "41 N 52nd St",
           4.5,
           9
          ],
          [
           "2811 Cottman Ave",
           3.5,
           195
          ],
          [
           "3151 Cottman Ave",
           3.5,
           48
          ],
          [
           "1218 Mifflin St",
           4.5,
           194
          ],
          [
           "203 N 9th St",
           4.5,
           176
          ],
          [
           "261 S 44th St",
           4.5,
           49
          ],
          [
           "1028 Arch St",
           3.5,
           478
          ],
          [
           "704 S 4th St",
           5,
           5
          ],
          [
           "1626 Dickinson St",
           2.5,
           42
          ],
          [
           "1415 Locust St",
           4,
           230
          ],
          [
           "4631 Baltimore Ave",
           3,
           124
          ],
          [
           "2214 South St",
           4.5,
           83
          ],
          [
           "1612 South St",
           3.5,
           173
          ],
          [
           "1600 Callowhill St",
           4.5,
           10
          ],
          [
           "4164 Barnett St",
           5,
           45
          ],
          [
           "1356 N Front St",
           4,
           160
          ],
          [
           "3401 Civic Center Blvd",
           3.5,
           28
          ],
          [
           "1706 N 5th St",
           5,
           74
          ],
          [
           "2600 Benjamin Franklin Pkwy",
           4.5,
           767
          ],
          [
           "738 S 11th St",
           4,
           716
          ],
          [
           "Montgomery St & Liacouras Walk",
           4.5,
           32
          ],
          [
           "900 Christian St",
           3.5,
           107
          ],
          [
           "384 Shurs Ln",
           4,
           52
          ],
          [
           "6700 Essington Ave, Unit C-1, Philadelphia Wholesale Produce Market",
           3,
           5
          ],
          [
           "4371 Richmond St",
           3.5,
           12
          ],
          [
           "211 W Rittenhouse Sq, Rittenhouse Hotel",
           4.5,
           6
          ],
          [
           "2124 S Broad St",
           4,
           71
          ],
          [
           "37th St And Spruce St",
           4,
           67
          ],
          [
           "1100 Pattison Ave",
           3,
           361
          ],
          [
           "703 Walnut St",
           4.5,
           128
          ],
          [
           "600 Washington Ave, Ste C & D",
           4,
           30
          ],
          [
           "4301 Market St",
           2,
           12
          ],
          [
           "Philadelphia International Airport, Terminal D/E",
           3.5,
           108
          ],
          [
           "9130 Academy Rd",
           4,
           12
          ],
          [
           "200 S 40th St",
           2.5,
           31
          ],
          [
           "2035 Sansom St",
           4,
           884
          ],
          [
           "131 N 10th St",
           4,
           453
          ],
          [
           "110 S 13th St",
           4.5,
           2893
          ],
          [
           "847 W Ritner St",
           4.5,
           161
          ],
          [
           "1016-18 Race St",
           3.5,
           44
          ],
          [
           "47 S 52nd St",
           4,
           7
          ],
          [
           "261 S 20th St",
           4,
           65
          ],
          [
           "3409 Walnut St",
           2,
           12
          ],
          [
           "2200 N 17th St",
           4,
           16
          ],
          [
           "8601 Frankford Ave",
           3.5,
           60
          ],
          [
           "1247 S 13th St",
           4.5,
           155
          ],
          [
           "7350 Oxford Ave",
           3,
           12
          ],
          [
           "2312 S 7th St",
           4,
           7
          ],
          [
           "5840 Old York Rd",
           1.5,
           7
          ],
          [
           "2313 Frankford Ave",
           4,
           575
          ],
          [
           "8500 Essington Ave, Level 2, Terminal B",
           3,
           19
          ],
          [
           "2700 S Marvine St",
           4.5,
           18
          ],
          [
           "5921 Rising Sun Ave",
           1,
           5
          ],
          [
           "7304 Ogontz Ave",
           2.5,
           191
          ],
          [
           "9233 Frankford Ave",
           2.5,
           35
          ],
          [
           "4201 Ridge Ave",
           3.5,
           199
          ],
          [
           "3401 N Broad St",
           4,
           10
          ],
          [
           "7200 Devon St",
           4,
           125
          ],
          [
           "2217 S Broad St",
           3.5,
           10
          ],
          [
           "1311 W Moyamensing Ave",
           5,
           17
          ],
          [
           "4726 Spruce Ct",
           3,
           70
          ],
          [
           "1930 Chestnut St",
           4,
           505
          ],
          [
           "103 N 15th St",
           4,
           28
          ],
          [
           "243 S 60th St",
           3.5,
           58
          ],
          [
           "1900 Market St",
           3.5,
           35
          ],
          [
           "2131 South Street",
           2.5,
           25
          ],
          [
           "9769 Roosevelt Blvd",
           2.5,
           128
          ],
          [
           "7203 Frankford Ave",
           3.5,
           34
          ],
          [
           "2nd Lehigh Ave",
           1.5,
           11
          ],
          [
           "8500 Essington Ave",
           4.5,
           107
          ],
          [
           "901 W Girard Ave",
           2,
           6
          ],
          [
           "2300 Cottman Ave",
           3,
           8
          ],
          [
           "4824 Baltimore Ave",
           4,
           76
          ],
          [
           "1102 Chestnut St",
           4,
           435
          ],
          [
           "1801 S Chadwick St",
           4.5,
           39
          ],
          [
           "7159 Torresdale Ave",
           3.5,
           22
          ],
          [
           "811 Sansom St",
           4.5,
           154
          ],
          [
           "923 Arch St",
           4,
           132
          ],
          [
           "2800 W Dauphin St",
           4,
           10
          ],
          [
           "1740 Sansom St",
           4.5,
           14
          ],
          [
           "4345 Orchard St",
           4.5,
           12
          ],
          [
           "1225 Fitzwater St",
           4,
           241
          ],
          [
           "1312 Sansom St",
           4,
           132
          ],
          [
           "7534 Castor Ave",
           3,
           10
          ],
          [
           "1328 Pine St",
           4,
           954
          ],
          [
           "2842 W Girard Ave",
           3,
           8
          ],
          [
           "1437 Chestnut St",
           4,
           9
          ],
          [
           "1707 Cecil B Moore Ave",
           3,
           20
          ],
          [
           "3400 Lancaster Ave, Ste 10",
           2,
           23
          ],
          [
           "4508 Walnut St",
           4.5,
           150
          ],
          [
           "221 N Columbus Blvd",
           3,
           710
          ],
          [
           "3240 N Broad St",
           2.5,
           66
          ],
          [
           "1500 E Lycoming St",
           3,
           11
          ],
          [
           "1135 East Erie Ave",
           2.5,
           6
          ],
          [
           "447 Poplar St",
           4.5,
           154
          ],
          [
           "151 S 24th St",
           4,
           175
          ],
          [
           "10155 Verree Rd",
           3.5,
           6
          ],
          [
           "1600 N Broad St, Ste 12",
           3,
           40
          ],
          [
           "200 S Broad St, Ste Fc3",
           3,
           12
          ],
          [
           "4612 Woodland Ave",
           4.5,
           47
          ],
          [
           "1625 Market St, Ste 204",
           2.5,
           16
          ],
          [
           "4503 S Broad St",
           3.5,
           73
          ],
          [
           "4300 Roosevelt Blvd",
           4,
           61
          ],
          [
           "752 E Tioga St",
           4,
           16
          ],
          [
           "4708 Baltimore Ave",
           3.5,
           164
          ],
          [
           "1543 Spring Garden St",
           4,
           69
          ],
          [
           "1500 South St",
           4,
           83
          ],
          [
           "2654 S 12th St",
           5,
           40
          ],
          [
           "2900 Island Ave, Ste 2930",
           3,
           43
          ],
          [
           "1100 Washington Ave",
           3.5,
           30
          ],
          [
           "6610 Germantown Ave, Ste 101",
           5,
           10
          ],
          [
           "2601 Pennsylvania Ave",
           3.5,
           184
          ],
          [
           "6220 Lansdowne Ave",
           3,
           5
          ],
          [
           "Philadelphia International Airport",
           2,
           5
          ],
          [
           "45 N 12th St",
           4.5,
           213
          ],
          [
           "1880 John F Kennedy Blvd",
           4.5,
           41
          ],
          [
           "2400 W Oregon Ave",
           2,
           23
          ],
          [
           "1701 Jfk Blvd",
           3.5,
           60
          ],
          [
           "203 N 34th St Northside Dining Ter",
           2,
           10
          ],
          [
           "707 Chestnut St",
           4.5,
           11
          ],
          [
           "3745 Aramingo Ave",
           2.5,
           37
          ],
          [
           "6779 N 5th St",
           4,
           49
          ],
          [
           "628 N Front St",
           2,
           22
          ],
          [
           "7715 Frankford Ave",
           2.5,
           11
          ],
          [
           "1248 S Clarion St",
           4.5,
           11
          ],
          [
           "1208 Frankford Ave",
           4,
           631
          ],
          [
           "8800 Essington Ave, Terminal F",
           3.5,
           32
          ],
          [
           "1000 Diamond St, Ste 114",
           3,
           5
          ],
          [
           "208 Race St",
           4,
           315
          ],
          [
           "7008 Elmwood Ave",
           4,
           6
          ],
          [
           "7933 Bustleton Ave",
           5,
           31
          ],
          [
           "6164 Ridge Ave",
           3.5,
           80
          ],
          [
           "4439 Main St",
           3,
           100
          ],
          [
           "2725 N American St",
           4.5,
           15
          ],
          [
           "6904 Torresdale Ave",
           3,
           12
          ],
          [
           "200 S Broad St, Fl 19",
           3.5,
           611
          ],
          [
           "101 S 9th St",
           4,
           807
          ],
          [
           "3963 Lancaster Ave",
           4.5,
           45
          ],
          [
           "1500 Jfk Blvd, Ste 6, Two Penn Ctr Concourse Level",
           4.5,
           49
          ],
          [
           "200 S Broad St",
           3,
           16
          ],
          [
           "1843 S 2nd St",
           4.5,
           49
          ],
          [
           "716 South St",
           1.5,
           106
          ],
          [
           "735 N 26th St",
           4.5,
           230
          ],
          [
           "116 S 18th St",
           3,
           269
          ],
          [
           "2233 S Woodstock St",
           2.5,
           35
          ],
          [
           "3824 N 5th St",
           4,
           37
          ],
          [
           "4160 Monument Rd",
           3,
           26
          ],
          [
           "2327 E Huntingdon St",
           4.5,
           23
          ],
          [
           "8001 Castor Ave",
           3.5,
           18
          ],
          [
           "509 S 6th St",
           4.5,
           97
          ],
          [
           "1526 Sansom St",
           4.5,
           514
          ],
          [
           "1080 N Delaware Ave",
           2,
           110
          ],
          [
           "1533 Chestnut St",
           4,
           215
          ],
          [
           "2223 Ridge Ave",
           4.5,
           31
          ],
          [
           "448 N 9th St",
           4.5,
           23
          ],
          [
           "951 S 9th St",
           5,
           219
          ],
          [
           "11701 Bustleton Ave",
           2.5,
           11
          ],
          [
           "225 S 12th St",
           3.5,
           159
          ],
          [
           "1601 E Passyunk Ave",
           3.5,
           54
          ],
          [
           "2025 Washington Ave",
           4.5,
           276
          ],
          [
           "1001 Cottman Ave",
           2,
           7
          ],
          [
           "1822 Callowhill St",
           4,
           457
          ],
          [
           "1320 Chestnut St",
           2.5,
           78
          ],
          [
           "9970 Roosevelt Blvd",
           3,
           80
          ],
          [
           "7500 Frankford Ave",
           3,
           17
          ],
          [
           "6813 Ridge Ave",
           4.5,
           32
          ],
          [
           "1700 N 3rd St",
           4,
           46
          ],
          [
           "8443 Frankford Ave",
           3.5,
           24
          ],
          [
           "3122 Richmond St",
           4.5,
           35
          ],
          [
           "1925 Fairmount Ave",
           4.5,
           48
          ],
          [
           "232 Market St",
           4.5,
           98
          ],
          [
           "1001 N 2nd St, Ste EF",
           4,
           23
          ],
          [
           "8221 Germantown Ave",
           4,
           42
          ],
          [
           "2201 Christian St",
           4,
           680
          ],
          [
           "1639 West Susquehanna Ave",
           4,
           7
          ],
          [
           "320 W Oregon Ave, Ste 1",
           4,
           126
          ],
          [
           "14102 Bustleton Ave",
           2.5,
           13
          ],
          [
           "1920 Chestnut St",
           4,
           465
          ],
          [
           "1265 E Chelten Ave",
           4,
           157
          ],
          [
           "1928 E Passyunk Ave",
           4.5,
           28
          ],
          [
           "2424 E York St",
           3,
           222
          ],
          [
           "2237 Grays Ferry Ave",
           4.5,
           74
          ],
          [
           "910 S 9th St",
           4.5,
           33
          ],
          [
           "8439 Frankford Ave",
           3.5,
           34
          ],
          [
           "501 Fairmount Ave",
           4.5,
           12
          ],
          [
           "8500 Essington Ave",
           3,
           211
          ],
          [
           "1306 Dickinson St",
           4,
           813
          ],
          [
           "1009 S 8th St",
           4.5,
           364
          ],
          [
           "2000 Chestnut St",
           4,
           96
          ],
          [
           "6148 Ridge Ave",
           4,
           141
          ],
          [
           "7952 Dungan Rd",
           3.5,
           31
          ],
          [
           "247 N 52nd St",
           3,
           8
          ],
          [
           "7534 Haverford Ave",
           5,
           24
          ],
          [
           "7547 Haverford Ave",
           3.5,
           33
          ],
          [
           "2628 N Broad St",
           1.5,
           76
          ],
          [
           "1623 Walnut St",
           4,
           1321
          ],
          [
           "3887 Pennypack St",
           3.5,
           10
          ],
          [
           "6301 Oxford Ave",
           2,
           18
          ],
          [
           "4301 Baltimore Ave",
           3.5,
           227
          ],
          [
           "2321 Fairmount Ave",
           4,
           681
          ],
          [
           "1800 N Howard St",
           4.5,
           53
          ],
          [
           "8221 Germantown Ave",
           4.5,
           108
          ],
          [
           "926 Race St",
           4,
           1213
          ],
          [
           "4725 Pine St",
           3.5,
           31
          ],
          [
           "7616 Castor Ave",
           4.5,
           46
          ],
          [
           "1001 N Delaware Ave, 1001 N Delaware Ave",
           3.5,
           66
          ],
          [
           "4700 Baltimore Ave",
           4.5,
           175
          ],
          [
           "102 S 21st St",
           4.5,
           208
          ],
          [
           "4901 Ridge Ave",
           3.5,
           182
          ],
          [
           "3601 S Broad St",
           4,
           5
          ],
          [
           "3400 Lancaster Ave",
           4,
           10
          ],
          [
           "4105 Main St",
           4.5,
           34
          ],
          [
           "",
           4,
           30
          ],
          [
           "2327 Cottman Ave",
           3.5,
           7
          ],
          [
           "231 S 24th St",
           4.5,
           141
          ],
          [
           "2500 Frankford Ave",
           4,
           133
          ],
          [
           "1228 Spruce St",
           4,
           70
          ],
          [
           "1124 South St",
           4,
           74
          ],
          [
           "15 S 11th St",
           3.5,
           77
          ],
          [
           "104 S. 40Th Street",
           2,
           29
          ],
          [
           "725 Walnut St",
           4.5,
           367
          ],
          [
           "1939 Arch St",
           4.5,
           240
          ],
          [
           "5912 Germantown Ave",
           2,
           5
          ],
          [
           "2422 W Passyunk Ave",
           2,
           10
          ],
          [
           "1503A E Wadsworth Ave",
           2.5,
           6
          ],
          [
           "2422 W Passyunk Avenue",
           1,
           17
          ],
          [
           "6518 Woodland Ave",
           4,
           5
          ],
          [
           "404 Queen St",
           4,
           171
          ],
          [
           "2200 South St",
           3.5,
           110
          ],
          [
           "4407 Chestnut St",
           4,
           65
          ],
          [
           "One Citizens Bank Way",
           2.5,
           28
          ],
          [
           "4800 Baltimore Ave",
           3,
           312
          ],
          [
           "600 E Jamestown St",
           3,
           87
          ],
          [
           "1458 E Lycoming St",
           3.5,
           5
          ],
          [
           "1701 John F Kennedy Blvd, Ste C100",
           2.5,
           9
          ],
          [
           "102 W Girard Ave",
           4,
           63
          ],
          [
           "",
           4.5,
           9
          ],
          [
           "3137 N Front St",
           2,
           25
          ],
          [
           "214 Market St",
           3.5,
           686
          ],
          [
           "317 Market St",
           4,
           444
          ],
          [
           "216 S St",
           3,
           93
          ],
          [
           "3200 Chestnut St, Ste A",
           4.5,
           19
          ],
          [
           "6053 Ogontz Ave",
           3,
           19
          ],
          [
           "3945 Chestnut St",
           3.5,
           1077
          ],
          [
           "1307 W Tioga St",
           4,
           6
          ],
          [
           "5706 Germantown Ave",
           3,
           24
          ],
          [
           "708 N 2nd St",
           4.5,
           111
          ],
          [
           "2100 Red Lion Road",
           1.5,
           24
          ],
          [
           "1601 Christopher Columbus Blvd",
           1.5,
           7
          ],
          [
           "128 S 19th St",
           3.5,
           566
          ],
          [
           "2119 W Oregon Ave",
           3,
           116
          ],
          [
           "3020 Market St",
           3.5,
           21
          ],
          [
           "51 N 12th St",
           2.5,
           122
          ],
          [
           "111 S Independence Mall E",
           4,
           31
          ],
          [
           "46 S 17th St",
           4,
           143
          ],
          [
           "5143 Baltimore Ave",
           4.5,
           11
          ],
          [
           "4426 Locust St",
           3,
           127
          ],
          [
           "14425 Bustleton Ave",
           3.5,
           42
          ],
          [
           "7242 Castor Ave",
           3.5,
           56
          ],
          [
           "1532 E Wadsworth Ave",
           2,
           11
          ],
          [
           "48 W Maplewood Mall",
           4.5,
           7
          ],
          [
           "1835 N 12th St",
           4,
           60
          ],
          [
           "48 S 2nd St",
           4.5,
           352
          ],
          [
           "1617 John F Kennedy Blvd",
           3.5,
           16
          ],
          [
           "789 Franklin Mills Cir",
           4.5,
           349
          ],
          [
           "7300 Rising Sun Ave",
           2,
           6
          ],
          [
           "4705 Pine St",
           4,
           24
          ],
          [
           "1100 N Front St",
           4.5,
           409
          ],
          [
           "118 S 12th St",
           3.5,
           163
          ],
          [
           "2557 Amber St",
           4.5,
           48
          ],
          [
           "4937 N Broad St",
           2.5,
           12
          ],
          [
           "1400 N Front St",
           4.5,
           138
          ],
          [
           "120 S 17th St",
           3.5,
           83
          ],
          [
           "299 S Columbus Blvd",
           4,
           5
          ],
          [
           "100 W Olney Ave",
           3.5,
           27
          ],
          [
           "1200 S 21st St",
           4.5,
           43
          ],
          [
           "5601 Lancaster Ave",
           1.5,
           10
          ],
          [
           "325 N Christopher Columbus Blvd",
           2.5,
           169
          ],
          [
           "3300 Brighton St",
           5,
           9
          ],
          [
           "7732 Torresdale Ave",
           3,
           20
          ],
          [
           "100 Dawson St",
           4,
           76
          ],
          [
           "1123 Walnut St",
           3.5,
           7
          ],
          [
           "218 N 13th St",
           4,
           414
          ],
          [
           "1614 Cecil B. Moore Ave",
           3.5,
           46
          ],
          [
           "5675 N Front St",
           3.5,
           21
          ],
          [
           "34 N 52nd St",
           4.5,
           6
          ],
          [
           "135 S 18th St",
           3.5,
           441
          ],
          [
           "7838 Germantown Ave",
           3.5,
           199
          ],
          [
           "4326 Main St",
           3.5,
           89
          ],
          [
           "200 Washington Square W",
           3,
           24
          ],
          [
           "816 S 47th St",
           4,
           357
          ],
          [
           "1 Citizens Bank Way",
           3.5,
           27
          ],
          [
           "1648 S 7th St",
           3,
           46
          ],
          [
           "209 S 20th St",
           3.5,
           186
          ],
          [
           "6548 Haverford Ave",
           3,
           67
          ],
          [
           "1801 E Passyunk Ave",
           3.5,
           295
          ],
          [
           "240 Market St",
           4,
           42
          ],
          [
           "1739 S St",
           5,
           29
          ],
          [
           "1011 Spring Garden St",
           4,
           6
          ],
          [
           "123 S 23rd St",
           3.5,
           411
          ],
          [
           "2146 E Susquehanna Ave",
           4,
           314
          ],
          [
           "15 W Girard Ave",
           4,
           112
          ],
          [
           "1 S Broad St",
           2.5,
           387
          ],
          [
           "2538 Welsh Rd",
           3.5,
           511
          ],
          [
           "230 S Broad St",
           4.5,
           54
          ],
          [
           "324 W Chelten Ave",
           1.5,
           6
          ],
          [
           "1100 W Girard Ave",
           2,
           7
          ],
          [
           "1933 Spruce St",
           4,
           167
          ],
          [
           "700 Sansom St",
           4.5,
           20
          ],
          [
           "1916 Welsh Rd, Ste 16",
           2.5,
           21
          ],
          [
           "122 W Girard Ave",
           4.5,
           233
          ],
          [
           "5445 Germantown Ave",
           4.5,
           151
          ],
          [
           "4040 Locust St",
           3.5,
           327
          ],
          [
           "4600 City Line Ave",
           2,
           22
          ],
          [
           "101 N 11th St",
           4,
           380
          ],
          [
           "4343 Main St",
           4,
           338
          ],
          [
           "7719 Crittenden St",
           2.5,
           61
          ],
          [
           "901 N 3rd St",
           4,
           52
          ],
          [
           "5601 Chestnut Street",
           2,
           14
          ],
          [
           "122 Lombard St",
           2.5,
           35
          ],
          [
           "206 Market St",
           4.5,
           511
          ],
          [
           "6001 Ridge Ave",
           3,
           48
          ],
          [
           "152 West Girard Ave",
           4.5,
           89
          ],
          [
           "122 S 16th St",
           3.5,
           183
          ],
          [
           "4382 Main St",
           3.5,
           171
          ],
          [
           "2048 S 18th St 1801 S Snyder Ave",
           4,
           8
          ],
          [
           "1039 Spring Garden St",
           2.5,
           15
          ],
          [
           "4301 N 9th St",
           2.5,
           15
          ],
          [
           "6507 Elmwood Ave",
           4.5,
           8
          ],
          [
           "1001 S 17th St",
           4,
           128
          ],
          [
           "620 S 5th St",
           4.5,
           6
          ],
          [
           "3939 Chestnut St, Fl 2",
           4,
           451
          ],
          [
           "2417 Welsh Rd",
           3.5,
           15
          ],
          [
           "719 Walnut St",
           4.5,
           1089
          ],
          [
           "12301 Academy Rd",
           3,
           19
          ],
          [
           "2637 W Girard Ave",
           4,
           121
          ],
          [
           "129 W Chelten Ave",
           3,
           12
          ],
          [
           "7700 City Line Ave",
           1.5,
           34
          ],
          [
           "2641 W Girard Ave",
           3.5,
           47
          ],
          [
           "1825-33 West Oregon Ave",
           3,
           5
          ],
          [
           "1903 Cottman Ave",
           3,
           16
          ],
          [
           "2121 72nd Ave",
           4,
           29
          ],
          [
           "1601 Market St",
           4,
           35
          ],
          [
           "19 E Oregon Ave",
           3.5,
           249
          ],
          [
           "529 N 20th St",
           4,
           293
          ],
          [
           "1508 Sansom St",
           4,
           417
          ],
          [
           "3836 Chestnut St",
           3,
           95
          ],
          [
           "4626 Lancaster Ave",
           4,
           15
          ],
          [
           "499 Domino Ln, Ste 4350",
           3.5,
           91
          ],
          [
           "105 S 12th St, Unit 1-01",
           3.5,
           66
          ],
          [
           "1710 S 10th St",
           5,
           16
          ],
          [
           "4163 Whitaker Ave",
           2,
           13
          ],
          [
           "21 E Chelten Ave",
           2.5,
           23
          ],
          [
           "1206 Mifflin St",
           4.5,
           14
          ],
          [
           "3528 I St",
           4,
           46
          ],
          [
           "1909 E Passyunk Ave",
           4,
           154
          ],
          [
           "7402 Germantown Ave",
           4.5,
           139
          ],
          [
           "2030 Chestnut St",
           4,
           475
          ],
          [
           "1526 N American St",
           4.5,
           65
          ],
          [
           "2501 Aramingo Ave",
           2.5,
           61
          ],
          [
           "2109 N Broad St",
           1,
           27
          ],
          [
           "1013 Cherry St",
           4,
           234
          ],
          [
           "148 N 10th St",
           3.5,
           26
          ],
          [
           "834 Chestnut St",
           4,
           105
          ],
          [
           "3520 Cottman Ave",
           4.5,
           266
          ],
          [
           "7275 Rising Sun Ave",
           3,
           6
          ],
          [
           "2340 Oregon Ave.",
           2,
           16
          ],
          [
           "3725 Aramingo Ave",
           1,
           30
          ],
          [
           "21 N Juniper St",
           3,
           16
          ],
          [
           "1929 Chestnut St",
           4,
           132
          ],
          [
           "533 N 22nd St",
           4.5,
           488
          ],
          [
           "108 Chestnut St",
           4.5,
           59
          ],
          [
           "5801 Torresdale Ave",
           3.5,
           7
          ],
          [
           "5150 N 5th St",
           3.5,
           8
          ],
          [
           "4229 N Broad St",
           1.5,
           31
          ],
          [
           "70th St & Grovers Ave",
           2,
           7
          ],
          [
           "4310 Roosevelt Blvd",
           2,
           59
          ],
          [
           "1336 Rising Sun Ave",
           4,
           6
          ],
          [
           "3816 Chestnut St, Ste 36",
           4,
           35
          ],
          [
           "1201 Market Street, (guest entrance at 1200 Filbert Street).",
           3,
           595
          ],
          [
           "140 S 20th St",
           4,
           381
          ],
          [
           "1550 McKean St",
           3.5,
           58
          ],
          [
           "1100 W Montgomery Ave",
           4.5,
           89
          ],
          [
           "8000 Essington Ave, Terminal E",
           3.5,
           48
          ],
          [
           "1342 Cypress St",
           4,
           182
          ],
          [
           "1 W Girard Ave",
           4,
           392
          ],
          [
           "1902 W Girard Ave",
           3,
           27
          ],
          [
           "1640 S St",
           4.5,
           14
          ],
          [
           "942 S 5th St",
           5,
           110
          ],
          [
           "1537 Spring Garden St",
           4,
           163
          ],
          [
           "51 north 12th street",
           3.5,
           27
          ],
          [
           "922 Arch St",
           4.5,
           14
          ],
          [
           "901 Cottman Avenue",
           1.5,
           19
          ],
          [
           "6846 Bustleton Ave",
           4,
           75
          ],
          [
           "6613 Frankford Ave",
           4,
           10
          ],
          [
           "2300 S 16th St",
           4.5,
           50
          ],
          [
           "3633 Germantown Ave",
           4.5,
           28
          ],
          [
           "1530 E Wadsworth Ave",
           3.5,
           19
          ],
          [
           "1850 Benjamin Franklin Pkwy",
           4,
           597
          ],
          [
           "11708 Bustleton Ave",
           3,
           6
          ],
          [
           "6417 Rising Sun Ave",
           3,
           37
          ],
          [
           "599 Market St",
           4.5,
           141
          ],
          [
           "7711 Ogontz Ave",
           3,
           14
          ],
          [
           "7373 Frankford Ave",
           3,
           106
          ],
          [
           "2200 Arch St",
           3.5,
           36
          ],
          [
           "7313-15 Frankford Ave",
           3.5,
           127
          ],
          [
           "138 N 10th St",
           4,
           461
          ],
          [
           "6008 Germantown Ave",
           4.5,
           83
          ],
          [
           "1844 W Hunting Park Ave",
           3.5,
           5
          ],
          [
           "6470 Torresdale Ave",
           1.5,
           11
          ],
          [
           "1511 South St",
           4,
           324
          ],
          [
           "1622 South St",
           5,
           59
          ],
          [
           "7229 Passyunk Ave",
           3.5,
           66
          ],
          [
           "8800 Essington Ave",
           2.5,
           57
          ],
          [
           "9201 Frankford Ave",
           2,
           7
          ],
          [
           "606 Washington Ave",
           3.5,
           234
          ],
          [
           "2836 N 22nd St",
           3.5,
           178
          ],
          [
           "923 Race St",
           4,
           46
          ],
          [
           "1508 Point Breeze Ave",
           1.5,
           18
          ],
          [
           "1418 W Girard Ave",
           3,
           6
          ],
          [
           "1023 Race St",
           3,
           524
          ],
          [
           "701 S 5th St",
           4,
           111
          ],
          [
           "8680 Bartram Ave",
           2.5,
           168
          ],
          [
           "7855 Oxford Ave",
           2,
           27
          ],
          [
           "7951 Verree Rd",
           4,
           44
          ],
          [
           "1942 S 9th St",
           3.5,
           55
          ],
          [
           "36 Snyder Ave",
           3.5,
           65
          ],
          [
           "4040 City Ave",
           4.5,
           117
          ],
          [
           "1402 Ridge Ave",
           3,
           54
          ],
          [
           "1549 Spring Garden St",
           4,
           111
          ],
          [
           "744 Christian St",
           3,
           5
          ],
          [
           "2617 E Westmoreland St",
           3,
           13
          ],
          [
           "37 Snyder Ave",
           3.5,
           39
          ],
          [
           "1080 N Delaware Ave, Ste 102",
           2,
           9
          ],
          [
           "1006 Arch St",
           3.5,
           314
          ],
          [
           "7522 Haverford Ave",
           3,
           19
          ],
          [
           "33 E Laurel St",
           3.5,
           273
          ],
          [
           "1418 W Girard Ave",
           5,
           8
          ],
          [
           "2374 Orthodox St",
           3.5,
           63
          ],
          [
           "3632 S 3rd St",
           5,
           14
          ],
          [
           "129 N 22nd St",
           4,
           152
          ],
          [
           "2654 S Sixth St",
           4.5,
           62
          ],
          [
           "401 S Christopher Columbus Blvd",
           3,
           6
          ],
          [
           "1100 Chestnut St",
           3.5,
           383
          ],
          [
           "7500 City Ave",
           1,
           25
          ],
          [
           "6001 Ridge Ave",
           3,
           67
          ],
          [
           "59 N 11th St",
           3.5,
           587
          ],
          [
           "2501 E Westmoreland St",
           4,
           59
          ],
          [
           "802 Christian St",
           5,
           6
          ],
          [
           "1720 W Moyamensing Ave",
           3.5,
           8
          ],
          [
           "110 W Dauphin St",
           3,
           18
          ],
          [
           "122 W Chelten Ave",
           4.5,
           5
          ],
          [
           "4200 City Ave",
           2.5,
           126
          ],
          [
           "1000 Wolf St",
           4.5,
           75
          ],
          [
           "1825 E Moyamensing Ave",
           4,
           223
          ],
          [
           "9475 Roosevelt Blvd",
           4,
           15
          ],
          [
           "5833 Germantown Ave",
           3.5,
           7
          ],
          [
           "712 W Girard Ave",
           4,
           26
          ],
          [
           "251 N Clarion St",
           4.5,
           10
          ],
          [
           "3 W Girard Ave",
           3.5,
           56
          ],
          [
           "906 Arch St",
           3,
           61
          ],
          [
           "4345 Main St",
           4,
           276
          ],
          [
           "1001 Market St",
           3.5,
           110
          ],
          [
           "4903 N 5th St",
           4,
           8
          ],
          [
           "1009 N Bodine St",
           4.5,
           83
          ],
          [
           "28 N 11th St",
           3,
           7
          ],
          [
           "8000 Roosevelt Blvd",
           3,
           97
          ],
          [
           "1524 S St",
           4.5,
           471
          ],
          [
           "400 Leverington Ave",
           3.5,
           57
          ],
          [
           "1901 Callowhill St",
           3.5,
           569
          ],
          [
           "1239 Filbert St",
           2,
           152
          ],
          [
           "1527 S 4th St",
           4,
           334
          ],
          [
           "2600 Grant Ave",
           5,
           9
          ],
          [
           "8743 Frankford Ave",
           4,
           19
          ],
          [
           "7596 Haverford Ave",
           2,
           7
          ],
          [
           "6863 Bustleton Ave",
           3.5,
           98
          ],
          [
           "6300 Wheeler St",
           3.5,
           9
          ],
          [
           "141 W Wyoming Ave",
           4,
           7
          ],
          [
           "1100 S Columbus Blvd",
           3,
           6
          ],
          [
           "6421 Rising Sun Ave",
           3,
           13
          ],
          [
           "901 N 2nd St",
           4,
           785
          ],
          [
           "1708 N Broad St.",
           1.5,
           16
          ],
          [
           "4745 Rising Sun Ave",
           3.5,
           8
          ],
          [
           "538 N 4th St",
           3.5,
           338
          ],
          [
           "129 S 30th St Roof",
           3,
           42
          ],
          [
           "834 Chestnut St",
           4.5,
           57
          ],
          [
           "1915 W Hunting Park Ave",
           4,
           8
          ],
          [
           "1710 N 5th St",
           4,
           122
          ],
          [
           "2004 Chestnut St",
           4.5,
           40
          ],
          [
           "1140 Market St",
           3,
           74
          ],
          [
           "423 W Girard Ave",
           3.5,
           111
          ],
          [
           "6000 Oxford Ave",
           3.5,
           5
          ],
          [
           "1016 Race St",
           4.5,
           50
          ],
          [
           "SE Corner Of 11th St And Walnut St",
           4.5,
           62
          ],
          [
           "939 N Delaware Ave",
           2.5,
           85
          ],
          [
           "1136 Arch St",
           4.5,
           796
          ],
          [
           "3300 Arch St",
           3.5,
           5
          ],
          [
           "2528 W Diamond St",
           3.5,
           23
          ],
          [
           "1835 N 12th St, Ste 99",
           3.5,
           17
          ],
          [
           "435 Spring Garden St",
           4,
           940
          ],
          [
           "5518 N 5th St",
           4,
           7
          ],
          [
           "5401 Tacony St, Bldg 39",
           5,
           25
          ],
          [
           "",
           4,
           13
          ],
          [
           "2955 Market St",
           4,
           34
          ],
          [
           "518-520 South 2nd St",
           4,
           39
          ],
          [
           "20 S 33rd St",
           3.5,
           128
          ],
          [
           "534 S 15th St",
           3.5,
           206
          ],
          [
           "7161 Frankford Ave",
           3.5,
           58
          ],
          [
           "914 N 2nd St",
           4,
           297
          ],
          [
           "1801 Chestnut St",
           3.5,
           1682
          ],
          [
           "9173 Roosevelt Blvd",
           2.5,
           26
          ],
          [
           "8 S Front St",
           4,
           140
          ],
          [
           "3377 Aramingo Ave",
           3.5,
           8
          ],
          [
           "12th St  & Arch St",
           4.5,
           12
          ],
          [
           "1849 Wolf St",
           4,
           64
          ],
          [
           "7401 State Rd",
           5,
           6
          ],
          [
           "4345 Lancaster Ave",
           3,
           40
          ],
          [
           "1435 Arch St",
           3.5,
           32
          ],
          [
           "2812 Cottman Ave",
           1.5,
           20
          ],
          [
           "8500 Henry Ave, Store  29, Andorra Shopping Ctr",
           3,
           45
          ],
          [
           "405 S 45th St",
           4,
           115
          ],
          [
           "6201 N Front St",
           3.5,
           11
          ],
          [
           "1201 Market St",
           3,
           48
          ],
          [
           "2120 S Columbus Blvd",
           2.5,
           155
          ],
          [
           "9201 Roosevelt Blvd",
           2,
           5
          ],
          [
           "917 Race St",
           3.5,
           53
          ],
          [
           "609 Chestnut St",
           3,
           41
          ],
          [
           "723 Walnut St",
           3.5,
           258
          ],
          [
           "3925 Walnut St",
           4,
           61
          ],
          [
           "1938 S Chadwick St",
           5,
           119
          ],
          [
           "401 South St",
           3.5,
           108
          ],
          [
           "2800 W Girard Ave",
           3.5,
           93
          ],
          [
           "8000 Essington Ave, Terminal D- Gate 13, Philadelphia International Airport",
           2,
           244
          ],
          [
           "7131 Germantown Ave",
           4.5,
           136
          ],
          [
           "9362 Old Bustleton Ave",
           2.5,
           90
          ],
          [
           "208 W Washington Square",
           4.5,
           368
          ],
          [
           "120 S 19th St",
           3.5,
           135
          ],
          [
           "4002 W Girard Ave",
           4,
           9
          ],
          [
           "51 N 39th St",
           2.5,
           6
          ],
          [
           "4202 Baltimore Ave",
           3.5,
           54
          ],
          [
           "2817 W Girard Ave",
           4,
           8
          ],
          [
           "1525 S 11th St",
           4,
           152
          ],
          [
           "7153 Germantown Ave",
           2.5,
           69
          ],
          [
           "1625 Sansom St",
           4.5,
           725
          ],
          [
           "3233 Arch St, #3299",
           4,
           40
          ],
          [
           "3541 Aramingo Ave",
           2,
           13
          ],
          [
           "532 N 15th St",
           2.5,
           111
          ],
          [
           "938 Race St",
           3.5,
           160
          ],
          [
           "622 S 6th St",
           4.5,
           448
          ],
          [
           "849 N 25th St",
           4,
           205
          ],
          [
           "110 N 16th St",
           3.5,
           121
          ],
          [
           "33RD And Arch St",
           4.5,
           36
          ],
          [
           "117 S St",
           4,
           309
          ],
          [
           "2025 Benjamin Franklin Pkwy",
           4.5,
           17
          ],
          [
           "1619 Frankford Ave",
           4,
           138
          ],
          [
           "3401 Walnut St",
           3.5,
           13
          ],
          [
           "2000 Fairmount Ave",
           3.5,
           222
          ],
          [
           "6702 Torresdale Ave",
           4.5,
           7
          ],
          [
           "5301 Chew Ave",
           2.5,
           24
          ],
          [
           "3300 Fairmount Ave",
           4,
           12
          ],
          [
           "7913-29 Oxford Ave",
           2.5,
           16
          ],
          [
           "823 Adams Ave",
           4,
           146
          ],
          [
           "161 Cecil B Moore Ave",
           4,
           98
          ],
          [
           "6200 Germantown Ave",
           2.5,
           9
          ],
          [
           "1713 South St",
           4,
           432
          ],
          [
           "5517 Lancaster Ave",
           4,
           28
          ],
          [
           "2400 Castor Ave",
           1.5,
           8
          ],
          [
           "629 South 4th St",
           4,
           18
          ],
          [
           "7129 Frankford Ave",
           3,
           41
          ],
          [
           "6451 Grays Ave",
           4,
           5
          ],
          [
           "901 Market St",
           2,
           6
          ],
          [
           "133 S 18th St",
           4,
           734
          ],
          [
           "1817 Cottman Ave",
           3,
           8
          ],
          [
           "5675 Rising Sun Ave",
           3.5,
           49
          ],
          [
           "3945 Chestnut St",
           4.5,
           6
          ],
          [
           "1600 South St",
           3.5,
           243
          ],
          [
           "930 S 9th St",
           4.5,
           250
          ],
          [
           "944 S 9th St",
           4.5,
           63
          ],
          [
           "13023 Bustleton Ave",
           4.5,
           55
          ],
          [
           "6608 Frankford Ave",
           3.5,
           8
          ],
          [
           "5158 Haverford Ave",
           2,
           33
          ],
          [
           "2940 Fox Street",
           1.5,
           15
          ],
          [
           "443 S St",
           4,
           5
          ],
          [
           "2349 Fairmount Ave",
           3.5,
           248
          ],
          [
           "922 S 9th St",
           4.5,
           8
          ],
          [
           "5305 Rising Sun Ave",
           3.5,
           20
          ],
          [
           "4814 Spruce St",
           3.5,
           10
          ],
          [
           "1401 S 10th St",
           2.5,
           23
          ],
          [
           "1626 S 9th St",
           4.5,
           35
          ],
          [
           "6342 Stenton Ave",
           2,
           5
          ],
          [
           "3619 North Broad St",
           3.5,
           66
          ],
          [
           "1500 Locust St",
           2.5,
           168
          ],
          [
           "616 S 2nd St, Fl 1",
           4.5,
           157
          ],
          [
           "2000 S Bouvier St",
           4.5,
           27
          ],
          [
           "1516 Sansom St",
           4,
           1407
          ],
          [
           "2955 Market St, Ste 103",
           3.5,
           13
          ],
          [
           "935 Washington Ave",
           3.5,
           78
          ],
          [
           "6350 Roosevelt Blvd",
           2.5,
           14
          ],
          [
           "2701 S Marshall St",
           3.5,
           10
          ],
          [
           "2546 E Lehigh Ave",
           4.5,
           109
          ],
          [
           "1535 Cottman Ave",
           3.5,
           13
          ],
          [
           "1101 Market St",
           3,
           11
          ],
          [
           "800 Fitzwater St",
           4,
           16
          ],
          [
           "5020 City Line Ave",
           1.5,
           57
          ],
          [
           "32 S 40th St",
           4.5,
           6
          ],
          [
           "5617 Lancaster Ave",
           4.5,
           22
          ],
          [
           "7140 Ridge Ave",
           3,
           87
          ],
          [
           "15002 Endicott St",
           4.5,
           43
          ],
          [
           "111 S Independence Mall E",
           3.5,
           39
          ],
          [
           "8500 Essington Ave, Level 2, Terminal B, Gate B3",
           3,
           46
          ],
          [
           "501 Adams Ave",
           2,
           7
          ],
          [
           "2600 S 11th St",
           3,
           87
          ],
          [
           "6003 N 5th St",
           3,
           5
          ],
          [
           "6001 Ridge Ave",
           2.5,
           26
          ],
          [
           "W Montgomery Ave",
           4.5,
           13
          ],
          [
           "4430 North Broad St",
           2.5,
           5
          ],
          [
           "7000 Elmwood Ave",
           2.5,
           12
          ],
          [
           "",
           3.5,
           38
          ],
          [
           "1401-1415 W Wyoming Ave",
           1,
           5
          ],
          [
           "3400 Aramingo Ave",
           3,
           8
          ],
          [
           "917 Tyson Ave",
           4.5,
           5
          ],
          [
           "575 Adams Ave",
           3.5,
           259
          ],
          [
           "723 Chestnut St",
           4.5,
           1914
          ],
          [
           "116 N 21st St",
           3.5,
           228
          ],
          [
           "501 Adams Ave",
           1.5,
           8
          ],
          [
           "4602 Woodland Ave",
           3,
           31
          ],
          [
           "1412 S 5th St",
           4.5,
           5
          ],
          [
           "118 S 16th St",
           3.5,
           251
          ],
          [
           "5622 W Girard Ave",
           2.5,
           113
          ],
          [
           "2521 Christian St",
           4,
           162
          ],
          [
           "1847 Christian St",
           3.5,
           69
          ],
          [
           "3222-48 Richmond St At Allegh",
           2,
           14
          ],
          [
           "4201 Chestnut St",
           3.5,
           322
          ],
          [
           "1681 Grant Ave",
           3,
           56
          ],
          [
           "N 33rd St",
           4,
           34
          ],
          [
           "6405 Woodland Ave",
           3.5,
           52
          ],
          [
           "1830 Ludlow St",
           4,
           117
          ],
          [
           "2012 N Broad St",
           4.5,
           72
          ],
          [
           "4443 Spruce St, Fl 1st",
           4.5,
           109
          ],
          [
           "1140 S 9th St",
           4.5,
           593
          ],
          [
           "730 E Chelten Ave",
           2,
           5
          ],
          [
           "1521 Locust St",
           3.5,
           258
          ],
          [
           "1801 Washington Ave, Unit D",
           4.5,
           75
          ],
          [
           "1521 Spring Garden St",
           3.5,
           142
          ],
          [
           "8010 Ogontz Ave",
           4,
           20
          ],
          [
           "8826 Frankford Ave",
           3.5,
           217
          ],
          [
           "2301 Cottman Avenue",
           1.5,
           37
          ],
          [
           "1226 E Hunting Park Ave",
           4,
           41
          ],
          [
           "1636 South St",
           4,
           115
          ],
          [
           "1006 Sandmeyer Ln",
           3.5,
           33
          ],
          [
           "4311 Locust St",
           3,
           122
          ],
          [
           "901 Bridge St",
           3,
           16
          ],
          [
           "647 W Ritner St",
           4,
           8
          ],
          [
           "6539 Roosevelt Blvd",
           3,
           68
          ],
          [
           "7169 Ogontz Ave",
           3.5,
           13
          ],
          [
           "127 N 10th St",
           3.5,
           54
          ],
          [
           "500 Stevens Dr",
           2.5,
           13
          ],
          [
           "1315 Sansom St",
           4,
           565
          ],
          [
           "5353 Woodland Ave",
           4,
           16
          ],
          [
           "1523 S 8th St",
           4.5,
           380
          ],
          [
           "902 Arch St",
           3.5,
           215
          ],
          [
           "31 Snyder Ave",
           3.5,
           27
          ],
          [
           "1361 N 2nd St",
           3.5,
           18
          ],
          [
           "1634 South St",
           3.5,
           328
          ],
          [
           "161 N 21st St",
           4,
           147
          ],
          [
           "511 S 52nd St",
           4.5,
           19
          ],
          [
           "1201 Market St",
           3,
           94
          ],
          [
           "3741 Lancaster Ave",
           3,
           20
          ],
          [
           "2920 Roberts Ave",
           2.5,
           32
          ],
          [
           "1300 W Montgomery Ave",
           5,
           9
          ],
          [
           "5717 Woodland Ave",
           3.5,
           10
          ],
          [
           "",
           4.5,
           87
          ],
          [
           "1700 N Diamond St",
           3,
           39
          ],
          [
           "1716 Cecil B Moore Ave",
           4.5,
           6
          ],
          [
           "274 S 20th St",
           3.5,
           246
          ],
          [
           "1817 Cottman Ave",
           3,
           38
          ],
          [
           "1224 Franklin Mills Cir",
           4.5,
           30
          ],
          [
           "1708 Lombard St",
           4.5,
           57
          ],
          [
           "9377 Krewstown Rd",
           3,
           9
          ],
          [
           "",
           4,
           18
          ],
          [
           "1608 South St",
           4.5,
           408
          ],
          [
           "2301 E Albert St",
           4.5,
           171
          ],
          [
           "4308 Lancaster Ave",
           3.5,
           13
          ],
          [
           "4604 Woodland Ave",
           3,
           81
          ],
          [
           "6108 Germantown Ave",
           4,
           63
          ],
          [
           "200 E Girard Ave",
           4.5,
           140
          ],
          [
           "233 Chestnut St",
           4.5,
           123
          ],
          [
           "1122-1124 S 8th St",
           3,
           6
          ],
          [
           "1425 Frankford Ave",
           4.5,
           10
          ],
          [
           "1320 Chancellor St",
           4,
           215
          ],
          [
           "3382 Frankford Ave",
           4,
           17
          ],
          [
           "4221 Benner St",
           3,
           8
          ],
          [
           "1907 Chestnut St",
           3.5,
           825
          ],
          [
           "1822 Spring Garden St",
           4,
           189
          ],
          [
           "35 Bethlehem Pike, Ste 109A",
           3.5,
           173
          ],
          [
           "305 S St",
           4,
           657
          ],
          [
           "4323 Lancaster Ave",
           2.5,
           10
          ],
          [
           "5600 Spruce St",
           4,
           13
          ],
          [
           "243 S 10th St",
           4,
           72
          ],
          [
           "500 S 20th St",
           4,
           161
          ],
          [
           "1242 Snyder Ave",
           3.5,
           138
          ],
          [
           "3901 Walnut St",
           4,
           21
          ],
          [
           "6154 Lancaster Ave",
           3.5,
           14
          ],
          [
           "111 S 13th St",
           3.5,
           193
          ],
          [
           "1500 Locust St",
           3.5,
           454
          ],
          [
           "125 Leverington Ave",
           4,
           41
          ],
          [
           "1514 S 8th St",
           4.5,
           66
          ],
          [
           "2418 Rhawn St",
           3.5,
           64
          ],
          [
           "1927 E Passyunk Ave",
           4,
           389
          ],
          [
           "36th St",
           4.5,
           10
          ],
          [
           "2614 E Lehigh Ave",
           4.5,
           171
          ],
          [
           "1619 Grant Ave, Ste 39",
           3.5,
           68
          ],
          [
           "501 S 42nd St",
           4,
           241
          ],
          [
           "1113 Market St",
           3,
           382
          ],
          [
           "6800 Rising Sun Ave",
           3.5,
           18
          ],
          [
           "4000 Chestnut St",
           3.5,
           48
          ],
          [
           "3322 N 13th St",
           3,
           20
          ],
          [
           "3156 Willits Rd",
           3.5,
           16
          ],
          [
           "36th & Spruce St",
           4.5,
           43
          ],
          [
           "310 S 48th St",
           4,
           93
          ],
          [
           "1100 Tasker St",
           4.5,
           34
          ],
          [
           "105 S 12th St",
           4.5,
           177
          ],
          [
           "1920 S Christopher Columbus Blvd",
           4.5,
           15
          ],
          [
           "3653 Germantown Ave",
           4,
           679
          ],
          [
           "222 N 20th St",
           5,
           5
          ],
          [
           "7000 Chester Ave",
           1.5,
           8
          ],
          [
           "7315 Oxford Ave",
           3.5,
           6
          ],
          [
           "1551 W Passyunk Ave",
           4.5,
           32
          ],
          [
           "51 N 12th St",
           4.5,
           118
          ],
          [
           "104 S 18th St",
           4,
           79
          ],
          [
           "310 W Master St",
           4.5,
           23
          ],
          [
           "1101 Chestnut St",
           2.5,
           42
          ],
          [
           "6515 Elmwood Ave",
           4,
           7
          ],
          [
           "4421 Main St",
           4.5,
           579
          ],
          [
           "504 Bainbridge St",
           4,
           17
          ],
          [
           "4001 Cresson St",
           4,
           53
          ],
          [
           "1720 Fairmount Ave",
           4.5,
           387
          ],
          [
           "764 S 9th St",
           4.5,
           272
          ],
          [
           "105 E Allegheny Ave",
           4,
           12
          ],
          [
           "1540 W Ritner St",
           4.5,
           107
          ],
          [
           "2327 S 12th St",
           4.5,
           23
          ],
          [
           "2035 N 63rd St",
           3,
           24
          ],
          [
           "8500 Essington Ave",
           2.5,
           20
          ],
          [
           "210 W Rittenhouse Sq",
           4,
           125
          ],
          [
           "1826 S St",
           4,
           153
          ],
          [
           "1713 Chestnut St",
           4,
           106
          ],
          [
           "1338 S 10th St",
           4,
           216
          ],
          [
           "842 Red Lion Rd, Ste 19",
           3.5,
           7
          ],
          [
           "10600 Roosevelt Blvd",
           4,
           88
          ],
          [
           "1016 Race St, Fl 2",
           4,
           214
          ],
          [
           "1318 S St",
           4,
           17
          ],
          [
           "115 W Girard Ave",
           4.5,
           19
          ],
          [
           "2401 Pennsylvania Ave",
           4,
           147
          ],
          [
           "48 N 12th St",
           3,
           139
          ],
          [
           "7512 Bustleton Ave",
           2.5,
           7
          ],
          [
           "8000 Essington Ave",
           2.5,
           28
          ],
          [
           "4315 N 3rd St",
           5,
           6
          ],
          [
           "1227 Walnut St",
           4.5,
           222
          ],
          [
           "1033 N 2nd St",
           3,
           33
          ],
          [
           "701 S 50th St",
           4,
           549
          ],
          [
           "2031 Sansom St",
           3.5,
           352
          ],
          [
           "658 E Godfrey Ave",
           3.5,
           59
          ],
          [
           "13314 Philmont Ave",
           4,
           28
          ],
          [
           "5640 N 5th St",
           2,
           23
          ],
          [
           "7221 Torresdale Ave",
           2,
           6
          ],
          [
           "1330 Walnut St",
           3.5,
           5
          ],
          [
           "1308 Frankford Ave",
           4,
           271
          ],
          [
           "17 N 3rd St",
           4.5,
           19
          ],
          [
           "901 Market St",
           3.5,
           7
          ],
          [
           "1575 N 52nd St",
           3.5,
           6
          ],
          [
           "758 S 9th St",
           4.5,
           120
          ],
          [
           "4013 Walnut St",
           3.5,
           137
          ],
          [
           "1836 Callowhill St",
           3.5,
           439
          ],
          [
           "9045 Ashton Rd",
           3.5,
           54
          ],
          [
           "4820 Spruce St",
           3,
           50
          ],
          [
           "3333 Market St",
           3,
           394
          ],
          [
           "795 N 24th St",
           3,
           25
          ],
          [
           "1536 E Passyunk Ave",
           3.5,
           358
          ],
          [
           "5946 Germantown Ave",
           2.5,
           11
          ],
          [
           "2955 Market St",
           3.5,
           65
          ],
          [
           "51 N 12th St",
           4.5,
           22
          ],
          [
           "2550 Grant Ave",
           2.5,
           92
          ],
          [
           "101 N 33rd St",
           5,
           6
          ],
          [
           "1122 S 9th St",
           2.5,
           54
          ],
          [
           "1029 Germantown Ave",
           3,
           9
          ],
          [
           "7518 Frankford Ave",
           3.5,
           35
          ],
          [
           "306 Market St",
           4,
           640
          ],
          [
           "183 W Duncannon",
           4.5,
           13
          ],
          [
           "1415 W Porter St",
           4.5,
           386
          ],
          [
           "6234 Bustleton Ave",
           3,
           5
          ],
          [
           "106 S 16th St",
           3,
           13
          ],
          [
           "1000 Race St",
           4,
           202
          ],
          [
           "6038 Castor Ave",
           3.5,
           14
          ],
          [
           "1600 N Broad St, Unit 4",
           3,
           43
          ],
          [
           "2101 Reed St",
           5,
           6
          ],
          [
           "1821 Chestnut St",
           4,
           213
          ],
          [
           "207 Chestnut St",
           3.5,
           556
          ],
          [
           "1100 W Montgomery Ave, Ste A",
           2,
           56
          ],
          [
           "413 S St",
           4.5,
           15
          ],
          [
           "1601 Cecil B Moore St",
           4.5,
           30
          ],
          [
           "111 S 17th St",
           3.5,
           12
          ],
          [
           "124 S 18th St",
           4,
           2497
          ],
          [
           "23 S 19th St",
           4,
           7
          ],
          [
           "4945 Frankford Ave",
           4,
           13
          ],
          [
           "1930 Chestnut St",
           4,
           9
          ],
          [
           "746 S 6th St",
           4.5,
           529
          ],
          [
           "1608 S Christopher Columbus Blvd",
           4.5,
           252
          ],
          [
           "161 W Girard Ave",
           5,
           10
          ],
          [
           "7960 Dungan Rd",
           3.5,
           23
          ],
          [
           "9220 Frankford Ave",
           2.5,
           9
          ],
          [
           "1100 Pattison Ave",
           3,
           60
          ],
          [
           "9227 Frankford Ave",
           3,
           17
          ],
          [
           "5826 Henry Ave",
           4,
           394
          ],
          [
           "728 S 7th St",
           4,
           240
          ],
          [
           "4245 Main St",
           3,
           178
          ],
          [
           "1127 Pine St",
           3.5,
           315
          ],
          [
           "52 N 10th St",
           4,
           147
          ],
          [
           "3128 Belgrade St",
           3,
           20
          ],
          [
           "2034 Chestnut St",
           4,
           682
          ],
          [
           "4167 Germantown Ave",
           3.5,
           75
          ],
          [
           "1832 Frankford Ave",
           4,
           18
          ],
          [
           "313 Spring Garden St",
           3,
           21
          ],
          [
           "124 S 13th St",
           4,
           2000
          ],
          [
           "6417 Harbison Ave",
           2,
           14
          ],
          [
           "2126 E Chelten Ave",
           4,
           32
          ],
          [
           "1809 John F Kennedy Blvd",
           3.5,
           8
          ],
          [
           "2743 S Front St",
           2.5,
           12
          ],
          [
           "2417 Welsh Rd",
           4.5,
           34
          ],
          [
           "207 S 16th St",
           4.5,
           279
          ],
          [
           "918 S 22nd St",
           4,
           190
          ],
          [
           "Philadelphia International Airport",
           3,
           41
          ],
          [
           "210 W Washington Sq",
           4.5,
           1927
          ],
          [
           "602 Carpenter Ln",
           4,
           117
          ],
          [
           "1687 Grant Ave",
           4.5,
           17
          ],
          [
           "1414 Frankford Ave",
           4,
           82
          ],
          [
           "100 N 3rd St",
           3,
           196
          ],
          [
           "111 S Independence Mall E",
           3,
           9
          ],
          [
           "8500 Essington Ave, Terminal B , Upper Level",
           2.5,
           11
          ],
          [
           "6447 Frankford Ave",
           4,
           14
          ],
          [
           "2621 E Ontario St",
           4,
           21
          ],
          [
           "3901 Aramingo Ave",
           2.5,
           10
          ],
          [
           "205 Race St",
           4.5,
           135
          ],
          [
           "2005 Market St",
           2,
           32
          ],
          [
           "6935 Castor Ave",
           3,
           6
          ],
          [
           "1703 S 11th St",
           4.5,
           244
          ],
          [
           "315 N 12th St",
           4.5,
           55
          ],
          [
           "1840 E Passyunk Ave",
           4.5,
           51
          ],
          [
           "9979 Bustleton Ave",
           3.5,
           12
          ],
          [
           "908 Washington Ave",
           4,
           472
          ],
          [
           "2491 Grant Ave",
           3.5,
           352
          ],
          [
           "5917 N Broad St",
           3,
           59
          ],
          [
           "915 Race St",
           4,
           210
          ],
          [
           "1216 Chestnut St",
           2,
           17
          ],
          [
           "1515 Chestnut Street",
           2,
           54
          ],
          [
           "269 S 20th St",
           4.5,
           346
          ],
          [
           "1114 Frankford Ave",
           3.5,
           506
          ],
          [
           "2650 S 15th St",
           4,
           22
          ],
          [
           "2829 W Girard Ave",
           4.5,
           91
          ],
          [
           "421 S 2nd St",
           3.5,
           108
          ],
          [
           "509 South St",
           4,
           221
          ],
          [
           "431 S St",
           2.5,
           196
          ],
          [
           "9TH And Catherine",
           2,
           8
          ],
          [
           "10090 Roosevelt Blvd",
           4,
           5
          ],
          [
           "5109 Rochelle Ave",
           4.5,
           9
          ],
          [
           "276 S 20th St",
           4,
           16
          ],
          [
           "943 S 9th St",
           4.5,
           90
          ],
          [
           "235 S 15th St",
           4.5,
           243
          ],
          [
           "2331 E Cumberland St",
           4,
           675
          ],
          [
           "1740 S 11th St",
           4.5,
           50
          ],
          [
           "1939 S Bancroft St",
           4,
           103
          ],
          [
           "6625 Castor Ave",
           3.5,
           7
          ],
          [
           "1001 N Delaware Ave",
           3,
           38
          ],
          [
           "2545 Brown St",
           4,
           145
          ],
          [
           "2400 Lombard St",
           4.5,
           143
          ],
          [
           "1107 Walnut St",
           3,
           11
          ],
          [
           "577 Jamestown Ave",
           4.5,
           78
          ],
          [
           "8340 Bustleton Ave",
           3.5,
           28
          ],
          [
           "2805 N 22nd St",
           3.5,
           13
          ],
          [
           "3032 N Broad St",
           2,
           5
          ],
          [
           "8500 Essington Ave, Space C-9a, Philadelphia Int'l Airport  DE-6",
           3,
           39
          ],
          [
           "50 N Independence Mall E",
           4,
           8
          ],
          [
           "1511 Cecil B Moore Ave",
           2.5,
           5
          ],
          [
           "7311 Frankford Ave",
           4,
           81
          ],
          [
           "12601 Knights Rd",
           4,
           5
          ],
          [
           "355 Lyceum Ave",
           4,
           38
          ],
          [
           "2900 Island Ave, Ste 2922",
           2,
           12
          ],
          [
           "3551 Aramingo Ave",
           2,
           23
          ],
          [
           "4263 Frankford Ave",
           3,
           10
          ],
          [
           "843 S 2nd St",
           3,
           40
          ],
          [
           "5000 S Broad St",
           4,
           15
          ],
          [
           "6228 Bustleton Ave",
           3,
           11
          ],
          [
           "4301 N 5th St",
           3.5,
           10
          ],
          [
           "101 E Rockland St",
           3.5,
           13
          ],
          [
           "1701 Spruce St",
           3,
           379
          ],
          [
           "1731 Cecil B Moore Ave",
           3.5,
           26
          ],
          [
           "1500 John F Kennedy Blvd",
           3,
           6
          ],
          [
           "129 S 13th St",
           4,
           406
          ],
          [
           "209 Green Ln",
           4,
           58
          ],
          [
           "324 W Chelten Ave",
           2.5,
           20
          ],
          [
           "1026 Race St",
           4.5,
           21
          ],
          [
           "1122 Washington Ave",
           4.5,
           529
          ],
          [
           "8500 Essington Ave, Ste FH-7",
           2.5,
           97
          ],
          [
           "7500 City Ave",
           2,
           29
          ],
          [
           "1625 Chestnut St, Ste F8",
           3.5,
           64
          ],
          [
           "7860 Oxford Ave",
           3.5,
           21
          ],
          [
           "7630 Germantown Ave",
           3.5,
           64
          ],
          [
           "113 Chestnut St",
           4,
           140
          ],
          [
           "1823 E Passyunk Ave",
           3.5,
           278
          ],
          [
           "4438 Chestnut St",
           2,
           49
          ],
          [
           "399 Franklin Mills Blvd",
           2.5,
           10
          ],
          [
           "7700 Crittenden St",
           3,
           58
          ],
          [
           "228 Race St",
           3.5,
           117
          ],
          [
           "335 E Girard Ave",
           4,
           51
          ],
          [
           "1019 Spring Garden St",
           4,
           61
          ],
          [
           "9965 Bustleton Ave",
           4.5,
           113
          ],
          [
           "2501 Meredith St",
           4,
           300
          ],
          [
           "1739 W Ritner St",
           5,
           20
          ],
          [
           "2532 E Lehigh Ave",
           4.5,
           26
          ],
          [
           "114 Chestnut St",
           4,
           453
          ],
          [
           "400 Fairmount Ave",
           4.5,
           44
          ],
          [
           "6339 Germantown Ave",
           2,
           8
          ],
          [
           "1016 N Marshall St",
           4,
           146
          ],
          [
           "2341 S 4th St",
           5,
           23
          ],
          [
           "801 N 3rd St",
           4,
           677
          ],
          [
           "330 W Oregon Ave",
           2.5,
           14
          ],
          [
           "11036 Rennard St",
           3.5,
           33
          ],
          [
           "3406 Sansom St",
           4.5,
           55
          ],
          [
           "7182 Ogontz Ave",
           3,
           20
          ],
          [
           "2031 Walnut St",
           4.5,
           997
          ],
          [
           "2422 Rhawn St",
           3.5,
           18
          ],
          [
           "",
           5,
           15
          ],
          [
           "3501 Aramingo Ave",
           1,
           11
          ],
          [
           "8419 Torresdale Ave",
           3.5,
           73
          ],
          [
           "132 South 17th St",
           4.5,
           24
          ],
          [
           "9200 Frankford Ave",
           2.5,
           7
          ],
          [
           "1177 S 9th St",
           2.5,
           156
          ],
          [
           "237 S Broad St",
           2.5,
           12
          ],
          [
           "5411 Woodland Ave",
           3,
           12
          ],
          [
           "51 N 12th St",
           4,
           356
          ],
          [
           "8126 Germantown Ave",
           4,
           296
          ],
          [
           "3133 Gaul St",
           4.5,
           127
          ],
          [
           "1824 S St",
           4.5,
           251
          ],
          [
           "2636 E Ann St",
           4.5,
           114
          ],
          [
           "2130 Fairmount Ave",
           3.5,
           569
          ],
          [
           "927 Arch St",
           4,
           8
          ],
          [
           "4907 Catharine St",
           4.5,
           150
          ],
          [
           "9245 Frankford Ave",
           3.5,
           15
          ],
          [
           "1528 Sansom St",
           3,
           317
          ],
          [
           "643 N 36th St",
           4,
           5
          ],
          [
           "1401 S 12th St",
           4,
           209
          ],
          [
           "1642 Fairmount Ave",
           4,
           114
          ],
          [
           "6001 Lancaster Ave, Ste A",
           1.5,
           27
          ],
          [
           "1701 Arch St",
           4,
           272
          ],
          [
           "901 S 10th St",
           3.5,
           469
          ],
          [
           "827 Adams Ave",
           4,
           128
          ],
          [
           "209 S 13th St",
           3.5,
           123
          ],
          [
           "1520 E Passyunk Ave",
           4.5,
           35
          ],
          [
           "6222 Bustleton Ave",
           3.5,
           146
          ],
          [
           "5301 Woodland Ave",
           3.5,
           12
          ],
          [
           "937 Race St",
           4,
           49
          ],
          [
           "6400 Rising Sun Ave",
           3,
           52
          ],
          [
           "1025 Arch St",
           3.5,
           48
          ],
          [
           "5427 Oxford Avenue",
           2,
           6
          ],
          [
           "111 S Independence Mall E",
           3.5,
           23
          ],
          [
           "14 N Front St",
           4,
           324
          ],
          [
           "4111 Main St",
           2.5,
           64
          ],
          [
           "2101 Chestnut St",
           3,
           29
          ],
          [
           "10849 Bustleton Ave",
           4,
           8
          ],
          [
           "7105 Frankford Ave",
           3,
           17
          ],
          [
           "1245 3rd St",
           4.5,
           137
          ],
          [
           "331 Spring Garden St",
           2.5,
           37
          ],
          [
           "238 N 9th St",
           4,
           926
          ],
          [
           "3601 Market St",
           4.5,
           48
          ],
          [
           "100 Morris St",
           4.5,
           53
          ],
          [
           "428 N 13th St",
           4,
           1189
          ],
          [
           "3000 Island Ave",
           3.5,
           7
          ],
          [
           "4509 Island Ave",
           2.5,
           29
          ],
          [
           "2101 Sansom St",
           4,
           642
          ],
          [
           "50 N 10th St",
           3,
           100
          ],
          [
           "5343 Chester Ave",
           4,
           35
          ],
          [
           "2102 Bridge St",
           3.5,
           8
          ],
          [
           "4501 Frankford Ave",
           3.5,
           11
          ],
          [
           "800 Mifflin St",
           4,
           251
          ],
          [
           "1400 John F Kennedy Blvd",
           3,
           10
          ],
          [
           "901 S 8th St",
           3.5,
           354
          ],
          [
           "5818 Woodland Ave",
           2.5,
           8
          ],
          [
           "311 W Mt Pleasant Ave",
           4.5,
           43
          ],
          [
           "1234 Locust St",
           4,
           1303
          ],
          [
           "5750 Baltimore Ave",
           3,
           37
          ],
          [
           "4834 Lancaster Ave",
           2.5,
           25
          ],
          [
           "2550 Grant Ave, Ste 350",
           3.5,
           164
          ],
          [
           "21 North Juniper St",
           4,
           15
          ],
          [
           "51 N 12th St",
           4,
           155
          ],
          [
           "37th And Spruce St",
           3,
           19
          ],
          [
           "6516 Castor Ave",
           2.5,
           18
          ],
          [
           "600 Washington Ave",
           4,
           485
          ],
          [
           "9829 Bustleton Ave",
           4,
           26
          ],
          [
           "2125 W Oregon Ave",
           3,
           16
          ],
          [
           "3717 Chestnut St",
           4,
           138
          ],
          [
           "1726 Chestnut St",
           4,
           31
          ],
          [
           "204 S 17th St",
           3.5,
           432
          ],
          [
           "1428-1432 Chestnut St",
           4,
           1129
          ],
          [
           "150 N 10th St",
           4,
           401
          ],
          [
           "3100 W Allegheny Ave",
           1.5,
           25
          ],
          [
           "1016 Race St",
           3.5,
           34
          ],
          [
           "1651 E Passyunk Ave",
           3.5,
           874
          ],
          [
           "1212 S Broad St",
           4,
           61
          ],
          [
           "1500 John F Kennedy Blvd",
           3,
           8
          ],
          [
           "4120 Main St",
           4.5,
           82
          ],
          [
           "5809 Rising Sun Ave",
           2,
           10
          ],
          [
           "2200 Benjamin Franklin Pkwy, E Tower",
           4,
           76
          ],
          [
           "5308 Rising Sun Ave",
           2.5,
           16
          ],
          [
           "225 S 45th St",
           4.5,
           105
          ],
          [
           "7594 Haverford Ave",
           3.5,
           13
          ],
          [
           "35 S 13th St",
           3.5,
           33
          ],
          [
           "2700 S 16th St",
           3,
           40
          ],
          [
           "4500 Walnut St",
           4.5,
           702
          ],
          [
           "5 N Christopher Columbus Blvd",
           4,
           34
          ],
          [
           "901 E Cayuga St",
           3.5,
           8
          ],
          [
           "614 S 7th St",
           4,
           5
          ],
          [
           "5349 Oxford Ave",
           4.5,
           30
          ],
          [
           "134 N 10th St",
           3.5,
           279
          ],
          [
           "2011 Reed St",
           4.5,
           85
          ],
          [
           "1007 Frankford Ave",
           5,
           38
          ],
          [
           "212 S 11th St",
           4.5,
           173
          ],
          [
           "4044 Woodhaven Rd",
           4,
           30
          ],
          [
           "847 N 3rd St",
           4,
           96
          ],
          [
           "128 N Broad St",
           3.5,
           19
          ],
          [
           "14100 Bustleton Ave",
           4,
           224
          ],
          [
           "3342 Market St",
           4.5,
           70
          ],
          [
           "125 S 40th St",
           4,
           147
          ],
          [
           "5037 Baltimore Ave",
           3.5,
           57
          ],
          [
           "1700 S Christopher Columbus Blvd",
           3.5,
           52
          ],
          [
           "6147 Ridge Ave",
           4.5,
           53
          ],
          [
           "51 N 12th St",
           4.5,
           23
          ],
          [
           "4425 Main St",
           4,
           203
          ],
          [
           "310 S 48th St",
           4.5,
           275
          ],
          [
           "1916 Welsh Rd",
           4.5,
           99
          ],
          [
           "6800 Ridge Ave",
           3.5,
           15
          ],
          [
           "4912 N 5th St",
           3.5,
           84
          ],
          [
           "300 W Mt Pleasant Ave",
           4.5,
           51
          ],
          [
           "6613 Ridge Ave",
           3,
           40
          ],
          [
           "1508 South St",
           4.5,
           18
          ],
          [
           "121 N Columbus Blvd",
           4.5,
           7
          ],
          [
           "1839 Poplar St",
           4,
           13
          ],
          [
           "",
           4.5,
           173
          ],
          [
           "117 South 16th Street",
           2.5,
           19
          ],
          [
           "6193 Ridge Ave",
           5,
           14
          ],
          [
           "1225 Walnut St",
           3.5,
           432
          ],
          [
           "232 N 10th St",
           4,
           22
          ],
          [
           "4633 Princeton Ave",
           4.5,
           62
          ],
          [
           "9226 Ashton Rd",
           3.5,
           5
          ],
          [
           "1949 N Front St",
           4,
           21
          ],
          [
           "1356 South St",
           3,
           40
          ],
          [
           "34 W Girard Ave",
           4,
           5
          ],
          [
           "2929 Walnut St",
           3.5,
           253
          ],
          [
           "7241 Rising Sun Ave",
           3,
           58
          ],
          [
           "3400 Lancaster Ave",
           4,
           126
          ],
          [
           "3332 Grant Ave",
           3,
           5
          ],
          [
           "2417 Welsh Rd, Ste 12",
           3,
           34
          ],
          [
           "4234 Germantown Ave",
           3.5,
           12
          ],
          [
           "1725 Wolf St",
           4,
           49
          ],
          [
           "4813-23 Lancaster Avenue",
           2,
           13
          ],
          [
           "1820 W Moyamensing Ave",
           4,
           83
          ],
          [
           "1635 Market St, Ste 103",
           4.5,
           118
          ],
          [
           "4301 Main St",
           4,
           49
          ],
          [
           "5018 N 5th St",
           3.5,
           9
          ],
          [
           "3653 Germantown Ave",
           4.5,
           6
          ],
          [
           "2619 E Westmoreland St",
           4,
           90
          ],
          [
           "105 S 22nd St",
           4,
           303
          ],
          [
           "3025 Walnut St",
           4,
           350
          ],
          [
           "801 Arch St",
           2,
           9
          ],
          [
           "4401 Lancaster Ave",
           4,
           11
          ],
          [
           "3732 Midvale Ave",
           2.5,
           82
          ],
          [
           "1913 Welsh Rd",
           3.5,
           89
          ],
          [
           "1022 Race St",
           4,
           2188
          ],
          [
           "8500 Essington Ave",
           3.5,
           6
          ],
          [
           "2920 Robert's Ave, Ste 1040",
           2,
           7
          ],
          [
           "7337 Elmwood Ave",
           4,
           46
          ],
          [
           "3400 Market St",
           4.5,
           8
          ],
          [
           "1709 Chestnut St",
           3.5,
           64
          ],
          [
           "1900 S 9th St",
           3.5,
           12
          ],
          [
           "1466 E Cheltenham Ave",
           4.5,
           26
          ],
          [
           "1800 Market St",
           3.5,
           184
          ],
          [
           "6230 Bustleton Ave",
           2,
           17
          ],
          [
           "1211 E Passyunck St",
           3,
           5
          ],
          [
           "3400 S Lawrence St",
           4,
           17
          ],
          [
           "301 Spring Garden St",
           5,
           53
          ],
          [
           "9865 Bustleton Ave, Ste A",
           3,
           64
          ],
          [
           "51 N 12th St",
           4,
           11
          ],
          [
           "1138 S 13th St",
           4,
           445
          ],
          [
           "1727 N Front St",
           4,
           283
          ],
          [
           "2440 Grant Ave",
           2,
           46
          ],
          [
           "2601 S Broad St",
           3.5,
           64
          ],
          [
           "1521 Cecil B Moore Ave",
           3,
           31
          ],
          [
           "2043 Chestnut St",
           4,
           154
          ],
          [
           "13th & Chestnut St",
           4,
           6
          ],
          [
           "8500 Essington Ave",
           3,
           79
          ],
          [
           "1136 Arch St",
           4,
           339
          ],
          [
           "5202 Lancaster Ave",
           1.5,
           17
          ],
          [
           "1501 S 8th St",
           4,
           391
          ],
          [
           "7142 Frankford Ave",
           5,
           11
          ],
          [
           "120 S 13th St",
           4.5,
           1140
          ],
          [
           "11749 Bustleton Ave",
           4.5,
           24
          ],
          [
           "3400 Civic Center Blvd",
           2.5,
           28
          ],
          [
           "5601 W Girard Ave",
           2.5,
           19
          ],
          [
           "7200 Bustleton Ave",
           4,
           488
          ],
          [
           "1701 Welsh Rd, Ste 3",
           3.5,
           8
          ],
          [
           "111 S Independence Mall E",
           3,
           21
          ],
          [
           "8000 Essington Ave, Terminal C, Philadelphia Airport",
           2.5,
           9
          ],
          [
           "3730 Walnut St",
           3,
           8
          ],
          [
           "105 S 2nd St",
           3,
           31
          ],
          [
           "5701 Delancey St",
           3.5,
           8
          ],
          [
           "1525 South St",
           4,
           166
          ],
          [
           "8339 Germantown Ave",
           2.5,
           74
          ],
          [
           "4213 Ridge Ave",
           4,
           150
          ],
          [
           "3929 Sansom St",
           3.5,
           7
          ],
          [
           "2251 S Front St",
           4.5,
           13
          ],
          [
           "2652 E Somerset St",
           4.5,
           292
          ],
          [
           "201 N 63rd St",
           2,
           16
          ],
          [
           "401 Chestnut St",
           3.5,
           24
          ],
          [
           "2051 Cottman Ave",
           4.5,
           9
          ],
          [
           "5504 Chester Ave",
           3,
           5
          ],
          [
           "2201 Penrose Ave",
           3.5,
           12
          ],
          [
           "3589 Richmond St",
           3.5,
           22
          ],
          [
           "8033 Bustleton Ave",
           3.5,
           8
          ],
          [
           "200 South St",
           4,
           18
          ],
          [
           "2731 E Allegheny Ave",
           3,
           8
          ],
          [
           "2084 E Allegheny Ave",
           5,
           9
          ],
          [
           "517 S St",
           3.5,
           191
          ],
          [
           "6620 Castor Ave",
           2.5,
           30
          ],
          [
           "100 Snyder Ave",
           3,
           87
          ],
          [
           "2703 E Clearfield St",
           4.5,
           18
          ],
          [
           "2955 Market St",
           3.5,
           5
          ],
          [
           "4050 Woodhaven Rd",
           3.5,
           136
          ],
          [
           "3977 Ford Rd",
           3,
           42
          ],
          [
           "401 Chestnut St",
           3.5,
           6
          ],
          [
           "900 Packer Ave, Live! Casino Hotel",
           3.5,
           5
          ],
          [
           "37TH St And Spruce St",
           3.5,
           19
          ],
          [
           "114 Market St",
           4,
           72
          ],
          [
           "124-126 Lombard St",
           3.5,
           21
          ],
          [
           "1401 Reed St",
           4.5,
           77
          ],
          [
           "1722 W Oregon Ave",
           4,
           28
          ],
          [
           "126 S 16th St",
           4,
           860
          ],
          [
           "4821 Woodland Ave",
           4,
           69
          ],
          [
           "One Arrivals Rd",
           2.5,
           46
          ],
          [
           "101 N 11th St",
           4,
           69
          ],
          [
           "1030 N American St",
           4,
           235
          ],
          [
           "6738 Bustleton Ave",
           4,
           206
          ],
          [
           "4417 Main St",
           2.5,
           16
          ],
          [
           "2120 Fairmount Ave",
           3,
           320
          ],
          [
           "1835 Arch St",
           3,
           6
          ],
          [
           "9495 Roosevelt Blvd",
           3,
           237
          ],
          [
           "1710 E Passyunk Ave",
           4,
           6
          ],
          [
           "275 W Mt Pleasant Ave",
           3.5,
           46
          ],
          [
           "941 Race St",
           4,
           43
          ],
          [
           "618 S 52nd St",
           3.5,
           7
          ],
          [
           "2934 Island Ave",
           2,
           19
          ],
          [
           "111 S Independence Mall E",
           4,
           57
          ],
          [
           "2842 St Vincent Street",
           4,
           132
          ],
          [
           "38 S 19th St",
           4.5,
           138
          ],
          [
           "5178 Parkside Ave",
           2.5,
           33
          ],
          [
           "6300 Frankford Ave",
           3.5,
           5
          ],
          [
           "2370 E Norris St",
           4,
           313
          ],
          [
           "8201 Germantown Ave",
           3,
           394
          ],
          [
           "2900 Levick St",
           3,
           24
          ],
          [
           "263 S 10th St",
           4.5,
           56
          ],
          [
           "5608 N Broad St",
           2,
           30
          ],
          [
           "1440 Callowhill St",
           3.5,
           88
          ],
          [
           "1040 N American St, Ste 601",
           4.5,
           310
          ],
          [
           "3333 Conrad St",
           4.5,
           159
          ],
          [
           "1136 Arch St",
           4,
           2221
          ],
          [
           "3956 N 5th St",
           3,
           8
          ],
          [
           "3233 Powelton Ave",
           4,
           69
          ],
          [
           "5597 Tulip St",
           3.5,
           7
          ],
          [
           "7517 Torresdale Ave",
           4,
           6
          ],
          [
           "5534 Wayne Avenue",
           1.5,
           18
          ],
          [
           "1532 Sansom St",
           4,
           117
          ],
          [
           "717 N 2nd St",
           4.5,
           87
          ],
          [
           "236 South St",
           3.5,
           278
          ],
          [
           "1858 E Allegheny Ave",
           2,
           12
          ],
          [
           "7105 Emlen St",
           3,
           176
          ],
          [
           "1910 W Cheltenham Ave",
           2.5,
           24
          ],
          [
           "2655 S 2nd St",
           4,
           9
          ],
          [
           "2403 E Somerset St",
           4,
           51
          ],
          [
           "540 South St",
           4,
           104
          ],
          [
           "2147 S 16th St",
           3.5,
           6
          ],
          [
           "2100 W Oregon Ave",
           5,
           5
          ],
          [
           "743 S 4th St",
           4.5,
           30
          ],
          [
           "3655 Aramingo Ave",
           3,
           11
          ],
          [
           "1237 E Passyunk Ave",
           3,
           4250
          ],
          [
           "1501 N Broad St",
           2.5,
           71
          ],
          [
           "5741 Woodland Ave",
           4,
           12
          ],
          [
           "4460 Whitaker Ave",
           4,
           33
          ],
          [
           "613 E Passyunk Ave",
           4,
           260
          ],
          [
           "1016 Race St",
           4.5,
           76
          ],
          [
           "1104 S 9th St",
           4.5,
           12
          ],
          [
           "1512 Walnut St",
           3.5,
           115
          ],
          [
           "171 W Chelton Ave",
           1,
           10
          ],
          [
           "5811 N Broad St",
           2.5,
           9
          ],
          [
           "1422 Dickinson St",
           3.5,
           35
          ],
          [
           "1800 N Broad St",
           2,
           25
          ],
          [
           "211 N 11th St",
           3.5,
           748
          ],
          [
           "118 Chestnut St",
           3.5,
           241
          ],
          [
           "325 N 12th St",
           4,
           139
          ],
          [
           "746 Snyder Ave",
           5,
           48
          ],
          [
           "468 W Cheltenham Ave",
           4,
           800
          ],
          [
           "4222 Manayunk Ave",
           4,
           56
          ],
          [
           "140 W Wyoming Ave",
           4,
           10
          ],
          [
           "3438-48 Lancaster Ave",
           3.5,
           88
          ],
          [
           "7415 Stenton Ave",
           2,
           9
          ],
          [
           "1839 S 8th St",
           4,
           41
          ],
          [
           "8445 Frankford Ave",
           3.5,
           153
          ],
          [
           "5002 Umbria St",
           4.5,
           51
          ],
          [
           "7220 Germantown Ave",
           3.5,
           95
          ],
          [
           "2852 Saint Vincent St",
           4.5,
           130
          ],
          [
           "11000 Roosevelt Blvd",
           4,
           242
          ],
          [
           "1201 S 28th St",
           3.5,
           5
          ],
          [
           "915 Arch St",
           4,
           407
          ],
          [
           "3813 Chestnut St",
           3.5,
           223
          ],
          [
           "6234 Woodland Ave",
           2,
           8
          ],
          [
           "2900 Grays Ferry Ave",
           4.5,
           15
          ],
          [
           "111 Cotton St",
           3,
           75
          ],
          [
           "1800 N American St",
           4,
           26
          ],
          [
           "233 S 20th St",
           4.5,
           101
          ],
          [
           "264 S 19th St",
           3.5,
           18
          ],
          [
           "1405 Locust St",
           4,
           761
          ],
          [
           "7630 Castor Ave",
           3.5,
           35
          ],
          [
           "1620 South St",
           4.5,
           514
          ],
          [
           "2600 Benjamin Franklin Pkwy",
           4.5,
           23
          ],
          [
           "108 S 18th St",
           4,
           1304
          ],
          [
           "333 Spring Garden St",
           4,
           16
          ],
          [
           "6 N 3rd St",
           4.5,
           7
          ],
          [
           "1851 S Columbus Blvd, Ste 3",
           1,
           8
          ],
          [
           "10740 Roosevelt Blvd",
           3,
           48
          ],
          [
           "1725 Snyder Ave",
           4,
           91
          ],
          [
           "3608 Chestnut St",
           3.5,
           217
          ],
          [
           "1140 Shackamaxon St",
           4,
           14
          ],
          [
           "2001 Market St",
           3,
           77
          ],
          [
           "7700 Crittenden St",
           3.5,
           21
          ],
          [
           "1313 North Lee St",
           4,
           599
          ],
          [
           "1230 Arch St",
           4.5,
           51
          ],
          [
           "4248 Spruce St",
           3.5,
           183
          ],
          [
           "12 S 10th St",
           4.5,
           141
          ],
          [
           "123 Chestnut St",
           3.5,
           454
          ],
          [
           "205 S 18th St",
           3.5,
           495
          ],
          [
           "2951 Market St",
           3,
           27
          ],
          [
           "907 Race St",
           4,
           708
          ],
          [
           "8052 Frankford Ave",
           2.5,
           19
          ],
          [
           "6667 Germantown Ave",
           4,
           5
          ],
          [
           "4447 Chestnut St",
           3.5,
           135
          ],
          [
           "5522 Germantown Ave",
           4,
           13
          ],
          [
           "1210 Walnut St",
           3.5,
           573
          ],
          [
           "1575 N 52nd St",
           2,
           7
          ],
          [
           "34th & Walnut St",
           4,
           135
          ],
          [
           "2955 Market St",
           1.5,
           5
          ],
          [
           "8500 Henry Ave",
           2,
           41
          ],
          [
           "4527 Baltimore Ave",
           3.5,
           113
          ],
          [
           "3300 Fairmount Ave",
           4,
           5
          ],
          [
           "4421 Chestnut St",
           4,
           207
          ],
          [
           "2801 Cottman Ave",
           1.5,
           50
          ],
          [
           "2130 S Christopher Columbus Blvd",
           1.5,
           27
          ],
          [
           "1037 Chestnut St",
           2.5,
           68
          ],
          [
           "7401 Bingham St",
           4.5,
           11
          ],
          [
           "342 Queen St",
           3.5,
           101
          ],
          [
           "29 Grays Ferry Ave",
           1.5,
           30
          ],
          [
           "699 N Broad St",
           4,
           62
          ],
          [
           "735 S 10th St",
           4,
           741
          ],
          [
           "7152 Ogontz Ave",
           3.5,
           368
          ],
          [
           "3332 Grant Ave",
           4,
           34
          ],
          [
           "7328 Castor Ave",
           4,
           39
          ],
          [
           "1002 Arch St",
           3.5,
           302
          ],
          [
           "13631 Philmont Ave",
           3.5,
           18
          ],
          [
           "3883 Glendale St",
           2.5,
           19
          ],
          [
           "3400 Aramingo Ave",
           2.5,
           44
          ],
          [
           "513 Adam Ave",
           4,
           19
          ],
          [
           "1431 W Passyunk Ave, 1f",
           4,
           5
          ],
          [
           "11728 Bustleton Ave",
           4,
           36
          ],
          [
           "4901 Catharine St",
           3.5,
           53
          ],
          [
           "6300 Torresdale Ave",
           2.5,
           21
          ],
          [
           "3649 Lancaster Ave",
           4,
           75
          ],
          [
           "4211 N Broad St",
           2.5,
           9
          ],
          [
           "1001 S 10th St",
           4.5,
           141
          ],
          [
           "1454 S Newkirk St",
           3,
           68
          ],
          [
           "4000 Locust St",
           3,
           104
          ],
          [
           "248 S 11th St",
           4.5,
           426
          ],
          [
           "1732 W Passyunk Ave",
           5,
           33
          ],
          [
           "3428 Sansom St",
           4,
           322
          ],
          [
           "35 S 2nd St",
           3.5,
           251
          ],
          [
           "1642 S St",
           5,
           8
          ],
          [
           "1100 W Girard Ave",
           3,
           8
          ],
          [
           "19 W Girard Ave",
           4,
           347
          ],
          [
           "4357 Main St",
           4,
           190
          ],
          [
           "1500 Market St",
           2.5,
           34
          ],
          [
           "243 S Camac St",
           4,
           153
          ],
          [
           "111 S Independence Mall E",
           3.5,
           6
          ],
          [
           "3513 Lancaster Ave",
           3.5,
           14
          ],
          [
           "2101 S 3rd St",
           3,
           8
          ],
          [
           "8500 Essington Ave",
           3,
           14
          ],
          [
           "1528 Packer Ave",
           4.5,
           107
          ],
          [
           "2616 E Lehigh Ave",
           4.5,
           11
          ],
          [
           "1040 N American St, Ste 701",
           5,
           155
          ],
          [
           "1239 Cottman Ave",
           4,
           12
          ],
          [
           "2629 W Girard Ave",
           4.5,
           51
          ],
          [
           "1617 John F Kennedy Blvd",
           3.5,
           86
          ],
          [
           "51 N 12th St",
           3.5,
           187
          ],
          [
           "1180 Ludlow St",
           4.5,
           35
          ],
          [
           "2550 Grant Ave, Ste 320",
           3.5,
           71
          ],
          [
           "246 S 11th St",
           4.5,
           24
          ],
          [
           "1601 S Columbus Blvd",
           1.5,
           19
          ],
          [
           "125-29 S 40th St",
           4.5,
           78
          ],
          [
           "5420 Lancaster Ave",
           3,
           15
          ],
          [
           "1527 Chestnut St",
           3.5,
           208
          ],
          [
           "1310 Drury St",
           4,
           979
          ],
          [
           "304 Market St",
           3,
           42
          ],
          [
           "3200 Chestnut St",
           3,
           62
          ],
          [
           "2215 S 11th St",
           4.5,
           36
          ],
          [
           "2413 S 7th St",
           4,
           36
          ],
          [
           "10050 Roosevelt Blvd",
           2.5,
           5
          ],
          [
           "1122 S 8th St",
           4,
           132
          ],
          [
           "11725 Bustleton Ave",
           2.5,
           15
          ],
          [
           "713 West Girard Avenue",
           2,
           18
          ],
          [
           "1835 N 12th St, Ste 7",
           3.5,
           15
          ],
          [
           "2000 Hamilton St, Ste 106",
           4.5,
           129
          ],
          [
           "6506 Frankford Ave",
           3.5,
           13
          ],
          [
           "901 South St",
           3.5,
           241
          ],
          [
           "3513 Lancaster Ave",
           3,
           190
          ],
          [
           "1739-49 N Front St",
           4,
           29
          ],
          [
           "31 S 18th St",
           4,
           516
          ],
          [
           "1 S Broad St, Fl 2, Walgreens",
           4,
           9
          ],
          [
           "7901 Oxford Ave",
           2,
           14
          ],
          [
           "6639 Castor Ave",
           2.5,
           11
          ],
          [
           "4229 Main St",
           4.5,
           118
          ],
          [
           "3400 Market St",
           5,
           9
          ],
          [
           "8500 Essington Ave",
           2.5,
           787
          ],
          [
           "1526 Race St",
           3,
           109
          ],
          [
           "217 W George St",
           4,
           498
          ],
          [
           "1646 E Passyunk Ave",
           4,
           153
          ],
          [
           "1811 Fairmount Ave",
           4,
           134
          ],
          [
           "224 S Broad St",
           3,
           20
          ],
          [
           "465 E Girard Ave",
           3,
           21
          ],
          [
           "1225 Sansom St",
           3.5,
           545
          ],
          [
           "2310 N Broad St",
           3,
           21
          ],
          [
           "323 Arch St",
           5,
           9
          ],
          [
           "221 S 11th St",
           3,
           75
          ],
          [
           "101 S 52nd St",
           1.5,
           26
          ],
          [
           "1016 Race St",
           3.5,
           198
          ],
          [
           "2100 Tyson Ave",
           4,
           133
          ],
          [
           "1601 Wharton St",
           4,
           28
          ],
          [
           "S 15th St & Market St",
           4,
           29
          ],
          [
           "2955 Market Street (Amtrack 30Th St Station)",
           2.5,
           23
          ],
          [
           "4748 Frankford Ave",
           2.5,
           30
          ],
          [
           "3906B Chestnut St",
           3.5,
           120
          ],
          [
           "99 S 17th St",
           3,
           52
          ],
          [
           "4617 Lancaster Ave",
           3.5,
           31
          ],
          [
           "2329 E York St",
           3,
           63
          ],
          [
           "8501 Germantown Ave",
           4,
           250
          ],
          [
           "8000 Essington Ave, Level 2, Terminal D, Gate D9",
           2.5,
           82
          ],
          [
           "200 Northwestern Ave",
           4,
           25
          ],
          [
           "1139 Spring Garden St",
           4.5,
           36
          ],
          [
           "1325 Sansom St",
           4,
           23
          ],
          [
           "237 S Broad St",
           4.5,
           6
          ],
          [
           "8400 Torresdale Ave",
           4,
           79
          ],
          [
           "929 Walnut St",
           3.5,
           366
          ],
          [
           "932 E Passyunk Ave",
           5,
           6
          ],
          [
           "1707 Arch St",
           3,
           49
          ],
          [
           "2481 N 54th St",
           2.5,
           133
          ],
          [
           "1700 Benjamin Franklin Pkwy",
           3,
           141
          ],
          [
           "8000 Essington Ave",
           3,
           46
          ],
          [
           "7530 Castor Ave",
           2,
           10
          ],
          [
           "6722 N Broad St",
           4,
           14
          ],
          [
           "5207 Walnut St",
           2,
           5
          ],
          [
           "5200 Woodland Ave",
           1.5,
           22
          ],
          [
           "12363 Academy Rd",
           4.5,
           9
          ],
          [
           "3401 Walnut St",
           4.5,
           6
          ],
          [
           "700 S 20th St",
           4,
           69
          ],
          [
           "1936 S Christopher Columbus Blvd",
           3,
           10
          ],
          [
           "259 S 15th St",
           3.5,
           192
          ],
          [
           "3901 Frankford Ave",
           4,
           12
          ],
          [
           "1501 Wharton St",
           4,
           211
          ],
          [
           "4000 City Ave",
           2,
           290
          ],
          [
           "1621 Orthodox St",
           3,
           27
          ],
          [
           "701 E Cathedral Rd",
           1.5,
           28
          ],
          [
           "9825 Bustleton Ave",
           4.5,
           11
          ],
          [
           "2573 Tulip St",
           4,
           141
          ],
          [
           "277 W Mt Pleasant Ave",
           4,
           172
          ],
          [
           "1903 Chestnut St",
           3.5,
           297
          ],
          [
           "1100 Pattison Ave",
           1,
           5
          ],
          [
           "3542 Conrad St",
           4,
           45
          ],
          [
           "7230 Frankford Ave",
           2.5,
           23
          ],
          [
           "626-628 N Front St",
           1.5,
           14
          ],
          [
           "6201 N Front St, Ste 124-G",
           3.5,
           10
          ],
          [
           "45 Snyder Ave, Ste SN-5",
           3,
           9
          ],
          [
           "1600 S 7th St",
           3,
           6
          ],
          [
           "2907 Holme Ave",
           2.5,
           27
          ],
          [
           "527 Franklin Mills Cir",
           1.5,
           21
          ],
          [
           "3914 Lancaster Ave",
           5,
           22
          ],
          [
           "2955 Market St",
           4,
           53
          ],
          [
           "51 N 12th St",
           4.5,
           10
          ],
          [
           "1200 Walnut St, Ste B",
           3,
           127
          ],
          [
           "3600 Spruce St",
           2.5,
           21
          ],
          [
           "8000 Essington Ave",
           3.5,
           9
          ],
          [
           "3855 Aramingo Ave",
           3,
           12
          ],
          [
           "1036 Spring Garden St",
           4,
           51
          ],
          [
           "4360 Main St",
           4.5,
           251
          ],
          [
           "339 N Broad St",
           4.5,
           110
          ],
          [
           "1601 S Columbus Blvd",
           4.5,
           89
          ],
          [
           "6201 N Front St, Ste 124",
           4.5,
           9
          ],
          [
           "305 N 33rd St",
           3,
           32
          ],
          [
           "900 Arch St",
           4.5,
           95
          ],
          [
           "37TH And Spruce St",
           4.5,
           41
          ],
          [
           "1200 N Broad St",
           2,
           16
          ],
          [
           "1313 N Howard St",
           4.5,
           39
          ],
          [
           "2100 Fairmount Ave",
           4,
           390
          ],
          [
           "12th St & Arch St",
           3.5,
           378
          ],
          [
           "3505 Lancaster Ave",
           3,
           228
          ],
          [
           "3408 Sansom St",
           3.5,
           419
          ],
          [
           "2355 S Bucknell St",
           4,
           15
          ],
          [
           "936 S 9th St",
           4,
           421
          ],
          [
           "121 S Broad St",
           4.5,
           157
          ],
          [
           "1170 Ludlow St",
           4,
           92
          ],
          [
           "Reading Terminal Market",
           4,
           38
          ],
          [
           "36TH And Spruce St",
           2.5,
           17
          ],
          [
           "7312 Castor Ave",
           4.5,
           6
          ],
          [
           "6144 Ridge Ave",
           4,
           165
          ],
          [
           "8330 Bustleton Ave",
           4,
           93
          ],
          [
           "2400 W Passyunk Ave",
           1,
           8
          ],
          [
           "320 W Oregon Ave",
           4.5,
           15
          ],
          [
           "3401 Walnut St",
           3,
           9
          ],
          [
           "1833 N 54th St",
           2,
           32
          ],
          [
           "1618 Cottman Ave",
           3.5,
           55
          ],
          [
           "1100 West Montgomery Ave, Ste A",
           1.5,
           9
          ],
          [
           "1800 Federal St",
           4,
           359
          ],
          [
           "51 N 12th St",
           4.5,
           107
          ],
          [
           "2528 S 24th St",
           2.5,
           16
          ],
          [
           "2206 W Hunting Park Ave",
           2.5,
           5
          ],
          [
           "1234 Market St",
           4.5,
           10
          ],
          [
           "7th St & Fernon St",
           3.5,
           15
          ],
          [
           "4940 N 5th St",
           2.5,
           14
          ],
          [
           "7412 Frankford Ave",
           5,
           5
          ],
          [
           "2111 E York St",
           4.5,
           24
          ],
          [
           "176 Diamond St",
           4.5,
           14
          ],
          [
           "2000 Sansom St",
           3.5,
           777
          ],
          [
           "2145 Elkins Ave",
           5,
           11
          ],
          [
           "1739 E Passyunk Ave",
           5,
           22
          ],
          [
           "1119 Walnut St",
           4,
           631
          ],
          [
           "3401 Walnut St",
           2.5,
           19
          ],
          [
           "2661 Kensington Ave",
           3.5,
           51
          ],
          [
           "901 S 2nd St",
           5,
           44
          ],
          [
           "11901 Bustleton Ave",
           3.5,
           127
          ],
          [
           "1433 Arch St",
           3,
           34
          ],
          [
           "5943 Haverford Ave",
           3,
           22
          ],
          [
           "10181 Verree Rd",
           3.5,
           38
          ],
          [
           "206 S 52nd St",
           3,
           23
          ],
          [
           "100 N 18th St, Ste 125",
           4,
           13
          ],
          [
           "262 S 20th St",
           3.5,
           579
          ],
          [
           "605 S 3rd St",
           3,
           187
          ],
          [
           "1100 Arch St",
           3,
           237
          ],
          [
           "1301 N 5th St",
           4,
           309
          ],
          [
           "1701 Market St, Fl 1, 6 Penn Ctr, Fl 1, 6 Penn Ctr",
           3,
           149
          ],
          [
           "9991 Bustleton Ave",
           3.5,
           162
          ],
          [
           "1700 Market St",
           4.5,
           25
          ],
          [
           "2099 N 63rd St",
           4,
           83
          ],
          [
           "2302 E Norris St",
           4,
           89
          ],
          [
           "3742 Germantown Ave",
           3.5,
           5
          ],
          [
           "1601 N Front St",
           4.5,
           5
          ],
          [
           "270 S 38th St",
           4.5,
           200
          ],
          [
           "1247 Snyder Avenue",
           3.5,
           7
          ],
          [
           "8624 Germantown Ave",
           3,
           68
          ],
          [
           "726 N 24th St",
           5,
           92
          ],
          [
           "206-208 S 45th St",
           3.5,
           129
          ],
          [
           "6920 Bustleton Ave",
           4,
           11
          ],
          [
           "8634 Germantown Ave",
           4.5,
           240
          ],
          [
           "1100 Pattison Ave",
           3,
           42
          ],
          [
           "106 S 40th St",
           3.5,
           94
          ],
          [
           "6330 Frankford Ave",
           2,
           58
          ],
          [
           "401 S 13th St",
           3.5,
           279
          ],
          [
           "7947 Oxford Ave",
           2.5,
           75
          ],
          [
           "1223 Walnut St",
           3.5,
           65
          ],
          [
           "4801 Umbria St",
           4.5,
           98
          ],
          [
           "200 N 6th St",
           3,
           118
          ],
          [
           "1247 S 47th St",
           3,
           13
          ],
          [
           "2010 N Broad St",
           4,
           26
          ],
          [
           "555 S Columbus Blvd",
           2.5,
           352
          ],
          [
           "101 E Olney Ave",
           1.5,
           9
          ],
          [
           "6725 Frankford Ave",
           2,
           34
          ],
          [
           "233 S 33rd St",
           3,
           9
          ],
          [
           "8500 Essington Ave",
           2,
           174
          ],
          [
           "1218 Sansom St",
           4,
           89
          ],
          [
           "13032 Bustleton Ave",
           3,
           20
          ],
          [
           "3300 Market St",
           2,
           12
          ],
          [
           "1234 Market St, Ste Ll1",
           3,
           10
          ],
          [
           "2224 Cottman Ave",
           4,
           39
          ],
          [
           "1515 S 4th St",
           4.5,
           338
          ],
          [
           "2946 Island Ave",
           3,
           6
          ],
          [
           "122 North 10th St",
           4,
           90
          ],
          [
           "6000 North Broad",
           3.5,
           6
          ],
          [
           "1101 Spruce St",
           4.5,
           190
          ],
          [
           "4211 Ridge Ave",
           4,
           143
          ],
          [
           "256 S 20th St",
           3.5,
           163
          ],
          [
           "18 Market St",
           2,
           7
          ],
          [
           "1430 Cecil B Moore Ave",
           3.5,
           41
          ],
          [
           "1336 W Venango St",
           4,
           9
          ],
          [
           "4011 Linden Ave",
           3,
           21
          ],
          [
           "8200 Frankford Ave",
           2.5,
           9
          ],
          [
           "2601 E Westmoreland St",
           5,
           6
          ],
          [
           "3925 Walnut St",
           3.5,
           199
          ],
          [
           "1523 E Passyunk Ave",
           4,
           271
          ],
          [
           "1700 Spring Garden St",
           4.5,
           60
          ],
          [
           "34 S Front St",
           4,
           541
          ],
          [
           "6191 Ridge Ave",
           2,
           17
          ],
          [
           "3137 N Broad St",
           2,
           5
          ],
          [
           "231 Market St",
           4,
           5
          ],
          [
           "2230 S 7th St",
           4.5,
           6
          ],
          [
           "840 E Lycoming St",
           3.5,
           21
          ],
          [
           "1701 Locust St",
           4,
           302
          ],
          [
           "6900 Frankford Ave",
           4.5,
           11
          ],
          [
           "745-747 N 25th St",
           4,
           91
          ],
          [
           "7325 Castor Ave",
           2,
           17
          ],
          [
           "1446 E Hunting Park Ave",
           5,
           14
          ],
          [
           "1335 N Front St",
           4,
           106
          ],
          [
           "6709 Germantown Ave",
           4,
           57
          ],
          [
           "100 W Oxford St",
           4,
           33
          ],
          [
           "100 S 60th St",
           4,
           5
          ],
          [
           "3200 Red Lion Rd Frnt 5",
           2,
           18
          ],
          [
           "4507 N Broad St",
           2,
           5
          ],
          [
           "3400 Lancaster Ave",
           3.5,
           343
          ],
          [
           "3816-36 Chestnut St, Unit 1",
           3.5,
           37
          ],
          [
           "1238 W Girard Ave",
           3,
           25
          ],
          [
           "1599 John F Kennedy Blvd",
           3.5,
           6
          ],
          [
           "8000 Essington Ave, Terminal A - East",
           3,
           19
          ],
          [
           "6338 Stenton Ave",
           2.5,
           13
          ],
          [
           "2573 Frankford Ave",
           3.5,
           61
          ],
          [
           "3728 Spruce St",
           3.5,
           50
          ],
          [
           "923 Levick St",
           3,
           23
          ],
          [
           "2933 W Lehigh Ave",
           4,
           30
          ],
          [
           "2001 Hamilton St",
           3.5,
           32
          ],
          [
           "5501 N Front St",
           4.5,
           20
          ],
          [
           "9834 Bustleton Ave",
           1.5,
           12
          ],
          [
           "1625 Chestnut St",
           3,
           7
          ],
          [
           "325 Chestnut St",
           4,
           1561
          ],
          [
           "1100 S Columbus Ave",
           3,
           209
          ],
          [
           "214 S St",
           4.5,
           160
          ],
          [
           "4528 Wilde St",
           5,
           19
          ],
          [
           "1539 Cecil B Moore Ave",
           4,
           145
          ],
          [
           "121 South St",
           4,
           216
          ],
          [
           "6015 N 5th St",
           3,
           9
          ],
          [
           "400-402 S 2nd St",
           4,
           193
          ],
          [
           "51 N 12th St",
           3,
           362
          ],
          [
           "3822 Morrell Ave",
           2.5,
           20
          ],
          [
           "917 S 20th St",
           2,
           66
          ],
          [
           "22 W Girard Ave",
           2,
           38
          ],
          [
           "211 S 15th St",
           4,
           113
          ],
          [
           "1216 Spruce St",
           4,
           709
          ],
          [
           "1172 S 9th St",
           4.5,
           290
          ],
          [
           "13033 Bustleton Ave",
           3.5,
           14
          ],
          [
           "1315 Bainbridge St",
           3.5,
           67
          ],
          [
           "1338-46 Chestnut St",
           4,
           634
          ],
          [
           "1200 Arch St",
           3,
           502
          ],
          [
           "110 S 19th St",
           4.5,
           356
          ],
          [
           "701 Market St",
           2,
           6
          ],
          [
           "100 Spring Garden St",
           3,
           76
          ],
          [
           "358 Snyder Ave",
           4,
           159
          ],
          [
           "1536 Packer Ave",
           3.5,
           86
          ],
          [
           "7501 Verree Rd",
           3.5,
           31
          ],
          [
           "",
           5,
           14
          ],
          [
           "4002 Spruce St",
           3.5,
           88
          ],
          [
           "780-782 S 2nd St",
           4.5,
           275
          ],
          [
           "529 E Allegheny Ave",
           2.5,
           10
          ],
          [
           "120 S 15th St",
           3,
           258
          ],
          [
           "146 N 10th St",
           4.5,
           1128
          ],
          [
           "4600 Roosevelt Boulevard",
           2.5,
           33
          ],
          [
           "1069 Germantown Ave",
           3.5,
           5
          ],
          [
           "51 N 12th St",
           4.5,
           1368
          ],
          [
           "6834 Limekiln Pike",
           3.5,
           29
          ],
          [
           "1200 Point Breeze Ave",
           4.5,
           240
          ],
          [
           "5461 Ridge Ave",
           4.5,
           224
          ],
          [
           "1720 Sansom St",
           4.5,
           32
          ],
          [
           "200 S Broad St, Ste Fc13",
           4.5,
           11
          ],
          [
           "121 S 13th St",
           4,
           3187
          ],
          [
           "7016-18 Frankford Ave",
           2,
           8
          ],
          [
           "2028 Chestnut St",
           4.5,
           376
          ],
          [
           "1535 S 11th St",
           4.5,
           216
          ],
          [
           "500 S 23rd St",
           4.5,
           65
          ],
          [
           "1709 E Passyunk Ave",
           4.5,
           608
          ],
          [
           "5004 City Ave",
           4,
           14
          ],
          [
           "11720 Bustleton Ave",
           4,
           35
          ],
          [
           "4162 Main St",
           4,
           57
          ],
          [
           "3505 Lancaster Ave",
           2.5,
           5
          ],
          [
           "6460 Bustleton Ave",
           3,
           8
          ],
          [
           "2017 N 29th St",
           3,
           15
          ],
          [
           "8231 Germantown Ave",
           3.5,
           10
          ],
          [
           "4836 Spruce St",
           4,
           5
          ],
          [
           "1425 E Moyamensing Ave",
           2.5,
           5
          ],
          [
           "1204 N Front St",
           4.5,
           104
          ],
          [
           "433 South St",
           2,
           22
          ],
          [
           "101 S Columbus Blvd",
           4,
           87
          ],
          [
           "1244 N Front St",
           5,
           56
          ],
          [
           "7634 Castor Ave",
           4.5,
           102
          ],
          [
           "213 Chestnut St",
           4,
           239
          ],
          [
           "1 N 19th St, Fl 59",
           4,
           117
          ],
          [
           "106 N 10th St",
           3.5,
           7
          ],
          [
           "320 W Oregon Ave",
           3.5,
           22
          ],
          [
           "1807 Jfk Blvd",
           3.5,
           94
          ],
          [
           "618 South St",
           3.5,
           181
          ],
          [
           "8101 Roosevelt Blvd, Ste 3013",
           3.5,
           122
          ],
          [
           "3437 Walnut St",
           3.5,
           34
          ],
          [
           "210 W Rittenhouse Square",
           4,
           213
          ],
          [
           "123 E Allegheny Ave",
           4,
           8
          ],
          [
           "51 N 12th St",
           4.5,
           202
          ],
          [
           "29 Franklin Mills Blvd",
           2.5,
           149
          ],
          [
           "1807 Washington Ave",
           4,
           216
          ],
          [
           "6301 Ditman St",
           2,
           7
          ],
          [
           "1501 Spring Garden St",
           3.5,
           171
          ],
          [
           "499 Franklin Mills Circle",
           2,
           33
          ],
          [
           "1439 Snyder Ave",
           5,
           16
          ],
          [
           "1631 Packer Ave",
           4,
           24
          ],
          [
           "4200 N Broad St",
           1,
           12
          ],
          [
           "2839 Tyson Ave",
           3,
           41
          ],
          [
           "725 Red Lion Rd",
           3.5,
           9
          ],
          [
           "S 33rd St & South St",
           3,
           19
          ],
          [
           "7642 City Ave",
           2.5,
           27
          ],
          [
           "5901 Lancaster Ave",
           2.5,
           6
          ],
          [
           "1334 Walnut St",
           4,
           180
          ],
          [
           "1201 S 9th St",
           3.5,
           32
          ],
          [
           "1637 E Passyunk Ave",
           3.5,
           97
          ],
          [
           "1425 Walnut St",
           3.5,
           312
          ],
          [
           "3200 Chestnut St",
           3.5,
           218
          ],
          [
           "624 S 3rd St",
           3.5,
           192
          ],
          [
           "2027 S Broad St",
           3,
           20
          ],
          [
           "2240 S 11th St",
           2.5,
           97
          ],
          [
           "2706 E Allegheny Ave",
           4.5,
           52
          ],
          [
           "147 N 3rd St",
           4,
           371
          ],
          [
           "1220 E Erie Ave",
           2.5,
           15
          ],
          [
           "423 N 36th St",
           4.5,
           18
          ],
          [
           "228 South St",
           4,
           77
          ],
          [
           "1031 S 8th St",
           4.5,
           264
          ],
          [
           "4410 Main St",
           4,
           45
          ],
          [
           "6129 Ridge Ave",
           4.5,
           83
          ],
          [
           "1876 Arch St",
           4.5,
           129
          ],
          [
           "8000 Essington Ave, Gate F11, Terminal F",
           2.5,
           275
          ],
          [
           "9961 Frankford Ave",
           4,
           10
          ],
          [
           "125 S 40th St",
           4,
           127
          ],
          [
           "4626 Baltimore Ave",
           3.5,
           64
          ],
          [
           "1300 N 2nd St",
           4.5,
           6
          ],
          [
           "1308 W Girard Ave",
           4.5,
           21
          ],
          [
           "1700 S 6th St",
           4.5,
           51
          ],
          [
           "51 N 12th St",
           3.5,
           135
          ],
          [
           "",
           3.5,
           8
          ],
          [
           "1500 W Porter St",
           3.5,
           85
          ],
          [
           "951 Wolf St",
           4.5,
           503
          ],
          [
           "1000 Washington Ave",
           4.5,
           105
          ],
          [
           "800 Jackson St",
           3,
           23
          ],
          [
           "1214 N 52nd St",
           4,
           89
          ],
          [
           "125 Walnut St",
           4,
           302
          ],
          [
           "1901 John F Kennedy Blvd",
           3.5,
           697
          ],
          [
           "3541 Aramingo Ave",
           4,
           17
          ],
          [
           "5001 Grant Ave",
           4,
           16
          ],
          [
           "2350 Orthodox St",
           4.5,
           11
          ],
          [
           "1100 Arch St",
           4,
           18
          ],
          [
           "2844 St Vincent St",
           4,
           120
          ],
          [
           "632 E Girard Ave",
           4,
           107
          ],
          [
           "471 Leverington Ave",
           4.5,
           118
          ],
          [
           "1917 E Passyunk Ave",
           3.5,
           262
          ],
          [
           "3746 Sansom St",
           2,
           14
          ],
          [
           "2615 North American Street",
           2,
           6
          ],
          [
           "1711 Fairmount Ave",
           4,
           433
          ],
          [
           "1101 S 9th St",
           4,
           282
          ],
          [
           "5951 Market St",
           3,
           6
          ],
          [
           "6001 Hazelhurst St",
           3,
           25
          ],
          [
           "6445 Frankford Ave",
           3,
           38
          ],
          [
           "3800 Locust Walk",
           2.5,
           6
          ],
          [
           "3611 Walnut St",
           3,
           8
          ],
          [
           "600 N Broad St",
           4,
           501
          ],
          [
           "5022-24 City Ave",
           1,
           5
          ],
          [
           "2347 E Clearfield St",
           3.5,
           15
          ],
          [
           "1608 W Passyunk Ave",
           2.5,
           15
          ],
          [
           "1240 N 50th St",
           4.5,
           42
          ],
          [
           "8000 Essington Ave",
           3,
           72
          ],
          [
           "7326 Frankford Ave",
           4.5,
           70
          ],
          [
           "1547 Spring Garden St",
           3,
           118
          ],
          [
           "8000 Horrocks St",
           4.5,
           81
          ],
          [
           "4010 Robbins Ave",
           3.5,
           115
          ],
          [
           "2113 E York St",
           4,
           155
          ],
          [
           "2240 S 12th St",
           3,
           22
          ],
          [
           "3801 Chestnut St",
           3.5,
           363
          ],
          [
           "301 Spring Garden St",
           3.5,
           152
          ],
          [
           "8500 Essington Ave",
           2,
           14
          ],
          [
           "8208 Roosevelt Blvd",
           3,
           25
          ],
          [
           "725 N 42nd St",
           1.5,
           7
          ],
          [
           "222 S 15th St",
           4,
           217
          ],
          [
           "4634 Woodland",
           4.5,
           58
          ],
          [
           "4518 Baltimore Ave",
           3,
           71
          ],
          [
           "919 S 9th St",
           4.5,
           161
          ],
          [
           "900 Packer Ave",
           3.5,
           8
          ],
          [
           "5243 Ridge Ave",
           2.5,
           6
          ],
          [
           "736 S 52nd St",
           2.5,
           11
          ],
          [
           "8000 Essington Ave, Level 2, Terminal B",
           3,
           129
          ],
          [
           "1614 Cecil B Moore",
           2.5,
           51
          ],
          [
           "201 E Wyoming Ave",
           2,
           18
          ],
          [
           "930 N 29th St",
           3.5,
           32
          ],
          [
           "135 S 10th St",
           4,
           25
          ],
          [
           "8337 Germantown Ave",
           3.5,
           168
          ],
          [
           "1601 Market St, -",
           4.5,
           46
          ],
          [
           "48TH And Haverford Ave",
           2,
           7
          ],
          [
           "8101 Stenton Ave",
           2,
           16
          ],
          [
           "4330 Main St",
           4,
           58
          ],
          [
           "5228 Chestnut St",
           3.5,
           9
          ],
          [
           "143 E Wyoming Ave",
           4.5,
           19
          ],
          [
           "2385 W Cheltenham Ave",
           2.5,
           27
          ],
          [
           "20TH And Market",
           4.5,
           11
          ],
          [
           "2327 E York St",
           3,
           46
          ],
          [
           "3649 Germantown Ave",
           3.5,
           70
          ],
          [
           "2100 S Columbus Blvd",
           3.5,
           132
          ],
          [
           "3220 Red Lion Rd",
           3.5,
           10
          ],
          [
           "736 Adams Ave",
           2.5,
           16
          ],
          [
           "2563 Trenton Ave",
           4.5,
           56
          ],
          [
           "1625 Chestnut St",
           3,
           17
          ],
          [
           "728 Chestnut St",
           3.5,
           72
          ],
          [
           "328 Loney St",
           4,
           24
          ],
          [
           "613 S 3rd St",
           4,
           248
          ],
          [
           "3400 Civic Center Blvd",
           3,
           42
          ],
          [
           "2749 N 47th St",
           3.5,
           68
          ],
          [
           "2116 E Tioga St",
           5,
           9
          ],
          [
           "8500 Essington Ave",
           2.5,
           60
          ],
          [
           "600 Catharine St",
           5,
           44
          ],
          [
           "2327 Cottman Ave, Ste 61",
           2,
           82
          ],
          [
           "8500 Essington Ave",
           2.5,
           7
          ],
          [
           "9010 Roosevelt Blvd",
           2.5,
           155
          ],
          [
           "9916 Roosevelt Blvd",
           2.5,
           10
          ],
          [
           "4944 N 5th St",
           4.5,
           16
          ],
          [
           "135 N 9th St",
           4.5,
           7
          ],
          [
           "1000 Diamond St, Ste 114",
           3,
           12
          ],
          [
           "1623 Sansom St",
           4.5,
           640
          ],
          [
           "6734 Germantown Ave",
           4.5,
           145
          ],
          [
           "9000 Bartram Ave",
           2.5,
           9
          ],
          [
           "264 S 16th St",
           4,
           2184
          ],
          [
           "614 S 7th St",
           4,
           338
          ],
          [
           "2347 E Somerset St",
           4,
           48
          ],
          [
           "1712 S 10th St",
           4,
           145
          ],
          [
           "990 Spring Garden St",
           4,
           151
          ],
          [
           "434 S 52nd St",
           4,
           22
          ],
          [
           "5531 Germantown Ave",
           3.5,
           5
          ],
          [
           "421 Curie Blvd",
           3.5,
           27
          ],
          [
           "7254 Castor Ave",
           3.5,
           31
          ],
          [
           "2101 Pennsylvania Ave",
           3.5,
           24
          ],
          [
           "3000 W Allegheny Ave",
           2,
           47
          ],
          [
           "2256 E Tioga St",
           3,
           17
          ],
          [
           "6420 Frankford Ave",
           3,
           13
          ],
          [
           "2101 Chestnut St",
           4,
           15
          ],
          [
           "237 S Broad St",
           3,
           38
          ],
          [
           "51 Bethlehem Pike",
           3,
           30
          ],
          [
           "4317 Chestnut St",
           4,
           252
          ],
          [
           "1100 S Front St",
           4.5,
           137
          ],
          [
           "1286 W Montgomery Ave",
           3.5,
           9
          ],
          [
           "601 Jamestown Ave",
           3,
           135
          ],
          [
           "8002 Castor Ave",
           3.5,
           7
          ],
          [
           "11000 Roosevelt Blvd, Ste 154",
           5,
           10
          ],
          [
           "1900 Grant Ave",
           4.5,
           43
          ],
          [
           "8500 Essington Ave",
           3,
           110
          ],
          [
           "111 S 40th St",
           3,
           120
          ],
          [
           "9910 Frankford Ave, Ste 270",
           4,
           97
          ],
          [
           "9244 Krewstown Rd",
           4,
           71
          ],
          [
           "7361 N19th St",
           4,
           13
          ],
          [
           "4307 Main St",
           4,
           133
          ],
          [
           "7202 Ogontz Ave",
           2,
           13
          ],
          [
           "1500 E Passyunk Ave",
           3.5,
           187
          ],
          [
           "2200 N Broad St",
           4,
           9
          ],
          [
           "1824 Callowhill St",
           3.5,
           230
          ],
          [
           "6118 Ridge Ave",
           4.5,
           168
          ],
          [
           "4325 Chestnut St",
           4.5,
           48
          ],
          [
           "1128 E Luzerne St",
           2.5,
           7
          ],
          [
           "1755 N 13th St",
           2,
           7
          ],
          [
           "1800 S Broad St",
           3,
           41
          ],
          [
           "2005 Walnut St",
           4.5,
           51
          ],
          [
           "822 N Broad St",
           3.5,
           28
          ],
          [
           "101 E Olney Ave",
           2,
           10
          ],
          [
           "10763 Bustleton Ave",
           3.5,
           70
          ],
          [
           "123 Chestnut St",
           4,
           1474
          ],
          [
           "524 S 4th St",
           4.5,
           170
          ],
          [
           "717 E Girard Ave",
           3,
           7
          ],
          [
           "705 S 5th St",
           4.5,
           25
          ],
          [
           "3220 N Broad St",
           4,
           7
          ],
          [
           "784 S 3rd St",
           3.5,
           225
          ],
          [
           "134 Chestnut St",
           5,
           9
          ],
          [
           "1163 S 7th St",
           4.5,
           149
          ],
          [
           "6118 Lancaster Ave",
           4.5,
           7
          ],
          [
           "60 S 2nd St",
           3.5,
           69
          ],
          [
           "732 E Chelten Ave",
           2.5,
           26
          ],
          [
           "1701 John F Kennedy Blvd",
           3,
           94
          ],
          [
           "4506-10 Castor Ave, Ste 10",
           2,
           6
          ],
          [
           "1722 Sansom St",
           5,
           21
          ],
          [
           "2955 Market St",
           2.5,
           40
          ],
          [
           "110 S 11th St",
           4,
           45
          ],
          [
           "1915 S Broad St",
           4.5,
           578
          ],
          [
           "101 North Broad St",
           3.5,
           7
          ],
          [
           "2859 Holme Ave",
           4.5,
           103
          ],
          [
           "1229 Spruce St",
           4.5,
           64
          ],
          [
           "3737 Market St",
           3,
           53
          ],
          [
           "177 W Girard Ave",
           3.5,
           22
          ],
          [
           "1100 Pattison Ave",
           3,
           42
          ],
          [
           "210 S 40th St",
           3.5,
           94
          ],
          [
           "260 S Broad St",
           4,
           137
          ],
          [
           "763 S 8th St",
           4.5,
           54
          ],
          [
           "6826 Bustleton Ave",
           4.5,
           7
          ],
          [
           "26 Maplewood Mall",
           4.5,
           29
          ],
          [
           "4905 Catharine St",
           4.5,
           10
          ],
          [
           "3613 Rhawn St",
           3.5,
           19
          ],
          [
           "Bourse Food Hall, 111 S Independence Mall E",
           4,
           49
          ],
          [
           "16 S 2nd St",
           4,
           181
          ],
          [
           "1519 Walnut St, Fl 2",
           2.5,
           12
          ],
          [
           "2401 Walnut St",
           3,
           13
          ],
          [
           "1210 Frankford Ave",
           4,
           981
          ],
          [
           "3601 Market St",
           4,
           12
          ],
          [
           "116 S 13th St",
           4.5,
           153
          ],
          [
           "7204 Ogontz Ave",
           2,
           38
          ],
          [
           "202 S 13th St",
           3,
           325
          ],
          [
           "2047 S 3rd St",
           3.5,
           42
          ],
          [
           "42nd & Market St",
           4,
           5
          ],
          [
           "3701 Haverford Ave",
           3,
           9
          ],
          [
           "3636 Sansom St",
           3.5,
           797
          ],
          [
           "906 Christian St",
           4,
           246
          ],
          [
           "1822 Spring Garden St, Unit B",
           5,
           152
          ],
          [
           "1737 Walnut St",
           4,
           116
          ],
          [
           "2451 N 54th",
           3.5,
           25
          ],
          [
           "100 S Independence Mall W",
           3.5,
           513
          ],
          [
           "631 N Broad St",
           4,
           92
          ],
          [
           "1013 Spring Garden St",
           3,
           23
          ],
          [
           "601 N 21st St",
           4,
           45
          ],
          [
           "2727 E Allegheny Ave",
           4.5,
           28
          ],
          [
           "18th St & Walnut St",
           4,
           11
          ],
          [
           "7961 Castor Ave",
           3,
           11
          ],
          [
           "1141 Pine St",
           4,
           1246
          ],
          [
           "243 S Camac St",
           4,
           82
          ],
          [
           "33 S 2nd St",
           4,
           66
          ],
          [
           "4670 Roosevelt Blvd NE, Northeast Tower Center",
           3.5,
           25
          ],
          [
           "116 S 12th St",
           4,
           36
          ],
          [
           "1128 Walnut St",
           4,
           11
          ],
          [
           "12TH And Arch St",
           4.5,
           67
          ],
          [
           "4218 Princeton Ave",
           4.5,
           23
          ],
          [
           "1108 Frankford Ave",
           4.5,
           52
          ],
          [
           "2825 Cottman Ave, Unit 1",
           3.5,
           29
          ],
          [
           "627 S 3rd St",
           3.5,
           198
          ],
          [
           "51 N 12th St",
           4.5,
           5721
          ],
          [
           "1504 Sansom St",
           4,
           271
          ],
          [
           "7167 Hegerman St",
           4.5,
           78
          ],
          [
           "1104 S 9th St",
           4.5,
           126
          ],
          [
           "1323 Lindley Ave",
           2,
           13
          ],
          [
           "2229 Spruce St",
           4.5,
           37
          ],
          [
           "37 S 20th St",
           4,
           40
          ],
          [
           "1115 Walnut St",
           4,
           361
          ],
          [
           "8101 Roosevelt Blvd",
           3.5,
           178
          ],
          [
           "1500 Walnut St",
           3.5,
           1358
          ],
          [
           "1228 Chestnut St",
           4,
           822
          ],
          [
           "4317 Fleming St",
           4.5,
           26
          ],
          [
           "34 W Girard Ave",
           4.5,
           73
          ],
          [
           "5700 Baltimore Ave",
           1,
           7
          ],
          [
           "8th & Diamond St",
           4,
           8
          ],
          [
           "9142 Roosevelt Blvd",
           2.5,
           64
          ],
          [
           "7217 Torresdale Ave",
           2.5,
           19
          ],
          [
           "1303 N Fifth St",
           4.5,
           227
          ],
          [
           "4361 Cresson St",
           4.5,
           78
          ],
          [
           "7326 Castor Ave",
           3.5,
           64
          ],
          [
           "3621 Aramingo Ave",
           2,
           12
          ],
          [
           "270 S 20th St",
           3.5,
           143
          ],
          [
           "1500 Market St, Ste 465",
           3,
           46
          ],
          [
           "934 Race St",
           4.5,
           81
          ],
          [
           "16TH St And Jfk Blvd",
           4,
           9
          ],
          [
           "8002 Ogontz Ave",
           4,
           9
          ],
          [
           "451 Franklin Mills Cir",
           2,
           22
          ],
          [
           "750 S 7th St",
           4.5,
           190
          ],
          [
           "5520 Whitaker Ave",
           3.5,
           57
          ],
          [
           "679 N Broad St",
           3,
           57
          ],
          [
           "1900 Grant Ave, Ste 7",
           2.5,
           7
          ],
          [
           "310 Market St",
           4.5,
           34
          ],
          [
           "124 S 15th St",
           4,
           513
          ],
          [
           "2204 Washington Ave",
           4.5,
           84
          ],
          [
           "3601 S Broad St",
           2,
           10
          ],
          [
           "1312-1314 Walnut St",
           3.5,
           52
          ],
          [
           "1601 N Broad St",
           3.5,
           46
          ],
          [
           "1533 S 10th St",
           4.5,
           14
          ],
          [
           "3000 Island Ave",
           2,
           21
          ],
          [
           "6901 Frankford Ave",
           4,
           20
          ],
          [
           "1 Citizens Bank Way",
           4,
           10
          ],
          [
           "522 Washington Ave",
           4.5,
           62
          ],
          [
           "115 E Girard Ave",
           4,
           145
          ],
          [
           "2120 S Broad St",
           3.5,
           53
          ],
          [
           "410 S 2nd St",
           4,
           167
          ],
          [
           "537 Hoffnagle St",
           4.5,
           57
          ],
          [
           "4501 Baltimore Ave",
           5,
           19
          ],
          [
           "5706 N 5th St",
           3,
           19
          ],
          [
           "1543 S 7th St",
           4,
           8
          ],
          [
           "2951 Market St",
           2.5,
           52
          ],
          [
           "736 S 9th St",
           4.5,
           393
          ],
          [
           "6919 Rising Sun Ave",
           2.5,
           43
          ],
          [
           "118 Morris St",
           5,
           19
          ],
          [
           "119 E Chelten Ave",
           4,
           7
          ],
          [
           "1518 Sansom St",
           4,
           221
          ],
          [
           "701 Cathedral Rd, Andorra Shopping Center, Unit 15",
           2.5,
           65
          ],
          [
           "3300 Memphis St",
           5,
           5
          ],
          [
           "303 N 3rd St",
           4.5,
           103
          ],
          [
           "2867 N Taylor St",
           2,
           23
          ],
          [
           "8108 Roosevelt Blvd",
           3.5,
           11
          ],
          [
           "7830 Germantown Ave",
           3.5,
           144
          ],
          [
           "251 S 18th St",
           4.5,
           6
          ],
          [
           "1800 Arch St, Fl 2, Comcast Technology Center",
           4.5,
           47
          ],
          [
           "501 W Girard Ave",
           4.5,
           76
          ],
          [
           "Reading Terminl Mrkt",
           3.5,
           7
          ],
          [
           "2608 Kensington Ave",
           3,
           25
          ],
          [
           "5034 N 5th St",
           4,
           22
          ],
          [
           "15501 Bustleton Ave",
           3.5,
           238
          ],
          [
           "7138 Ridge Ave",
           3.5,
           58
          ],
          [
           "123 W. Rockland St.",
           4.5,
           9
          ],
          [
           "4802 Spruce St",
           2.5,
           60
          ],
          [
           "6775 N 5th St",
           4.5,
           15
          ],
          [
           "7266 Rising Sun Ave",
           2.5,
           78
          ],
          [
           "7650 City Line",
           2,
           71
          ],
          [
           "1525 Frankford Ave",
           4,
           61
          ],
          [
           "2001 Market St",
           3,
           48
          ],
          [
           "10 S 2nd St",
           3.5,
           1195
          ],
          [
           "234-236 N 10th St",
           4,
           215
          ],
          [
           "121 S 43rd St",
           4,
           19
          ],
          [
           "4002 Market St",
           4,
           41
          ],
          [
           "1301 S 11th St",
           4.5,
           78
          ],
          [
           "1633 W Reed St",
           5,
           8
          ],
          [
           "5675 N Front St",
           2.5,
           19
          ],
          [
           "322 W Chelten Ave",
           4.5,
           44
          ],
          [
           "6070 Ridge Ave",
           4,
           15
          ],
          [
           "908 Cherry St",
           4,
           22
          ],
          [
           "2207 S 7th St",
           4,
           99
          ],
          [
           "6701 State Rd",
           5,
           19
          ],
          [
           "2204 S Columbus Blvd",
           4,
           112
          ],
          [
           "344 South St",
           2.5,
           299
          ],
          [
           "7596A Haverford Ave",
           4,
           6
          ],
          [
           "327 S 52nd St",
           4.5,
           17
          ],
          [
           "1846 S 12th St",
           4,
           58
          ],
          [
           "6501 Castor Ave",
           3.5,
           236
          ],
          [
           "2344 E Clearfield St",
           3,
           30
          ],
          [
           "3348 Grant Ave",
           3,
           24
          ],
          [
           "816 N 4th St",
           4.5,
           1485
          ],
          [
           "248 South St",
           4.5,
           163
          ],
          [
           "2501 N Broad St",
           3.5,
           10
          ],
          [
           "810 W Girard Ave",
           4,
           5
          ],
          [
           "1913 N 54th St",
           1.5,
           38
          ],
          [
           "3212 N Broad St",
           3,
           8
          ],
          [
           "611 S 3rd St",
           4,
           134
          ],
          [
           "1652 N 2nd St",
           4.5,
           11
          ],
          [
           "5301 Germantown Ave",
           4,
           26
          ],
          [
           "2-32 N 18th St",
           3.5,
           19
          ],
          [
           "2451 W Cheltenham Ave",
           1.5,
           86
          ],
          [
           "3901 Chestnut St",
           2.5,
           36
          ],
          [
           "848 S 2nd St",
           4.5,
           130
          ],
          [
           "224 S Broad St, Fl 8",
           3,
           5
          ],
          [
           "48 N 10th St",
           4.5,
           538
          ],
          [
           "116 S 12th St",
           3,
           79
          ],
          [
           "5134 Rochelle Ave",
           2.5,
           12
          ],
          [
           "4501 Castor Ave",
           1.5,
           14
          ],
          [
           "1700 E Passyunk Ave",
           4,
           383
          ],
          [
           "615 Chestnut St",
           3.5,
           43
          ],
          [
           "9347 Krewstown Rd",
           3.5,
           61
          ],
          [
           "1221 Locust St",
           4.5,
           1447
          ],
          [
           "8914 Frankford Ave",
           1.5,
           21
          ],
          [
           "2765 Orthodox St",
           2,
           19
          ],
          [
           "431 E Girard Ave",
           3.5,
           90
          ],
          [
           "1301 Cottman Ave",
           3.5,
           23
          ],
          [
           "3180 Grant Ave",
           4,
           5
          ],
          [
           "4001 N 5th St",
           1,
           5
          ],
          [
           "7518 Castor Ave",
           4,
           5
          ],
          [
           "1117 Locust St",
           4.5,
           110
          ],
          [
           "8000 Essington Ave",
           2,
           36
          ],
          [
           "4060 Chestnut St",
           3.5,
           65
          ],
          [
           "4500 City Ave",
           4,
           12
          ],
          [
           "1541 Spring Garden St",
           4.5,
           284
          ],
          [
           "1001 N 2nd St",
           4,
           132
          ],
          [
           "129 S 30th St",
           3.5,
           37
          ],
          [
           "920 W Girard Ave",
           3,
           70
          ],
          [
           "1926 Liacouras Walk",
           3.5,
           81
          ],
          [
           "119 South St",
           3,
           21
          ],
          [
           "2401 S 62nd St",
           4,
           12
          ],
          [
           "9 Snyder Ave, Corner of Front & Snyder",
           2.5,
           19
          ],
          [
           "",
           5,
           5
          ],
          [
           "104 W Girard Ave",
           4.5,
           42
          ],
          [
           "4074 Lancaster Ave",
           2.5,
           22
          ],
          [
           "769 E Passyunk Ave",
           4.5,
           52
          ],
          [
           "900 S Front St",
           4,
           187
          ],
          [
           "51 N 12th St",
           3.5,
           26
          ],
          [
           "5121 Baltimore Ave",
           4.5,
           12
          ],
          [
           "100 N Horticultural Dr",
           3.5,
           33
          ],
          [
           "140 South St",
           3,
           224
          ],
          [
           "7170 Germantown Ave",
           4,
           224
          ],
          [
           "6339 Rising Sun Ave",
           2,
           6
          ],
          [
           "12317 Academy Rd",
           2.5,
           43
          ],
          [
           "4625 Princeton Ave",
           3,
           17
          ],
          [
           "221 Church St",
           4,
           239
          ],
          [
           "411 W Oregon Ave",
           2,
           21
          ],
          [
           "502 N 63rd St",
           3.5,
           5
          ],
          [
           "140 N 10th St",
           4,
           114
          ],
          [
           "7829 Germantown Ave",
           4,
           30
          ],
          [
           "637 N 3rd St",
           4,
           306
          ],
          [
           "2135 Walnut St",
           3.5,
           149
          ],
          [
           "8009 Germantown Ave",
           4,
           78
          ],
          [
           "5121 Baltimore Ave",
           4.5,
           7
          ],
          [
           "400 E Girard Ave",
           4.5,
           228
          ],
          [
           "1355 N Front St",
           4.5,
           610
          ],
          [
           "901 Race St",
           4,
           56
          ],
          [
           "4006 Market St",
           4,
           12
          ],
          [
           "5810 Greene St",
           3,
           23
          ],
          [
           "107 N 33rd St",
           5,
           6
          ],
          [
           "1523 Sansom St",
           4,
           248
          ],
          [
           "212 S 13th St",
           4,
           2679
          ],
          [
           "2218 Frankford Ave",
           4,
           9
          ],
          [
           "700 Packer Ave, Ste 2",
           1.5,
           8
          ],
          [
           "1529 Spring Garden St",
           3.5,
           87
          ],
          [
           "2149 S 20th St",
           4.5,
           258
          ],
          [
           "1320 Point Breeze Ave",
           4,
           143
          ],
          [
           "705 S 4th St",
           5,
           61
          ],
          [
           "3900 City Ave",
           2,
           55
          ],
          [
           "255 S 15th St, Ste 14L",
           3,
           32
          ],
          [
           "4120 Main St",
           3.5,
           692
          ],
          [
           "1835 N 12th St",
           3.5,
           13
          ],
          [
           "734 Adams Ave",
           3.5,
           8
          ],
          [
           "261 S 21st St",
           4.5,
           287
          ],
          [
           "1862 Frankford Ave",
           4.5,
           23
          ],
          [
           "10901 Bustleton Ave",
           3.5,
           12
          ],
          [
           "3600 Spruce St",
           4,
           10
          ],
          [
           "1214 Sansom St",
           3.5,
           286
          ],
          [
           "7324 Oxford Ave",
           4,
           184
          ],
          [
           "1500 N 2nd St",
           4,
           31
          ],
          [
           "2401 Fairmount Ave",
           4,
           249
          ],
          [
           "701 N 2nd St",
           4.5,
           209
          ],
          [
           "1705 Snyder Ave",
           4.5,
           112
          ],
          [
           "1308 W Girard Ave",
           4,
           16
          ],
          [
           "3306 Arch St",
           3,
           5
          ],
          [
           "6024 Ridge Ave",
           3,
           55
          ],
          [
           "1108 S 9th St",
           4.5,
           35
          ]
         ],
         "hovertemplate": "<b>%{hovertext}</b><br><br>latitude=%{lat}<br>longitude=%{lon}<br>address=%{customdata[0]}<br>stars=%{customdata[1]}<br>review_count=%{customdata[2]}<extra></extra>",
         "hovertext": [
          "St Honore Pastries",
          "Tuna Bar",
          "BAP",
          "Craft Hall",
          "Wawa",
          "Golden Chopstick Chinese Restaurant",
          "Wendy's",
          "Red Hook Coffee & Tea",
          "Baltic Bakery",
          "Brown Sugar Bakery & Cafe",
          "Federal Donuts",
          "Crown Fried Chicken",
          "The Love",
          "Jong Ka Jib",
          "The Twisted Tail",
          "Chick-fil-A",
          "Checkers",
          "NY Bagel & Deli Shop",
          "KFC",
          "The Royal Indian Cuisine",
          "McDonald's",
          "Cedar Park Cafe",
          "The Coventry Deli",
          "Sean Thorntons Public House",
          "Flambo Caribbean Restaurant",
          "Wawa",
          "Minas Pizza",
          "The Lunar Inn",
          "Chase's Hop Shop",
          "Beck's Cajun Cafe",
          "Golden Triangle",
          "Breakfast Boutique Chestnut Hill",
          "Forin Cafe",
          "Tony's Luke",
          "Sunoco",
          "Mood Cafe",
          "Wilson's Market",
          "Southgate",
          "Falls Deli",
          "Angelina's",
          "Crown Fried Chicken",
          "Gigi and Big R",
          "O Sole Mio",
          "Taqueria La Hacienda",
          "Butter's Soul Food",
          "Saladworks",
          "Olly",
          "Spice Grill",
          "Han Dynasty",
          "Guavaberry Foods & Drinks ",
          "John's Seafood",
          "México Lindo",
          "Junes Breakfast",
          "Lincoln Chicken Pizza And Grill",
          "Urban Eatery",
          "Dragon House",
          "Buca D’Oro ",
          "Pho Nam Giang",
          "Chuck's Alibi",
          "J'aime French Bakery",
          "Lucky Wok Restaurant",
          "Mike's Breakfast",
          "Pub & Kitchen",
          "Quality Pizza",
          "Three 12 Sport Bar and Lounge",
          "Hammerheads Bar & Grille",
          "Square 1682",
          "Franzone's Pizzeria & Restaurant",
          "Vientiane Café",
          "Passero's Coffee Roasters",
          "Domino's Pizza",
          "Gachi Sushi and Noodle",
          "Goody's Pizza",
          "Little Caesars Pizza",
          "George's Wings",
          "Vineyards Cafe",
          "PrimoHoagies",
          "Hyon's Seafood",
          "Ron's Caribbean Cuisine",
          "Tom's Corner Grill & Pizza",
          "Los Compadres",
          "Los Potrillos",
          "Kurry Shack",
          "Wawa",
          "The Black Sheep Pub & Restaurant",
          "Hunnies Crispy Chicken",
          "Slices Pizza",
          "Lazos Pizza & Grill",
          "New England Pizza",
          "Ramble Pizza",
          "Sue's Market",
          "Domino's Pizza",
          "Charlie's Roast Pork",
          "Tomo Sushi & Ramen",
          "Loco Lucho's Latino Kitchen",
          "Potito's Italian American Pastries",
          "Smiths Restaurant and Bar",
          "Gaetano’s",
          "Las Cazuelas Restaurant BYOB",
          "D'S Caribbean And American Food",
          "Sorrento Pizzeria And Grill",
          "Tony Express",
          "Panasian Buffet",
          "4 Seasons Grill Mexican Restaurant",
          "Sam's Pizza",
          "McDonald's",
          "Queen Sheba",
          "Ed's Pizza House",
          "Ricci's Hoagies",
          "Pina's Pizza",
          "Oregon Steaks",
          "SET NoLibs",
          "George's Sandwich Shop",
          "Good Karma Cafe",
          "Oriental Kitchen",
          "Athenian Restaurant",
          "The Palace of Indian",
          "In & Out Pizza",
          "Mac's Tavern",
          "Tiffin-Etc",
          "Jamaican Jerk Hut",
          "Moon Flower House",
          "Holmesburg Bakery",
          "McDonald's",
          "Halal Gyro King",
          "Cake Life Bake Shop",
          "Maria's Ristorante on Summit",
          "Chuck E. Cheese",
          "Copabanana",
          "Rangoli: Vibrant Flavors of India",
          "Foodery",
          "Dagwood's Pub",
          "Alena’s Cafe",
          "Kato's Cajun",
          "Zorba's Taverna",
          "Jasmine Rice - Rittenhouse",
          "Xochitl",
          "Al Sham Restaurant - Philadelphia",
          "Cactus Restaurant & Bar",
          "Mom Mom's Kitchen and Polish Food Cart",
          "Hibachi 2 Go",
          "Gaby’s Station Pizza",
          "Day Break Eggs",
          "Bitar's",
          "Cily Chicken Rice",
          "Franklin's",
          "Tacodelphia",
          "El Limon",
          "Franny Lou's Porch",
          "Keshet Kitchen",
          "KASUMI SUSHI",
          "Zaika",
          "Dunkin'",
          "HipCityVeg - University City",
          "Philadelphia Cricket Club",
          "Goldie",
          "Buena Onda",
          "Vientiane Bistro",
          "Izzy's 33",
          "Wawa",
          "Joe's Steaks + Soda Shop",
          "Little Caesars Pizza",
          "Yellow Bicycle Canteen",
          "Suraya",
          "Pearl of East",
          "Lloyd Whiskey Bar",
          "Smiley's Cafe",
          "Park Manor Deli",
          "iPho Vietnamese Restaurant",
          "McDonald's",
          "Happy Joy Family Restaurant",
          "Tasties",
          "The Original Hot Dog Factory",
          "Misconduct Tavern",
          "Mediterra Grill",
          "So Korean Grill",
          "Oteri's Italian Bakery | North 5th St",
          "Prohibition Taproom",
          "Checkers",
          "P & S Ravioli",
          "Cafe Square One",
          "Bai Wei",
          "Earl of Sandwich",
          "Termini Bros Bakery",
          "Jeisy Grilled Chicken",
          "Green Basil Thai Kitchen",
          "Asadero los tios",
          "Fresh Gulf Seafood",
          "Zio Pizza Palace & Grill",
          "Authentic LanZhou Handpulled Noodles",
          "Ralphs Italian Restaurant",
          "Cucina Zapata",
          "Valerio Coffee Roasters",
          "In the Valley",
          "El Guero  Mexican Food Truck",
          "Village Burger",
          "Shing Kee",
          "DK Sushi",
          "The Post",
          "Fortune Chinese Restaurant",
          "Uptown Grill Breakfast",
          "New Napoli Famous Pizza",
          "JD's Soul Food Kitchen",
          "Non Stop Pizza & Grille",
          "Frank's Spaghetti House",
          "Allegro Pizza",
          "Solly Pizza",
          "Applebee's Grill + Bar",
          "Fabio's Chicken Restaurant Takeout",
          "Little Kitchen",
          "Parada Maimon",
          "Goree",
          "Trattoria Carina",
          "Al's Italiano Pizzeria & Ristorante",
          "Lee's Breakfast",
          "Boricua Restaurant",
          "Bonks Bar",
          "Master Wok",
          "Tandoori Of India",
          "Ace of Steaks",
          "Sorrento's Pizza",
          "La Colombe Coffee",
          "Red Owl Tavern",
          "Arbys Roast Beef",
          "Mike's Hot Dog Cart",
          "Burger Lane",
          "Ricky Cafe",
          "Romano's Pizza Express",
          "Philly's Finest Pizza",
          "MexiCali",
          "Subway",
          "Feltonville Express Pizza",
          "Justin's Snack Corner",
          "La Marqueza - Food Truck",
          "Orchard Smoothie and Cafe",
          "Giovanni's Pizzeria",
          "Otolith Sustainable Seafood",
          "Ippolito's Seafood",
          "Chan's Halal Restaurant",
          "Trio Breakfast & Lunch",
          "Asian Garden",
          "Burger King",
          "Burger King",
          "TyeMeka's Soul Food",
          "Penang",
          "Domino's Pizza",
          "Mommy Telly's Famous BBQ",
          "HipCityVeg",
          "Foods On First",
          "African Small Pot",
          "Marrakesh",
          "Chickie's & Pete's",
          "Domino's Pizza",
          "El Camino Real",
          "PrimoHoagies",
          "Capital Beer",
          "King's Garden",
          "1st NE International Market",
          "Khyber Pass Pub",
          "Cloud Factory Hookah Lounge",
          "Lee How Fook",
          "Spice Finch",
          "Village Whiskey",
          "Tsaocaa",
          "Top Tomato Bar & Pizza",
          "Bold Coffee Bar",
          "Bridesburg Pizza",
          "SPOT Gourmet Burgers",
          "Federal Donuts",
          "Sid Booker's Shrimp",
          "Checkers",
          "Olde City Food Market",
          "Punch Buggy Brewing",
          "Urban Village Brewing Co",
          "Wilson Famous Blue Ribbon Meats",
          "Pizzeria Vetri",
          "Lemoncello Restaurant Philly",
          "2 in One Cafe",
          "Essene Market & Café",
          "Mac Mart",
          "Wishbone",
          "SALERNO'S Ristorante & Pizzeria",
          "Rittenhouse Grill",
          "Octopus Falafel Truck",
          "Bourbon & Branch",
          "Pasqually's Pizza",
          "Moy Fong Restaurant",
          "Convenient Food Mart",
          "Ruby's Roof Jamaican Restaurant",
          "Boom Buns",
          "Pitruco Pizza Franklin's Table",
          "Tasties",
          "Mom's Seafood",
          "Sunrise 2 Authentic Thai Food",
          "16th Street Seafood",
          "Potato Corner",
          "Big Geez Chicken Shack ",
          "Night Market",
          "Bistro La Baia",
          "Wawa",
          "Vetri Cucina",
          "Burrito Bonito",
          "Paradise Pizzeria",
          "The Foodery",
          "The Concourse at Comcast Center",
          "Poke Burri",
          "Jade Palace",
          "Rock N' Rolls Egg Rolls",
          "Don Panchito Mexican Grill",
          "Kumo Hibachi Sushi",
          "Fez Moroccon Restaurant",
          "Tokai Sushi Hibachi Steakhouses",
          "KFC",
          "Polka Deli Inc",
          "Mexican Grill Stand",
          "Arby's",
          "Bread & Butter Philly - Breakfast Junction",
          "Crazy Sushi",
          "The Freshworks of Port Richmond",
          "Sister Muhammad's Kitchen",
          "Wawa Food Markets",
          "La Esquina del Bronco",
          "Wawa",
          "Pho Street",
          "China House",
          "Marmont Steakhouse & Bar",
          "New Lee's Chinese Restaurant",
          "Tria Cafe Wash West",
          "Larry's Steaks",
          "Wawa",
          "Federal Donuts",
          "Sansom Kabob House",
          "Algorithm Restaurants",
          "Say Cheese",
          "Pho Mi Rittenhouse",
          "New Number One Chinese Restaurant",
          "Flannel",
          "Boostin' Bowls",
          "Lombard Swim Club",
          "Wingstop",
          "Hong Kong Chinese Restaurant",
          "Chef Joseph Poon",
          "Ants Pants Café",
          "Golden China Wok Restaurant",
          "Taco Bell",
          "Midori Sushi",
          "Mayura Indian Restaurant",
          "Honey's Sit-N-Eat",
          "Happy Panda",
          "Loews Philadelphia Hotel",
          "B&B Breakfast and Lunch",
          "Cherry Lounge",
          "Richie's",
          "Marathon",
          "Ken's Seafood Restaurant",
          "1 Stop Pizza",
          "Scannicchio's",
          "Mary's Lunch",
          "ShopRite of Whitman Plaza",
          "3J's Food Market",
          "Aya's Pizza",
          "Tran's Chinese Food Cart",
          "Italiano's",
          "To-Yo Japanese Restaurant",
          "Wings & More",
          "Greenman's Deli",
          "Murph's Bar",
          "Abunai Poke",
          "Bui's",
          "Axis Pizza",
          "New Tavern Bar",
          "Cleopatra Cafe",
          "Spring Chinese Restaurant",
          "Green Eggs Cafe",
          "Porcini",
          "Wawa Food Markets",
          "Mayfair Pizza",
          "Federal Donuts",
          "Tartes Pastry Shop",
          "Bubblefish",
          "Revolution House",
          "Mediterranean Banquet Hall",
          "Tacconelli's Pizzeria",
          "Chapterhouse Café & Gallery",
          "Gilben's Bakery",
          "Johnnie's Italian Restaurant",
          "Amada",
          "Buk Chon Korean Cuisine",
          "Café y Chocolate",
          "Oishii",
          "Dream House Asian Bistro",
          "Vince's Pizzeria of Fishtown",
          "Maplewood Nutrition & Dietary Food Shop",
          "BRÜ Craft & Wurst",
          "Bank & Bourbon",
          "Le Viet Restaurant",
          "Pete's Pizza",
          "Lovash Indian Cart",
          "Neighborhood Ramen",
          "Saladworks",
          "El Purepecha",
          "Daleng Restaurant",
          "Madame Saito - Queen of Sushi",
          "Philomena Santucci's Square Pizza",
          "Cheu Fishtown",
          "Posh Fuel and Food",
          "El Merkury",
          "La Mula Terca",
          "Haute Restaurant & Lounge",
          "Vietnam Restaurant",
          "Hip Hemp Cafe",
          "Vito's Pizza & Grill",
          "Peet's Coffee & Tea",
          "Speedy's Pizza",
          "Carangi Baking",
          "Ground Up Coffee Shop",
          "Side of the Road Jerk Chicken",
          "Prince Pizza II",
          "Oregon Diner",
          "Jembatan 5",
          "Shanks Original",
          "South Philadelphia Tap Room",
          "Angela's Pizza",
          "Devon Seafood Grill",
          "Marra's",
          "Del Frisco's Grille",
          "Dunkin'",
          "Halal Food Special",
          "Independence After Hours",
          "Spirit of Philadelphia",
          "SouthHouse",
          "Diner At Manayunk",
          "Good Day Eatery",
          "John's Roast Pork",
          "Marchiano's Bakery",
          "China Royal",
          "Cantinho Brasileiro Restaurante",
          "Drunk Crab",
          "Dunkin'",
          "Nick's Famous Pizza",
          "Salt & Pepper Deli III",
          "Rieker's Prime Meats",
          "Happy Lamb Hot Pot",
          "New Delhi Indian Restaurant",
          "Rosy's Taco Bar",
          "T & F Farmers Pride",
          "Murphy's Tavern",
          "Bella's Breakfast & Lunch",
          "The Lucky Well - Spring Arts",
          "Flaming Basil",
          "Pho Ga Thanh Thanh",
          "Sahara Grill",
          "East Coast Wings & Grill",
          "Dunkin'",
          "Carmen's Famous Italian Hoagies",
          "QDOBA Mexican Eats",
          "QT Vietnamese Sandwich",
          "Good Dog Bar",
          "Ekta Indian Cuisine",
          "Xin Xing House",
          "Kabuki Sushi",
          "Rayaki - Philadelphia",
          "Wokano",
          "Las Lomas Restaurant",
          "Bleu Sushi",
          "Voltage Lounge",
          "Twisted Indian Wraps",
          "Chopstick House",
          "Benna's Cafe",
          "Milano's Pizzeria and Grill",
          "Blue Corn",
          "High Street Provisions",
          "Gooey Looie's",
          "Imperial Palace Chinese Restaurant",
          "Soulfedphilly",
          "Tyson Bees",
          "The Night Kitchen",
          "Tavern On the Hill",
          "The Fresh Works - Woodhaven Store",
          "Vesper Sporting Club - Center City",
          "Mi Puebla Restaurant",
          "HipCityVeg",
          "CYM Island Kitchen",
          "Aldo and Manny Pizza and Pasta",
          "SoBol-University City",
          "Green Garden",
          "Oishii Poké",
          "Pearls Caribbean and Soul Food",
          "China Star",
          "Bob's Diner",
          "Cucina Maria",
          "Olive Garden Italian Restaurant",
          "Casa México",
          "Originals Italian Restaurant & Bar",
          "Beijing Panda",
          "Pizzata Pizzeria",
          "IndeBlue Modern Indian Food & Spirits",
          "Sky Cafe",
          "Live Casino Hotel",
          "Parc",
          "Germantown Jerk Hut",
          "Reen's Delicatessen",
          "Reale's Restaurant & Bar",
          "Bistrot La Minette",
          "Teresa's Mesa",
          "Mexican Post Express",
          "Greenman's Deli",
          "Sabrina's Café",
          "La Casa Del Mofongo",
          "Cadillac Grille",
          "The Trestle Inn",
          "M & M Restaurant",
          "Eddie's Pizza",
          "Alyan's Restaurant",
          "Charlie Was a Sinner",
          "Terakawa Ramen",
          "Cosmic Café and Ciderhouse",
          "Johnny Brenda's",
          "Mezzogiorno",
          "Subway",
          "Pita Chip",
          "La Colombe Coffee",
          "Mighty Melt",
          "honeygrow",
          "Red Wine Restaurant",
          "Winnie's Manayunk",
          "Soy Cafe",
          "P. J. Clarke's",
          "Wawa",
          "Gennaro's Famous Pizza",
          "Spread Bagelry",
          "Boston Market",
          "Pearl Tavern",
          "Emperor's Garden Chinese Restaurant",
          "Burger King",
          "Han Dynasty",
          "Penrose Diner",
          "Ecowas African Restaurant",
          "Yeeroh",
          "Yards Brewing Company",
          "Jeong’s Noodle",
          "Chipotle Mexican Grill",
          "Fredy & Tony's Restaurant",
          "Pizzeria Pesto",
          "Tiffin - South Philadelphia",
          "Jordan Johnson's Gourmet Seafood",
          "Popeyes Louisiana Kitchen",
          "Nifty Fifty's",
          "Cantina Dos Segundos",
          "17 Snyder Chinese",
          "Old Nelson Food Company",
          "Milo - The Meeting House",
          "The Spot Food Truck",
          "More Sugar",
          "Daiva's Grille",
          "Peking Garden",
          "Shee Yuan Chinese",
          "Domenic's Pizzeria",
          "Rybrew",
          "Cafe Cuong",
          "Royal's Restaurants",
          "Great Wall Chinese Restaurant",
          "Pizzeria Vetri",
          "Barnes & Noble Booksellers",
          "Au Bon Pain",
          "IHOP",
          "Southwark Restaurant",
          "Kitchen B & L",
          "Khmer Grill",
          "Dunkin'",
          "52nd Station Diner",
          "Chick-fil-A",
          "Greek Lady",
          "Burger King",
          "El Techo",
          "Libertine Restauraunt",
          "Hunger Burger",
          "Dolce Pizza",
          "Triple Joy",
          "Fitzwater Street Philly Bagels",
          "Temple Town Pizza & Grill",
          "Drinker's Tavern",
          "The Freshworks - Mayfair Store",
          "Wingstop",
          "O'Mares Irish Pub",
          "Anna Restaurant",
          "Independence Prime",
          "The Chinese Noodle Factory",
          "Il Ghiottone",
          "Stella's Pizza",
          "Philadelphia Taxi Cab",
          "Just Salad",
          "Jim's Steaks South Street Steaks and Hoagies",
          "Currito",
          "Seulanga",
          "El Sarape Restaurant",
          "Linda's Vegetarian Village Restaurant",
          "Big Daddy Pizza",
          "Luk Fu",
          "The Angelo Pizza",
          "Suzani Palace",
          "Local 44",
          "Crown Chicken & Burger",
          "Con Murphy's",
          "Zaffron",
          "Brauhaus Schmitz",
          "Eclipse Hookah Lounge",
          "Aqimero",
          "Magic Noodles",
          "The Bellevue Hotel",
          "Fruit Salad Cart",
          "America's Best Wings",
          "Burger King",
          "Circles + Squares",
          "Sabrina's Café",
          "New Leaf 2 Chinese & Japanese Cuisine",
          "Ray's Café & Teahouse",
          "Cafe Nhan",
          "By George! Pizza Pasta & Cheesesteaks",
          "Oscar's Tavern",
          "Nick's Roast Beef",
          "Spataro's Cheesesteaks",
          "Explorer's Den Steaks and Hoagies",
          "Tropical Smoothie Cafe",
          "Cucina Italiana",
          "El Principe Restaurant",
          "KFC",
          "Popeyes Louisiana Kitchen",
          "revive 21",
          "Bally Pizza",
          "Beijing",
          "Bellini",
          "Papa John's Pizza",
          "Shang Hai 1",
          "Freddy & Tony's Restaurant",
          "Antonio's Deli",
          "New London Pizza",
          "Attico Rooftop Lounge",
          "Anthony's Italian Coffee House and Chocolate House",
          "Wolf Street Pizza & Grill",
          "Fino's Pizzeria & Restaurant",
          "Bistro Romano",
          "Small Oven Pastry Shop",
          "Level 33",
          "Emmy Squared - Queen Village",
          "Food For Your Soul",
          "Naana Xtra-O Restaurant",
          "Chi Mc King",
          "Tango",
          "U-Town",
          "Philly's Seafood",
          "Moriarty's Restaurant and Irish Pub",
          "Butcher and Singer",
          "Spice Garden",
          "New China",
          "Paddy Whacks Irish Sports Pub - Welsh Road",
          "Frannie Nicks",
          "Cilantro New Mediterranean Cuisine",
          "McDonald's",
          "Stacy's Pizza & Wings",
          "Craft Manayunk",
          "Soul of Africa Restaurant",
          "Pho Don",
          "Boston Market",
          "Castellino's",
          "Queen & Rook Game Cafe",
          "Irwin's",
          "Ho's Chinese Restaurant",
          "Bluestone Lane - Philadelphia",
          "United Buffet",
          "Sweet Box Cupcakes",
          "Alimentari",
          "Burger King",
          "Brotherly Grub",
          "Taffets Bakery & Store",
          "Jean's Pizzeria & Grill",
          "Illiano Pizza Restaurant",
          "Fu-Wah Mini Market",
          "Harp & Crown",
          "Seorabol Center City",
          "Koreana",
          "chili's",
          "Aramingo's Best Pizza",
          "Chickie's & Pete's Cafe",
          "George's Food truck",
          "Laurel",
          "Oxtail International Cuisine and Juice Bar",
          "Spread Bagelry",
          "Wawa",
          "Libertee Grounds",
          "Las Bugambilias",
          "Picanha Brazilian Steakhouse",
          "Sto's Bar & Restaurant",
          "Renzi's Pizzeria",
          "Sushi Garden & Kitchen",
          "Fogo de Chao",
          "Kensington Quarters",
          "The Fin Surf & Turf by CDJ",
          "Koch's Deli",
          "Undrgrnd Donuts",
          "Golden Gates",
          "McDonald's",
          "Chipotle Mexican Grill",
          "Keller Market",
          "Tiffin",
          "Tommy's Place",
          "Vagrant Coffee",
          "Revolution Taco",
          "Bloomsday Cafe",
          "Iron Hill Brewery & Restaurant",
          "Temple Rainbow",
          "MoMos Of Tibet",
          "Moe's Deli Restaurant",
          "Quality Taste Jamaican Restaurant",
          "Daiki Hibachi and Sushi",
          "Interstate Drafthouse",
          "Best In Town Pizza",
          "Pizzeria Stella",
          "Three Monkeys Cafe",
          "Cotoletta Fitler Square",
          "O'Jung's",
          "4 Seasons Food Market",
          "Branzino Italian Ristorante",
          "NBC Sports Arena",
          "Ed's Pizza House",
          "Marabello's",
          "Philly Sunnyside Diner",
          "Zuzu's Kitchen",
          "Mandarin Palace",
          "La Peg",
          "Berks Street Crabs",
          "New York Gyro Truck",
          "Pizza City",
          "Los Potrillos Mexican Restaurant",
          "20th Street Pizza",
          "Creme Brulee Bistro & Cafe",
          "Greg's Kitchen",
          "China House",
          "Hibachi Shokudo",
          "New Zem Zem Pizza",
          "Wawa",
          "Lucky 13 Pub",
          "Sueno",
          "Sardi's Pollo A La Brasa",
          "City View Pizza",
          "Tir na nOg Irish Pub",
          "Sonny's Famous Steaks",
          "Subway",
          "The Juice Room",
          "Jackass Burrito",
          "Little Sicily Pizza",
          "Mission Taqueria",
          "Valley Green Inn",
          "Jimmy's Timeout Sports Pub",
          "Seiko Japanese Restaurant",
          "Dunkin'",
          "Bomb Bomb",
          "The Shake Seafood",
          "Dunkin'",
          "Isabella Pizza",
          "Best China Inn",
          "Crisp Kitchen",
          "Country Club Diner",
          "Artesano Cafe",
          "Marianna's Pizzeria",
          "Shop Mark Supermarket",
          "1st NE International Market",
          "Wynnefield Pizza",
          "A & J Seafood",
          "Zahav",
          "Germantown Garden",
          "Reggae Reggae Vibes",
          "Philly Pretzel Factory",
          "Five Guys",
          "El Rey",
          "Nick's Roast Beef",
          "Unity Taqueria",
          "Balducci's",
          "Hong Kong Deli",
          "Loco Pez",
          "NO.1 China",
          "Tin Can Bar",
          "Alma Del Mar",
          "Szechuan Four Rivers",
          "Tasteful Sensations Seafood & Soul Food",
          "Street Side",
          "El Guaco Loco",
          "Brasil's Nightclub",
          "Dottie's Donuts",
          "Philly Pretzel Factory",
          "Francesco Steaks",
          "Jack Duggan's Pub",
          "El Provocon",
          "Gourmay Diner",
          "Macaroni's Restaurant",
          "Gleaner's Cafe",
          "Slice",
          "LeBus Cafe",
          "Mr Wish - South Philly",
          "Keating's Rope & Anchor",
          "Azaad Foods",
          "Salam Cafe and Market",
          "Great Taste Chinese Food",
          "Halal Fusion Chinese Restaurant",
          "Food Point Deli",
          "Dunkin'",
          "La Mamiringa Restaurant",
          "Wawa",
          "Philly Pretzel Factory",
          "Checkers",
          "Wacky Zaki's",
          "Andy's Chicken",
          "Chat On Chew",
          "Wawa",
          "Kei Sushi Restaurant",
          "Ratchada Thai & Laos Cuisine",
          "Lou & Choo's Lounge",
          "Beijing Garden",
          "DaFranco Pizzeria",
          "Byrne's Tavern",
          "A.Cafe AKA Cafe",
          "Kanella Grill",
          "Palm Tree Gourmet",
          "Jin Wei",
          "Old Nelson Food Company",
          "Marino Bros. Cheesesteaks",
          "The Adobe Cafe",
          "ShopRite of Morrell Plaza",
          "Gran Caffe L'Aquila",
          "Popeyes Louisiana Kitchen",
          "The Little Sicilian Food Truck",
          "Panda Garden Chinese Restaurant",
          "Tampopo",
          "Mr Pizza",
          "Domino's Pizza",
          "Prince Of Pizza & Falafel",
          "Lacroix Restaurant at The Rittenhouse",
          "Corfu Pizza",
          "National Mechanics",
          "Evergreen Deli",
          "Sushi Poke",
          "Misconduct Tavern",
          "The Foodery at Rittenhouse",
          "Via Locusta",
          "Bruegger's Bagels",
          "Penn Cafe & Pizzeria",
          "Costa's Pizza & Grill",
          "Barry's Buns",
          "Ban Bamboo",
          "Renzis Pizzeria",
          "The Enerjuicer - Suburban Station",
          "The Black Squirrel Pub and Haunt",
          "Milano Pizza & Grill",
          "Sphinx Café",
          "Lucky Star Asian Cuisine",
          "Fresh Works of Mayfair",
          "Classic Pizza",
          "Lyn's",
          "Bronze Table",
          "Ulana's",
          "New Era Indian Cuisine",
          "Popeyes Louisiana Kitchen",
          "Casta Diva",
          "Caffe Chicco",
          "China King",
          "Broad Street Diner",
          "A P J Texas Weiner",
          "Pho Viet",
          "Chengdu Famous Food",
          "Dunkin'",
          "South View Pizza",
          "Radicchio Cafe",
          "The Prime Rib",
          "Bellissima Pizza",
          "Ateethi",
          "Two Eagles Cafe",
          "Fiore Fine Foods",
          "Bricco Pizza Romana",
          "A La Mousse",
          "&pizza - Walnut",
          "Dunkin'",
          "IKEA",
          "Las Vegas Lounge",
          "Top Taste",
          "Manhattan Bagel",
          "Man vs Fries",
          "Little Nonna's",
          "The Institute Craft Bar & Kitchen",
          "Fare",
          "Di Bruno Bros.",
          "Wingstop",
          "Kif's Sports Bar and Hookah Lounge",
          "O-Sunnyside Breakfast",
          "Teas N' Mi",
          "House of Kosher",
          "Hummus Grill",
          "P S & Co",
          "Maggiano's Little Italy",
          "Woodrow's Sandwich Shop",
          "Laser Wolf",
          "Louie Louie",
          "Pete's Pizza",
          "Mian at Rivers Casino Philadelphia",
          "Brunics",
          "Verree Express Pizza",
          "Starbucks",
          "SOMO Manayunk",
          "Victory Brewing Company Philadelphia",
          "Sam's Cold Cuts",
          "Kim's Restaurant",
          "Dalessandro’s Steaks & Hoagies",
          "Devon & Blakely",
          "Dunkin'",
          "The Bourse Food Hall",
          "Cafe Express",
          "A Taste O' Home",
          "The Crimson Cafe",
          "Ishkabibble's",
          "Santucci Square Pizza V",
          "McDonald's",
          "Deborah's Kitchen",
          "Saxbys 11th and Locust",
          "Kayu",
          "Station Pizza",
          "Saladworks",
          "Wingstop",
          "Mustard Greens Restaurant",
          "Azione",
          "Tequilas Restaurant",
          "Montesini Pizza",
          "Artigiano Pizza",
          "Kristina Pizza",
          "El Boom Catracho",
          "Mace's Crossing",
          "Booker's Restaurant and Bar",
          "Federal Donuts",
          "Ambassador",
          "Miracles Jamaican Restaurant and Bakery",
          "Popi's Italian Restaurant",
          "Kurry Korner",
          "New York Bagel Bakery",
          "Green Line Cafe",
          "Drougie's Pizza",
          "Red Lobster",
          "Kraftwork",
          "Beehive Bake Shop",
          "Major Wing Lee Grocery Market",
          "Pizza Roma",
          "Fiorella",
          "Katerina's Pizza",
          "Soul D'lysh & Catering",
          "Honey Bee Gourmet Deli",
          "Tio Pepe Restaurant & Bar",
          "Cavanaugh's Restaurant",
          "Spring Garden Restaurant",
          "Rustika Pollo a La Brasa",
          "McDonald's",
          "Yiro Yiro",
          "Dig",
          "Tony's Market",
          "David's Mai Lai Wah",
          "Tradesman's",
          "AmeriThai",
          "Taco Loco",
          "La Cocina del Cafe",
          "Jerry's Bar",
          "Asia Bakery",
          "Vernie's Soul Food",
          "Bruno's",
          "Pagano's Steaks",
          "Matt & Marie's",
          "Cook",
          "Chillin Pizza",
          "Bravo Pizza & Halal Food",
          "Little Thai Market",
          "Amazing Crab House",
          "Asian Fusion & Steak",
          "Win Win",
          "Wrap Shack",
          "Montego Grill",
          "Chix & Bowls",
          "La Viola Ovest",
          "The Penthouse Club",
          "Germantown Biergarten",
          "Cafe Mi Quang",
          "Fishtown Pizza",
          "City Winery - Philadelphia",
          "Volvér",
          "Coins Restaurant and Pub",
          "KFC",
          "Hamilton Restaurant",
          "Brooklyn Bowl - Philadelphia",
          "BAMBU",
          "Point Breakfast Restaurant",
          "Chris's Pizza",
          "Uzbekistan Restaurant",
          "Greens and Grains",
          "The Shake Seafood",
          "Asian Palace",
          "Chez Colette",
          "Taijiang Snackies",
          "Georgian Bread Cuisine",
          "Huda",
          "Positano Coast by Aldo Lamberti",
          "Palizzi Filippo Social Club",
          "Temple Teppanyaki",
          "New China - Philadelphia",
          "Buffalo Wild Wings",
          "Kisso Sushi",
          "Indian Sizzler",
          "Last Drop",
          "Ocean City",
          "Luke's Lobster Rittenhouse",
          "Sweet Lucy's Smokehouse",
          "Dunkin'",
          "Pho Cali Vietnamese Restaurant",
          "Jakes Place",
          "PJP Marketplace",
          "Turbo Thai ",
          "Far East Chinese Cuisine",
          "Kyushu Ramen & Sushi",
          "Pitruco Pizza",
          "Talk of the Town",
          "Ten Asian Food Hall",
          "Hatville Deli",
          "Parkway Corner Deli",
          "Deke's BBQ",
          "Pistola's Del Sur",
          "Chipotle Mexican Grill",
          "Danny's Wok 3",
          "Lali Restaurant",
          "Jamils Cafe On Wheels",
          "Enjay's Pizza",
          "New Wong House",
          "The Bistro",
          "Koto Sushi",
          "North Bowl",
          "Pearl's Oyster Bar",
          "Dienner's Bar-B-Q Chicken",
          "bāo•logy",
          "Mole Poblano Restaurant",
          "Monte Cristo",
          "Sexy Green Truck",
          "KC's Pastries",
          "Bishos",
          "Grindcore House",
          "La tapenade",
          "Judah Mediterranean Grill",
          "The Satellite Cafe",
          "Chix & Wings",
          "Chu Shang Spicy 厨尚麻辣",
          "Tacos California",
          "Unsoulfood",
          "Crown Deli",
          "Hershel's East Side Deli",
          "Moshulu",
          "Maple Japanese Ramen",
          "Abyssinia",
          "Jake's & Cooper's Wine Bar & Wine Shop",
          "Pete's Pizza",
          "Cafe Pendawa Lima",
          "Musette",
          "Amuse",
          "Peace A Pizza",
          "Siu Kee Duck House",
          "Chestnut Hill Sushi",
          "Mad Greek Restaurant and Pizza",
          "Devil's Den",
          "Callahan's Grille",
          "Owl Breakfast & Lunch",
          "Rotten Ralph's Pub & Eatery",
          "United By Blue",
          "Goldie",
          "New Phnom Penh",
          "Red Poke Express",
          "Nom Nom Ramen",
          "La Roca",
          "Winkel",
          "Francoluigi's Pizzeria & Italian Restaurant",
          "E-Z Brunch",
          "Circles Contemporary Thai",
          "Biryani Bowl",
          "Uptown Seafood",
          "La Viola",
          "Bernie's Restaurant & Bar - Manayunk",
          "The Basement Board Game Cafe",
          "Mui Chung",
          "The Pizza Pub",
          "Marathon On the Square",
          "Melograno",
          "Le Pain Quotidien",
          "Tokyo Sushi",
          "Popeyes Louisiana Kitchen",
          "La Famiglia Pizza & Grill",
          "PJP Marketplace",
          "BBQ Unlimited",
          "Jose Pistola's",
          "Grill Master Deli",
          "Dwight's Southern Barbecue II",
          "Elixr Coffee Roasters",
          "Tria Cafe Rittenhouse",
          "Rebel Taco",
          "Shish-Kabob Palace",
          "Tk Homestyle cooking",
          "A Quality Cafe",
          "Capital One Café",
          "Denise's Delicacies",
          "Subway",
          "Colney Delicatessen",
          "McDonald's",
          "Mediterranean 2000",
          "Wawa",
          "Blackbird Pizzeria",
          "George's Pizza",
          "The Cheesecake Factory",
          "Randi's Restaurant and Bar",
          "2nd Street Brew House",
          "Maggie's Waterfront Cafe",
          "New Germantown Pizza",
          "Frank's Pizza",
          "Shalom Pizzeria",
          "Blue Jay Restaurant",
          "Wawa",
          "California Tortilla",
          "Taste Restaurant",
          "The Green Line Cafe",
          "Burger King",
          "Rice and Things",
          "Circles Contemporary Asian",
          "Dave & Buster's",
          "Tastykake",
          "Café Lutecia",
          "Hadramout",
          "Big Ass Slices",
          "Pat's Pizza & Pasta",
          "New Queen Chinese",
          "Wishbone",
          "Just Cravings",
          "Fu Hai Restaurant",
          "Shanghai Gourmet Chinese Restaurant",
          "Lorenzo's Cafe Espresso Ristorante Italiano",
          "Peace A Pie",
          "Hook & Reel Cajun Seafood & Bar",
          "Taco & Ramen",
          "Al's Corner Deli and Catering Services",
          "Heung Fa Chun Sweet House",
          "Blue Cross RiverRink Winterfest",
          "Green Line Cafe",
          "Social House",
          "Linda's Cart",
          "Olympia Ii Pizza & Restaurant",
          "Chickie's & Pete's",
          "The Victoria Freehouse",
          "Wawa",
          "Peking Inn",
          "Amma's South Indian Cuisine",
          "Her Daughters Cafe",
          "NYPD Pizza",
          "Debreaux's",
          "Ahi Sushi",
          "Hook & Reel Cajun Seafood & Bar",
          "Papa Nick's Pizza",
          "Tico's Tacos Tex Mex",
          "NetCost Market",
          "K Pot South Philly",
          "Gordon Stein -I Love Philly Homes Team - Compass",
          "Taco Bell",
          "Glick’s Rib Shack",
          "Popeyes Louisiana Kitchen",
          "Andorra Ping Pong",
          "The Piazza",
          "Down North Pizza",
          "Chipotle Mexican Grill",
          "Taco Bell",
          "NAM Vietnamese Kitchen",
          "La Parada 2",
          "Scanlon's Saloon",
          "Que Chula Es Puebla",
          "The Creperie",
          "Don Giovanni's Pizza Bar & Restaurant",
          "Osteria",
          "Strangelove's",
          "Espresso Cafe & Sushi Bar",
          "Passage Restaurant",
          "Panda Express",
          "Pub Webb",
          "Pete's Clown House",
          "Jade Harbor",
          "ERA",
          "Caribou Cafe",
          "Nook Bakery & Coffee Bar",
          "Original Liberty Bell Restaurant",
          "Johnny's Hots",
          "Oloroso",
          "Rhythm and Brunch",
          "The Flavor Spot",
          "China Star",
          "Front Street Cafe",
          "Scramble Club",
          "Heng Seng Restaurant",
          "Colonial Pizza",
          "Ten Stone Bar & Restaurant",
          "Lets Wok",
          "Wendy's",
          "Chef Johnny Bravo's Surf N Turf",
          "Schmear It",
          "Mimi’s Cafe & Market",
          "Pete's Famous Pizza Restaurant",
          "Mister Chubby's",
          "Dave & Buster's",
          "Good Flavor",
          "Popeyes Louisiana Kitchen",
          "King Food",
          "La Dominique",
          "Earth Bread + Brewery",
          "Southside Zabihah Halal Eatery",
          "Gabriella's Vietnam",
          "Philadelphia Mills",
          "McDonald's",
          "Popeyes Louisiana Kitchen",
          "Lolita",
          "Kim's Oriental Food",
          "Mayflower Bakery & Cafe",
          "A King's Cafe",
          "Thang Long Pho Restaurant",
          "New Ridge Brewing",
          "Bubbakoos Burritos",
          "King Food Restaurant",
          "PrimoHoagies",
          "Hayashi Sushi",
          "Jake & Max's Deli",
          "Millie's Burgers, Steaks & Shakes",
          "Nifty Fifty's Fishtown",
          "iPho",
          "Cafe URBA",
          "M Kee",
          "Twenty Manning",
          "Balcony Bar @ The Kimmel Center",
          "Poppy's Cafe",
          "Dinics Pork & Beef",
          "Taco Bell",
          "Gaetano's",
          "Bruno's Pizza",
          "Craytaste",
          "Aksum Cafe",
          "Mr Wings",
          "Green Garden",
          "John's New Pizza & Restaurant",
          "Barclay Prime",
          "Checkers",
          "Encima",
          "Lazaro's Pizzeria & Grill",
          "Goubaa Grub",
          "Philip's Steaks",
          "Pho Saigon",
          "Ming River Chinese Restaurant",
          "Temple Star",
          "IHOP",
          "Bonchon Philadelphia",
          "Distrito Taco Truck",
          "Callowhill Greens",
          "Chestnut Grill and Sidewalk Cafe",
          "Hardena/Waroeng Surabaya Restaurant",
          "Back-a-yard Jamaican",
          "Old London Style Pizza",
          "Dante & Luigi's",
          "Dim Sum Garden",
          "A Mano",
          "Texas Chicken & Burgers",
          "Frieda",
          "Checkers",
          "Frank's Alot",
          "Panda Express",
          "Famous 4th Street Delicatessen",
          "Pelicana Chicken",
          "Northeast Sandwich Co.",
          "Asian Bamboo House",
          "Hive Café",
          "Brilliant Pizza Company",
          "Jim's South St",
          "Super House",
          "Tattooed Mom",
          "Glory Beer Bar & Kitchen",
          "H Mart - Philadelphia",
          "The Westin Philadelphia",
          "McDonald's",
          "Renata's Kitchen",
          "A & A Steaks",
          "Zesto Pizza & Grill",
          "Vegan Commissary",
          "Miles Table",
          "Chef Big Rube's Kitchen",
          "Dad's Stuffings",
          "Chuan Kee Skewer",
          "Sbarro",
          "HomeGrown Coffee and Creations",
          "Crown Fried Chicken",
          "Robola Pizza & Grill",
          "Gojjo Bar & Restaurant",
          "Haveli Virasat",
          "Shef's Pizza",
          "Tony's Famous Tomato Pie",
          "Andy's Chicken",
          "Tokio HeadHouse Restaurant, Bar, and Sushi Catering",
          "Middle Child Clubhouse",
          "Stacy's Pizza",
          "Taqueria Morales",
          "Chucks Homemade Waterice",
          "Old English Style Pizza",
          "Dunkin'",
          "Toto's Pizzeria",
          "City Tap House",
          "Wingstop",
          "Pho Saigon",
          "Top Chef Quickfire",
          "Nam Phuong",
          "Pier Bar",
          "La Rosa Pizzeria",
          "Seorabol Korean Restaurant",
          "Jimmy John's",
          "QDOBA Mexican Eats",
          "Iron Hill Brewery & Restaurant",
          "Dunkin'",
          "2nd Story Brewing",
          "Taco Bell",
          "Bobs Crab House",
          "Tap Room On 19th",
          "Tokyo Sushi & Catering",
          "Couch Tomato Catering",
          "Naf Naf Grill",
          "sweetgreen",
          "Pyramid Club",
          "The Goat's Beard",
          "Philadelphia Java Company",
          "Al Sham Restaurant",
          "Dolores",
          "Ken Love's BYOB",
          "La Bourse at Hotel Sofitel",
          "Juno",
          "Wendy's",
          "Pinefish",
          "Sweetie's Take Out & Catering",
          "ShopRite of Roosevelt Blvd",
          "Union League of Philadelphia",
          "Wawa",
          "Gogi BBQ",
          "Rice & Mix",
          "Stadium Pizza",
          "Tower Style Pizza",
          "Vivaldi Restaurant",
          "McDonald's",
          "Isgro Pastries",
          "White Dog Cafe",
          "Lo Chinese Restaurant",
          "Baby Blues BBQ Philly",
          "Burger King",
          "Palace Royal Restaurant",
          "St. Stephen's Green",
          "Beijing Chinese Restaurant",
          "Tierra Colombiana Restaurant",
          "Sang Kee Noodle House",
          "Santucci's Original Square Pizza",
          "Monde Market",
          "Pizza Point",
          "Neli's Deli",
          "Scotty's Bar",
          "Crack Crab",
          "Kay Kay's",
          "Geno's Steaks",
          "Julian's Soul Food",
          "Stacy's Pizza",
          "Faragalli's Bakery",
          "Brother's Pizza House II",
          "Bravo's Pizza Seafood House",
          "Coffee House Too",
          "Le Mandingue African Restaurant",
          "Liberty Choice",
          "The Galley Cafe",
          "Sunrise Breakfast",
          "Mr Hook Fish & Chicken",
          "Cacia's Bakery",
          "Lennie's Hoagies",
          "The Pharmacy",
          "PrimoHoagies",
          "The Union Tap",
          "Kennedy Food Garden",
          "Cafe Thanh Truc",
          "Wadsworth Pizzeria",
          "Nomad Pizza Company",
          "Dock Street Brewery South",
          "The Gables Cafe",
          "George's Lunchette",
          "Hilltown Tavern",
          "Varga Bar",
          "Burger King",
          "Naked Lunch",
          "Lale Gourmet Kebab",
          "Hatch & Coop",
          "Banana Leaf",
          "El Sabor Catracho",
          "Tony Luke's",
          "Heffe",
          "Shiao Lan Kung",
          "Manakeesh Cafe Bakery & Grill",
          "Wawa",
          "Rowhome Coffee",
          "The Couch Tomato Cafe",
          "Steve's Prince of Steaks",
          "Passyunk Avenue Philly Bagels",
          "Stenton Pizza",
          "Breakfast Boutique Mount Airy",
          "Dunkin' - Philadelphia",
          "Pietro's Coal Oven Pizzeria",
          "Choy Wong Kitchen",
          "Noord",
          "Dim Sum & Noodle",
          "Los Tacos",
          "Cherish Philly",
          "Taco Bell",
          "Makkah Market",
          "Saigon Noodle Bar",
          "Tip Top Pizza",
          "HOSHI'S",
          "Waterfront Gourmet Cafe & Deli",
          "Emma’s Liberian Kitchen",
          "Papa John's Pizza",
          "Lucky Strike - Philadelphia",
          "Stargazy",
          "Veghada",
          "Vango Lounge & Skybar",
          "StudioKitchen",
          "Lun's Asia Chef",
          "Rustica",
          "The Goat Rittenhouse",
          "Good Karma Cafe",
          "Gia Pronto",
          "WaWa",
          "Mammoth Coffee",
          "honeygrow",
          "Banh Mi and Bottles",
          "Pierogie Kitchen",
          "Tinto",
          "Melrose Diner",
          "Chili's",
          "Taqueria La Raza",
          "Top Taste 2",
          "K & J Caribbean American Diner",
          "iMunch Cafe",
          "Nam Vang Restaurant",
          "Coney Shack",
          "Vista Peru",
          "The Victor Cafe",
          "Metropolitan Bakery",
          "Manayunk Tavern",
          "Cavanaugh's Rittenhouse",
          "Bryn Mawr Pizza II",
          "Popeye's - Roosevelt Mall",
          "Bing Bing Dim Sum",
          "England Pizza",
          "Dairy Queen",
          "Mi Pueblito Tacos",
          "Domino's Pizza",
          "Pei Wei",
          "Kitty's Luncheonette",
          "Aldo's Pizzarama",
          "Potbelly Sandwich Shop",
          "South Square Market",
          "Tela's Market & Kitchen",
          "The Original Charlie's Pizza",
          "Umi Sushi And Seafood",
          "South Style Pizza",
          "Soul Kitchen 5935",
          "Wolf's Market",
          "South Side Pizza",
          "Uncle Tomy's",
          "Bleu Martini",
          "Founded Coffee & Pizza",
          "Royal Boucherie",
          "JG SkyHigh",
          "Yellowtail",
          "Chickie's & Pete's",
          "Fishtown Market",
          "D.P. Dough-Philadelphia",
          "Square Pie",
          "New England Pizza",
          "Cafe Liz",
          "The Original Tony Lukes",
          "Bistro Perrier",
          "MrBeast Burger",
          "Play2",
          "QQ Deli Market",
          "Paradise Inn",
          "Sunday's Best",
          "Four Seasons Diner",
          "Zaccone's Restaurant",
          "Artisan Boulanger Patissier",
          "Prince Tea House",
          "Tacotacomexican",
          "Yamitsuki Ramen",
          "Lightbox Cafe",
          "Three Countries Pizzeria",
          "Locust Rendezvous",
          "Loco Pez",
          "Falafel Time",
          "Founding Fathers Sports Bar & Grill",
          "Bison Coffee",
          "Haegeles Bakery",
          "The El Bar",
          "Children's Hospital of Philadelphia Cafeteria",
          "Sutton's",
          "Philadelphia Museum of Art",
          "Hawthornes Biercafé",
          "The Bagel Hut",
          "Lorenzo's Pizza",
          "CJ & Eck's",
          "Dock Street Cafe",
          "Wawa",
          "Bar 210",
          "Pho Cyclo Cafe",
          "Hemo's",
          "Xfinity Live! Philadelphia",
          "Cafe Walnut",
          "Pho Washington",
          "Dunkin'",
          "Vino Volo",
          "Cannstatter Volksfest Verein",
          "Panera Bread",
          "Vic Sushi Bar",
          "Spice C",
          "Barbuzzo",
          "Frangelli's Bakery",
          "Chinatown Square",
          "52nd Skyline Restaurant",
          "Twenty Manning",
          "Mediterranean Cafe & Ice Cream",
          "Maxwells Carribean American Take Outs",
          "The Better Box",
          "Burrata",
          "KFC",
          "Wendy's Deli",
          "Taco Bell",
          "Pizza Brain",
          "Baba Bar",
          "Oregon Express",
          "Burger King",
          "Victoria's Kitchen",
          "Villagio Pizza",
          "LeBus East Falls",
          "Temple University Hospital Cafeteria",
          "Mt. Airy Deli",
          "Subway",
          "Li'l Nick's Deli",
          "Ever Green",
          "Dim Sum House",
          "Bubby's Brisket & Bugsy's Weiners",
          "Ol' Boy's Soul Food",
          "Starbucks",
          "Wawa",
          "LongHorn Steakhouse",
          "Hunan Star",
          "McDonald's",
          "Aldo Lamberti Trattoria",
          "Mamma Mia's Breakfast Kitchen",
          "R & R Produce",
          "Mariposa Food Co-op",
          "Hiro Ramen House",
          "Los Cuatro Soles",
          "New Pizza Villa",
          "Paprica Modern Mediterranean Grill",
          "Paris Baguette",
          "New Star Pizza",
          "Her Place",
          "Balboa Catering and Supper Club",
          "Quetzally",
          "Bill's Breakfast & Lunch",
          "O Rei Da Picanha Steakhouse",
          "Giorgio On Pine",
          "Non Stop Deli",
          "Dolce Italian - Philadelphia",
          "Strictly Seafood",
          "Chipotle Mexican Grill",
          "Lulu Cafe",
          "Morgan's Pier",
          "Saffron Indian Cuisine",
          "Pizza Shoppe",
          "Gaetano's Pizza",
          "Bardot Cafe",
          "Sotto",
          "Maxi Gastronome",
          "QDOBA Mexican Eats",
          "Bain's Deli",
          "Kusina Philly",
          "Saladworks",
          "Gatehouse ",
          "Charlie's Pizzeria",
          "Hoagies Plus",
          "Dahlak",
          "Mangia Macaroni",
          "The Breakfast Den",
          "The Black Cat Tavern On 12th",
          "Jamaica Way",
          "La Fusion ",
          "Adelie Coffee House",
          "Trio",
          "Jaggie's Restaurant",
          "Angelina's Panini Bar",
          "The Original Turkey",
          "Halal Gyro Express",
          "McDonald's",
          "Di Bruno Bros.",
          "Chick-fil-A",
          "Lamberti Pizza and Market",
          "ShopRite of Aramingo Avenue",
          "Yong Hwa Roo",
          "AURA",
          "Wawa",
          "Reanimator Coffee",
          "Fette Sau",
          "Philly Pretzel Factory",
          "Pizza Warehouse",
          "Race Street Cafe",
          "Bo Wah",
          "Green Papaya Cafe",
          "Santucci's Original Square Pizza",
          "U S Hotel Bar & Grill",
          "Izlas Latin Cuisine",
          "New Station Pizza",
          "XIX Nineteen",
          "High Street Philadelphia",
          "Texas Wiener",
          "Ninja Bao",
          "Basement at the Bellevue",
          "Mifflin Tavern",
          "Domino's Pizza",
          "Dasiwa",
          "Byblos",
          "King of Wings",
          "Porky's Point Restaurant",
          "The Fresh Grocer of Monument Road",
          "Memphis Market & Grill",
          "The  Crab house",
          "Dottie's Donuts",
          "Goldie",
          "Golf & Social",
          "Giovani's Bar & Grill",
          "Tang's Halal Chinese Restaurant",
          "New Town Restaurant",
          "Tortilleria San Roman",
          "El Provocon Restaurant",
          "Knock",
          "River Twice",
          "Cafe Ynez",
          "Chucks Alibi",
          "Doma",
          "U-Bahn",
          "Trev's Philly Steaks",
          "Dunkin'",
          "PTG Catering",
          "Luna Café & Provisions",
          "China Moon",
          "Marinucci's Deli - Port Richmond",
          "Dessertcrazy",
          "Kick Axe Throwing",
          "Bagels & Co",
          "Chicko Tako",
          "The Sidecar Bar & Grille",
          "ENI Deli",
          "Pho Ha Saigon",
          "Station Pizza",
          "Veda - Modern Indian Bistro",
          "Jamaican D's",
          "D'Emilio's Old World Ice Treats",
          "Fishtown Diner",
          "Balkan Express Restaurant",
          "Nannie Franco’s Pizzeria",
          "The Buffalo House",
          "Parmigiana",
          "Sky Asian Bistro",
          "Green Eggs Cafe",
          "Bibou",
          "Old Nelson Food Market",
          "The Foodery Roxborough",
          "China Bowl Restaurant",
          "Tropical Choice",
          "Ferrante's Meats & More",
          "City Line Deli & Frank's Catering",
          "Domino's Pizza",
          "Alma de Cuba",
          "Crown Deli At Pennypack",
          "ShopRite of Oxford & Levick",
          "Clarkville",
          "La Calaca Feliz",
          "Buzz Cafe",
          "Chestnut Hill Brewing Company",
          "Nine Ting",
          "Garden Court Eatery & Beer",
          "Gaeta's Italian Bakery",
          "Hugo's Frog Bar & Chop House",
          "Lee's Deli",
          "Rione",
          "Deke's Bar-B-Que",
          "Shake Shack",
          "Old Nelson Food Company",
          "Pizzeria L'Angolo",
          "PaperMill - Fresh Asian Kitchen",
          "Express Kabob & Grill",
          "Ambrosia Ristorante BYOB",
          "OG Pizza",
          "Jay's Deli",
          "Caribbean Delight",
          "honeygrow",
          "Papa John's Pizza",
          "Knead Bagels",
          "Thanal Indian Tavern",
          "Adrian's Sports Bar And Grill",
          "KFC",
          "Golden Dragon",
          "Taco Bell",
          "Taste Africa",
          "The Bagel Place",
          "My Thai Restaurant",
          "New York Gyro Place",
          "Harry the K's Broadcast Bar & Grille",
          "The Gold Standard Cafe",
          "Fiesta Pizza II",
          "Liu's Garden",
          "La Scala’s",
          "Saint Lazarus",
          "Fishtown Pizza Truck",
          "DiNapoli Pizza",
          "Campo's Philly Cheesesteaks",
          "Luna Café",
          "His & Hers Restaurant & Bar",
          "The Board & Brew",
          "A King's Cafe",
          "Distrito",
          "Moffin's Steak",
          "Crab House 5706",
          "Dolce & Caffè",
          "Wendy's",
          "McDonald's",
          "Zama",
          "Uncle Oogie's",
          "Old Nelson Food Company",
          "Nanee's Kitchen",
          "Scoop DeVille",
          "SoBol Rittenhouse",
          "Foose Grill",
          "The Green Line Cafe",
          "La Casa Di Lucias",
          "New Olympia House",
          "Classic Pizza Shop",
          "The Flower Cafe At Linda's",
          "Tai's Vietnamese Food",
          "Sassafras Bar",
          "Yunique Pizza",
          "K-POT Korean BBQ & Hot Pot",
          "Dunkin'",
          "Reanimator Coffee",
          "Love & Honey Fried Chicken",
          "Finn McCool's Ale House",
          "Hello Donuts + Coffee",
          "Diamante Pizzaria",
          "Good Spoon Soupery",
          "Liberté Lounge",
          "What's In This?",
          "On & Sons Seafood",
          "Community",
          "Popeyes Louisiana Kitchen",
          "Hibachi Japanese Steakhouse & Sushi Bar",
          "McNally's Tavern - Mayfair",
          "Super Fratelli's Pizza",
          "Dawson Street Pub",
          "Haunt",
          "Nom Wah Philadelphia",
          "Plaza Pizza At Temple University",
          "Danny's Wok",
          "Yummy Diner",
          "a.kitchen",
          "CinCin Restaurant",
          "Pitchers Pub",
          "Starbucks",
          "Vietnam Cafe",
          "Bull's BBQ",
          "The Pizza Place",
          "Machi Sushi Bar",
          "Haverford Grill & Soul",
          "Stogie Joe's Tavern",
          "Old City Beer Garden",
          "South Deli and Grocery",
          "Restaurant Catracho",
          "Erawan Thai Cuisine",
          "Soup Kitchen Cafe",
          "Kostas Bar Restaurant",
          "McCormick & Schmick's Seafood & Steaks",
          "Las Margaritas",
          "Tuscany Cafe",
          "Takka A's Grill & Pizza",
          "Little Caesars Pizza",
          "Food & Friends",
          "Lombard Cafe",
          "Szechuan King",
          "Talia's Grille",
          "Uncle Bobbie's Coffee & Books",
          "Pattaya",
          "Boston Market",
          "Bar-Ly Chinatown",
          "Chabaa Thai Bistro",
          "Philly's Platinum Grille",
          "Kaplan's New Model Bakery",
          "Wendy's",
          "The HeadHouse Cafe",
          "Oh Brother Philly",
          "Manhattan Bagel",
          "Pancho's Cafe",
          "Joe's Pizza",
          "Zesty's",
          "Sunrise",
          "Crown Fried Chicken",
          "El Greco Pizza",
          "Happy Wok",
          "L'anima",
          "Loomen Labs",
          "Dim Sum House",
          "Lumpy Magee's Grub & Pub",
          "Fat Salmon",
          "Wawa",
          "2637brew",
          "First Wok",
          "Wendy's",
          "Italian Express",
          "Krispy Krunchy Chicken",
          "Philly Pretzel Factory",
          "Hoagie Factory",
          "sweetgreen",
          "South Bowl",
          "McCrossen's Tavern",
          "Su Xing House",
          "Bonchon University City",
          "Chick-A-Boom",
          "Tony Roni's Pizza Roxborough",
          "Shake Shack",
          "Dew's Deli",
          "McDonald's",
          "Champagne Cafe",
          "Mike & Matt's Italian Market",
          "El Coqui Panaderia",
          "Noir Restaurant & Bar",
          "Jansen",
          "Fuji Mountain",
          "Original 13 Ciderworks",
          "Applebee's Grill + Bar",
          "McDonald's",
          "Mango Mango Dessert",
          "Ming River Side Walk House",
          "Di Bruno Bros.",
          "House of Thai Cuisine",
          "Crown Chicken and Grill",
          "Wendy's",
          "McDonald's",
          "Nineteen 26",
          "Dolce Carini",
          "Umai Umai",
          "T cafe",
          "Star Pizza",
          "Main Garden Chinese Restaurant",
          "Domino's Pizza",
          "China House II",
          "IHOP",
          "Cafe Hindh",
          "Tea Do",
          "Philadelphia Marriott Downtown",
          "Almaz Cafe",
          "Station Bar & Grill",
          "Blaze Pizza",
          "Gachi Sushi and Noodle",
          "Writer's Block Rehab",
          "Joe's Steaks + Soda Shop",
          "Garden's Pizza",
          "Viet Bistro",
          "El Rancho Viejo",
          "I Tea",
          "Careda's Caribbean Cuisine",
          "China King",
          "Wendy's",
          "Mr Wish",
          "El Azteca",
          "Mipals Deli",
          "King of Pizza",
          "Hummingbird Diner",
          "Urban Farmer Philadelphia",
          "Squire Tavern",
          "The Flavor Spot",
          "Independence Visitor Center",
          "BBQ Town",
          "Mayfair Diner",
          "Arch Gourmet",
          "Aya Asian Fusion",
          "Ting Wong Restaurant",
          "Nile Cafe",
          "The Stand",
          "McDonald's",
          "The QUICK FIXX",
          "A La Mousse",
          "Original Pete's Pizza and Wings",
          "Philly Steak & Gyro",
          "Wawa",
          "Ba Le Bakery",
          "Saudia Shuler's Country Cookin'",
          "Matcha Cafe Maiko",
          "Southside Chicken & Seafood",
          "Taste Garden",
          "Ocean Harbor",
          "M2O Burgers & Salads",
          "Ruby Tuesday",
          "Taco Bell",
          "Schenk's Family Bakery",
          "A Lin Kitchen",
          "Uncle Oogie's",
          "DJ Kitchen",
          "Love Park Pizza and Chicken",
          "Kelliann's Bar & Grill",
          "Tres Jalapenos",
          "Debbie's Place",
          "Kyoto Japan",
          "The Grill",
          "Kung Fu Tea",
          "Green Leaf Restaurant",
          "Punch Line Philly",
          "Sushi Ya",
          "Thomasena's  Restaurant",
          "Maglio Sausage",
          "Cherry Street Tavern",
          "San Miguelito Mexican Cuisine",
          "The Blue Anchor",
          "MilkBoy",
          "McDonald's",
          "China House",
          "Tom's Dim Sum",
          "Moju's Family Pizzeria",
          "Pop Up Café",
          "Nitty's Tavern",
          "El Cantinflas",
          "Popeyes Louisiana Kitchen",
          "Hilton Philadelphia City Avenue",
          "Frida Cantina",
          "Moonshine Philly",
          "Nori Ramen & Poke Bowl",
          "New Golden House",
          "La Sushi",
          "Far East Descendant",
          "Mandarin House",
          "Delightful Garden",
          "Yanako",
          "Tiffany's Bakery",
          "El Sabor De Maria",
          "Doliva Evoo Pizza & Grill ",
          "Chickie’s & Pete’s",
          "Ritz Diner",
          "Rex at the Royal",
          "Alex's Pizzeria",
          "Gyu-Kaku Japanese BBQ",
          "Chili's",
          "The Dutch",
          "Wawa",
          "No 1 China",
          "No-1 China",
          "Jade Harbor",
          "63rd St Pizza",
          "El Provocon Restaurant II",
          "Ruby's Cajun",
          "China Panda",
          "Standard Tap",
          "Wendy's",
          "The Ranchito",
          "Del Rossi's Cheesesteak",
          "Sunset Social",
          "Passero's Coffee Roasters",
          "Uncle's Seafood",
          "Poe's Sandwich Joint",
          "Masala Kitchen: Kati Rolls & Platters",
          "District Taco",
          "Mood Indian Restaurant",
          "Golden China",
          "Hi Kori",
          "New York Gyro Halal Food Cart",
          "B-Side Complex",
          "Dutch Eating Place",
          "Judy's Kitchen",
          "Charlies Country Ribs",
          "Fame's Famous Pizza",
          "Silk City Diner & Lounge",
          "Island Taste Restaurant",
          "Bao & Bun Studio",
          "Philly Fry Truck",
          "Pret A Manger",
          "Wawa",
          "CO-OP Restaurant & Lounge",
          "Sawatdee Thai Restaurant",
          "Frank's Steaks & Burgers",
          "Heritage",
          "The Continental Mid-town",
          "Chipotle Mexican Grill",
          "La Famiglia Ristorante",
          "Philly Pretzel Factory",
          "AJ Pickle Patch and Salads",
          "Saffron Patch - Authentic Indian Restaurant",
          "Sharkey's Grill And Ale House",
          "Dwight's Southern Bar-B-Que",
          "Cafe Old Nelson",
          "Fresh Garden",
          "Saladworks",
          "Knockbox Cafe",
          "Pelicana Chicken",
          "Starbucks",
          "LongHorn Steakhouse",
          "KFC",
          "Hong Kong Bakery Shop",
          "Dairy Queen",
          "El Fuego",
          "&pizza - UPenn",
          "Miss Rachel's Pantry",
          "Milkboy",
          "Green Eggs Cafe",
          "Jet Rock Bar & Grill",
          "Trattoria Moma",
          "Kelly's Seafood",
          "Talula's Daily",
          "Rachael's Nosheri",
          "Encore",
          "Freshii",
          "Royal Pizza",
          "Jyoti Indian Bistro",
          "Redcrest Fried Chicken",
          "Golden Crust Pizzeria",
          "Dizengoff",
          "KAMI Philadelphia",
          "Popeyes Louisiana Kitchen",
          "Brandywine Pizza",
          "Tsaocaa & BBQ Chicken",
          "Isot Mediterranean Cuisine",
          "Angelino's Restaurant, Fairmount- Philadelphia",
          "Capriccio Cafe and Bar",
          "Jerry's Kitchen",
          "Tamarind",
          "Garden Restaurant",
          "Steap and Grind",
          "Franklin's Table",
          "Fairmount Pizza and Grill",
          "Bravo's Pizza",
          "The Fresh Grocer of LaSalle",
          "Fat Shack",
          "Wawa",
          "Pho 75",
          "Alamodak Restaurant and Hookah Lounge",
          "Alba Pizza Of Philadelphia",
          "Pumpkin",
          "Ace Diner",
          "Burger King",
          "Queen Village Food Market & Deli",
          "Pizza City",
          "Abeke’s Kitchen",
          "BurgerFi",
          "Bar Bombón",
          "Villagio Pizza",
          "Harbor Seafood Garden",
          "Livy's Plant Based Foods",
          "Tio Flores",
          "Di Bruno Bros.",
          "Talluto's Authentic Italian Food",
          "Stoli's Steaks",
          "Dunkin'",
          "Pete's Pizza",
          "Wendy's",
          "Cozette Pizza",
          "The Bishop's Collar",
          "Kalaya Thai Market",
          "The Crab Shack 2",
          "Pizza Plus West",
          "Dunkin'",
          "Vincenzo's Deli",
          "Crown Fried Chicken",
          "City View Pizza and Grill",
          "Blume",
          "Sakana Omakasè Sushi",
          "San Lucas Pizzeria",
          "Oyster House",
          "Old Nelson Food Company",
          "Plaza Garibaldi",
          "Boston Market",
          "Fireside Tavern",
          "Green Rock Tavern",
          "China Ruby",
          "Oath Pizza - Fashion District",
          "Adobe Cafe",
          "McDonald's",
          "Chix & Chicks",
          "Dibbs BBQ",
          "Ruby Chinese Restaurant",
          "Momma Mia's Pizzeria",
          "TaKorean",
          "Noobar",
          "Popeyes Louisiana Kitchen",
          "Steak 'Em Up",
          "P N B Breakfast",
          "Wings To Go Roxborough",
          "Kobawoo Express",
          "Taco Bell",
          "Hot Spot Pizza",
          "Surf And Turf Truck",
          "Burger King",
          "Subway",
          "N & E Agora Gourmet",
          "Pho Ha Saigon",
          "Morimoto",
          "Pete's Famous Pizza",
          "Wendy's",
          "Noah's Pizza",
          "Miss Kathy's",
          "The Happy Rooster",
          "Just To Serve You",
          "Thai Square Restaurant",
          "19 Degrees",
          "Wawa",
          "Kabobeesh",
          "Perkins Restaurant & Bakery",
          "Street Food Philly",
          "Kingston 11",
          "Condesa",
          "Yummy Pho",
          "Don Barriga Mexican Grill",
          "South Philly Barbacoa",
          "Ms D's Soulfood & BBQ",
          "Schlesinger's",
          "Martabak Ok",
          "Sakura Japanese Cuisine",
          "Food From The Heart",
          "The Dining Car & Market",
          "Wendy's",
          "Bentoulis Pizza",
          "Nori Sushi",
          "Original Village Pizza",
          "Evan's Pizza",
          "Tay's Soul Food",
          "East South Asian Cuisine",
          "Spanish Island Restaurant",
          "Audrey's Caribbean Kitchen",
          "Zhong Gang Bakery",
          "Dorsey's",
          "Time",
          "Le Baobab",
          "Termini Bros Bakery",
          "Xi'an Sizzling Woks",
          "Boston Market",
          "Hook & Master",
          "Indian Restaurant",
          "Moustaki Authentic Gyros",
          "Mina's World",
          "13 Restaurant",
          "Ted's Pizza Express",
          "Wingstop",
          "NY Gyro Lunch",
          "7 Boys Cafe",
          "Chewy's Food Truck",
          "Diamond Pizza",
          "Hok Heng",
          "Square on Square",
          "George's Burgers, Steaks and Shakes",
          "ZARA HALAL GRILL",
          "Midnight Iris",
          "Wawa",
          "El Tlaloc",
          "Entree BYOB",
          "Cook and Shaker",
          "Lavish",
          "Curry Bird",
          "All The Way Live",
          "Hajimaru Fishtown",
          "Forsythia",
          "El Huarache Azteca",
          "Pom Pom",
          "Franky Bradley's",
          "Cibao Fried Chicken Restaurant",
          "Perrys Pizzeria",
          "Devil's Alley Bar & Grille",
          "Kansai Japanese Cuisine",
          "Thai Kuu",
          "Lorenzo & Sons Pizza",
          "Hubies Southern Style Cuisine",
          "Hyon's Seafood & Restaurant",
          "Shaking Seafood",
          "Lou Bird's",
          "Nick's Charcoal Pit",
          "Starbucks",
          "S & M Seafood",
          "Zio's Brick Oven Pizzeria",
          "Fadó Irish Pub",
          "Marathon Pizza",
          "Mr Joe's Cafe",
          "Tuscany Ristorante",
          "Le Virtu",
          "Gul's Breakfast & Lunch Cart",
          "Stock's Bakery",
          "Steve Stein's Famous Deli",
          "Desi Chaat House",
          "Hard Rock Cafe",
          "Wawa",
          "Xi'an Sizzling Woks",
          "Two Brothers Pizza",
          "Out of Wack Jacks Bar & Grill",
          "Magic Carpet Foods",
          "Atiya Ola's Spirit First Foods",
          "Rival Bros Coffee",
          "DaMò Pasta Lab",
          "Penn's Port Pub",
          "Max's Steaks",
          "Frog Commissary",
          "Dunkin'",
          "Bakery Lakay",
          "La Llorona Cantina",
          "The Grill  Smuckers",
          "Mac Mart Food Truck",
          "Eeva",
          "Au Bon Pain",
          "Bintou African & American Restaurant",
          "Lucky's Last Chance",
          "Gigi Pizza",
          "The Rook Manayunk",
          "Bar Hygge",
          "Kalaya",
          "New Quality Restaurant",
          "D'jakarta Cafe",
          "Amigo's Bakery",
          "Italian Kitchen",
          "Maki of Japan",
          "The Rittenhouse Hotel",
          "Randazzo's Pizzeria",
          "CAVA",
          "Triangle Tavern",
          "Empire Szechuan",
          "Kabobi",
          "Dae Bak",
          "Saigon Quy-Bau Restaurant",
          "Jerusalem Foods",
          "Little Pete's Restaurant",
          "Panera Bread",
          "Dunkin'",
          "Smashburger",
          "Philadelphia Soft Pretzels Inc",
          "Chatayee Thai",
          "Figo",
          "Dock Street Brewery",
          "Helium Comedy Club",
          "El Balconcito",
          "Utsav Indian Cuisine",
          "Ozzy's Pizza Shop II",
          "Dunkin'",
          "Level Up Bar & Lounge",
          "Bottle Bar East",
          "Home Cuban Cafe",
          "Two Street Cafe",
          "Saladworks at Shoprite",
          "Sarcone’s Bakery",
          "Metropolitan Bakery",
          "Kite & Key",
          "Salvito's Pizza Palace",
          "J&P Seafood",
          "Landmark Americana Tap & Grill - University City",
          "Hilltown Tavern - Fairmount",
          "Stateside",
          "Newmans Grill",
          "Beck's Cajun Cafe",
          "Tea Leaf",
          "Muscle Maker Grill",
          "Academic Bistro",
          "Fiesta Acapulco",
          "Vesper Sporting Club - Northern Liberties",
          "Oteri's Italian Bakery | Frankford Ave",
          "Fork",
          "Taqueria La Herradura",
          "L'Angolo Ristorante",
          "Crab Du Jour - Bustleton",
          "Spread Bagelry",
          "Ho Sai Gai Restaurant",
          "Castor Pizza",
          "Tropical Smoothie Cafe",
          "The Fresh Works",
          "sweetgreen",
          "Lucha Cartel",
          "Chipotle Mexican Grill",
          "Mexi-Talian Grill Restaurant",
          "Hue Fusion Food Market",
          "Dîner en Blanc",
          "The Dandelion",
          "Healthy Picks",
          "Dezzy's Jamaican Restaurant",
          "Jane G's Restaurant",
          "Little Fish",
          "Little Sicily 2",
          "Primary Plant Based",
          "The Red Rooster Inn",
          "Burger King",
          "Victory Beer Hall",
          "Original Boston Style Pizza 2",
          "Chubbys Steaks",
          "Fitzwater Cafe",
          "The Bayou Bar & Grill",
          "Effie's Restaurant",
          "Yummy Yummy",
          "Tony's Pizzeria",
          "Butcher Bar",
          "Paprika Restaurant",
          "Izakaya By Yanaga",
          "Fuku",
          "Sampan",
          "KFC",
          "Aunties Biscuits",
          "Fahrenheit 451 Bar & Pizzeria",
          "Popeyes Louisiana Kitchen",
          "NetCost Market",
          "Real Food Eatery",
          "Los Camaradas",
          "Burrito Elito",
          "Talula's Garden",
          "High Point Cafe",
          "Philly Pretzel Factory",
          "nunu",
          "Old City Pizza",
          "Pinch Dumplings",
          "Boule Café",
          "Mayfair Bakery",
          "3 Brothers Pizza & Pasta",
          "Wawa",
          "United By Blue",
          "Au Bon Pain",
          "Wawa",
          "Mike's BBQ",
          "Elixr Coffee",
          "Big Catch Poke",
          "Subway",
          "Taqueria La Veracruzana",
          "Nifty Fifty's",
          "The Breakfast Boutique 2",
          "Megumi Japanese Ramen & Sushi Bar",
          "Sugar Factory",
          "Wendy's",
          "The Bakeshop on 20th",
          "Barcade",
          "Pho Tau Bay",
          "NINE",
          "Cavanaughs Headhouse",
          "South Street Souvlaki",
          "Fat Tuesday",
          "Samosa Deb",
          "Tan's Finger Lickin Chicken",
          "Wissahickon Bar & Bistro",
          "Charley Dove",
          "Nourish",
          "Alice Pizza",
          "Memphis Taproom",
          "Ramayana Restaurant",
          "Second District Brewing",
          "El Meson Latin American Cuisine",
          "Geno's Steaks at Rivers Casino Philadelphia",
          "Brown Street Coffee & Bánhery",
          "Rival Bros Coffee",
          "Philly Burgers & Shakes",
          "Henry James Saloon",
          "New Panda",
          "Ummi Dee's burger bistro",
          "KFC",
          "Jamba",
          "Independence Mall Café",
          "Subway Restaurants",
          "Emma's Cafe",
          "Arby's",
          "Phu Fha Thai Restaurant",
          "Wingstop",
          "Panda Express",
          "Paisas Pizza",
          "No. 1 China",
          "Urban Shop 543",
          "East Lake Chinese Restaurant",
          "Shaking Crab - Philadelphia",
          "La Casa Del Sandwich",
          "La Fontana Della Citta",
          "Amasi Restaurant and Hookah",
          "Express Breakfast & Lunch",
          "Vintage Wine Bar",
          "China Wok",
          "Takka Grill and Pizza",
          "Yi Pin Restaurant",
          "Pho 75",
          "Smashburger",
          "Popeyes Louisiana Kitchen",
          "Chick-fil-A",
          "Hunan Wok Philly",
          "Yu Hsiang Garden",
          "Eggcellent Cafe",
          "P'unk Burger",
          "Domino's Pizza",
          "Wendy's",
          "Mario's Pizza",
          "Paddy's Old City Pub",
          "Central Pizza",
          "Angry Deekin Ribs",
          "Pierogi Factory",
          "Figs",
          "El Molino Tortilleria and Restaurant",
          "Little Susie's Coffee & Pie",
          "Karma Restaurant & Bar",
          "Suya Suya West African Grill",
          "Bleu Soul Fine Dining",
          "Pretty Girls Cook",
          "La Canasta Mexican Food",
          "North Third",
          "Dunkin'",
          "Angelo's Pizza",
          "Avril 50",
          "Dawns Breakfast",
          "Vernick Food & Drink",
          "New Boston Style Pizza",
          "Fudena",
          "Dunkin'",
          "Tate's Good Food Restaurant",
          "Farina pasta and Noodle",
          "China City",
          "J&J South Philly Pizza",
          "Balcony Restaurant",
          "Samwhich",
          "The Famous 4th Street Cookie Company",
          "Bredenbeck's Bakery & Ice Cream Parlor",
          "Gaul & Co. Malthouse",
          "Bistro SouthEast",
          "Nemi Restaurant",
          "Jack's Firehouse",
          "Friendship BBQ",
          "Hibiscus Cafe",
          "Reedy's Tavern",
          "Ladder 15",
          "Stuff'D by Jannah Jewelz",
          "The Tasty",
          "Thirsty Dice",
          "Domino's Pizza",
          "Animo Juice",
          "Santucci's Original Square Pizza",
          "Cafe Saigon",
          "Pizzeria Cappelli",
          "Ember & Ash",
          "The Taste of Brazil - Philadelphia",
          "Trendsetters Bar & Lounge",
          "Good Harvest 大丰收",
          "Larry's Steaks & Hoagies",
          "Lair KTV | Sky Club",
          "Checkers",
          "Baby Buns Philly",
          "Panorama",
          "Mike's Pizza",
          "Mix Bar and Grill",
          "Marcello’s Pizza-Grill",
          "Panda Chinese Restaurant",
          "Ristorante Aroma",
          "China House",
          "Sang Kee Peking Duck House",
          "Pita Chip",
          "Musi",
          "Cafe Lift",
          "Ocean Crab",
          "The Landing Restaurant",
          "Day By Day",
          "Solo Skewer Bar",
          "Fred's Water Ice",
          "Choice Seafood",
          "Leandro's Pizza House",
          "Bok Bar",
          "Dilworth Park Café",
          "Tres Jalapenos",
          "Texas Chicken & Burgers",
          "South Philly Italian Kitchen",
          "Bud & Marilyn's",
          "Danny's Wok",
          "Alaska King Crab House",
          "Vince's Pizzeria",
          "Sabroso+Sorbo",
          "Profi's Crêperie",
          "Lucky's Mexican Spot Food Truck",
          "On Charcoal",
          "Pho Ha",
          "Mega Quality Pizza Restaurant",
          "Philly Pretzel Factory",
          "LaTao HotPot",
          "Ancient Spirits & Grille",
          "Miel Patisserie",
          "Del Frisco's Double Eagle Steakhouse",
          "T-Swirl Crêpe",
          "McDonald's",
          "The Bao Bar",
          "Cantina Los Caballitos",
          "The Restaurant at JNA Institute of Culinary Arts",
          "PC Restaurant",
          "Pilgrim Roasters",
          "Pronto Uno Pizza",
          "The Hadley",
          "Ed's Pizza House",
          "Meskerem Ethiopian Restaurant",
          "Best Cake Kosher Bakery",
          "Old Nelson Food Company",
          "City Pizza of 16th St",
          "Saad's Halal Restaurant",
          "Waterfront Gourmet Cafe & Deli",
          "La Lagosta",
          "Le Caveau",
          "Oxford Restaurant Breakfast and Lunch",
          "Tai Lake Restaurant",
          "Philly Tacos",
          "Elwood",
          "Crunchik'n",
          "Asian Chopsticks",
          "Ortlieb's",
          "Tableau at PAFA",
          "Ninja Sushi Hibachi",
          "Dos Hermanos Tacos",
          "Terakawa Ramen",
          "Amari's Restaurant",
          "Club Risqué",
          "Cafe Roma Bakery",
          "Riehl Deli & Cheese Shop",
          "Laxmi Indian Grille - Manayunk",
          "48th Street Grille",
          "Suzani Restaurant",
          "Throwbaxx Bar & Grille",
          "Luther ribs",
          "Mount Airy Tap Room",
          "Roman's Pizza",
          "Sonnys Cocktail Joint",
          "The Garden",
          "Kurry Shack Francisville ",
          "Dump-N-Roll",
          "Dunkin'",
          "Halal Food Truck",
          "Fuel Center City",
          "International Bakery",
          "Fink's",
          "Lee's Chinese Restaurant",
          "Five Sisters Ice Cream and Sweets",
          "Saqqara Cafe",
          "Diablo's Pizzas",
          "Walnut Street Cafe",
          "Quaker Diner",
          "Blaze Pizza",
          "Brick House Pizza & Restaurant",
          "PrimoHoagies",
          "Hot Pot Cuisine",
          "Barrel's Fine Food",
          "Checkers",
          "T&N HomeMade Kitchen",
          "QU JAPAN BISTRO & BAR",
          "Ryan's Pub",
          "Monk Seafood",
          "Eagle Bar",
          "Mercer Cafe",
          "Smile Cafe",
          "World Cafe Live",
          "Subway",
          "Supreme Oasis Bakery & Deli-Philly",
          "Golden Crust Pizza III",
          "Gearo's",
          "Nan Zhou Hand Drawn Noodle House",
          "Tagliare",
          "Subway",
          "Falone's Steaks & Hoagies",
          "Nafi Food Express",
          "Ciao Pizza",
          "Red's Hoagies & Groceries",
          "Great Awakenings Cafe",
          "Ruth's Chris Steak House",
          "Sanremo's Pizza",
          "La Catrachita Food Truck",
          "Giuseppe's Market at Samuels and Son Seafood",
          "Kale Yeah",
          "Jin Jin Chinese Restaurant",
          "Ma Lessie's Chicken and Waffles",
          "El Jarocho",
          "Evil Genius Beer",
          "Popeyes Louisiana Kitchen",
          "Johnny Chang's",
          "Maple Star",
          "PrimoHoagies",
          "Fruit Salad & Smoothie Cart",
          "Chick-fil-A",
          "Molly Malloy's",
          "New Star Express Pizza",
          "Cosmi's Deli",
          "Gino's Bakery",
          "Double Knot",
          "Georgian Bakery & Cafe",
          "Jimmy John's",
          "Lebel Pizza",
          "Steve's Prince of Steaks",
          "Little Caesars",
          "Rustica Rosticceria",
          "Chickie’s and Pete’s",
          "Pret A Manger",
          "Olde Creamery Cafe",
          "Delancey Street Pizzeria",
          "Jet Wine Bar",
          "Fiesta Pizza III",
          "Foghorn",
          "Fatboy and Slim's",
          "Jimmy's Water Ice",
          "Hinge Cafe",
          "West Point Pizza",
          "Chez Ben",
          "Wild Crab Cajun Seafood & Bar",
          "Chester Family Pizza",
          "penrose cheesesteak",
          "The Crazy Leprechaun Bar & Grill",
          "New Garden",
          "Bridget Foy's",
          "No. 1 Cafe",
          "Rico Mexican Tacos",
          "Ishkabibble's",
          "El Provocon",
          "City Pizza",
          "PrimoHoagies",
          "Philly Pretzel Factory",
          "Joe Santucci's Square Pizza Bar & Grill",
          "New China",
          "Franklin Social",
          "Guy Fieri’s Taco Joint",
          "Tang's",
          "Philly's Gourmet Steaks",
          "Le Champignon De Tokio Sushi Bar",
          "Batter & Crumbs Vegan Bakery and Cafe",
          "P&S Ravioli Company",
          "Dan Dan",
          "Little Delicious",
          "Aviation Grill",
          "Vietnam Express",
          "Baan Thai",
          "Al-Sham Restaurant",
          "The Locks At Sona",
          "Urban Saloon",
          "The Mulberry",
          "Miller's Ale House",
          "Ocho Rios Parrilla",
          "Panda Garden",
          "Canto House",
          "Angie's Kitchen",
          "Popeyes Louisiana Kitchen",
          "Freebyrd Chicken",
          "China Gourmet",
          "Bao Nine",
          "Star Fusion Express",
          "Tony's Place",
          "Cedar Point Bar and Kitchen",
          "El Poquito",
          "Bella T's Pizza",
          "Bower Cafe",
          "City View Pizza and Grill",
          "West Tavern",
          "Apricot Stone",
          "Billy Murphy's Irish Saloon",
          "Tommy DiNic's",
          "Las Rancheritas",
          "El Taco",
          "ShopRite of Bridge & Harbison",
          "Torresdale Pizza",
          "Wendy's",
          "Philly Pretzel Factory",
          "Palm Tree Market",
          "Indian Kitchen Lovash",
          "Crispy Pizza",
          "Tiffin - Mount Airy",
          "Takka Grill & Shrimpie's",
          "Nickels Tavern",
          "Xinying Chinese Restaurant",
          "Federal Donuts",
          "Cold Cut Hut",
          "$5 Fresh Burger Stop",
          "Fitz and Starts",
          "KFC",
          "Pat's King of Steaks",
          "The Fresh Grocer - Progress Plaza",
          "Southern Inn",
          "El Punto",
          "Gnocchi",
          "Philly Poké",
          "Taqueria La Prima",
          "Chipotle Mexican Grill",
          "Burger King",
          "In & Out Express Pizza",
          "Soul Boat",
          "Cosi",
          "Yakitori Boy",
          "Buffalo Billiards",
          "Wood Street Pizza",
          "Chiquita's Pizzeria & Mexican Grill",
          "Café Soho",
          "Manayunk Pizza",
          "Milan's Restaurant",
          "Ramen Bar",
          "Holiday Pizza",
          "La Virgen De Las Nieves",
          "Liberty Bell Diner",
          "Tasty Twisters Bakery",
          "Jyoti Indian Bistro",
          "Marinucci's Deli - Mayfair",
          "Mission BBQ",
          "1201 Bar",
          "E Mei Restaurant",
          "Abner's Cheesesteaks",
          "Woodland Village Restaurant",
          "Long Shot BBQ",
          "JD Mcgillicuddy's Manayunk",
          "Sor Ynez",
          "Tortorice's Italian Specialty Sandwiches",
          "Metropolitan Pizza & Cafe",
          "Estia",
          "Sweets & Curry House",
          "Miles Table",
          "Stir",
          "Cleavers",
          "Museum Deli",
          "Kurry Shack",
          "Chipotle",
          "IHOP",
          "Indonesia",
          "Ochatto",
          "3J's Food Market  Fishtown",
          "Paganos Market and Bar",
          "New China Court",
          "Pizzeria Beddia",
          "Pho Street",
          "Pho & Cafe Saigon",
          "Kai Japanese Cuisine",
          "The Plough & the Stars",
          "Rouge",
          "Surf City Squeeze",
          "Pho Xe Lua Viet Thai Restaurant",
          "Soul Food Artist",
          "Five Star Restaurant",
          "Wah-Gi-Wah",
          "Grill N Dutchy",
          "Aki Nom Nom Sushi & Ramen",
          "McDonald's",
          "Magic Carpet",
          "Nathan's Famous",
          "McDonald's",
          "Desi Village",
          "Smoked and Chopped",
          "Kaffa Crossing",
          "McDonald's",
          "Wendy's",
          "Taco Bell",
          "Tano's Deli",
          "Little Italy Pizza & Trattoria",
          "McDonald's",
          "Cicala at the Divine Lorraine",
          "Sam's Morning Glory Diner",
          "Relish",
          "Crafty's Tap Room",
          "Lee's Hoagie House",
          "Hippot Shabu Shabu",
          "King Wok Restaurant",
          "Pizza Boli's",
          "IHOP",
          "Tasty Pot - Philadelphia",
          "Little Morocco",
          "Little Istanbul",
          "The Barn",
          "Pagano's Steaks & Shakes",
          "Green Line Cafe - Powelton Village",
          "Popeyes Louisiana Kitchen",
          "Function Coffee Labs",
          "Night Owls Fast Food",
          "Saxbys",
          "Middle Child",
          "Caffe Ida",
          "Federal Donuts",
          "JJ Bootleggers",
          "Choice Beer Deli",
          "Popeyes Louisiana Kitchen",
          "Sancho Pistola's",
          "@Ramen",
          "The American Pub",
          "Tavern On Camac",
          "Get Fried",
          "Rana Halal Cuisine",
          "Turp’s Kitchen",
          "Burrito Elito",
          "Pastificio",
          "Best Deli II",
          "Hikari Sushi",
          "Galaxy Pizza",
          "Irie Jamaican Restaurant",
          "Milk House",
          "Kamals Middle Eastern Specialties",
          "Canopy by Hilton Philadelphia Center City",
          "The Halal Guys",
          "Huff & Puff BBQ",
          "McDonald's",
          "Yiro Yiro",
          "Ibis Lounge",
          "Five Guys",
          "McGillin's Olde Ale House",
          "PrimoHoagies",
          "Fuel",
          "New York Bakery",
          "Tortas & Pizza El Sabor De Mi Tierra",
          "Dunkin'",
          "Iztaccihuatl",
          "Dunkin'",
          "Papa John's Pizza",
          "Orient Express",
          "Unit Su Vege",
          "Wawa",
          "Little Italy Pizza",
          "Ed's Buffalo Wings & Pizza",
          "LMNO",
          "Harper's Garden",
          "Freshii",
          "McDonald's",
          "Top Quality Pizza",
          "Mi 'N Tea",
          "Rio Brazilan Steak Truck",
          "Chickie's and Pete's",
          "Rex Pizza & Beer",
          "One Shot Coffee",
          "Mr Martino's Trattoria",
          "Engimono Sushi",
          "Boutros Greek & Middle Eastern Food",
          "Tommy's Pizza",
          "1225Raw Sushi and Sake Lounge",
          "Tribe Cafe",
          "Cafe Couleur",
          "Jimmy John's",
          "McDonald's",
          "The Halal Guys",
          "Rib Rack",
          "Michael's Chinese Kitchen",
          "Wokworks",
          "Wendy's",
          "Teddy's Pizza",
          "Thai Singha House",
          "Winthorpe & Valentine Bar & Grill",
          "Crafty Soul",
          "Key Food Pizza",
          "Cake",
          "Bar Symon",
          "The Cedars House",
          "Spring Garden Pizza & Restaurant",
          "Blind Barber",
          "The Dinner Detective",
          "Ashburner Inn",
          "Barra Rossa Ristorante",
          "The Chilly Banana",
          "Wawa",
          "Landmark Americana Tap & Grill - City Line",
          "Asia On the Parkway",
          "Bud & Marilyn’s",
          "No.1 House",
          "Family Spot Jamaican Restaurant",
          "Little Caesars Pizza",
          "Popeyes Louisiana Kitchen",
          "Philly Pretzel Factory",
          "Dizengoff",
          "Loco Pez",
          "Hook & Reel Cajun Seafood & Bar",
          "McGlinchey's Bar & Grill",
          "Angelo's Pizza House",
          "Rosarios Pizzeria",
          "TGI Fridays",
          "Keshas Kitchen",
          "Chipotle Mexican Grill",
          "Cafe Light",
          "Franco's Pizza",
          "Evo Brickoven Pizza",
          "Drinker's Pub",
          "Geno's Steaks",
          "Apollo's Pizza",
          "New London Pizza & Restaurant",
          "Airis Bar & Lounge",
          "DA PAN",
          "Subway",
          "China House",
          "Holme Style Pizza",
          "KFC",
          "Fresh Donuts",
          "Jersey Mike's Subs",
          "El Merkury at the Market",
          "Chipotle Mexican Grill",
          "Le Anh Chinese Food",
          "Currito",
          "Wingstop",
          "La Chinesca",
          "Volo Coffeehouse",
          "Gabi",
          "Rocco's Italian Sausage",
          "Mari Mari",
          "Brexel Cafe",
          "Banh Mi Cali",
          "Fresh Fruit Salad Cart",
          "KFC",
          "Lost Bread Co.",
          "OCF Coffee House",
          "Flying Monkey Bakery",
          "Savas",
          "New Deck Tavern",
          "Atlanta Wings",
          "Villa Di Roma",
          "HipCityVeg",
          "The Wayward",
          "Market Bakery",
          "The Real Lee Ahn",
          "Dimension Latin Grill",
          "Taylor's Cafe",
          "Bell's Market",
          "Little Caesars",
          "Mr. Wish USA",
          "Papermill Fresh Asian Kitchen",
          "Fill Your Soul",
          "Ernie's Original Pizza",
          "Chipotle Mexican Grill",
          "American Sardine Bar",
          "Luhv Vegan Deli",
          "Jump To It",
          "New Station Pizza 8",
          "Alice Pizza",
          "La Sarten Express Food",
          "El Bochinche Restaurante",
          "Leneghan's Crusader Inn",
          "ZIG ZAG BBQ",
          "El Sabor Restaurant",
          "Shake Shack",
          "Pauline's Deli",
          "Asian Fusion",
          "Xiandu Thai",
          "KQ Burger",
          "One Pound Cheesesteaks",
          "Palm Tree Gourmet",
          "Cafe Michelangelo",
          "Parkside Beef & Ale",
          "Gigi & Big R",
          "Mallu Cafe & Catering",
          "Mr Hook Fish & Chicken",
          "Zushi",
          "Spread Bagelry",
          "Reef Restaurant & Lounge",
          "Hilton Garden Inn Philadelphia Center City",
          "Taco Riendo",
          "Corner Bakery",
          "Benny the Bum's",
          "Real Food Eatery",
          "Overbrook Pizza Shop",
          "Over Easy Breakfast Club",
          "Bravo Seafood",
          "Goldie",
          "Tacos Don Memo",
          "La Tienda MiniMarket",
          "Cosimos Pizza Cafe",
          "Bad Brother",
          "Jezabel's",
          "Angelos Pizza",
          "McNally's Tavern",
          "PBR Philly",
          "Ekta Indian Cuisine",
          "Red Robin Diner",
          "Sumo Sushi",
          "Joseph's Pizza",
          "Bodega Bar",
          "Union Tap House",
          "SquareBurger",
          "Gold Star Pizza",
          "Philly Style Pizza and Grille",
          "Chart House",
          "Burger King",
          "ShopRite of Knorr Street",
          "Cafe Brysi",
          "Geno's",
          "Merkaz",
          "Manhattan Bagel",
          "Wawa",
          "Pastrami & Things",
          "Mario Brothers Pizza",
          "Grindcore House",
          "Saladworks",
          "Tiger Sugar",
          "Papa John's Pizza",
          "Greenstreet Coffee Co.",
          "Shan Chuan",
          "D'Angelo's Ristorante Italiano",
          "O'Bento Sushi & Catering",
          "China House",
          "Venango Barbecue Restaurant",
          "Linden Italian Market",
          "Bill's Family Pizza",
          "Cheers Cafe",
          "sweetgreen",
          "Black & Brew",
          "Jamaican D's",
          "Spasso Italian Grill",
          "Dunkin'",
          "McDonald's",
          "Old City District",
          "Cafe Vinh Long",
          "Billy Doc's",
          "Bluestone Lane",
          "Captain's Choice",
          "The Black Taxi",
          "Domino's Pizza",
          "Pupuseria Sabor Latino II",
          "Hiroki",
          "Mt Airy Breakfast & Lunch",
          "Gryphon Cafe",
          "M&G Deli",
          "Wendy's",
          "Ajw Jamaican and American Food",
          "Ramen Bar",
          "The Halal Guys",
          "Ooh LaLa Salads",
          "The Lawn at LoveLuck",
          "Piattino Oven Fired Pizza",
          "June's Restaurant",
          "Fiore's Steaks and Shakes",
          "Just Salad",
          "Dragon City Restaurant",
          "Bob's House of Crabs",
          "Frutta Bowls",
          "MUTA Korean BBQ & Karaoke",
          "Dunkin'",
          "Bain's Deli",
          "Buddakan",
          "Ruby Buffet",
          "La Nonna",
          "Haggerty Deli",
          "Champ’s Diner",
          "Pietro's Coal Oven Pizzeria",
          "Old English Style Pizza",
          "Malbec Argentine Steakhouse",
          "Down Home Diner",
          "China Gate",
          "Southside Pizzeria",
          "McDonald's",
          "SPIN - Philadelphia",
          "Mercato BYOB",
          "RIM Cafe",
          "Gamarjoba",
          "Gennaro's Pizza",
          "The Capital Grille",
          "BurgerFi",
          "K'Far Cafe",
          "China Pagoda",
          "Delilah's",
          "Terryin",
          "Celebre Pizzeria",
          "Quig's Pizza Steaks & Hoagie's",
          "Streetside BBQ",
          "Pelicana chicken",
          "Royal Sushi & Izakaya",
          "Pizza House Express",
          "Dos Tacos",
          "Chubby Cattle",
          "Panda Express",
          "Lil Sum Sum",
          "Beiler's Bakery",
          "Moonlight Cuisine",
          "On Point Bistro",
          "Custard & Cakes Creamery",
          "General Tsao’s House",
          "Tien Bo",
          "El Vez",
          "Spiked Sports Lounge and Grill",
          "JJ Thai Cuisine",
          "Perla",
          "Prime Halal Meat",
          "Barcelona Wine Bar Passyunk",
          "Bala Inn",
          "Kin Wha Garden",
          "Chloe’s Corner",
          "Mokas Mediterranean Restaurant",
          "Wawa",
          "Barkley's BBQ",
          "Chestnut Hill Brewing Co - Taproom",
          "Quick & Quality",
          "Pennsport Market & Deli",
          "DAWA Sushi & Ramen Bar",
          "Takka Grill & Pizza",
          "Blue Cross RiverRink",
          "Liberty Kitchen",
          "Broncos Brazilian Steakhouse",
          "European Republic",
          "Jean-Georges Philadelphia",
          "Shaxian Delicacies",
          "Banh Mi Square",
          "Yummy Sushi",
          "Golden Empress Garden",
          "Burger Bar at Gallo's",
          "Dunkin'",
          "Scarpetta",
          "Pizza Power",
          "Fox & Son Fair Foods",
          "Grand China Buffet",
          "Chick's Philly",
          "Sportmaster Bait and Tackle",
          "LaScala's Pronto",
          "Taco Bell",
          "Okie Dokie Donuts",
          "Philadium",
          "McDonald's",
          "Dragon Phoenix House",
          "Emperor Restaurant",
          "King's Wok Chinese Food",
          "Blue Bay Restaurant",
          "Little Caesars",
          "Jeans Cafe",
          "Los Taquitos de Puebla ",
          "Ristorante Mamma Maria's",
          "Le Pain Quotidien",
          "Shake Shack",
          "Sushi Planet",
          "Popeyes Louisiana Kitchen",
          "Not Just Pizza",
          "The Dinner House",
          "Cafe Olé",
          "Red Central Chinese Restaurant",
          "Lee's Market",
          "Cajun Heroes Seafood Boil Gumbo & Po’Boys",
          "Cafe Diem",
          "Taqueria Amor",
          "Roma's Pizza",
          "Vernick Fish",
          "Local Tavern",
          "The Taggart House",
          "Zesto Pizza & Grill",
          "Chili Garden",
          "Deli at Dwell",
          "moonbowls",
          "Cafe Ayla",
          "Sang Kee Peking Duck",
          "Zea May's",
          "The Pizza Shack",
          "Los Gallos Mexican Taqueria",
          "Tacos El Rodeo",
          "El  Chilito Loco  Mexican Restaurant",
          "Veganish",
          "The Olde Bar",
          "Chima Steakhouse",
          "Taco Bell",
          "Glen Foerd on the Delaware",
          "General Tso",
          "Tenth Floor Grill",
          "Pho Le Lai",
          "Sulimay's Restaurant",
          "Barry's Steaks",
          "Fuel",
          "Indian Food Truck",
          "Wendy's",
          "Rybread",
          "Anastasi Seafood",
          "Tony Boys Breakfast",
          "Papps Pizza",
          "Original Boston Style Pizza",
          "Class of 1920s Commons",
          "University Club at Penn",
          "South",
          "Philly Pretzel Factory",
          "Perri's Pizza",
          "Romeo Pizza",
          "Sweet Treat Hut",
          "LOVE Grille",
          "Gino's Pizza Cafe",
          "City View Pizza and Grill",
          "Dattilo's Delicatessen",
          "Chickie's & Pete's",
          "Martha",
          "Johnnie's Italian Specialties",
          "Koreana",
          "Ken Shin Asian Diner",
          "Popeye's",
          "Redz Bar and Grill",
          "King Grill",
          "Shiroi Hana",
          "Four Worlds Bakery",
          "Fiesta Pizza",
          "Philadelphia's 9th Street Italian Market",
          "Sports & Social Philly",
          "The Corner Grill",
          "Atlas Pizza & Steaks",
          "CIBO Bistro Wine Bar",
          "Pazzo Pazzo",
          "Prince Pizza",
          "Lee's Kitchen",
          "Sam's Fresh Spot",
          "Campbell's Place",
          "NAYA - Philly",
          "The Grill Cheese",
          "Queen Express Pizza",
          "Pizza Jawn",
          "Al Sham Restaurant 3 - Philadelphia",
          "Cafe Tinto",
          "Wendy's",
          "New York Gyro Truck",
          "Tina’s tacos",
          "Clock Bar",
          "Miller's Ale House",
          "Bi-Rite Deli",
          "Jade Palace",
          "Thin & Crispy",
          "Great Wraps",
          "Munchie's Cafe",
          "Bill's Old London Pizza",
          "South Street Philly Bagels",
          "Kitchen Gia",
          "City Line Pizza",
          "Kensington Pub",
          "Green Leafs & Bananas",
          "la bamba",
          "Chipotle Mexican Grill",
          "Cibo Express Gourmet Market",
          "Tiffany Diner",
          "Happy Garden",
          "Colombian Bakery",
          "Hong Qi Gong",
          "Campus Pizza Restaurant",
          "Abe Fisher",
          "Malelani  Cafe",
          "The Grille at the Reserve",
          "Monk's Cafe",
          "The Good King Tavern",
          "Bentoulis Pizza",
          "Watkins Drinkery",
          "Roy-Pitz Barrel House",
          "Park Pizza",
          "Larose Jazz Club",
          "Au Bon Pain",
          "Buccann",
          "Genji Sushi Bar & Izakaya",
          "Mimmo's Pizza",
          "You Ring We Bring",
          "Happy Wok Chinese Restaurant",
          "Kurry Shack",
          "Standing O",
          "PrimoHoagies",
          "Kilimandjaro Restaurant",
          "Ginza",
          "Cha Cha",
          "Roxborough Seafood House",
          "The Rhawnhurst",
          "Asia Mix Restaurant",
          "Hibachi Express",
          "La Colombe",
          "Mizu",
          "Yamato Japanese Sushi and Hibachi",
          "Andonio's Diner",
          "Peter's Chicken & Seafood",
          "Main Street Pho",
          "Action Pizza",
          "B2",
          "Broad Deli",
          "King of Tandoor",
          "White Yak",
          "Donut Plus",
          "New Ocean Chinese Restaurant",
          "Starbucks",
          "Oriental Chinese",
          "Bar Poulet",
          "Crab Du Jour - Philadelphia",
          "ShopRite of Front & Olney",
          "Taste King Restaurant",
          "Han Dynasty",
          "Puyero Venezuelan Flavor",
          "Dunkin'",
          "Modo Mio Taverna",
          "Philly Pretzel Factory",
          "New Wave Cafe",
          "Malooga",
          "Tamalex Restaurant",
          "Hunan Palace",
          "Margherita Pizzeria",
          "Kingston City Restaurant",
          "Chops Restaurant & Bar",
          "Wawa",
          "Villekebabs and Platters",
          "Milkhouse",
          "Morea",
          "Ristorante Pesto",
          "W XYZ Bar",
          "Café Carmela",
          "Monster Vegan",
          "Corner Bakery",
          "Pho House Thang Long",
          "1100 Social",
          "Smokey Joe's Tavern",
          "Steak 48",
          "Lazeez Indian cuisine",
          "AL-JANA Halal Food Market",
          "Germantown Espresso Bar",
          "Peking Inn",
          "Venice Pizza and Italian Eatery",
          "Grubhouse",
          "Nick's Bar and Grille",
          "Club Adesso",
          "Spread Bagelry",
          "Frankford Hall",
          "Bombay Dhabba - Philadelphia",
          "Alpen Rose",
          "Papa Joe's",
          "Woody's",
          "Happy Dragon Chinese Restaurant",
          "Black Pearl BBQ",
          "Chris'pizza",
          "Pod",
          "Al Zaytouna",
          "Christie's Deli",
          "a.bar",
          "Fat tuna",
          "Independence Beer Garden",
          "Clementines Stable Cafe",
          "Chef King",
          "The Fairview",
          "The Pizza Store",
          "Rittenhouse Row Spring Festival",
          "New China",
          "Mixto",
          "The Tavern Restaurant",
          "Mei Mei Philadelphia",
          "Chick-fil-A",
          "Nightmare Before Tinsel",
          "Starbucks",
          "Hope's Cookies",
          "Little Man's Juice Bar and Grill",
          "Fabrika Fishtown",
          "Voix",
          "Cry Baby Pasta",
          "Reading Terminal Market",
          "Snap Custom Pizza - Center City",
          "Jack's Place",
          "Prima Pizza Taqueria Mexicana",
          "Bravo Pizza II",
          "Sally",
          "Good Day Deli",
          "Masala Kitchen Kati Rolls and Platters",
          "Gallo's Seafood",
          "Max Brenner - Philadelphia",
          "Spice 28",
          "Twisted Gingers Brewing Company",
          "Calle Del Sabor",
          "KFC",
          "Nafeesa Unique Bites",
          "Applebee's Grill + Bar",
          "China Rainbow Restaurant",
          "Helm",
          "Sorrentino's Grocery",
          "El Balconcito II",
          "Papa John's Pizza",
          "Seafood Unlimited",
          "Starbucks",
          "Lau Kee Restaurant",
          "Far From Home",
          "Hong Kong Garden",
          "Boston Market",
          "Saloon Restaurant",
          "BAMBU",
          "Golden Cuisine",
          "Fortune Kitchen",
          "Ikki Sushi",
          "Ocean Prime",
          "Porco's Porchetteria",
          "Campo's Deli",
          "VIP Market",
          "honeygrow",
          "Messina Club",
          "Wendy's",
          "Cappys Cafe",
          "Pass & Stow",
          "Sophie's Kitchen",
          "Pizza Shackamaxon",
          "China Garden",
          "Bodhi Coffee",
          "Chubby's Fox Chase Deli",
          "Alif Brew & Mini Mart",
          "Shana's Caribbean Cafe",
          "Ramayana Store",
          "Au Bon Pain",
          "Angelo's Pizzeria",
          "Rising Sun Pizza",
          "2 Street Sammies",
          "John's Diner",
          "1518 Bar & Grill",
          "Applebee's Grill + Bar",
          "Kaku Latin Food",
          "Torch-Wood Cafe",
          "Favors",
          "Merc Bros Pizzeria",
          "Hokka Hokka Japanese Restaurant",
          "Philadelphia Art Alliance",
          "Vernick Coffee Bar",
          "Dew Inn",
          "Coastal Cave Trading Co",
          "Fiore Pizza",
          "La Calenita Bakery Cafe",
          "Pho Palace",
          "Mister P’s Pizza & Pasta",
          "BUY the Dozen",
          "Accu Pizza",
          "Katsu Guys",
          "Big Ben Pizza",
          "Applebee's Grill + Bar",
          "Fishtown Social",
          "Du Jour Commerce Square",
          "Cuba Libre Restaurant & Rum Bar - Philadelphia",
          "Pho 20",
          "Alrayyan Food Market",
          "Crown Fried Chicken",
          "Comfort & Floyd",
          "Lian Hsing's",
          "Trio Delight Cafe",
          "Lily Of The Valley Cupcakery and Café",
          "Ichiban",
          "Day N Nite",
          "I Heart Cambodia",
          "Little Pete's Steaks",
          "Chick-fil-A",
          "Copabanana",
          "Shake Seafoods",
          "Bottom Of The Sea Soul",
          "Pizza Plus",
          "Picanha Brazilian Steakhouse",
          "Ho Le Chan",
          "No. 1 China",
          "Cafe La Maude",
          "Nora's Kitchen",
          "Sunny's Diner",
          "Lucky Restaurant",
          "Pete's Pizza",
          "Golden Dragon",
          "O'Neals Pub",
          "Pasha's Halal Food",
          "Maker artisan pizza",
          "Caribbean Palm",
          "Chili's",
          "Boston Market",
          "Lucky's Last Chance",
          "Fueling Station",
          "QT Vietnamese Sandwich",
          "Tinsel",
          "Rox Cafe",
          "Pizza Hut",
          "LaScala's Birra",
          "LaScala's Fire",
          "Taste Queen Chinese Restaurant",
          "Vedge",
          "Domino's Pizza",
          "Old English Pizza",
          "Slice",
          "China King",
          "Akbar restaurant and Banquet Hall",
          "KFC",
          "Brazilian Pizza Philly",
          "Kinme",
          "La Tapenade Mediterranean Cafe",
          "New Style Pizzeria",
          "TKK Fried Chicken",
          "Stockyard Sandwich",
          "Añejo Philadelphia",
          "Old Nelson Food Company",
          "Larry's Steaks",
          "Maxi's Pizza, Subs and Bar",
          "Mirage Lounge",
          "Jo Jo's Deli",
          "Chuck E. Cheese",
          "American Express century and lounge",
          "Paradise Diner",
          "Pete's Pizza",
          "Felly Bistro On Pass",
          "For Pete's Sake",
          "Tambayan",
          "Buna Cafe Philly",
          "Parks On Tap",
          "South Street Diner",
          "McMenamin's Tavern",
          "Lawncrest Family Restaurant",
          "Pat's Pizzeria",
          "Baby Boss Pizza and Grill",
          "Old City Coffee",
          "KFC",
          "Jamrock Kitchen",
          "Xun Yu Si Kao",
          "The Foodery Chestnut Hill",
          "The Abbaye",
          "Tsuki Sushi",
          "Baker Street Bread Co",
          "Buna Cafe",
          "Milkcrate Cafe",
          "Wm Mulherin's Sons",
          "Shi Miao Dao Yunnan Rice Noodle",
          "Bo Sing",
          "China House",
          "Greek From Greece",
          "Giuseppe & Sons",
          "Green Eggs Café",
          "St. Oner’s",
          "The Turf Club",
          "John's Place",
          "Nick's Old Original Roast Beef",
          "The Tasty Toast",
          "Restaurant Ambra",
          "Panera Bread",
          "Latimer Delicatessen",
          "Manayunk Brewery",
          "Ali's Middle Eastern",
          "El Rinconcito",
          "Friday Saturday Sunday",
          "HAPP'S",
          "Wawa",
          "Can Tho City",
          "Fergie's Pub",
          "Mr Sushi",
          "El Greco Pizza & Luncheonette",
          "Luigi’s Pizza Fresca",
          "Spuntino Wood Fired Pizza",
          "Stina Pizzeria",
          "Flip-N-Pizza",
          "Grilly Cheese",
          "PrimoHoagies",
          "Adelita Taqueria & Restaurant"
         ],
         "lat": [
          39.9555052,
          39.953949,
          39.943223,
          39.9625821,
          39.954573,
          39.963077709,
          40.012141,
          39.9385518,
          39.9768798,
          39.9563959,
          39.963042,
          39.9368911,
          39.9506555,
          40.0520643,
          39.9418766,
          40.08178,
          39.9719414,
          39.960811,
          40.031578,
          39.948365,
          40.0884161,
          39.94796,
          39.953291,
          39.988107,
          39.9686973,
          39.9510885597,
          40.0352350987,
          39.9822933,
          40.0603863,
          39.9533224742,
          39.9415201345,
          40.0771492176,
          39.9813471541,
          39.8773236045,
          39.983319,
          39.9486639126,
          40.0390528,
          39.9455687,
          40.0128847,
          39.940221217,
          39.971145,
          39.9512903,
          39.9378287,
          40.02202,
          39.9741307,
          39.9557501,
          39.9408776,
          39.9862724,
          39.9567105161,
          39.938371,
          39.9709958,
          39.926402,
          39.9850064107,
          39.9738754,
          39.9570681,
          39.9503586,
          39.9470772078,
          40.0860776,
          40.061417,
          39.948081,
          40.0342865,
          40.045729,
          39.9456566,
          40.0509209,
          39.9499452,
          40.0374692,
          39.9508011,
          40.026465,
          39.9483087,
          39.9542012,
          39.9453395,
          39.8946117,
          40.0274889,
          39.9139475,
          40.0643044322,
          39.969939,
          39.9209271,
          39.9350405,
          40.0407573,
          40.0406177,
          39.9553865,
          40.0123759,
          39.9229257,
          39.953351,
          39.9484223,
          39.9491591674,
          40.0096537,
          39.9727751034,
          40.0400368,
          39.9793657,
          39.946233,
          39.9178706,
          39.9315335419,
          39.951923,
          39.9531593,
          39.9210221,
          39.9522486027,
          39.9604844097,
          39.9698623,
          40.000452,
          39.9498507065,
          40.004478,
          40.0308845266,
          40.0030161,
          40.0310045,
          40.0323183,
          39.9489954358,
          40.0474259,
          39.9353601,
          40.0694581,
          39.91579,
          39.9671493,
          39.9388315986,
          39.9446092,
          39.971725,
          40.0259565956,
          39.9299499,
          40.0700275,
          39.949794,
          39.9701516,
          39.944275,
          40.0295791831,
          40.0410115,
          39.9307946183,
          39.95187,
          39.970468014,
          40.0567171,
          40.076239,
          39.9515586,
          40.110566,
          39.9448121788,
          40.0506387,
          40.0513741,
          39.9515705,
          39.9671642,
          39.9470839462,
          39.9428742,
          40.0300231,
          40.0245627,
          39.9439859,
          39.9242167,
          39.9282246,
          39.9387267,
          39.9346516,
          39.955545,
          40.0110062,
          39.9448608451,
          40.0027825,
          39.9835674,
          39.9404826,
          39.9102554,
          40.0798480557,
          39.9385148,
          39.953549,
          40.0650212,
          39.953074,
          39.9609147337,
          39.9881000819,
          39.9280043249,
          40.0607947,
          40.0185131,
          40.0627091,
          39.9472244065,
          39.9736865005,
          39.9186353,
          39.9713575331,
          40.024774,
          40.0303618,
          39.9674553,
          40.0503776775,
          39.9710521,
          39.9717941,
          39.9554278,
          39.954395,
          39.9887627,
          40.0453172867,
          40.0263283,
          39.9613018,
          40.0752499144,
          39.928473,
          39.9489068,
          39.9554771,
          39.8768139466,
          39.9530477103,
          40.036142,
          39.9413000709,
          40.0568875,
          39.920544,
          39.955065,
          39.9536866,
          39.9400584,
          39.9542886,
          40.0252890632,
          39.929453,
          39.9797909,
          39.9424508214,
          39.9346322655,
          39.9531984523,
          39.9524469799,
          39.9444060526,
          39.9609427,
          40.052735,
          39.9641219,
          40.022248,
          40.056184,
          39.9514453,
          40.0618594,
          39.993173,
          40.0232879,
          40.0000840441,
          39.9590025431,
          40.0334671,
          39.9488052,
          40.0605711,
          40.0014002,
          39.968903,
          39.9863915,
          39.982461,
          39.922337,
          39.9126407143,
          40.038781,
          39.9506099,
          39.9492805,
          39.9788169932,
          39.9223806,
          39.9973553,
          39.9555927735,
          39.9952251,
          40.0681765,
          39.954940073,
          39.9824443591,
          40.0236527,
          39.9502962,
          39.9610084469,
          39.9349405,
          40.0334795,
          39.9842403,
          39.9049727,
          39.9798334,
          40.03145806,
          39.9576083,
          40.0879342598,
          39.949709197,
          40.0381549,
          39.954044,
          40.029773,
          39.9565322,
          39.950774,
          39.954879,
          39.9255169287,
          39.9420436,
          39.9114175,
          40.0275052,
          39.9673004,
          39.949216187,
          39.976126,
          40.074311,
          40.0415935137,
          39.9486423,
          39.9467814,
          39.9562631,
          39.9493776356,
          39.9514165949,
          40.026369,
          39.9495688,
          39.9699772,
          40.0016758779,
          39.9747101233,
          39.951007,
          40.0233829,
          39.9910878,
          39.949726,
          39.9736435923,
          39.9667,
          39.9946476,
          39.960888,
          40.0258777,
          40.0195284,
          39.9399804,
          39.9514489,
          39.9539029,
          40.0512797,
          39.9489487,
          39.952932,
          39.96207,
          39.9545323,
          40.0608409,
          39.946666,
          40.0382907,
          40.0428555,
          39.9529913,
          40.0317308,
          39.9914019,
          39.9694197,
          39.9307459,
          39.9521727155,
          39.9556563,
          39.9542677,
          39.945162,
          39.9771998493,
          39.9466441,
          39.9496713,
          40.0091223,
          39.9639423223,
          39.9547208,
          39.9467455,
          39.9268645,
          39.9705409,
          40.0693548,
          39.9571569052,
          39.9405590859,
          40.0865991051,
          39.9832925286,
          39.9837685,
          39.979529,
          40.0898672,
          40.0797906,
          39.952045,
          39.97961,
          40.022826208,
          40.1319593894,
          39.9848367,
          40.0403385055,
          39.9536619,
          40.0631649,
          39.9497397,
          40.0643495083,
          39.9466238,
          39.9958264,
          40.0688844854,
          39.9641791314,
          39.9432697,
          40.116933,
          39.9613329598,
          39.9517712444,
          39.9551025,
          39.9272227151,
          40.0261216129,
          39.9458521,
          40.0442404,
          40.095702,
          39.9543466,
          39.9451562,
          40.0057676,
          40.0025296,
          39.9423842,
          40.086176,
          39.96399,
          40.1013209,
          39.9517461,
          40.0353055,
          39.9560366,
          39.9809158,
          39.9504833638,
          39.9551567,
          40.0093835,
          39.919346,
          39.9879973,
          39.9143301122,
          39.9629932991,
          39.915063,
          39.96009,
          39.917764,
          40.1246991,
          39.9362327,
          40.030102,
          39.9689397,
          39.9497563,
          39.9512903,
          39.9553365,
          39.9542243,
          39.9563712,
          39.9602344,
          39.9769736,
          39.951348,
          39.9622478,
          40.0384395,
          39.932223,
          39.9518037,
          39.9536791,
          39.9497082,
          39.9253058646,
          39.980483,
          39.9419516309,
          40.0607621001,
          40.0227483,
          39.9485863525,
          39.9482156,
          39.924584,
          39.948271,
          40.0343850509,
          39.9658107,
          40.0334158,
          39.9503152253,
          39.9517241479,
          39.9376867,
          39.9589789749,
          39.9509213207,
          39.9408923,
          40.0730228774,
          39.9581334616,
          39.9560363,
          39.9419236,
          40.0361386,
          39.9722034535,
          40.0689365111,
          39.952185,
          39.9260794,
          39.9480917189,
          39.9563297,
          39.9419303,
          39.9961753,
          39.8780267127,
          40.084572,
          39.9166328,
          39.9260608,
          40.0546082,
          40.043756,
          39.9140204,
          39.9383367,
          39.934831,
          39.927216,
          40.09453,
          39.94949,
          39.9279881,
          39.9485224,
          40.087335,
          39.9532117052,
          39.9491008173,
          39.9415984538,
          39.91804,
          40.0259511,
          39.9536631,
          39.9210273851,
          40.0308856,
          40.0558716,
          40.055428,
          39.9702621176,
          40.0543239,
          40.0351703,
          39.945704,
          40.0768575019,
          39.9539683,
          39.9553921,
          39.9508956186,
          40.0571665,
          40.0313311,
          39.9795761,
          39.961265,
          39.9583587,
          39.9373886,
          39.9491798,
          39.99391726,
          39.9590347,
          39.9532735358,
          39.9495796084,
          39.9558866,
          39.948793,
          39.9692049,
          40.0354613,
          39.9535852,
          40.04378,
          39.936934,
          39.9345779,
          39.9463986271,
          39.9592901344,
          39.9660935124,
          39.926769,
          39.932994,
          39.9489898682,
          39.9377652566,
          39.9531172679,
          39.925315,
          40.0435209,
          40.040537,
          39.9591692932,
          40.0683287,
          40.077194,
          40.0847999487,
          39.9489408,
          40.0599953,
          40.0414717,
          40.0196839,
          39.9547868,
          39.9512731815,
          39.9471663,
          39.9532717,
          40.0361874,
          39.9918037,
          40.032919,
          39.9397045222,
          40.078537,
          39.9354931854,
          40.049706,
          40.0034,
          39.9493452,
          39.9485078263,
          39.9365822,
          39.9091912,
          39.9491724,
          40.0601522,
          40.096308,
          40.0361944,
          39.9414622968,
          39.9394833,
          39.9561659865,
          40.08396,
          39.9604147854,
          40.022133,
          39.9011799,
          39.9588257,
          39.9831358,
          39.9807838,
          39.9414081509,
          39.9495123,
          39.955402,
          39.9695828,
          39.9690922,
          39.8740344184,
          39.876036,
          39.9779222117,
          39.9712343,
          39.949773,
          39.9537318071,
          40.0330744061,
          40.024735,
          39.9616969288,
          39.948294,
          39.9622594,
          40.0312593,
          39.9545367385,
          40.074277,
          39.948987982,
          40.0649629383,
          40.0543678735,
          40.0253737,
          39.9122173,
          39.9261517,
          39.9435223516,
          39.9609706195,
          40.0449474749,
          39.9386420632,
          39.995528,
          39.9261118,
          39.9347011,
          40.0450716,
          39.9510830684,
          39.9157811,
          39.9648195,
          39.924903,
          39.9495146,
          40.0601522,
          39.9513599092,
          39.9547447,
          40.0413479,
          39.986448,
          39.9889319,
          40.1327369,
          39.974214,
          39.9388055,
          40.0719286,
          39.9304241,
          39.94941083,
          39.9504016925,
          39.952398,
          39.94911,
          39.9404771,
          40.0448433774,
          39.9552453374,
          39.9536961259,
          39.9596810609,
          39.997282,
          39.9534811107,
          39.978063,
          39.952609,
          39.9468905,
          39.9532586925,
          40.0872609384,
          39.991077,
          39.9432015,
          39.9842432,
          39.9496657,
          40.0320816,
          40.044244,
          40.1090254,
          39.9543799638,
          39.8745568189,
          39.9549604,
          39.9750224,
          40.0572928,
          40.0015641166,
          39.9517524,
          39.87602,
          39.874423,
          39.9277585,
          39.932888,
          40.0458535,
          40.0812146,
          39.9091912,
          39.9502888,
          40.103072,
          39.952821,
          39.9437144134,
          39.95602,
          39.9522584164,
          39.9423058586,
          39.9411183,
          39.9512876403,
          40.04357983,
          39.9491188,
          39.9530334473,
          39.9563712,
          39.90329,
          39.9811626537,
          39.9598792,
          40.0247036,
          39.9546207,
          39.924667,
          39.9532222415,
          39.9502531,
          40.083729,
          39.9531593,
          40.041067,
          40.073421,
          39.9552741948,
          39.9910614002,
          40.0585056828,
          39.9614049,
          39.8809167118,
          40.0726185,
          40.0150353,
          39.949084,
          40.034832,
          39.9541205693,
          39.9992623,
          39.9345137,
          40.0203154,
          39.9486052,
          39.9386913,
          39.92358,
          40.0545606,
          39.9419372505,
          39.939368,
          39.951784,
          39.941042,
          39.9225986,
          40.0396179,
          39.9701645,
          39.954001,
          39.954974092,
          40.025473,
          39.9485658,
          39.9493338,
          40.090013,
          39.9192864,
          40.0745680732,
          39.9389482384,
          39.9411149,
          39.9031583953,
          39.9578581,
          40.0230319381,
          40.0501905879,
          40.00673,
          39.9946451763,
          39.9723373258,
          39.9408669,
          39.925195,
          39.9288656717,
          39.9513885876,
          40.0296853917,
          39.9455654,
          39.9513109633,
          40.0721625849,
          40.0594149,
          39.9369392,
          40.0404044,
          40.1290453,
          39.9482921,
          39.9504170438,
          39.9466893,
          39.9523399,
          39.9533,
          39.9846346,
          40.1011515,
          39.9541529,
          39.9294148,
          39.9247438,
          39.9419396,
          40.02217,
          39.9715336655,
          39.9499940204,
          39.9477453,
          39.9500081317,
          39.99804,
          39.9447414,
          39.9509166,
          39.9705028,
          39.9649452,
          39.953956271,
          39.9583587,
          40.1219421,
          39.954342,
          40.0075055545,
          40.0721248,
          39.9701111,
          40.0352118,
          39.9493349729,
          39.9507589,
          39.9427774,
          40.0750694,
          39.9860341408,
          40.074168,
          40.0378561,
          39.9631567,
          39.9793613702,
          39.97199,
          40.061588,
          39.9424247094,
          40.053857,
          39.9474735,
          39.9272913188,
          39.9498972,
          39.9480133,
          39.9042986,
          40.0255724,
          40.0179566,
          39.9745695,
          39.9678965,
          39.9518886,
          39.9534524019,
          39.9813211416,
          39.954482017,
          40.080901,
          40.0212979,
          39.9517078,
          39.9259730399,
          40.0267886888,
          39.9190372,
          39.9579312,
          40.0376602,
          39.9264316123,
          39.9271637,
          39.9498246,
          40.0030483,
          39.9787034,
          39.9544564822,
          39.9499178538,
          39.9562697,
          40.0592116,
          39.9522598,
          39.9254545,
          39.9502217062,
          40.055064914,
          40.0461605831,
          39.9612121,
          39.9495283,
          39.9209915,
          40.049511,
          39.9525882,
          39.9271608,
          39.9541202,
          39.9532599,
          40.0540854,
          40.027066,
          40.0557918,
          39.996104,
          40.0415953142,
          39.9846658,
          40.0012973,
          39.9462611465,
          39.966258,
          39.9703316132,
          40.0804412,
          40.0791890292,
          39.9522598,
          40.048536,
          40.0224225,
          39.881297,
          39.9884019,
          39.977142,
          40.103263,
          39.981656,
          39.9373099378,
          39.9551888,
          40.0100109,
          39.969485,
          39.983036976,
          39.9481424,
          39.9483447,
          40.037904,
          40.0360518,
          39.874761,
          40.0394683,
          39.9170713,
          40.0817359,
          39.938929,
          39.934678,
          39.8654657,
          39.936311,
          39.9457341,
          40.040324,
          40.0331967,
          39.9536559,
          39.9944131,
          39.9287048,
          39.9180427,
          40.027564,
          39.9482296,
          39.9255776,
          39.9178315,
          40.1055278,
          39.9774804,
          40.0380838,
          39.9492309,
          39.944413,
          39.936534,
          40.0118111,
          40.0306329,
          40.1050859,
          39.9841717,
          39.9503651,
          39.9463188,
          39.959019,
          39.9554576,
          39.9545578,
          39.9497563,
          40.0342316,
          40.0649469,
          39.9512789,
          40.0810229,
          39.9547909,
          39.949193,
          39.9530336,
          40.0358663,
          40.044236,
          40.1015816,
          39.949912499999996,
          40.056005,
          39.9495443,
          39.9493121,
          39.943271,
          39.9486272,
          39.9505843,
          39.9489844,
          39.876058894,
          39.9483437001,
          40.119547,
          40.074096,
          40.0353901654,
          40.02987,
          39.9542677,
          40.009233,
          39.935293,
          39.9412409,
          40.069648,
          40.0320816,
          40.0011832,
          39.950743692,
          39.9497563,
          39.9404983,
          40.0734681804,
          40.0443567742,
          39.9496781,
          39.918636,
          39.9170069,
          39.936729,
          39.9536411,
          40.0356633,
          39.9591840099,
          40.0023308435,
          39.9194588,
          39.956611,
          39.9091912,
          40.0586616,
          39.9513644,
          39.9340562738,
          39.938608,
          39.9497563,
          39.9552167,
          39.9492067124,
          39.948588,
          39.9171275,
          39.9491707,
          39.9612429,
          39.9508002,
          40.063497,
          39.947786438,
          39.9624658,
          39.967061,
          39.951311,
          39.9776992,
          39.9621917,
          40.0709591,
          39.9263495641,
          40.0927682371,
          39.954349,
          39.9487961,
          39.9531992,
          39.9419789,
          39.9706068,
          39.9532791038,
          39.9295069803,
          39.9638134,
          39.9261964,
          40.072409,
          40.076366,
          40.0250874,
          39.9561946841,
          40.0373432,
          40.0421548,
          40.029494,
          39.9535838538,
          39.978086,
          39.9497563,
          39.9527827,
          39.9437982,
          39.9618991,
          39.9416787531,
          39.9944495,
          39.9137981886,
          39.9738245,
          39.947449137,
          39.9554942817,
          40.086125,
          39.87642,
          40.0648403503,
          39.9405417,
          39.948674,
          39.9485127,
          40.0295108576,
          40.064705,
          39.9790008,
          39.9358187,
          39.9559201,
          39.948041,
          39.9503652439,
          39.9707616,
          40.0428569974,
          39.9115964464,
          39.9553668,
          39.9797004,
          39.956338099999996,
          40.036958,
          40.075949,
          39.9714957,
          39.9763043,
          40.0090963,
          40.0495358252,
          39.9388677768,
          40.105194,
          39.9813918503,
          39.9459602,
          40.0426014,
          39.9544307,
          39.9609007304,
          39.9558813,
          40.056364,
          40.0323421405,
          39.951201755,
          39.916983,
          39.95549425,
          39.9504938936,
          39.9239494074,
          39.9343722849,
          39.9316737,
          39.9651094,
          39.9540019,
          40.0273606,
          40.086094,
          40.0704904,
          39.9558026,
          39.9488681,
          39.9216112,
          40.0106311,
          39.9531593,
          39.941011,
          39.9167625,
          39.961891,
          39.9496367181,
          39.9568403,
          39.9524750756,
          39.9480118,
          39.9854586,
          39.8946127289,
          39.9984294,
          39.9716784,
          39.952533,
          39.9467935,
          39.9520404,
          40.0324851868,
          39.9569323,
          39.965276,
          39.9346629,
          39.9337388,
          39.9998548,
          40.1226988,
          39.9506387,
          40.0416423,
          39.9183863039,
          39.9507208157,
          39.9538713,
          40.1106186,
          39.952171,
          39.9466579,
          39.9321574,
          39.982233,
          39.9857264,
          40.082758811,
          39.9542717,
          39.9594605,
          39.9451009,
          39.9562822155,
          39.9505067,
          40.029103,
          39.9786829,
          39.9533132,
          39.9377304,
          39.9967185,
          39.958432,
          40.0196952,
          39.9386887,
          39.9583587,
          40.0719713,
          39.9516409,
          39.9534686184,
          39.9639216,
          40.0229869,
          39.9258883014,
          39.954101,
          40.0192629311,
          40.1050687,
          40.0593836661,
          39.9536784,
          40.0215945644,
          39.894345,
          39.9487051045,
          39.9644125073,
          39.953298,
          39.953773,
          39.9545598054,
          39.93522,
          39.9876355,
          39.9797909,
          39.953863,
          40.0758304,
          39.9482179212,
          39.8730720324,
          40.085558,
          39.9476547,
          39.9489939,
          39.95379,
          39.9364579957,
          39.925850846,
          40.0645814,
          39.953284,
          39.942335482,
          39.9521517,
          39.9541658,
          40.025925,
          40.0153507,
          39.9297594,
          39.9690246,
          39.9548246,
          39.9515705,
          39.9537673,
          40.0768634,
          39.9583744,
          39.9358085,
          39.9460707,
          39.9788260422,
          39.9484876,
          39.953122,
          39.9629294116,
          39.9202992,
          39.9412251903,
          39.9524929,
          40.023535,
          39.947791,
          39.9302667,
          40.0226489,
          39.9633982,
          40.0306018,
          40.0495757,
          39.947783,
          40.026214204,
          40.0338955,
          39.9367681,
          39.9235305,
          39.9481101,
          39.9512428,
          39.948249279,
          40.0742256969,
          40.0478979468,
          40.041444,
          40.0521829074,
          39.9499759912,
          39.9476637,
          39.9478904,
          40.01035,
          39.9493333403,
          39.9509483,
          39.9497563,
          40.086533,
          39.9930909,
          39.9554597906,
          39.9500535,
          39.999151499999996,
          39.9497994757,
          39.9525262,
          40.0729200641,
          40.06109,
          39.8912479794,
          39.9614370059,
          39.969746,
          39.9491039,
          40.087697,
          39.926632,
          40.0434234376,
          40.0288149,
          40.0131443,
          39.979442,
          39.9744175,
          40.0594444275,
          40.0953268,
          39.9463008,
          39.9497994,
          40.0328372038,
          39.9747482,
          39.9306471,
          40.0917381094,
          39.8959434,
          39.9465958,
          39.9557192,
          39.9497522,
          39.943568,
          39.9781816,
          39.9484184,
          39.9653868,
          40.0416703384,
          39.953432,
          40.0273628392,
          39.9733597,
          40.0852593,
          39.9422431,
          40.0352699,
          39.9540118,
          39.9482667972,
          39.9420818001,
          39.9450147098,
          39.953041999999996,
          39.9419087,
          39.9063127802,
          39.9491057409,
          39.951762,
          39.911958,
          39.950914,
          39.9850721564,
          39.9489444,
          39.9892351,
          40.1024605,
          40.087259,
          40.0451589,
          39.9443093,
          40.1189414,
          39.9139657135,
          39.9486110317,
          39.993535,
          39.9531593,
          40.016768,
          40.062785,
          39.9665611,
          39.9967403,
          39.9515705,
          40.0510400798,
          39.9551256,
          40.007197,
          40.0263844,
          39.972369,
          39.9829159318,
          40.0483879,
          39.965015,
          39.948089,
          40.0585655,
          40.1093432,
          39.9515864405,
          39.9791353607,
          40.0037398,
          39.9552322,
          39.9731622,
          39.9487531332,
          39.952725,
          40.0223544,
          39.9673162,
          39.9490799981,
          39.9219015059,
          40.0294811141,
          39.977976,
          39.9702007,
          39.96007,
          39.9211723,
          39.9513336,
          39.9450458,
          40.0494003,
          40.0301352573,
          39.960522,
          39.9568166568,
          40.0769274956,
          39.9671836,
          40.0340638,
          39.9570239499,
          39.9192109,
          39.940632,
          39.9158557,
          39.9553587,
          40.059176,
          39.9280784,
          39.926913,
          40.0874923342,
          40.0558378767,
          39.9894456,
          39.9500808716,
          39.9538821377,
          39.955259,
          40.0478626,
          39.988408,
          40.0349311,
          40.0779888,
          40.0385571,
          40.0309657058,
          39.948249,
          39.954703,
          39.9185228,
          39.9738884555,
          39.9583587,
          39.9531930549,
          39.9552318,
          39.9486084,
          39.9467934402,
          40.073834,
          39.8900745,
          39.9115533508,
          39.960337,
          40.0671643,
          40.0108382428,
          39.9485474,
          39.914561,
          40.0801196,
          40.0483579,
          39.9487096,
          39.9456163329,
          39.9512983694,
          39.944571,
          40.0471196257,
          39.9225830143,
          40.04163,
          39.9831247,
          39.9846845,
          39.92134,
          39.954502,
          39.959694999999996,
          39.9602681,
          40.0741672,
          39.9284359,
          39.9542994,
          39.9980182,
          39.9400687845,
          39.955399,
          39.967234393,
          40.0484281,
          39.947101388,
          40.0104186,
          39.953198,
          39.9547220185,
          39.9404915,
          39.9623818024,
          40.0589830156,
          40.050018,
          39.9318248,
          39.9506585,
          39.941498,
          39.9737428,
          39.9416802,
          39.9481792,
          40.045022,
          39.951929,
          39.9659790329,
          39.9496602,
          39.9720589,
          40.0322466,
          39.9221978,
          39.9249137,
          39.970671,
          39.9212542,
          39.9554945,
          39.895192,
          39.9198430936,
          39.9528973,
          39.988611,
          39.9487068,
          39.9576241,
          40.0365969,
          40.0284115716,
          39.9450462386,
          39.9419336,
          39.969978035,
          39.9765438,
          39.9234648,
          39.9253435,
          40.015633,
          39.9981951,
          40.043998,
          39.9557454576,
          40.0489636,
          39.932705,
          39.9547249121,
          39.9364886,
          39.9674703,
          39.9241471,
          40.0385555068,
          39.9542356,
          39.9531868891,
          39.9515764639,
          40.0776079,
          39.9484739,
          40.03262,
          39.9996888016,
          39.921596,
          39.9547208,
          40.0246569593,
          39.9538173712,
          39.9483207617,
          39.9535408,
          40.0238229063,
          39.9361704128,
          39.961332,
          39.9244316,
          39.9624259,
          39.9509482,
          39.9619437,
          39.994124,
          39.94499,
          40.0502726811,
          40.102216,
          39.949988,
          40.049331,
          40.0548744,
          39.949329,
          39.919571,
          39.9508923,
          39.9957429,
          40.0366775201,
          39.9393373391,
          39.9535582,
          40.022163,
          39.953630921,
          40.027464,
          40.0919268,
          39.9646285,
          40.079859,
          40.0205736,
          39.9548759225,
          39.96531,
          39.9520342258,
          40.0205811,
          40.1201684,
          39.936831,
          40.0801467016,
          39.9216486848,
          39.933836785,
          40.0386066,
          39.9801719,
          39.9325892,
          40.0265269,
          40.03851,
          39.9767276,
          39.9239698,
          39.9796255603,
          39.8911494,
          40.0661399,
          39.9286791,
          39.9209373,
          40.0348478,
          39.9348882,
          39.9759849699,
          40.104417,
          39.9547003,
          39.936085,
          40.0798783,
          39.9418368,
          39.9391831963,
          39.9441938,
          40.042773,
          40.0280368007,
          39.9462043942,
          39.9279295067,
          39.9508908,
          39.952335,
          39.9494667,
          39.9537784576,
          39.9215268,
          39.9068506337,
          39.9731157,
          39.9552470769,
          39.9549844,
          39.9489252671,
          39.9476386,
          40.0247731,
          40.1039201046,
          39.9278995,
          40.0594832,
          40.0550327831,
          39.9049046,
          39.9497512,
          39.9474855,
          39.92966,
          39.9621826,
          40.0289935,
          40.0582396,
          39.99957,
          39.9550514,
          40.0741022929,
          40.05494,
          39.949285,
          39.9515435656,
          39.9185589,
          40.0321044,
          39.950671,
          39.9267687862,
          40.0433938,
          39.9511992,
          39.954818,
          39.9944495,
          39.9642199,
          39.9511749999,
          39.9512805,
          39.9476279,
          39.951686,
          39.9701234,
          39.9507231094,
          39.9421239,
          40.0315512952,
          39.9515011,
          39.925004,
          39.9184477,
          39.9994302,
          39.9141479401,
          40.0338069,
          39.9759178,
          40.037561,
          39.9551689,
          39.9494184,
          39.931653,
          39.9482948,
          40.0245962,
          39.9511145,
          39.9786517,
          40.0479212867,
          39.9289898,
          40.0432577,
          40.0873884142,
          39.9288708,
          39.962797,
          39.952141,
          39.9788544,
          40.1085087244,
          39.9795332,
          39.9457515981,
          39.967417,
          40.0648947115,
          39.9535371257,
          39.9543106,
          40.044675,
          39.9482572,
          39.9253687,
          39.932068,
          39.9493756,
          40.0126210289,
          39.9487583,
          39.9552040814,
          39.9450373,
          39.876011,
          39.977509,
          39.9606064684,
          39.9385948,
          40.0722499474,
          40.0342467,
          39.9141065086,
          39.9551006,
          39.9618015,
          39.9114175,
          39.9560857,
          39.9740992,
          39.9609773,
          40.0441858,
          40.040781,
          39.9264181,
          39.9553481,
          39.953222,
          39.9535423,
          39.9404206,
          39.9321252,
          39.9484648948,
          39.9487664234,
          39.9451651,
          39.9439544,
          39.9599273,
          40.0263317,
          39.9717648,
          39.94892,
          39.9771594076,
          39.965573,
          39.9410364,
          39.980309,
          39.9388819134,
          40.025409,
          39.9097834,
          39.996525,
          39.949705,
          39.9237701,
          39.9509732529,
          39.9044484999,
          39.948124,
          39.9344835,
          39.9582413,
          39.8780119385,
          40.054758,
          39.9538122,
          39.9515773,
          39.9543751,
          39.950007,
          39.919711,
          39.9553798614,
          39.9585731,
          39.9486521,
          39.9530608377,
          39.9870409,
          40.0458955167,
          39.9339252433,
          40.0625592,
          39.9200716,
          40.04233,
          39.9806746,
          39.873796,
          39.9161098,
          40.044244,
          40.0650858,
          40.0553885,
          40.0088924745,
          40.0054237,
          40.0632429,
          39.9224792054,
          39.918657,
          39.9532594,
          39.9518328,
          39.9548704,
          39.957595,
          39.953314,
          39.9453409827,
          40.0844101,
          40.0359063,
          39.991042,
          39.874953,
          39.9710772,
          40.0471331329,
          39.9479607,
          39.95001,
          39.9284853,
          40.0290717,
          39.9491547,
          39.9537172,
          39.9910933,
          39.9507452,
          40.0105246,
          39.9416062,
          39.9498484,
          40.0551435541,
          39.9453393812,
          39.9742886,
          39.9515299461,
          39.9794590399,
          39.9572771,
          39.9550208,
          39.9549030181,
          40.0022087,
          40.0084785,
          40.0057948469,
          39.9664506632,
          39.9513494418,
          40.1026609943,
          39.9785404,
          39.9491188,
          39.9439712,
          39.9524133109,
          39.8966261,
          40.0299782,
          40.0011962,
          39.9483841,
          39.9630572,
          39.943759,
          39.91654,
          39.903291,
          39.936254,
          40.050681,
          39.9689060509,
          39.9754309403,
          39.872831,
          39.953049478,
          39.9543180934,
          39.9194113,
          39.954251,
          39.9589223,
          39.9497346448,
          39.9945411318,
          40.0547178,
          39.9612273,
          40.0394769,
          39.9340325,
          39.9692358,
          39.8805791544,
          39.9834801,
          39.9537127,
          39.9168703,
          40.05767,
          40.0348466,
          40.026658,
          39.992299,
          40.0261752089,
          39.949104,
          39.949579,
          39.9632741,
          39.9535009355,
          39.9491188,
          39.9243899,
          39.9420587,
          39.9691548,
          39.9511992,
          39.9237455,
          40.0096965,
          40.002622,
          39.9817082,
          40.0618354,
          39.9426655675,
          39.9502275,
          39.965831,
          39.9512544989,
          39.9802551,
          39.9600207,
          39.937636,
          40.1191070242,
          39.9478650629,
          39.929741,
          39.9394117528,
          40.0614476,
          39.9602728,
          39.9505038,
          40.096285,
          40.0387413,
          40.0428057,
          39.9766134455,
          40.0436859,
          39.982194507,
          39.9674631874,
          39.9499062,
          39.9665629,
          40.074096,
          39.9418939,
          39.9870666,
          39.9129581157,
          40.131999,
          39.9517805,
          40.0524287,
          39.926084,
          39.9774533,
          39.9449215,
          39.938626639,
          40.0440091,
          39.9633598577,
          39.8946117,
          39.931348,
          39.9365031566,
          39.9518982,
          40.034485782,
          40.0680407,
          39.9644501,
          39.977642,
          39.9795187,
          39.9933517,
          39.9500808,
          40.0510698311,
          40.0440083466,
          39.949712,
          39.967534,
          39.9773871,
          40.074276,
          39.9550836837,
          39.9526669,
          40.0565982,
          39.9640632,
          39.9484414,
          39.9520434,
          40.0152739,
          39.9011799,
          39.9570681,
          40.0224642,
          39.9583587,
          40.0474609348,
          39.9499785,
          39.9835263378,
          39.9465533063,
          39.9429434,
          39.9509772093,
          39.9551874,
          39.9481128,
          39.955872,
          40.0379825,
          39.9217729423,
          40.0793182,
          39.9221,
          39.9251278,
          39.9374733,
          39.945201,
          39.956729,
          39.9060572,
          39.9481839,
          40.0300466083,
          40.008503,
          39.9545813765,
          39.9687029,
          39.9793657,
          39.9985276338,
          39.9497014,
          39.9504011,
          39.941124,
          39.9534403364,
          40.04756,
          39.9558813,
          40.0061024,
          40.0358783,
          39.9622145,
          40.0965914,
          39.9239862957,
          39.9509073,
          39.9189548,
          39.9549142812,
          39.953162,
          39.949861,
          39.9517605,
          39.948015,
          39.953957,
          40.132395,
          40.0507833,
          40.07955,
          40.0340278,
          39.9809158,
          39.948832,
          39.9541164,
          40.0924685,
          40.0618034,
          39.9524458,
          39.9674815,
          39.949742,
          39.9844875,
          40.0286286,
          39.9720325,
          39.950802,
          39.945082,
          40.035085,
          39.9375696,
          39.9804117,
          39.9570111,
          40.0357473,
          40.0339538,
          40.018561,
          39.948987982,
          39.956593,
          39.9789958465,
          40.038394,
          39.9611001,
          39.950323,
          40.069231,
          40.0250055,
          39.9479710165,
          39.9481782,
          39.9066430724,
          39.9278575,
          39.9499924,
          39.971993,
          39.927559,
          39.949699,
          39.9445311,
          39.9619044,
          39.951799,
          39.9798199,
          39.9689515,
          39.951353,
          40.0726066,
          39.9484263,
          40.0468447,
          39.9705254767,
          39.948257,
          39.948517,
          40.0811093,
          39.9688472,
          40.034015,
          39.9529055,
          40.0025179655,
          39.9540709,
          40.025630123,
          40.0727911933,
          39.9649893,
          39.96074,
          39.9419336,
          39.9496989,
          40.0319191925,
          39.9690665,
          39.9503868,
          40.0257037,
          39.9253162,
          39.9619616,
          40.0174647,
          39.9221697,
          39.9394700802,
          39.941258,
          39.9557715,
          40.0722408,
          39.9481318,
          40.0956946,
          39.974356,
          40.0332838,
          39.9783091,
          39.9744283,
          39.9181629,
          40.0522055,
          40.0645054,
          39.9530218,
          39.9142928,
          39.9630919,
          39.950215,
          39.955017,
          39.9711355,
          40.0454066,
          39.9502973,
          39.9280752,
          40.012418,
          40.036477,
          39.9262649,
          40.0026550293,
          39.9263049,
          40.0627073,
          39.9520801,
          39.9745975872,
          39.976856,
          39.985224,
          39.9546606,
          39.9550532,
          39.9491548072,
          40.0372006,
          40.0612109,
          39.9191842,
          39.9946018986,
          39.9530355,
          39.9521232,
          39.9646735,
          39.9480853,
          40.0162161,
          40.0300222,
          40.0178351,
          39.9107002,
          40.03036,
          40.0031941,
          39.954682252,
          39.952534,
          39.9506628,
          39.9258604,
          39.979333,
          39.874253,
          39.9463542742,
          39.969035,
          39.9724094819,
          39.9440531,
          39.936282,
          39.96306,
          39.953194,
          39.953346,
          40.0623573,
          40.0417146,
          40.030807,
          39.9222656,
          40.0084534,
          40.0795109,
          39.957207,
          40.1195696886,
          40.0498721,
          39.9509761191,
          40.0712058,
          40.037444,
          39.9560712,
          40.0368091,
          39.954754,
          40.039489,
          40.0137755,
          40.0223296507,
          39.944064,
          39.9439931,
          39.913708995,
          39.874920347,
          40.0547654,
          39.9349047,
          39.9981226,
          39.9555635,
          39.933172,
          39.971327,
          39.9557218,
          39.9403662,
          39.8877891,
          40.0732939,
          40.0722475,
          39.924614,
          39.9209324,
          40.0074349,
          39.9667319342,
          39.9630941,
          39.938423,
          39.9865516,
          39.9217799,
          39.965831,
          39.95349,
          39.9774795,
          39.965141,
          39.971422823,
          40.0052393,
          39.901575199999996,
          39.9570188,
          39.9153804,
          39.941663724,
          39.950125,
          39.9800469722,
          40.0321044,
          39.9532889,
          39.9883251094,
          39.9385067392,
          39.914962,
          39.9848878,
          40.0333871422,
          40.004346,
          39.9208815,
          39.9249989,
          40.0796573592,
          40.0377555,
          39.9701516,
          39.957109757,
          39.9689697589,
          39.9532839,
          40.0256009,
          39.952841,
          40.029653,
          39.9672300847,
          39.9524726878,
          40.0572052,
          39.9437809,
          40.0340479,
          39.9607160127,
          39.9532903753,
          39.9288513959,
          40.077368,
          40.0481891,
          39.9794563,
          40.0413621,
          39.9246525,
          40.0220092,
          39.932169,
          40.0499552,
          39.96414,
          39.9791553507,
          40.0228625,
          39.9615077,
          39.952458,
          39.9496785559,
          40.0139965,
          39.9773029,
          39.951890375,
          39.9516488,
          39.9703256,
          40.0368847,
          39.9552705,
          39.948694,
          39.948674,
          39.9534618209,
          39.957619986,
          39.9870884,
          39.9809158,
          39.9613271,
          40.0355548,
          40.0089527,
          39.9350642,
          39.955651,
          39.941882,
          39.9544058,
          39.9439767,
          40.0357067,
          39.9645949,
          39.9519308,
          40.0742819,
          39.9494022,
          39.9895469,
          39.9539376,
          39.9230489,
          40.0272541026,
          39.9687504,
          39.9547834,
          40.0438485,
          40.0643007751,
          39.9514434,
          40.0452787399,
          39.952227,
          39.9194120965,
          40.0774731491,
          39.9553886,
          39.949507,
          39.9481,
          39.9542356,
          39.9265148,
          39.9417193,
          39.9741163,
          39.8755341584,
          40.0593185,
          40.0836156,
          39.9472825,
          39.951262,
          39.9738587,
          39.957233145800004,
          39.9496595,
          39.974694,
          39.9301356247,
          40.0598969,
          39.9506511,
          39.9570641,
          39.992755,
          39.9633082,
          39.9553444465,
          39.9414231194,
          39.9712971,
          39.9554292,
          39.957772,
          39.9412384,
          39.9605194,
          39.9744402,
          39.9529926,
          39.9670886,
          40.0244906,
          40.0430859,
          39.9661569,
          40.0748203,
          40.0318697867,
          39.9763544,
          40.0420208,
          39.9444366,
          39.980424,
          39.9937194391,
          39.9408249,
          40.0350957,
          39.9235932,
          39.95174,
          39.9506592976,
          40.0531416,
          40.0376621045,
          39.9558813,
          39.9440116,
          39.938041,
          39.9377201,
          40.123545,
          40.0311843,
          39.9646209,
          40.010214149,
          39.9418866454,
          39.9675571,
          39.9382628973,
          40.0302047,
          39.9534452,
          39.9317232,
          39.928533,
          40.059667,
          40.0081853,
          39.948408124,
          39.9406940077,
          39.9262902,
          39.9502216,
          39.9557501,
          39.9368243,
          40.0355870565,
          39.9150109943,
          39.979663,
          40.0559507,
          39.9524675056,
          39.9406141993,
          39.999385686,
          39.9562595,
          39.980720001,
          40.0442199194,
          40.1202564,
          39.9497563,
          39.875104,
          40.0391044,
          39.9174052,
          40.042693,
          40.0321044,
          39.980046,
          40.0212001438,
          39.9169871,
          40.068629,
          40.0246776,
          39.9923232025,
          40.052641,
          40.0359369248,
          39.9496652299,
          39.9563482,
          40.0391044,
          39.9441492,
          39.9306716,
          39.9504391,
          39.970433,
          39.9425684,
          39.9411822,
          39.9837179,
          39.9564795,
          40.0869513242,
          39.9610339,
          39.9264441817,
          39.9524637,
          39.983751,
          39.9527859999,
          39.935354,
          40.04493,
          39.94867722,
          39.9390238158,
          39.96299,
          40.0735447,
          40.0501175,
          40.047867,
          40.0106236,
          39.9440412,
          40.107781,
          39.9540358,
          40.0322054,
          39.9192284429,
          40.0348997406,
          40.0638853,
          39.9542944,
          39.8730203,
          39.9500001533,
          39.9367524,
          39.9297933,
          39.9534173637,
          39.9217543725,
          39.972311,
          39.9440532,
          39.957553,
          39.9515981,
          39.952714,
          39.9603356,
          40.0106756,
          39.9799378,
          39.9331233,
          39.9591692932,
          39.985272,
          39.9791698,
          39.948333,
          40.0377140603,
          40.084964279,
          39.945245,
          40.0878683379,
          40.1197128,
          39.9440110213,
          39.9826256,
          39.967741,
          39.9441569667,
          40.0406391,
          39.9688731,
          39.9487067926,
          39.9352068,
          39.9729781261,
          39.9485357745,
          39.9955238,
          40.0231713,
          39.95214,
          39.9630825,
          40.0779684,
          39.941596,
          39.9684242,
          39.9553977,
          39.9470334,
          39.945722875,
          39.923904,
          39.953964,
          39.9838456,
          39.9500908,
          39.9483513654,
          40.0296843,
          39.9299417,
          40.0569781,
          39.926032,
          39.952932,
          39.9789472091,
          40.0880510602,
          39.9496418,
          39.9520316095,
          40.055688,
          39.9553684,
          40.0034642,
          40.0570165,
          39.9507921,
          39.9531368,
          39.929795,
          39.9502973,
          39.9224306,
          40.009045,
          39.9582109,
          39.9235744,
          40.0618649912,
          39.9250862,
          39.9532,
          39.9514489,
          39.9724323,
          39.9498882471,
          39.9220752,
          40.026303576,
          39.9408419,
          40.021682,
          39.9671254924,
          39.9399660086,
          39.998747,
          39.9209022,
          39.9207300556,
          39.9864213428,
          39.8787765503,
          39.949912499999996,
          39.9444927907,
          39.9518087,
          39.9323559,
          40.1021784,
          40.099521,
          39.9552705,
          39.9433871696,
          39.9691333,
          39.967082,
          39.9537036,
          40.0515285,
          39.8806402069,
          40.0166658,
          39.9491987,
          39.967481,
          39.9477306374,
          39.9515214293,
          40.0382105,
          40.1290943,
          40.0375249,
          40.0296217,
          39.9491522,
          39.970471,
          39.9508207,
          39.9517142,
          39.97831827,
          39.940123,
          39.954332,
          39.960395,
          40.0624239,
          39.9536285,
          39.9559586568,
          39.9697986,
          39.930249,
          40.0388462,
          39.953175,
          39.95333,
          40.078208,
          39.9578888,
          39.9357545,
          39.966258,
          40.0388690435,
          39.9500007,
          40.0295466,
          39.919628,
          40.0339992,
          39.9510096,
          39.9552459,
          40.0352619,
          39.9777753,
          39.9345239692,
          39.9518677,
          39.9484906,
          39.979333,
          39.9417497,
          39.979339,
          39.951001,
          39.951004,
          39.9526538768,
          40.0199613,
          39.9518233,
          39.939989,
          39.926519,
          39.9695251,
          40.0681534,
          40.055801949,
          39.9042894,
          40.055265,
          40.0291319,
          39.9405063,
          40.0245864,
          39.9451062,
          39.9533084,
          39.985774,
          39.9520301,
          40.0178826,
          39.9779193285,
          39.9610931,
          39.9495313759,
          40.0327097788,
          40.0517233,
          39.9543073759,
          39.912518,
          40.0722408,
          39.9493695,
          39.940805,
          39.88678,
          39.9473272218,
          40.0461716,
          40.0867447,
          39.9721728775,
          39.9523287937,
          39.9497563,
          39.8764029095,
          40.0290643,
          39.987659,
          39.9972580068,
          39.9539294,
          39.954038,
          40.046348,
          39.9284095243,
          39.9581652,
          39.9267197,
          40.1013949795,
          39.93613,
          40.0794684018,
          40.0436392303,
          39.955455,
          39.9501500906,
          39.9512288134,
          39.9484101,
          39.9673696,
          39.9172447,
          39.9746916,
          39.9422776,
          39.9419652,
          39.941876,
          39.9397277733,
          40.096111,
          40.0171139,
          39.9482837212,
          39.9378378,
          39.948332,
          39.9803676,
          39.9274665,
          39.9261812341,
          40.0424193649,
          39.963646,
          39.9703702755,
          39.9465577,
          39.9489715,
          40.0292186,
          40.0690865,
          39.9973469,
          39.9997721615,
          39.8946117,
          39.9510629,
          39.9792348,
          40.0367736816,
          40.089329,
          40.0298872,
          39.9026450082,
          39.9927008763,
          40.0102059,
          39.9361728,
          39.8878070863,
          40.0338311,
          40.0167992,
          40.0248784,
          39.9477642,
          39.979628,
          39.9534989,
          39.9495566,
          40.0292874,
          40.0296379732,
          39.9552368156,
          39.9372212861,
          39.8754440123,
          39.9798417,
          39.952402,
          40.0727998,
          40.0672279,
          39.9484412809,
          39.9271243,
          39.956484,
          40.084021,
          40.072489,
          39.9537271,
          39.970316,
          39.9619212,
          40.1011904384,
          39.9685113,
          39.9215917,
          39.9800961766,
          39.948182,
          39.9625734,
          40.0446837,
          39.9699452213,
          39.918652,
          39.96350593,
          39.914458,
          40.121646,
          39.9535136,
          40.0639558,
          39.950759,
          40.0568584,
          39.9396284,
          39.992395,
          40.0404342,
          39.9505308786,
          40.0556620874,
          39.9343749,
          39.9473199,
          39.9362632,
          39.9530717477,
          40.0724995,
          39.986116,
          39.9445223204,
          39.9816738972,
          39.9670823,
          39.9537636,
          39.9483933,
          40.0556168,
          39.9502786,
          39.9648526,
          39.9323249,
          39.9669206348,
          39.983077,
          39.9551232973,
          39.9390394,
          40.0312769173,
          39.9484368,
          39.9305753,
          40.033665,
          39.9374128205,
          39.9554449,
          40.0498948,
          39.9538477979,
          40.0310351,
          39.9497563,
          39.950201,
          40.0225585,
          39.9524435,
          40.1102701,
          40.0347942,
          39.9318715007,
          39.961426,
          39.9563986,
          39.9566244,
          39.9263001984,
          39.960346,
          39.90064491,
          39.8891661,
          39.9516785914,
          39.9532568,
          39.9400428,
          40.012898,
          40.0138105,
          39.9255095,
          39.953245,
          39.9384274,
          39.9307397668,
          40.0541409,
          39.947787,
          39.9452422,
          39.9730713726,
          40.0792602509,
          39.953016,
          39.953328,
          39.951048,
          40.0413179,
          39.9344521341,
          40.0904272,
          39.9189705,
          39.9552832486,
          39.9515662944,
          39.9497118,
          39.9509564,
          39.9550806,
          40.004757308,
          39.9551734924,
          39.9288976,
          39.9351965,
          39.9534989,
          40.0226761,
          40.0429939,
          39.9607681115,
          40.0307077,
          39.9542756,
          39.9793747,
          39.9509674,
          39.917108,
          39.9549627,
          39.9505446,
          40.0150652,
          39.9417309203,
          40.0294638,
          39.9546629,
          39.9343559,
          39.9664035366,
          39.9482037845,
          40.0849507806,
          39.9645525834,
          39.9556239,
          40.1319562,
          39.9555591054,
          39.9547153584,
          39.9479848,
          39.9253969,
          40.0350573,
          39.9510693646,
          40.0264175031,
          39.9531368,
          40.0811093,
          40.0423138,
          40.0262339,
          40.0539009,
          40.039176,
          39.9437655,
          39.9525531,
          39.9713152822,
          39.9583587,
          39.9505772,
          40.031943276,
          39.949130566,
          39.9564551,
          40.0286011,
          40.0646797,
          39.9798433,
          39.9434957,
          39.9686538,
          39.9522079227,
          40.0605583,
          39.9573344402,
          40.068067,
          40.0718679468,
          40.0188931,
          39.9228596,
          39.9732217,
          39.9143957,
          39.953712,
          40.0249636228,
          40.0278198,
          40.0089586,
          39.9864461,
          39.9521517,
          39.9520744759,
          39.9534075108,
          39.9692521,
          40.009208,
          40.0820736,
          39.9554005671,
          39.8749289791,
          40.0110715055,
          39.91357,
          39.95558,
          39.951761,
          39.9256685,
          40.02944,
          39.9529565,
          40.0338693,
          39.9338740361,
          39.9049727,
          39.9612137,
          40.0922845,
          39.9531593,
          39.936492,
          39.9757885,
          40.0791915023,
          39.9179792,
          39.9790688131,
          39.9523626789,
          39.9505512096,
          39.87596,
          39.9531200778,
          39.9771528,
          39.9302586,
          40.0355169,
          39.9496993,
          40.1202789666,
          39.947631,
          39.9708487,
          40.0456111,
          40.0875627874,
          39.949756235,
          39.87273,
          39.9529106,
          39.948214025,
          39.9554326,
          39.94403,
          40.0751999,
          40.0091071614,
          39.9548253,
          39.9192063,
          39.9792581,
          39.9658774,
          39.9490604639,
          40.0505154,
          39.9385041,
          39.9102487,
          39.9876447657,
          40.0604703365,
          39.9411099,
          39.9834633,
          39.9920377,
          39.9419643,
          40.0426716777,
          39.9214837,
          39.9828810847,
          39.9557798717,
          40.0859595,
          39.9995765686,
          39.9490604639,
          39.9091912,
          39.9510287,
          39.9496413446,
          39.9419732,
          39.933173,
          39.9173293,
          39.950247,
          39.9415445,
          39.877855,
          39.954055,
          39.9671988,
          40.0402499,
          40.026275,
          39.9670245,
          39.9556688,
          40.0798351,
          39.928481,
          40.0546452,
          39.955579,
          39.94995,
          39.9023035,
          39.9497563,
          40.041592,
          39.9523066495,
          39.981332,
          40.0284115716,
          39.9768423,
          40.0735965366,
          40.031117,
          39.946556,
          40.0395546,
          39.9595144642,
          39.9673315908,
          40.010788133,
          39.95347837,
          40.0118579,
          39.960636,
          40.0127313147,
          40.032389,
          40.0310497,
          39.950452,
          39.9623128,
          39.94126,
          39.9951676,
          40.0530319,
          40.0675197,
          39.9144249,
          39.983144,
          39.9418004,
          39.9236465,
          39.9185202597,
          39.939060062,
          39.99406085,
          39.9332010583,
          39.9766631335,
          39.9326866,
          40.0171903,
          39.9413851,
          39.9552705,
          39.9360406751,
          39.9495628765,
          40.032104028,
          40.0418304,
          39.9316669734,
          39.9810059401,
          39.9559497,
          39.94819,
          39.9584362305,
          39.9229037,
          40.0550205,
          40.0268363,
          40.0216770872,
          39.957586,
          40.0609134,
          39.9255887619,
          40.044553,
          40.0356086771,
          40.0604497,
          40.0415039,
          40.1005522045,
          39.9389811,
          39.9536815,
          39.9553957,
          39.927412,
          39.9387267,
          40.0255643503,
          39.9786174929,
          39.9494916,
          39.9482403,
          39.9483920508,
          40.0572043,
          39.944043,
          39.965847,
          39.9514103,
          39.9613057,
          39.9504385693,
          39.923491,
          40.0996149,
          39.92523,
          39.9545950448,
          39.9687912,
          39.9543093077,
          40.0731087397,
          39.970799,
          39.953971063,
          39.952245521500004,
          39.950949,
          39.948524,
          39.949638,
          39.9558028837,
          39.9553922,
          40.04246,
          40.0512612,
          39.95705,
          40.034592,
          39.948896,
          39.9799311011,
          39.9528123,
          39.955346,
          40.063816,
          39.9491434,
          39.9661569,
          39.9568639964,
          40.0444786018,
          39.918945,
          39.9502,
          40.0621974,
          39.9374108,
          39.9394621,
          39.9666803,
          39.9408607,
          40.0634207,
          40.0682106059,
          40.0530181,
          39.953486,
          40.1314848,
          40.005815,
          39.99218,
          40.039051,
          39.9254615695,
          40.1198872,
          39.9484077767,
          40.02078,
          39.959375,
          40.017796,
          39.9378379,
          39.9348377485,
          39.9527910361,
          39.9471698,
          39.924223,
          39.9535536,
          39.948986,
          39.9441335608,
          39.970596,
          39.9688395,
          40.025762,
          39.95232,
          39.9472463,
          39.9497563,
          39.9583155,
          39.9218264,
          39.895526886,
          39.9115113,
          39.9787426,
          39.9674016,
          40.058619097,
          39.974236,
          39.9542677,
          39.9528558776,
          39.9509385644,
          40.0779888,
          39.9472278303,
          39.924036,
          39.9546911,
          39.9791574,
          39.9512973,
          39.950168,
          39.949975,
          39.953629286,
          39.921583,
          39.9188059,
          40.095777,
          39.9352068,
          40.1192596,
          39.9706939,
          39.9809158,
          39.9621826,
          40.030023,
          39.942855,
          39.9583155,
          39.976014,
          39.9522045,
          39.9511843,
          40.0740661358,
          40.0427287,
          40.0243322,
          39.9557436343,
          39.8774228729,
          39.9564707,
          39.9677290083,
          39.929019,
          39.9674367,
          39.9494902133,
          39.9710336,
          39.9498493,
          39.988268,
          39.9524023,
          39.9477073,
          39.958068337,
          39.955365,
          40.0425044,
          39.9346961,
          39.952385,
          39.9557501,
          40.0179104,
          39.955275815,
          39.9519739402,
          39.9707728,
          39.9791705,
          40.076318,
          39.875504,
          40.0830673865,
          39.9620486,
          39.9500715082,
          39.9473199,
          40.040715,
          39.9485666341,
          39.9372169,
          39.9553252,
          39.9960138239,
          39.9557404,
          39.8761393223,
          40.0552892,
          40.05595,
          39.9573479,
          39.9382715655,
          40.096319,
          39.9529913,
          39.9438958071,
          39.9217559,
          39.9477475,
          40.0038046,
          39.9344738,
          40.007927,
          40.0145923,
          40.0636038127,
          40.0903329,
          39.9820407,
          40.0546098,
          39.9521221,
          39.904389,
          40.0128567,
          40.0362638,
          39.9611667,
          40.0444606,
          39.9217963463,
          39.9289011,
          40.056863,
          40.0889336074,
          39.9622122,
          39.9554462999,
          39.9531912919,
          39.9487103,
          39.9505059,
          39.8766558821,
          39.9963913,
          39.9614139091,
          40.0255165,
          39.9592359,
          39.9255959006,
          40.0449503926,
          39.9607412,
          39.9533991057,
          39.950951,
          39.9717187537,
          39.9709028061,
          39.967128,
          39.953807711,
          39.9583061,
          39.9535171,
          39.922761,
          39.9379512,
          39.9502654002,
          39.9509148952,
          39.9530261,
          39.9507921,
          40.0526185,
          40.034328,
          40.068352,
          39.92179,
          39.9127689,
          39.9529913,
          39.9850957,
          40.0548126,
          39.9794397148,
          39.936536,
          39.95321,
          39.9205581008,
          40.0107279,
          39.9523077,
          39.928546,
          40.0269917,
          40.0382627,
          39.9822912379,
          39.9818785,
          39.9512256328,
          40.0408335,
          39.9277406,
          39.9490512,
          39.9530044436,
          39.9895823,
          39.9358853334,
          40.1214268,
          39.9548176,
          39.9698568,
          40.1075482,
          39.9567133,
          39.9557255,
          39.9485847,
          39.9411616,
          39.9535723,
          39.9714977,
          39.95365,
          40.1018053,
          39.9529111355,
          39.9884039,
          39.977917792,
          40.0104909,
          39.9746363839,
          39.951988,
          39.924283,
          40.0770116,
          39.968629,
          39.954922,
          40.0425408,
          40.0771023,
          39.9042894,
          39.955072408,
          40.0286174763,
          39.945196,
          40.076064,
          39.9493319,
          40.0325377487,
          39.9557003985,
          39.9437933,
          39.9836883,
          39.9411270506,
          40.036396178,
          40.0314038,
          39.950592,
          39.876046,
          39.9495994,
          40.1246128461,
          39.9555454849,
          39.9517001088,
          40.0484515,
          39.929015,
          39.8997708,
          39.9542282,
          40.045112,
          39.9464884,
          40.0091534,
          39.9487291,
          39.953657,
          39.9787331,
          40.007414,
          40.054553,
          40.0432507085,
          39.9868416,
          39.9540571,
          39.9302929,
          39.9616110034,
          39.948706,
          40.0355953,
          40.001155,
          39.9502865,
          39.9208326,
          40.0100794,
          39.9489487,
          40.0333813086,
          39.9687445,
          40.0522496,
          40.0100159853,
          39.9711852,
          40.0521915,
          39.9739016,
          39.9603484,
          40.080844,
          40.0216616,
          39.9572977379,
          39.955207,
          39.9709196,
          39.953504011,
          39.8744,
          40.0595503,
          39.9850526012,
          39.951057,
          40.0449572,
          39.9973352,
          39.9626467303,
          40.0350252,
          40.0931358,
          39.9515705,
          39.9489186,
          39.932169,
          39.94117,
          40.0291676,
          39.9792137,
          39.941209,
          40.0429544,
          39.9430020477,
          39.9530183899,
          40.064198,
          39.9404037,
          39.9683247686,
          39.9491828858,
          39.9464996,
          39.9343869,
          40.1243775714,
          39.9426879883,
          39.9506134672,
          39.9535213,
          39.951593,
          39.9512937,
          39.9594715,
          39.9219375,
          39.9113159,
          40.0655504,
          40.0729157,
          39.9515319,
          39.9380805,
          39.9976234,
          39.9505718077,
          39.9550104,
          40.0300397244,
          39.9671602,
          39.953764,
          40.0583688,
          39.93725004,
          40.0232596,
          39.9506686,
          39.9491188,
          39.9497020026,
          40.034118,
          39.9521034288,
          39.929905,
          39.9462612,
          39.9280846,
          40.0000082,
          40.119623,
          40.0234036,
          39.9583061,
          40.0365019,
          39.9869523271,
          40.0741808,
          39.9535517,
          39.9297436,
          39.9692131,
          39.9419352,
          39.9479485975,
          39.9701581731,
          40.0573597,
          39.9486488,
          39.954995,
          39.9539055256,
          39.9127689,
          39.9544373,
          39.941938,
          40.0577429,
          39.9531597,
          39.9498657277,
          39.9986823,
          39.9531593,
          40.0837641,
          39.9387523,
          40.0215169835,
          39.962915699999996,
          40.09163,
          39.9247659,
          39.9126266,
          40.0173649056,
          40.0395338,
          40.105803,
          39.9503343,
          39.9776902555,
          39.9823271,
          39.9491798,
          39.9341406,
          39.9290917,
          39.949621,
          39.953511,
          39.9407229718,
          39.924743,
          39.9213449,
          39.984140000000004,
          39.9535194938,
          40.0051956761,
          39.9623033162,
          39.9412059,
          39.9362435,
          40.0258865,
          40.0344556,
          39.955307,
          39.8951784,
          40.0646888,
          39.9546963178,
          39.9485252,
          39.9711930305,
          39.9707291163,
          39.9274785,
          39.95337,
          39.9499983,
          39.9194912,
          39.9211192555,
          39.9368281573,
          39.9217318,
          39.9718804459,
          39.9469051201,
          39.9547768017,
          39.993593,
          40.0515769,
          40.0061298,
          39.9533368,
          40.041604,
          39.9714796,
          40.0351637,
          39.9261735,
          39.9542532,
          39.990641,
          39.9673313,
          39.936139,
          39.962189,
          39.9826453,
          40.029014,
          39.9519037,
          39.953278,
          39.964395,
          39.9992943027,
          39.9872157,
          39.9245699,
          39.9731919,
          39.8750348517,
          40.0373807557,
          39.9630851,
          40.0599673,
          40.027319,
          39.9822216,
          39.9215499,
          39.9556166133,
          39.9610864189,
          39.875516503,
          40.0608590409,
          39.966593,
          39.9488295,
          39.9434251,
          39.9486043,
          39.9389055424,
          39.9093845767,
          40.0195006,
          39.947459,
          39.875016,
          39.9791026041,
          40.0215353,
          39.9740785,
          39.9487783,
          40.0751627,
          39.9530971,
          39.9600168,
          40.0669879,
          40.025144,
          39.958343,
          40.02154,
          40.073879655,
          39.9535916,
          39.9792884,
          40.0088409,
          39.920208058,
          40.0805635,
          40.031862,
          39.9831195,
          39.9514394729,
          39.9495009,
          40.0763366,
          39.9408795261,
          39.9478000298,
          40.0015642,
          39.995567,
          39.8764013502,
          39.9386746,
          40.0478755407,
          39.877812,
          40.0740183,
          40.0944627,
          40.0270908616,
          39.9544401037,
          39.9834801,
          39.9507508655,
          40.0529533,
          39.883829,
          39.947701,
          39.941969,
          39.9837637,
          39.9279435,
          39.9614570819,
          39.9524671,
          40.0348183,
          39.9480509614,
          40.0510947,
          39.9634523,
          40.004687,
          39.9936066,
          40.029547,
          39.9526099274,
          39.948063,
          40.0782181696,
          39.9567961,
          39.93245,
          39.9799137,
          40.0297696,
          40.0621074,
          40.103218,
          40.08396,
          39.878166,
          39.9552752,
          40.0649342,
          40.0854409066,
          40.067023554,
          40.025053,
          40.0642131,
          39.9308747,
          39.9865131,
          39.96038,
          40.0337825,
          39.9568619,
          40.0079019,
          39.9790436,
          39.9280019,
          39.9508012,
          39.9687706,
          40.038997,
          40.1090436,
          39.9485257778,
          39.9419625269,
          39.9723048,
          39.940039,
          40.0021113335,
          39.9380675,
          39.9482947,
          39.933915999999996,
          39.9833884,
          39.9485358,
          40.0449465,
          39.954782,
          40.0184548748,
          39.9505739884,
          39.9557799,
          39.9498058,
          39.9263553,
          39.9546225,
          40.0571730637,
          39.9467611936,
          39.9569164648,
          39.9696017,
          39.9041687186,
          39.9537915,
          39.947286,
          39.939496,
          40.0410958357,
          40.0343452,
          39.94846,
          40.0420055,
          39.9497563,
          39.9495571,
          39.9498741,
          39.9515389392,
          39.969439,
          39.9568595,
          39.949778,
          40.0642416,
          39.949064,
          39.9220776,
          39.9576766,
          39.9636975,
          39.953970773500004,
          39.9388459,
          39.9630809277,
          39.9502708009,
          39.9956107,
          39.9502943,
          39.964545,
          39.9618929,
          39.9653988,
          39.9835245,
          39.9496588223,
          40.0613069,
          39.945195,
          39.9473333,
          39.949015,
          40.0290057,
          39.9497935036,
          39.949016,
          40.025021,
          40.039759108,
          39.967315,
          40.0437752,
          39.9406127199,
          39.9533414645,
          39.9502972,
          40.0281895,
          39.936093,
          40.0304136,
          39.9488774598,
          39.9524039,
          39.9491761,
          40.0577429,
          39.9491000076,
          39.950352,
          40.0274932,
          39.968711,
          39.9461148326,
          39.9834805,
          40.07662,
          40.0294625,
          39.971548,
          40.0264607,
          40.052959,
          39.9934378,
          39.9484043,
          39.952545,
          39.95518,
          39.953799599999996,
          40.0733429,
          40.0866977,
          39.9398664,
          40.0348900461,
          39.9658337,
          40.08396,
          39.9500962,
          39.9501744,
          39.9393052955,
          39.9011799,
          39.948891,
          39.9784134463,
          39.9297638,
          39.9026332387,
          40.0328076,
          39.9059929,
          39.93474,
          39.969257999999996,
          39.9238557,
          39.9428633,
          40.0795819,
          39.9491783,
          40.03828,
          39.929123,
          39.9557002,
          39.9406517812,
          40.0566502119,
          39.926384,
          40.0377018,
          39.9501977,
          40.063437,
          39.9903953,
          39.955985,
          39.9991314,
          40.0586176,
          40.06924,
          39.9482091,
          39.955061,
          39.97036,
          39.9533,
          39.9892175,
          40.0281597,
          40.1332476903,
          40.044187,
          40.0248837,
          39.953559,
          40.0546791,
          40.061412,
          39.977529,
          39.9738702,
          39.954126,
          39.949589,
          39.9565494,
          39.9554894581,
          39.9569121,
          39.9333293182,
          39.9334789,
          40.037605,
          40.029579,
          40.0330941,
          39.954271,
          39.9213976,
          40.0218539,
          39.9183356,
          39.9415037,
          39.9794794,
          39.9537233054,
          39.9264547234,
          40.0406845,
          39.9872648,
          40.0677653,
          39.963948,
          39.9412618963,
          39.9909132,
          39.9704811271,
          39.9863489,
          40.0020821,
          39.941026,
          39.9760646,
          40.032491,
          39.9582549,
          40.074768681,
          39.9556727,
          39.9363134,
          39.948775,
          39.953229,
          39.9497760472,
          40.0177677259,
          40.017104,
          39.9286739096,
          39.9496281,
          40.086753,
          39.9479310476,
          40.05188,
          39.9974914,
          39.9707126659,
          40.0586045,
          40.0693548,
          40.0122547754,
          40.0550057,
          39.9477682202,
          39.876361,
          39.9557374,
          40.0033420766,
          39.9630709056,
          39.966564,
          39.9525428831,
          39.9702412,
          39.98221,
          39.9412228,
          39.926076,
          39.92168,
          39.8761409034,
          39.968717,
          39.964422,
          39.938816,
          39.9354888,
          39.9531593,
          39.9480324,
          39.9834,
          39.9410512122,
          40.059745,
          40.049135,
          40.0956114102,
          40.0287705,
          39.95079,
          39.915112796,
          39.970522,
          39.954813,
          40.0694910114,
          39.9622476511,
          39.9510933,
          40.0711656,
          39.9480324,
          39.9699745,
          39.971709,
          39.9552982,
          39.9569332,
          40.0351703,
          39.9579926,
          39.9504997,
          39.9481225533,
          39.9801329616,
          39.9089296,
          39.9630001,
          39.9244658,
          39.9347543,
          39.9403236,
          40.0083024,
          39.9478262281,
          40.022471,
          39.9809158,
          40.031906,
          39.948937,
          39.9783479,
          40.1115707456,
          39.9505059,
          39.9495961,
          40.0623743,
          39.9737623,
          39.9675505,
          39.9620061691,
          39.9252048865,
          39.9707196889,
          39.957447,
          40.0324827851,
          39.9359818
         ],
         "legendgroup": "",
         "lon": [
          -75.1555641,
          -75.1432262,
          -75.162568,
          -75.1356571,
          -75.1948936,
          -75.1680274529,
          -75.1150148,
          -75.1496356,
          -75.1161695,
          -75.2253784,
          -75.1741858944,
          -75.1672837,
          -75.1708991,
          -75.1273939,
          -75.1451988,
          -75.0267907,
          -75.159771,
          -75.1573883,
          -75.104787,
          -75.1744997,
          -74.9650112,
          -75.22198,
          -75.173645,
          -75.105553,
          -75.1606146,
          -75.1989988336,
          -75.2167929785,
          -75.1031599,
          -75.0845897,
          -75.1590000821,
          -75.1509702725,
          -75.2087070076,
          -75.1322471288,
          -75.2436721818,
          -75.101136,
          -75.2158315415,
          -75.1438169,
          -75.1717901,
          -75.1901845,
          -75.1557966694,
          -75.15902,
          -75.1992768,
          -75.1482632,
          -75.1240606,
          -75.1815903,
          -75.1819889,
          -75.1511064,
          -75.094699,
          -75.1971027811,
          -75.1501031,
          -75.1581617,
          -75.1575374,
          -75.246888042,
          -75.1794242,
          -75.1916189,
          -75.1615836,
          -75.1541655511,
          -74.9648083509,
          -75.0833451,
          -75.1608093,
          -75.1307075,
          -75.11891,
          -75.1747733,
          -75.094581,
          -75.146352,
          -75.0417837,
          -75.1686108,
          -75.2244958,
          -75.2178905,
          -75.1674658,
          -75.238934,
          -75.2292952,
          -75.0611831,
          -75.1520299,
          -74.9868814021,
          -75.163026,
          -75.1733058,
          -75.179381,
          -75.1448014,
          -75.0438084,
          -75.1910637,
          -75.1124633,
          -75.1525267,
          -75.172624,
          -75.1692901,
          -75.1671322221,
          -75.1954732,
          -75.1789870874,
          -75.0662936,
          -75.1253492,
          -75.1455404,
          -75.1869588,
          -75.1496175304,
          -75.144335,
          -75.1590984,
          -75.1744313,
          -75.1716919961,
          -75.1977337,
          -75.1439919,
          -75.1662905577,
          -75.2332982,
          -75.152804,
          -75.1041150063,
          -75.1239721,
          -75.0836118,
          -75.106562376,
          -75.2135489881,
          -75.1507643,
          -75.1615836,
          -75.2398454,
          -75.1653879,
          -75.1404232,
          -75.1579846257,
          -75.1578331,
          -75.1657105,
          -75.0442917475,
          -75.1629175,
          -75.1575821,
          -75.144739,
          -75.1488281,
          -75.166787,
          -75.0583349168,
          -75.0284172,
          -75.2276433154,
          -75.159913,
          -75.1345396622,
          -75.2363521,
          -75.03146,
          -75.2032578,
          -75.0238988,
          -75.158305077,
          -74.9997615712,
          -75.1849412,
          -75.1680038,
          -75.1748969,
          -75.1682054067,
          -75.1456449,
          -75.1803247,
          -75.2209958,
          -75.167449,
          -75.1703845,
          -75.1568413,
          -75.1923844,
          -75.1602726,
          -75.1554729,
          -75.189062,
          -75.1652079004,
          -75.2222705,
          -75.1293858,
          -75.1507871,
          -75.1869588,
          -75.025079772,
          -75.1981973,
          -75.202991,
          -75.2065334,
          -75.192585,
          -75.1708267829,
          -75.1282148436,
          -75.160044618,
          -75.1920424,
          -75.0581372,
          -75.1520337,
          -75.1572515,
          -75.1339557767,
          -75.1824221,
          -75.127588677,
          -75.2214354,
          -75.1799143,
          -75.169558,
          -75.0094825029,
          -75.1582199,
          -75.2261989,
          -75.1643767,
          -75.169849,
          -75.249793,
          -75.1176526374,
          -75.1324873,
          -75.1593118,
          -75.0323500112,
          -75.1619827,
          -75.1460802,
          -75.1572987,
          -75.2398777179,
          -75.1590135265,
          -75.174734,
          -75.1472321594,
          -75.0154664,
          -75.188066,
          -75.1541846,
          -75.1561742,
          -75.1578655,
          -75.1855377,
          -75.2227872271,
          -75.1636243,
          -75.1546781,
          -75.1420305669,
          -75.1551747608,
          -75.1928739332,
          -75.1836892962,
          -75.1728806172,
          -75.2412374,
          -75.0804037,
          -75.2043607,
          -75.0472798,
          -75.061858,
          -75.2029159,
          -75.0520111,
          -75.092621,
          -75.1237642,
          -75.2284179916,
          -75.1582302558,
          -75.1159524,
          -75.1779537,
          -75.0448466,
          -75.153227,
          -75.141464,
          -75.0943523,
          -75.156031,
          -75.164854,
          -75.1728923991,
          -75.149469,
          -75.172368,
          -75.1489288,
          -75.1191148148,
          -75.1869289,
          -75.1669794,
          -75.1885843277,
          -75.1393742,
          -75.068702,
          -75.2023024894,
          -75.1559102741,
          -75.1243229,
          -75.2266546,
          -75.1666989129,
          -75.1636927,
          -75.1758562,
          -75.123013,
          -75.1588247,
          -75.232945,
          -75.1788476379,
          -75.2036365,
          -74.9671626596,
          -75.1549760369,
          -75.1769466,
          -75.15598,
          -75.0994,
          -75.1891783,
          -75.170397,
          -75.1644704,
          -75.2345210196,
          -75.1495102,
          -75.1745111,
          -75.2094578,
          -75.1403984,
          -75.1590522333,
          -75.119234,
          -75.202909,
          -75.0547986031,
          -75.1441173,
          -75.1611265,
          -75.1570795,
          -75.169540979,
          -75.1737677917,
          -75.2251847,
          -75.1589615,
          -75.1639247,
          -75.0653133347,
          -75.1825701445,
          -75.159898,
          -75.1483587,
          -75.1357333,
          -75.1440717,
          -75.1395907626,
          -75.13997,
          -75.0964736,
          -75.171213,
          -75.1325899,
          -75.1745343,
          -75.1492562,
          -75.1705213,
          -75.204325,
          -75.0943052,
          -75.1695317,
          -75.173293,
          -75.14104,
          -75.2089392,
          -75.1672091,
          -75.163993,
          -75.1303845,
          -75.0737309,
          -75.1922872,
          -75.1677993,
          -75.1800551,
          -75.1320426,
          -75.1715522,
          -75.1555366884,
          -75.2255038,
          -75.1678993,
          -75.1702591,
          -75.1184864286,
          -75.1631867,
          -75.1442542,
          -75.1004709,
          -75.1405212045,
          -75.1689532,
          -75.1575593,
          -75.1542417,
          -75.1577989,
          -75.0084942,
          -75.208009522,
          -75.1458802706,
          -75.0379489,
          -75.243818,
          -75.1017843,
          -75.155748,
          -74.9641437,
          -75.1736235982,
          -75.17167,
          -75.117647,
          -75.1590914279,
          -75.0115236634,
          -75.1331135,
          -75.2234230242,
          -75.1754204,
          -75.1519159,
          -75.1445806,
          -75.021128657,
          -75.1609139,
          -75.233934,
          -75.0052062453,
          -75.1494241306,
          -75.1634989,
          -75.355294,
          -75.1550674438,
          -75.1737245,
          -75.208546,
          -75.1663260162,
          -75.2246050321,
          -75.1761041,
          -75.2317485,
          -74.9750493,
          -75.156613,
          -75.179105,
          -75.1494953,
          -75.2227004,
          -75.1507361,
          -75.045126,
          -75.1444822,
          -75.0287078,
          -75.1602286,
          -75.173616,
          -75.1591747,
          -75.153284,
          -75.1673305865,
          -75.1562026,
          -75.1506617,
          -75.171033,
          -75.092056,
          -75.1531118029,
          -75.1406934857,
          -75.240049,
          -75.189482,
          -75.1671583,
          -75.0155235,
          -75.1586195,
          -75.064457,
          -75.1334333,
          -75.1480623,
          -75.1992768,
          -75.1946097,
          -75.212136,
          -75.2061225,
          -75.1966365,
          -75.1241144,
          -75.1751139,
          -75.1729739,
          -75.0368603,
          -75.147463,
          -75.1438627,
          -75.1551081,
          -75.1439349,
          -75.1732910797,
          -75.11303,
          -75.1573562007,
          -75.167045854,
          -75.0634418,
          -75.1449131188,
          -75.143697,
          -75.172676,
          -75.1438587,
          -75.2161171262,
          -75.1343005,
          -75.1754611,
          -75.1624865435,
          -75.1601829009,
          -75.1610435,
          -75.2412560129,
          -75.1964378357,
          -75.147458,
          -75.0350286614,
          -75.158424899,
          -75.2154296,
          -75.1447558,
          -75.0404656,
          -75.1346028596,
          -75.2402465477,
          -75.1758693,
          -75.1820459,
          -75.1660279557,
          -75.157069,
          -75.1537505,
          -75.1537113,
          -75.2394030397,
          -74.9727333,
          -75.1685035,
          -75.1681768844,
          -75.1545153,
          -75.0854452,
          -75.1529839,
          -75.159771,
          -75.142057,
          -75.171477,
          -75.018255,
          -75.17066,
          -75.1658701,
          -75.1640749,
          -75.039989,
          -75.1668324715,
          -75.1491766423,
          -75.1405771664,
          -75.168707,
          -75.2243072,
          -75.1695865,
          -75.1450284438,
          -75.2301417,
          -75.0456795,
          -75.0626433,
          -75.1442193308,
          -75.1418482,
          -75.1787516,
          -75.2138797,
          -75.0850222427,
          -75.1570234,
          -75.2026195,
          -75.178367123,
          -75.2357367,
          -75.2079192,
          -75.1707379,
          -75.1541276,
          -75.1953934,
          -75.1616647,
          -75.1635651,
          -75.09156534,
          -75.2315661,
          -75.1593375206,
          -75.1672851248,
          -75.1934096,
          -75.1662055,
          -75.1325733,
          -75.0808778,
          -75.1609794,
          -75.05346,
          -75.161837,
          -75.1586537,
          -75.157800703,
          -75.1500912772,
          -75.1910107337,
          -75.14621,
          -75.157736,
          -75.1570663452,
          -75.1583243076,
          -75.1927020446,
          -75.1507189,
          -75.1433762,
          -75.0769706,
          -75.1984187251,
          -75.1978484,
          -75.2088314,
          -74.9706085771,
          -75.1668194,
          -75.1907261,
          -75.3636467,
          -75.1107755,
          -75.1644935,
          -75.1979261264,
          -75.1573928,
          -75.1562016,
          -75.1299277,
          -75.1131361,
          -75.21426,
          -75.1562596858,
          -75.032031,
          -75.158744,
          -74.989807,
          -75.2067881,
          -75.1778786,
          -75.1619688173,
          -75.1626553,
          -75.1646617,
          -75.1707273,
          -75.1907202,
          -74.975791,
          -75.0412414,
          -75.1523852348,
          -75.145839,
          -75.166372971,
          -75.035514,
          -75.1686044902,
          -75.13389,
          -75.1719716,
          -75.1566756,
          -75.1018987,
          -75.1533257,
          -75.1490631994,
          -75.1617661,
          -75.154484,
          -75.1876317,
          -75.134266,
          -75.243804085,
          -75.242411,
          -75.1582708789,
          -75.1342432,
          -75.148073,
          -75.1978196153,
          -75.1064681634,
          -75.2222673,
          -75.1412892166,
          -75.1519511,
          -75.1729167,
          -75.1790941,
          -75.1943960041,
          -75.033309,
          -75.1600788161,
          -74.9836531509,
          -75.0721313202,
          -75.2238628,
          -75.1827641,
          -75.233992,
          -75.1661360954,
          -75.146908,
          -75.11773865,
          -75.1668745431,
          -75.1297621,
          -75.1689709,
          -75.1622226,
          -75.0606831,
          -75.1663314987,
          -75.1647757,
          -75.1402322,
          -75.1747289987,
          -75.152427,
          -75.1907202,
          -75.1846967504,
          -75.1575180679,
          -75.2255195,
          -75.155695,
          -75.2498183,
          -75.0119362,
          -75.182504,
          -75.1560658,
          -75.1614096,
          -75.1563112,
          -75.1686977423,
          -75.1709848461,
          -75.167928,
          -75.16309,
          -75.1493607,
          -75.086436756,
          -75.1565693933,
          -75.1578691698,
          -75.2248420939,
          -75.092765,
          -75.2029253184,
          -75.158512,
          -75.1712569,
          -75.1623567,
          -75.1589310688,
          -75.0399161411,
          -75.178587,
          -75.1755321,
          -75.1641259,
          -75.143277,
          -75.0497523,
          -75.087193,
          -75.0254734,
          -75.2263397723,
          -75.2437496274,
          -75.1573313,
          -75.1183932,
          -75.0138114,
          -75.0795582533,
          -75.1698373,
          -75.242971,
          -75.247136,
          -75.1757526,
          -75.159452,
          -75.1820573,
          -75.037495,
          -75.1646617,
          -75.1446988,
          -75.030573,
          -75.210442,
          -75.1656907284,
          -75.167795,
          -75.1681316337,
          -75.1546984195,
          -75.1490884,
          -75.1641220332,
          -75.05235617,
          -75.1648441,
          -75.1669692993,
          -75.2061225,
          -75.240637,
          -75.1232624799,
          -75.1906815,
          -75.2219543,
          -75.1542759,
          -75.173231,
          -75.1594696319,
          -75.1668064,
          -74.9661299,
          -75.1590984,
          -75.1579811,
          -75.1547979,
          -75.1821326659,
          -75.1315125497,
          -75.1643203227,
          -75.1443064,
          -75.2373865962,
          -75.1577167,
          -75.108814,
          -75.167867,
          -75.066072,
          -75.1560343422,
          -75.133377,
          -75.1610451,
          -75.1161239,
          -75.1640808,
          -75.1577712,
          -75.182575,
          -75.1869682,
          -75.1446834884,
          -75.180138,
          -75.1601943,
          -75.151123,
          -75.1548452,
          -75.0768335,
          -75.1475834,
          -75.157184,
          -75.2025566533,
          -75.0446755,
          -75.1598508,
          -75.1661758,
          -75.0327871,
          -75.1591554,
          -75.0316823839,
          -75.1564078778,
          -75.1490884,
          -75.2392083406,
          -75.206255,
          -75.2190360036,
          -75.0950990763,
          -75.15034,
          -75.0952541257,
          -75.129040464,
          -75.1455409,
          -75.1600137,
          -75.1569883722,
          -75.1631133975,
          -75.1005433334,
          -75.1627808,
          -75.1700653508,
          -75.0335884417,
          -75.1901908,
          -75.1584414,
          -75.0437057,
          -75.0235565,
          -75.2170137,
          -75.1664282754,
          -75.1639777,
          -75.1715586,
          -75.1611,
          -75.1133642,
          -75.0081239,
          -75.1966082,
          -75.1637155,
          -75.171114,
          -75.1505931839,
          -75.0626204,
          -75.1632025838,
          -75.1454153298,
          -75.159542,
          -75.1446980851,
          -75.0744267,
          -75.1649239,
          -75.1629711,
          -75.1346993,
          -75.1346806,
          -75.2097241761,
          -75.1953934,
          -75.0343338,
          -75.202337,
          -75.212248984,
          -75.0767287,
          -75.1486779,
          -75.1304918,
          -75.2126938,
          -75.1743401,
          -75.1456566,
          -75.2055144,
          -75.1564947571,
          -75.2025511,
          -75.0386059,
          -75.20264,
          -75.2685242146,
          -75.128871,
          -75.05604,
          -75.1456823945,
          -74.98396,
          -75.1791848,
          -75.1488328617,
          -75.176164,
          -75.1693585,
          -75.1694047,
          -75.1683667,
          -75.0582285,
          -75.1819593,
          -75.1620853,
          -75.1718034,
          -75.1404362747,
          -75.1795094088,
          -75.2052439587,
          -74.995019,
          -75.125815,
          -75.1737131,
          -75.1527614381,
          -75.2267333767,
          -75.1836988,
          -75.1603414,
          -75.1731888,
          -75.1455847058,
          -75.1671282,
          -75.1604325,
          -75.2219283,
          -75.159486,
          -75.1667542796,
          -75.1447920753,
          -75.1679039,
          -75.1899679,
          -75.1740323,
          -75.1708405,
          -75.1665529981,
          -75.2181315422,
          -74.9945482984,
          -75.1415708,
          -75.1542873,
          -75.1643995,
          -75.0621303,
          -75.1622449,
          -75.1668506,
          -75.2112357,
          -75.172695,
          -75.0704686,
          -75.2267952,
          -75.0455197,
          -75.1731727,
          -75.0551653732,
          -75.2311673,
          -75.1532209843,
          -75.1451350779,
          -75.1382568,
          -75.145784989,
          -75.1730921,
          -75.0266629492,
          -75.1740323,
          -75.06233,
          -75.2090019,
          -75.2413809,
          -75.102826,
          -75.127202,
          -75.010096,
          -75.113641,
          -75.1580101624,
          -75.1556212,
          -75.1546441,
          -75.1386559824,
          -75.1546335178,
          -75.1430684,
          -75.2136558,
          -75.0383777,
          -75.042793,
          -75.247085,
          -75.0563012,
          -75.2141988,
          -75.0382522,
          -75.157903,
          -75.160539,
          -75.2741557,
          -75.16201,
          -75.1413125,
          -75.0762134,
          -75.1754915,
          -75.2193516,
          -75.1478,
          -75.1683292,
          -75.1780221,
          -75.1321794,
          -75.156935,
          -75.1700902,
          -75.18145319999999,
          -75.0324753,
          -75.128401,
          -75.1296708,
          -75.1507462,
          -75.1707392,
          -75.16139,
          -75.1633621,
          -75.2112921,
          -75.0337505,
          -75.0987438,
          -75.1704529,
          -75.1579609,
          -75.162394,
          -75.1551993,
          -75.1710331,
          -75.1480623,
          -75.2191448,
          -74.9837669,
          -75.1695181,
          -75.170115,
          -75.1887721,
          -75.159102,
          -75.2102968,
          -75.1304006,
          -75.087194,
          -75.0284266,
          -75.1736448,
          -75.1406056,
          -75.1459872,
          -75.1476035,
          -75.163744,
          -75.1666356,
          -75.1693697,
          -75.1701508,
          -75.2429844842,
          -75.2221290417,
          -75.0181479,
          -75.2025511,
          -75.2175498381,
          -75.0625976,
          -75.1678993,
          -75.1939231,
          -75.1589736,
          -75.1470082,
          -75.239764,
          -75.0502564213,
          -75.1147441,
          -75.1956453556,
          -75.1480623,
          -75.1462159,
          -75.1982523426,
          -75.23186,
          -75.1738043,
          -75.171153,
          -75.2365572,
          -75.1669582,
          -75.1609231,
          -75.1006256,
          -75.1945733333,
          -75.2138614655,
          -75.1538954,
          -75.1463377,
          -75.1646617,
          -75.059457,
          -75.1750697,
          -75.1773206199,
          -75.144302,
          -75.1480623,
          -75.1574268,
          -75.1659201062,
          -75.1658929,
          -75.1418318,
          -75.1526659,
          -75.2248632,
          -75.1703050733,
          -75.236561,
          -75.1618928091,
          -75.155683,
          -75.171243,
          -75.1700653,
          -75.2724114,
          -75.2443677,
          -75.1578899,
          -75.1673861593,
          -75.0331032578,
          -75.2021586,
          -75.1697449,
          -75.1602278,
          -75.1532317,
          -75.1365465,
          -75.1955875611,
          -75.2289936736,
          -75.1324645,
          -75.1744997,
          -75.0760465,
          -75.206754,
          -75.2221876,
          -75.1689851604,
          -75.1235487,
          -75.1289525,
          -75.2059714,
          -75.1701486602,
          -75.1194651,
          -75.1480623,
          -75.1703617,
          -75.2464248,
          -75.2384373,
          -75.1487875936,
          -75.0970217,
          -75.1511147859,
          -75.1792592,
          -75.1593495905,
          -75.1689308789,
          -75.044986,
          -75.24698,
          -74.9837319859,
          -75.1459758,
          -75.145814,
          -75.1680322,
          -75.0583856691,
          -74.987157,
          -75.1353151,
          -75.1686973,
          -75.1683168,
          -75.2242388,
          -75.1668518404,
          -75.1479482,
          -75.0737344846,
          -75.1826359382,
          -75.1566243,
          -75.2680846,
          -75.202346,
          -75.0415951,
          -75.034346,
          -75.1273589,
          -75.132394,
          -75.1940071,
          -75.0597809021,
          -75.156939,
          -75.0320455,
          -75.1534097959,
          -75.1594404,
          -75.0747689,
          -75.1999069,
          -75.145153154,
          -75.2020031,
          -75.0605151,
          -75.2142540024,
          -75.1680316,
          -75.1508328,
          -75.1559746,
          -75.1627459377,
          -75.1674575204,
          -75.1514797566,
          -75.1684579,
          -75.1389069,
          -75.1560283,
          -75.1539957,
          -75.230789,
          -75.1569826,
          -75.1694544,
          -75.1741267,
          -75.2315848,
          -75.1515396,
          -75.1590984,
          -75.1458433,
          -75.1690051,
          -75.154075,
          -75.1587568223,
          -75.2263347,
          -75.1735316558,
          -75.1680247,
          -75.08589,
          -75.2292965411,
          -75.1102539,
          -75.1269349,
          -75.1562439278,
          -75.165297,
          -75.147515,
          -75.1785321,
          -75.2024667,
          -75.134904,
          -75.1542102,
          -75.1805413,
          -75.2089107,
          -75.0162309,
          -75.1691989,
          -75.1058717,
          -75.1813937037,
          -75.1689343926,
          -75.1563263,
          -75.0239353,
          -75.1704643294,
          -75.144724,
          -75.1644109,
          -75.153304,
          -75.1042409,
          -75.025806427,
          -75.1463139,
          -75.1949617,
          -75.1630885,
          -75.15419,
          -75.1691375,
          -75.0272619,
          -75.1589817,
          -75.1565235,
          -75.2252872,
          -75.0894942,
          -75.1638358,
          -75.1742716,
          -75.1577701,
          -75.1953934,
          -75.161367,
          -75.1693482,
          -75.1592448352,
          -75.1751039,
          -75.1616977,
          -75.1683752239,
          -75.200795,
          -75.1495601982,
          -75.03362,
          -75.1902470411,
          -75.2027865,
          -75.1482826266,
          -75.175177,
          -75.1531596925,
          -75.1403277254,
          -75.159071,
          -75.159079,
          -75.1705203793,
          -75.158815,
          -75.105178,
          -75.1546781,
          -75.156041,
          -75.0851789,
          -75.2068880573,
          -75.2521005794,
          -75.0454938,
          -75.2227069,
          -75.1590351,
          -75.15583,
          -75.1569402963,
          -75.1526172608,
          -74.9870966,
          -75.159403,
          -75.1413081,
          -75.1757544,
          -75.2116004,
          -75.2241818,
          -75.0641916,
          -75.171399,
          -75.1781931,
          -75.1640644,
          -75.1680038,
          -75.1561518,
          -75.2074063,
          -75.1929368,
          -75.1620574,
          -75.1837898,
          -75.1589941978,
          -75.1442086,
          -75.193198,
          -75.1739865249,
          -75.1586394,
          -75.1454926754,
          -75.1702943,
          -75.2197488,
          -75.1603392,
          -75.1659499,
          -75.0789309,
          -75.1411529,
          -75.2176177,
          -75.1525201,
          -75.1677739,
          -75.2250791341,
          -75.2154464,
          -75.1665655,
          -75.1794968,
          -75.1726188,
          -75.1741148,
          -75.1543794572,
          -75.2026529059,
          -75.0584631691,
          -75.065017,
          -75.0088230148,
          -75.1455080509,
          -75.166164,
          -75.1694269,
          -75.15121,
          -75.1667326512,
          -75.1704197,
          -75.1480623,
          -75.039017,
          -75.1192257,
          -75.2115872763,
          -75.1689142564,
          -75.1669759,
          -75.1562181011,
          -75.1751723,
          -75.1576564461,
          -75.0522165,
          -75.2418897108,
          -75.141503,
          -75.1397961,
          -75.1658813,
          -75.038827,
          -75.1493732,
          -74.9895148466,
          -75.1627123,
          -75.1942878,
          -75.269296,
          -75.1837135,
          -75.0484237671,
          -75.0155463,
          -75.1435473,
          -75.2090789,
          -75.0834001601,
          -75.261318,
          -75.1707286,
          -74.9609848045,
          -75.1739639,
          -75.1796066,
          -75.2117204,
          -75.1444806,
          -75.166054,
          -75.2672874,
          -75.1623776,
          -75.1406986,
          -75.0545130964,
          -75.159193,
          -75.0379283354,
          -75.1336174,
          -75.0232518,
          -75.1529191,
          -75.0255875,
          -75.1562827,
          -75.1399237486,
          -75.1491229981,
          -75.1771122734,
          -75.217928,
          -75.1528393,
          -75.1657080966,
          -75.1424021098,
          -75.159783,
          -75.183405,
          -75.1664173,
          -75.106799081,
          -75.1590443,
          -75.2497887,
          -75.0287641,
          -74.961747,
          -75.1233779,
          -75.1697575,
          -75.0167746,
          -75.157051912,
          -75.1689969905,
          -75.096423,
          -75.1590984,
          -75.096429,
          -75.237447,
          -75.1399899,
          -75.1772234,
          -75.1680038,
          -75.0572700799,
          -75.1998158,
          -75.09732,
          -75.2154182,
          -75.1391965,
          -75.1543985905,
          -75.0693051,
          -75.161076,
          -75.1592111423,
          -75.059408,
          -75.024766,
          -75.1565859872,
          -75.160534073,
          -75.0946608,
          -75.155813,
          -75.1820117,
          -75.1600949582,
          -75.1729016,
          -75.0776092,
          -75.1293744,
          -75.1599725336,
          -75.2311522532,
          -75.1464830339,
          -75.158113,
          -75.1356343,
          -75.224924,
          -75.1583961,
          -75.2095376,
          -75.1769728,
          -75.143,
          -75.2112745157,
          -75.145463,
          -75.1941706775,
          -75.2064291547,
          -75.1764148,
          -75.0173264,
          -75.1374835117,
          -75.1668619,
          -75.166651,
          -75.1524261,
          -75.1896905,
          -75.1904467,
          -75.2302899,
          -75.166609,
          -74.9616227288,
          -75.1578596234,
          -75.2512214,
          -75.162,
          -75.1975536346,
          -75.156314,
          -75.1439805,
          -75.128555,
          -75.2170593,
          -75.0273447,
          -75.0368603,
          -75.0548242732,
          -75.2169454,
          -75.1684962,
          -75.1725846,
          -75.1206322589,
          -75.1953934,
          -75.1669482379,
          -75.1561191,
          -75.1740323,
          -75.1652970538,
          -75.20313,
          -75.1776345,
          -75.1501093905,
          -75.227589,
          -75.1464967,
          -75.1396588236,
          -75.2163663,
          -75.156783,
          -75.1727528,
          -75.0121344,
          -75.1708743,
          -75.2394029769,
          -75.1706467196,
          -75.171679,
          -75.0596994318,
          -75.1848140609,
          -75.06483,
          -75.1329434,
          -75.1572059,
          -75.14514,
          -75.15699,
          -75.196819,
          -75.1686061,
          -75.2030982,
          -75.1712655,
          -75.226365,
          -75.101238,
          -75.1594229629,
          -75.156727,
          -75.1753211612,
          -75.0617193,
          -75.1471829933,
          -75.1504524,
          -75.159408,
          -75.1684962,
          -75.1496827,
          -75.1408443239,
          -75.0754031539,
          -74.989493,
          -75.1684123,
          -75.1606944,
          -75.149272,
          -75.22904,
          -75.1519159,
          -75.1435446,
          -75.1175037,
          -75.168421,
          -75.2322795242,
          -75.2026672,
          -75.2451829,
          -75.2141304,
          -75.1714459,
          -75.1601514,
          -75.1578547,
          -75.1744011,
          -75.1552563,
          -75.227973,
          -75.173402,
          -75.1582844,
          -75.227645,
          -75.2140963,
          -75.2037949,
          -75.0317945,
          -75.0590577797,
          -75.1774439566,
          -75.1447558,
          -75.1359988205,
          -75.2648025,
          -75.171171,
          -75.1770914,
          -75.1408907,
          -75.2321206,
          -75.190724,
          -75.1698437,
          -75.0633962,
          -75.14438,
          -75.1689532,
          -75.1622139,
          -75.1711596,
          -75.1700767,
          -75.1242795983,
          -75.2011919,
          -75.2029737085,
          -75.1596684381,
          -75.0853653,
          -75.1435556,
          -75.06324,
          -75.1358152626,
          -75.178679,
          -75.1689532,
          -75.2213430529,
          -75.1727485657,
          -75.1570180649,
          -75.1694793,
          -75.2201271057,
          -75.1469422175,
          -75.144573,
          -75.1498684,
          -75.1429291,
          -75.1695409,
          -75.155644,
          -75.096964,
          -75.161245,
          -75.0123044444,
          -75.00815,
          -75.1645963,
          -74.989474,
          -75.1259649,
          -75.160724,
          -75.163901,
          -75.1739047,
          -75.1396593,
          -75.1742986,
          -75.1597427314,
          -75.1929054,
          -75.0774951,
          -75.1929846337,
          -75.064389,
          -75.0313381,
          -75.166045,
          -74.993755,
          -75.1337987,
          -75.1939325212,
          -75.16039,
          -75.1756320413,
          -75.1181537,
          -74.9952794,
          -75.168614,
          -75.0258657787,
          -75.1783660455,
          -75.1588137524,
          -75.14335,
          -75.2692932,
          -75.1659613,
          -75.1218358,
          -75.1249,
          -75.1237185,
          -75.2361713,
          -75.1333117113,
          -75.1724592,
          -75.1587885,
          -75.2282141,
          -75.1731796,
          -75.2163983,
          -75.1742147,
          -75.1267718478,
          -75.0004897706,
          -75.1718208,
          -75.15667,
          -75.1735391,
          -75.153837,
          -75.1792988554,
          -75.2097087,
          -75.096731,
          -75.2158295149,
          -75.1577992928,
          -75.145386681,
          -75.1587593,
          -75.163789,
          -75.1605248,
          -75.157045316,
          -75.1582889,
          -75.1667226823,
          -75.1339186,
          -75.1554087019,
          -75.2115232,
          -75.151354596,
          -75.1826387,
          -75.2213162,
          -75.0019361079,
          -75.1660183,
          -75.1647422,
          -75.1869688298,
          -75.2383803,
          -75.1699969,
          -75.2229853,
          -75.163003,
          -75.1721897,
          -75.1324075,
          -75.1893803,
          -75.15348,
          -75.2084579,
          -75.202862237,
          -75.179682,
          -75.159082,
          -75.1650720835,
          -75.2447385,
          -75.2130364,
          -75.1633942,
          -75.1673582289,
          -75.1446699,
          -75.1706583,
          -75.142668,
          -75.0970217,
          -75.1404574,
          -75.1723914966,
          -75.1792293,
          -75.192598,
          -75.166981,
          -75.1464152,
          -75.1675008738,
          -75.154438,
          -75.208060085,
          -75.1738449,
          -75.172084,
          -75.1874603,
          -75.1342546,
          -75.2415435389,
          -75.175699,
          -75.1863302,
          -75.108069,
          -75.199335734,
          -75.1439592,
          -75.166327,
          -75.1728154459,
          -75.221131,
          -75.17157,
          -75.2681178,
          -75.0584603411,
          -75.1647415,
          -75.052707,
          -75.0399255753,
          -75.1467161,
          -75.172945,
          -75.158537,
          -75.1110948,
          -75.025526,
          -75.1535048,
          -75.1794274598,
          -75.168217,
          -74.9859445267,
          -75.1590228,
          -75.2442075,
          -75.149271,
          -75.1666834,
          -75.1591098,
          -75.189729,
          -75.1438865,
          -75.1836797854,
          -75.1440827,
          -75.1709829249,
          -75.1620739,
          -75.242965,
          -75.128817,
          -75.1891958714,
          -75.1526455,
          -75.0311222039,
          -75.1298054,
          -75.1487272304,
          -75.2074747,
          -75.1601716,
          -75.1745111,
          -75.1603557,
          -75.1812936,
          -75.2243756,
          -75.0529466,
          -75.0478131,
          -75.1664513,
          -75.1540592,
          -75.210254,
          -75.1574552,
          -75.1496878,
          -75.1723005,
          -75.1658053,
          -75.2169698104,
          -75.1791734,
          -75.1692787,
          -75.1657232,
          -75.0572246,
          -75.1354975,
          -75.193868,
          -75.1436727494,
          -75.180969,
          -75.1608686,
          -75.156274,
          -75.1579891,
          -75.212968,
          -75.2205579,
          -75.0744153,
          -75.172932,
          -75.1701907,
          -75.1970618339,
          -75.1696318388,
          -75.152821,
          -75.1549941,
          -75.2082353,
          -75.2394390106,
          -75.008043,
          -75.2028403,
          -75.174834,
          -75.155929,
          -75.1621577,
          -75.1619599,
          -75.1566319,
          -75.2248932,
          -75.1741169,
          -75.1928841837,
          -75.1612074,
          -75.0159519917,
          -75.1652430743,
          -75.0850316,
          -75.159003,
          -75.1446,
          -75.1280968,
          -75.244075,
          -75.1671811,
          -75.101804,
          -75.1553463,
          -75.0035074,
          -75.1937016472,
          -75.1507198,
          -75.188104,
          -75.1696932142,
          -75.169555,
          -75.2170205,
          -75.173394,
          -75.1646958,
          -75.241387,
          -75.173079,
          -75.1784252989,
          -75.0240676748,
          -75.0420708,
          -75.1353316356,
          -75.241206,
          -75.1511178,
          -75.0596754708,
          -75.2206709,
          -75.158862,
          -75.173034668,
          -75.0367804,
          -75.1545837,
          -75.155701,
          -75.1787482,
          -75.1701679,
          -75.0856163,
          -75.163026,
          -75.1627607,
          -75.0628037275,
          -75.1644544588,
          -75.1834252,
          -75.1650634432,
          -75.1628860935,
          -75.1914230169,
          -75.2121474,
          -75.1389125268,
          -75.1527447,
          -75.0982939,
          -75.1057657599,
          -75.1455635682,
          -75.1793946709,
          -75.0307999645,
          -75.158377,
          -75.1648441,
          -75.2099137,
          -75.1681163907,
          -75.1754003,
          -75.1052559,
          -75.1146186,
          -75.2173556,
          -75.1643311,
          -75.167337,
          -75.1677739,
          -75.2406365,
          -75.162051,
          -75.1851122,
          -75.1810369268,
          -75.244301181,
          -75.252221,
          -75.1594718185,
          -75.1712594915,
          -75.1873063,
          -75.168476,
          -75.1906643617,
          -75.1526048407,
          -75.0919159434,
          -75.1260501,
          -75.1387381,
          -75.0326844,
          -75.1660499,
          -75.134788,
          -75.2375794521,
          -75.1499321,
          -75.1434447561,
          -75.2375485,
          -75.0525017,
          -75.21703,
          -75.2261204411,
          -75.135783,
          -75.0431555885,
          -75.164768,
          -75.1553831,
          -75.2020952,
          -75.1658879027,
          -75.1648441,
          -75.1499253,
          -75.1545153,
          -75.1797839,
          -75.1706583,
          -75.1802281,
          -75.1365387,
          -75.2134466,
          -75.1208943,
          -75.055457034,
          -75.1520184428,
          -75.1668635,
          -75.1327524,
          -75.1666958386,
          -75.1717646,
          -75.1534664,
          -75.1580824734,
          -75.0175529337,
          -75.1606399648,
          -75.163397,
          -75.1773281189,
          -75.0833465,
          -75.1692394,
          -75.1625185,
          -75.017905,
          -75.0361757,
          -75.2264191,
          -75.1408450305,
          -75.0178737,
          -75.103260102,
          -75.1696444444,
          -75.1450579,
          -75.1399899,
          -75.2025511,
          -75.1794584,
          -75.160888,
          -75.1538034657,
          -75.0123742,
          -75.1729152,
          -75.1580031,
          -75.1682071,
          -75.1245282,
          -75.1799647,
          -75.1580459894,
          -75.0185888,
          -75.1468192956,
          -75.2292952,
          -75.166497,
          -75.1566941459,
          -75.1736676,
          -75.2164116943,
          -75.0689851,
          -75.2241823,
          -75.2667641,
          -75.2683563,
          -75.1552221,
          -75.1685265,
          -75.015319302,
          -75.0881614111,
          -75.209374,
          -75.1760734,
          -75.1350528,
          -75.20258,
          -75.1552917273,
          -75.2177652,
          -75.0614112,
          -75.1327706,
          -75.2171163,
          -75.1756387,
          -75.2075673,
          -75.1719716,
          -75.1916189,
          -75.2183357,
          -75.1953934,
          -75.0555587434,
          -75.1796522,
          -75.1258263442,
          -75.1624734497,
          -75.1610111,
          -75.1583468263,
          -75.2026309,
          -75.1536477,
          -75.1725276,
          -75.1769392,
          -75.1878497029,
          -75.1741349,
          -75.18726,
          -75.2346314,
          -75.1504451,
          -75.178723,
          -75.210063,
          -75.1664952,
          -75.2196691,
          -75.2063495035,
          -75.098647,
          -75.1684700822,
          -75.1364723,
          -75.1253492,
          -75.1292780042,
          -75.1442745,
          -75.1463684,
          -75.14629,
          -75.1883720979,
          -75.1507187,
          -75.2020031,
          -75.1502741,
          -75.1753091,
          -75.1413898,
          -75.018011,
          -75.1425339189,
          -75.1723929,
          -75.1835926,
          -75.1846790314,
          -75.1591,
          -75.148506,
          -75.1688792,
          -75.227058,
          -75.211638,
          -75.0108678,
          -75.066764,
          -75.173096,
          -75.1750241,
          -75.153284,
          -75.144063,
          -75.1667929,
          -74.9629393,
          -75.0840422,
          -75.2166523,
          -75.136957,
          -75.160578,
          -75.1244597,
          -75.1466371,
          -75.1354214,
          -75.1690105,
          -75.141081,
          -75.121695,
          -75.17882,
          -75.2340528,
          -75.1374815,
          -75.0492389,
          -75.0281926,
          -75.2127855,
          -75.1600788161,
          -75.160772,
          -75.1617178816,
          -75.119522,
          -75.2248974,
          -75.170538,
          -75.199751,
          -75.2230546,
          -75.154148,
          -75.2168865,
          -75.1653687329,
          -75.1572629,
          -75.1737316,
          -75.2505039,
          -75.166057,
          -75.145341,
          -75.1715879,
          -75.1548915,
          -75.178213,
          -75.129822,
          -75.134916,
          -75.1634754,
          -75.0341246,
          -75.1652545,
          -75.1255384,
          -75.1550137432,
          -75.174199,
          -75.152606,
          -75.0382522,
          -75.1369912,
          -75.1718436,
          -75.204785,
          -75.2226631419,
          -75.1576818,
          -75.2234600857,
          -75.1949470435,
          -75.1422257,
          -75.234234,
          -75.1447558,
          -75.1441608,
          -75.2127872407,
          -75.1381918,
          -75.1675629,
          -75.2245921,
          -75.1761888,
          -75.1558838,
          -75.140503,
          -75.2307433,
          -75.1711999252,
          -75.151073,
          -75.2016544,
          -75.0314294,
          -75.153395,
          -74.9761273,
          -75.18016842,
          -75.1775528,
          -75.2724543,
          -75.1802791,
          -75.1789552,
          -75.0673431,
          -75.1529533,
          -75.1675084,
          -75.1471501,
          -75.1709203,
          -75.166346,
          -75.1999,
          -75.215612,
          -75.2327285,
          -75.1601048,
          -75.16197,
          -75.119005,
          -75.1744883,
          -75.1659695,
          -75.1114578247,
          -75.167423,
          -75.1931822,
          -75.1747619,
          -75.1402150467,
          -75.118897,
          -75.156029,
          -75.156606,
          -75.1562368,
          -75.1555580299,
          -75.0421226,
          -75.0837685,
          -75.1886001,
          -75.0936814351,
          -75.1620625,
          -75.1729836,
          -75.1741002,
          -75.1429316,
          -75.0615677,
          -75.1321794,
          -75.1486476,
          -75.2318729,
          -75.10488,
          -75.151614,
          -75.1999465923,
          -75.160578,
          -75.1739332,
          -75.1725846,
          -75.1530332,
          -75.251319,
          -75.1635259249,
          -75.134557,
          -75.1676229023,
          -75.1701109,
          -75.152142,
          -75.164148,
          -75.159407,
          -75.1555641,
          -75.084702,
          -75.064734,
          -75.053964,
          -75.1737245,
          -75.1503539,
          -75.173133,
          -75.1699827,
          -75.0182037312,
          -75.0950258,
          -75.1500126909,
          -75.1571146,
          -75.0382294,
          -75.1769425,
          -75.0399005,
          -75.156191,
          -75.1780373,
          -75.1579013,
          -75.0507590175,
          -75.1676029,
          -75.1695751,
          -75.2402606546,
          -75.2412520904,
          -75.0042035,
          -75.1543101,
          -75.1672837,
          -75.1551081,
          -75.181012,
          -75.1604797,
          -75.1567726,
          -75.1508793,
          -75.2470401,
          -75.0842045847,
          -75.0761885,
          -75.161195,
          -75.1465573,
          -75.2124437,
          -75.1605951414,
          -75.1645294,
          -75.1561589,
          -75.1007814,
          -75.1465813,
          -75.1327524,
          -75.156748,
          -75.2663405,
          -75.135429,
          -75.1604533705,
          -75.0781847,
          -75.1554563,
          -75.1758021,
          -75.1583858,
          -75.141329895,
          -75.1587931,
          -75.2686112683,
          -75.2130364,
          -75.1578543,
          -75.1025135815,
          -75.1565579,
          -75.1766207,
          -75.1328971,
          -75.1769684332,
          -75.21854,
          -75.1635559,
          -75.151605,
          -75.0272364667,
          -75.1761754,
          -75.1488375,
          -75.1608705747,
          -75.1346291263,
          -75.1552661,
          -75.2234981,
          -75.157056,
          -75.132293,
          -75.1409808273,
          -75.1578589408,
          -75.0471055,
          -75.1681729,
          -75.2208998,
          -75.1701319521,
          -75.1610183611,
          -75.1521847471,
          -75.023674,
          -75.0126365,
          -75.2688406,
          -75.0643869,
          -75.2286375,
          -75.1261474,
          -75.1445882,
          -75.0949117,
          -75.1405144,
          -75.1580804849,
          -75.1242773,
          -75.1450865,
          -75.183692,
          -75.1548227944,
          -75.1585169,
          -75.1436018,
          -75.1738043,
          -75.1591482,
          -75.1440831,
          -75.0884941,
          -75.1566243,
          -75.1589575,
          -75.145814,
          -75.1593213069,
          -75.1893085241,
          -75.1758676,
          -75.153284,
          -75.1460328,
          -75.1310164,
          -75.0640806,
          -75.1516194,
          -75.182149,
          -75.1457641,
          -75.1900591,
          -75.1673407,
          -75.0424596,
          -75.1408296,
          -75.1704529,
          -75.0331506,
          -75.1424185,
          -75.1017481,
          -75.159431,
          -75.1780791,
          -75.0284319977,
          -75.2110717,
          -75.1646992,
          -75.0536586,
          -75.2374119507,
          -75.2123412,
          -75.1172783944,
          -75.160863,
          -75.1411938987,
          -75.0312192836,
          -75.154976,
          -75.1512667537,
          -75.1535615,
          -75.2011919,
          -75.1737757,
          -75.1492966,
          -75.1821029,
          -75.2380645706,
          -75.1900363,
          -75.0382522,
          -75.1536278,
          -75.172332,
          -75.2045457,
          -75.1994814724,
          -75.2074162,
          -75.182445,
          -75.162825,
          -75.1906404,
          -75.1683346,
          -75.1825364,
          -75.097634,
          -75.1631614,
          -75.1557137782,
          -75.1524895976,
          -75.1776345,
          -75.1664549,
          -75.188643,
          -75.14467,
          -75.1725901,
          -75.132947,
          -75.1922809,
          -75.1703389,
          -75.0465009,
          -75.1596595,
          -75.1910622,
          -75.0843789,
          -75.1041882186,
          -75.1374359,
          -75.1803247,
          -75.1708063,
          -75.233654,
          -75.0945379239,
          -75.149193,
          -75.0436145,
          -75.2317826,
          -75.155617,
          -75.1705476767,
          -75.0688028,
          -75.1073226734,
          -75.2020031,
          -75.1689925,
          -75.1582152,
          -75.1582494,
          -75.014618,
          -75.0547035,
          -75.2240907,
          -75.1756830748,
          -75.1505933,
          -75.1768708,
          -75.1581519842,
          -75.1179143,
          -75.2187574,
          -75.1607954,
          -75.160341,
          -75.165949,
          -75.1511126,
          -75.1668265834,
          -75.1459503023,
          -75.1754459,
          -75.166553,
          -75.1819889,
          -75.1593731,
          -75.0711464882,
          -75.1585558434,
          -75.116168,
          -75.0738565,
          -75.1579776202,
          -75.1559723333,
          -75.229440406,
          -75.202346,
          -75.2344698831,
          -75.2320256442,
          -74.995131,
          -75.1480623,
          -75.243642,
          -75.107755411,
          -75.1660073,
          -75.1288987,
          -75.2130364,
          -75.156439,
          -75.1488108184,
          -75.237389,
          -75.0026972,
          -75.1486949,
          -75.0998242303,
          -75.0802098,
          -75.107954232,
          -75.1532727008,
          -75.1747505,
          -75.107742,
          -75.2096971,
          -75.1533968,
          -75.1675545,
          -75.2334805,
          -75.1852973,
          -75.1741318,
          -75.1007545,
          -75.2065288,
          -75.0390484929,
          -75.1895661,
          -75.2335146815,
          -75.171228,
          -75.157055,
          -75.2121258353,
          -75.158801,
          -75.1649769,
          -75.1674140655,
          -75.1732082292,
          -75.1637314,
          -75.1585625,
          -75.0111494,
          -75.059406,
          -75.102975,
          -75.1700197,
          -75.036849,
          -75.2097583,
          -75.0915367,
          -75.1589009911,
          -75.0662507315,
          -75.1524061,
          -75.155929,
          -75.2747937,
          -75.1625513634,
          -75.2188143,
          -75.1580422,
          -75.1549591087,
          -75.1462794724,
          -75.1387015,
          -75.1699635,
          -75.17403,
          -75.2263812,
          -75.160534,
          -75.1967328,
          -75.1770646,
          -75.1554021,
          -75.2239881,
          -75.1984187251,
          -75.161538,
          -75.1633686,
          -75.174521,
          -75.0387135521,
          -74.962529343,
          -75.170511,
          -75.0441591069,
          -75.0097103,
          -75.1691403878,
          -75.1205402,
          -75.2101074,
          -75.2098240703,
          -75.179048,
          -75.133491,
          -75.145394057,
          -75.1572477,
          -75.1338146254,
          -75.1630648523,
          -75.1057463,
          -75.0615139,
          -75.1722162,
          -75.1692673,
          -75.2083651,
          -75.1478101,
          -75.2103809,
          -75.2341756,
          -75.1574339,
          -75.1750066504,
          -75.1674547,
          -75.20034,
          -75.2451025,
          -75.1617499,
          -75.1666795343,
          -75.228592,
          -75.1584946,
          -75.0478281,
          -75.1678,
          -75.19483,
          -75.1153922414,
          -75.0376589,
          -75.2069391,
          -75.1596930614,
          -75.090405,
          -75.2024372,
          -75.1504223,
          -75.0145878,
          -75.1953032,
          -75.2186607,
          -75.163155,
          -75.1601048,
          -75.142895,
          -75.150471,
          -75.1731347,
          -75.2452854,
          -75.0833730027,
          -75.1727626473,
          -75.159408,
          -75.1705213,
          -75.1410235,
          -75.1572606784,
          -75.230917,
          -75.2255360669,
          -75.1513065,
          -75.2159767,
          -75.1661240918,
          -75.1577649178,
          -75.1289867,
          -75.173679,
          -75.1668711662,
          -75.2479510009,
          -75.2423629761,
          -75.1736448,
          -75.1726122757,
          -75.1692367,
          -75.1611077,
          -75.0312925,
          -75.0104113,
          -75.1566243,
          -75.1642239285,
          -75.1366833,
          -75.177485,
          -75.1596916,
          -75.0571219,
          -75.2383403733,
          -75.1317594,
          -75.1618495,
          -75.1398075,
          -75.2227761947,
          -75.1748099467,
          -75.1018915,
          -75.0237451,
          -75.1305128,
          -75.035676,
          -75.1633947,
          -75.134725,
          -75.1453145,
          -75.1557198,
          -75.2232638491,
          -75.157842,
          -75.2033585,
          -75.169675,
          -75.0220275,
          -75.2189512,
          -75.1906506718,
          -75.1763008,
          -75.163265,
          -75.1776332,
          -75.158621,
          -75.15917,
          -75.02719,
          -75.1889308,
          -75.1587136,
          -75.1382568,
          -75.035620809,
          -75.146124,
          -75.1256451,
          -75.1713762,
          -75.0719515,
          -75.1674321,
          -75.1561342,
          -75.0817953,
          -75.1583054,
          -75.1794014,
          -75.171174,
          -75.1444675,
          -75.1530332,
          -75.1495947,
          -75.161205,
          -75.16874,
          -75.170636,
          -75.1715600118,
          -75.0805244,
          -75.173394,
          -75.152854,
          -75.14569,
          -75.138405,
          -75.0688488,
          -75.0038015842,
          -75.1694047,
          -75.0036855,
          -75.2063122,
          -75.1545227,
          -75.221048,
          -75.1606111,
          -75.1564389,
          -75.106302,
          -75.1748960093,
          -75.1546635,
          -75.1315421239,
          -75.1439191,
          -75.1621570259,
          -75.063185,
          -75.1565104,
          -75.1703081549,
          -75.149818,
          -75.0314294,
          -75.1675666,
          -75.179773,
          -75.23097,
          -75.1535421779,
          -75.1959108,
          -75.0387577,
          -75.1346370578,
          -75.1453158291,
          -75.1480623,
          -75.2469764417,
          -75.0562435,
          -75.098389,
          -75.0884300021,
          -75.1432262,
          -75.174378,
          -75.0702176,
          -75.1632106304,
          -75.1580495,
          -75.1673635,
          -75.0286053176,
          -75.15913,
          -75.0253902955,
          -75.1436618202,
          -75.154901,
          -75.1610934042,
          -75.1657653743,
          -75.174133,
          -75.1345292,
          -75.1731774,
          -75.182868,
          -75.1449611,
          -75.1510524,
          -75.150251,
          -75.1577685373,
          -75.0148769,
          -75.2105528,
          -75.174552016,
          -75.1579899,
          -75.166127,
          -75.1230344,
          -75.1637896,
          -75.1730921385,
          -75.0742793083,
          -75.132441,
          -75.1795366775,
          -75.1805364,
          -75.1593492,
          -75.2066769,
          -75.0518078,
          -75.1669759,
          -75.1537278498,
          -75.2292952,
          -75.1488438,
          -75.160087,
          -75.0399475098,
          -74.9670019,
          -75.2187574,
          -75.2418238571,
          -75.0975750457,
          -75.0888214,
          -75.1464435,
          -75.1779273135,
          -75.0719401,
          -75.1345853,
          -75.1235019,
          -75.1696977,
          -75.163833,
          -75.1658782,
          -75.1617091,
          -75.2234981,
          -75.1810627431,
          -75.1570234,
          -75.1628434626,
          -75.2471795822,
          -75.269406,
          -75.168211,
          -75.0847038,
          -75.1973539,
          -75.1430937275,
          -75.1663375,
          -75.211282,
          -74.965087,
          -75.194481,
          -75.1439691,
          -75.130701,
          -75.1551902,
          -75.028865528,
          -75.1785123,
          -75.1767682,
          -75.1164096269,
          -75.1431548,
          -75.1447558,
          -75.1814304,
          -75.1475351472,
          -75.1539794,
          -75.1427820977,
          -75.156253,
          -75.035263,
          -75.1925556,
          -75.1535462,
          -75.1748461,
          -75.047766,
          -75.1866396,
          -75.0979696,
          -75.0142226,
          -75.1691969384,
          -75.0045961887,
          -75.1587416,
          -75.1642969,
          -75.2194779,
          -75.1594193432,
          -75.202403,
          -75.1065394,
          -75.1727068683,
          -75.1090306789,
          -75.1733028,
          -75.1559062,
          -75.2215836,
          -75.0030852,
          -75.1669645,
          -75.1945386,
          -75.1639891,
          -75.1651801826,
          -75.2416848,
          -75.1681293836,
          -75.159227,
          -75.1040014417,
          -75.162081,
          -75.1629063,
          -75.0720694,
          -75.2179368,
          -75.1556214,
          -75.0957215,
          -75.1573729914,
          -75.0842704,
          -75.1480623,
          -75.142285,
          -75.2184326,
          -75.1757574,
          -75.024101,
          -75.0446098,
          -75.1495001459,
          -75.144327,
          -75.1542873,
          -75.194425,
          -75.1474352181,
          -75.159706,
          -75.24143884,
          -75.2310534,
          -75.1757079913,
          -75.1564595,
          -75.2229055,
          -75.0708336,
          -75.086004,
          -75.159212,
          -75.164426,
          -75.1561557,
          -75.2267041391,
          -75.1944474,
          -75.162293,
          -75.2387335,
          -75.2188593214,
          -75.0264387272,
          -75.161808,
          -75.159268,
          -75.197272242,
          -75.076034,
          -75.1544015359,
          -75.0325133,
          -75.1837813,
          -75.1975534335,
          -75.1698796416,
          -75.169361,
          -75.1654591,
          -75.1561748,
          -75.1798403263,
          -75.1566696167,
          -75.1644726699,
          -75.1676847,
          -75.1658782,
          -75.2192502,
          -75.1038531,
          -75.1776570082,
          -75.1183491,
          -75.2115951,
          -75.2689266,
          -75.1614916,
          -75.1748417,
          -75.2118511,
          -75.1393768,
          -75.1090421,
          -75.1541846618,
          -75.0847629,
          -75.156162,
          -75.1777433,
          -75.1342273504,
          -75.1593080163,
          -74.9706139416,
          -75.142451269,
          -75.1634392,
          -75.0122738,
          -75.1907571761,
          -75.2020952851,
          -75.2247445,
          -75.144875,
          -75.2162958,
          -75.1543807983,
          -75.2256134994,
          -75.2186607,
          -75.0382522,
          -75.2265452,
          -75.1330346,
          -75.1941853,
          -75.223424,
          -75.1676599,
          -75.1397163,
          -75.1674203575,
          -75.1953934,
          -75.1671469,
          -75.2133928236,
          -75.1616937821,
          -75.1558492,
          -75.038928,
          -75.0210396,
          -75.1331384,
          -75.1650867,
          -75.1359472,
          -75.183563153,
          -75.0844072,
          -75.1915253645,
          -75.006396,
          -75.0304493308,
          -75.1560202,
          -75.1759474,
          -75.2180736,
          -75.1781475,
          -75.168052,
          -75.2218963578,
          -75.1327267,
          -75.1504451,
          -75.1006826,
          -75.1768973,
          -75.1851766256,
          -75.1536959659,
          -75.2116916,
          -75.1936719,
          -75.0372482,
          -75.1569010986,
          -75.2441923187,
          -75.1765092338,
          -75.24283,
          -75.193029,
          -75.16913,
          -75.1609566,
          -75.081142,
          -75.1702986,
          -75.071936,
          -75.1583071211,
          -75.1588247,
          -75.1436613,
          -75.0310643,
          -75.1590984,
          -75.165011,
          -75.133938,
          -75.027881,
          -75.1707493,
          -75.1603825314,
          -75.1750177145,
          -75.1618480682,
          -75.243216,
          -75.1589835418,
          -75.2271105,
          -75.1579964,
          -75.0437628,
          -75.162185,
          -75.0159822922,
          -75.192604,
          -75.2327512,
          -75.0609207,
          -75.0392593629,
          -75.1480621845,
          -75.252014,
          -75.1982674,
          -75.144035627,
          -75.2362495,
          -75.16799,
          -75.2045458,
          -75.1941820979,
          -75.2009783,
          -75.148602127,
          -75.1121554,
          -75.2458779,
          -75.147732608,
          -75.0641719,
          -75.2243642,
          -75.1869588,
          -75.092066549,
          -75.0519053265,
          -75.1458162,
          -75.1015268,
          -75.109829,
          -75.1513895,
          -75.0743865967,
          -75.1485312,
          -75.1046955585,
          -75.1819683239,
          -74.9711521,
          -75.2093887329,
          -75.147732608,
          -75.1646617,
          -75.1972745,
          -75.142798014,
          -75.1448595,
          -75.168853,
          -75.1771444,
          -75.167598,
          -75.2123184,
          -75.244711,
          -75.1575729,
          -75.140984,
          -75.0661113,
          -75.225367,
          -75.1729544,
          -75.1708177,
          -75.0285769,
          -75.1653571,
          -75.1939214,
          -75.1556782,
          -75.2272969,
          -75.242038,
          -75.1480623,
          -75.055007,
          -75.1719804481,
          -75.223961,
          -75.0590577797,
          -75.1277643,
          -75.2026142093,
          -75.062881,
          -75.157584,
          -75.1449725,
          -75.1634573936,
          -75.1404441921,
          -75.1877212755,
          -75.1593960603,
          -75.1361246,
          -75.1891359,
          -75.0660249442,
          -75.0301971,
          -75.1782729,
          -75.1670215,
          -75.140731,
          -75.1470703,
          -75.1126054,
          -75.1956803,
          -75.1471273,
          -75.151323,
          -75.114942,
          -75.1522351,
          -75.1730178,
          -75.1827766004,
          -75.1495900378,
          -75.0949740366,
          -75.159265814,
          -75.1577826341,
          -75.2245579,
          -75.1168879,
          -75.1503311,
          -75.1566319,
          -75.1585772758,
          -75.1666627067,
          -75.1790517569,
          -75.1437069,
          -75.1691339538,
          -75.157750994,
          -75.1571603,
          -75.1433,
          -75.1583431994,
          -75.1596341,
          -75.1260334,
          -75.21633,
          -75.126149148,
          -75.1917594,
          -75.1673179,
          -75.1592664421,
          -75.017575,
          -75.235882548,
          -75.1915154,
          -75.0541217,
          -75.0092536759,
          -75.1898882,
          -75.1554273,
          -75.1986337,
          -75.231476,
          -75.1923844,
          -75.2222046729,
          -75.1396162445,
          -75.1739356,
          -75.1728287,
          -75.1653502258,
          -75.0609549,
          -75.1695127,
          -75.181147,
          -75.1706011,
          -75.1444538,
          -75.1457622327,
          -75.1405828,
          -75.01003,
          -75.17543,
          -75.1951047019,
          -75.13376,
          -75.1739177338,
          -75.1946631098,
          -75.134989433,
          -75.1608616859,
          -75.2091038318,
          -75.1570348,
          -75.1437297,
          -75.170671,
          -75.1819517991,
          -75.1546977,
          -75.0259933333,
          -75.1848304,
          -75.2111445,
          -75.173702,
          -75.1611319,
          -75.2242517721,
          -75.1920992,
          -75.182122,
          -75.238823,
          -75.2142152,
          -75.1910622,
          -75.2104099153,
          -75.0533566577,
          -75.140839,
          -75.15762,
          -75.0804316,
          -75.1499642,
          -75.1912313,
          -75.160056,
          -75.1589045,
          -75.1531244,
          -75.0063144735,
          -75.0648791,
          -75.156575,
          -75.0107537,
          -75.101674,
          -75.09995,
          -75.107404,
          -75.1707379,
          -75.0180567,
          -75.2213600568,
          -75.053761,
          -75.194875,
          -75.148528,
          -75.1594805,
          -75.1916793432,
          -75.2031435956,
          -75.1594404,
          -75.175689,
          -75.1931768,
          -75.14377,
          -75.1701828754,
          -75.155029,
          -75.1351413,
          -75.223853,
          -75.166485,
          -75.1615494,
          -75.1480623,
          -75.1928745,
          -75.150924,
          -75.2283859253,
          -75.17466,
          -75.1153371,
          -75.1411529,
          -75.0787411445,
          -75.179942,
          -75.1678993,
          -75.1586364432,
          -75.1599574301,
          -75.0273447,
          -75.1594518498,
          -75.142563,
          -75.202183,
          -75.2312813,
          -75.1665774,
          -75.162607,
          -75.146054,
          -75.1880672411,
          -75.1647187,
          -75.1588809,
          -75.0152496,
          -75.1572477,
          -75.0149301,
          -75.1486323,
          -75.153284,
          -75.1721897,
          -75.0562,
          -75.157207,
          -75.1928745,
          -75.133752,
          -75.1695409,
          -75.1635217,
          -75.0843798264,
          -75.0739591,
          -75.2207517,
          -75.1909215376,
          -75.2405207186,
          -75.1654783,
          -75.1406717064,
          -75.164705,
          -75.1673635,
          -75.1642727852,
          -75.1287016,
          -75.1615489,
          -75.1561849,
          -75.1461989,
          -75.1589797,
          -75.2250515272,
          -75.156627,
          -75.063225,
          -75.1709317,
          -75.16525,
          -75.1819882294,
          -75.0829587,
          -75.2001854442,
          -75.1680094391,
          -75.2142558,
          -75.1252922,
          -75.206295,
          -75.238125,
          -75.2322988672,
          -75.1574284,
          -75.1630359539,
          -75.1642969,
          -75.015473,
          -75.157169,
          -75.1548003,
          -75.1683325,
          -75.234246254,
          -75.1683553,
          -75.2427911013,
          -75.0627802,
          -75.1413353,
          -75.2259824,
          -75.2156104577,
          -74.974212,
          -75.1922872,
          -75.1754572615,
          -75.1426351,
          -75.1661374,
          -75.0940335,
          -75.1694251,
          -75.211183,
          -75.0848493,
          -75.2382672929,
          -75.0326181,
          -75.1215841,
          -75.1939698,
          -75.1720791,
          -75.1689154,
          -75.1905721,
          -75.0424394,
          -75.1389253,
          -75.1193535,
          -75.1468242233,
          -75.1570348,
          -75.02753,
          -74.9646761785,
          -75.2010239,
          -75.1817797164,
          -75.1594065875,
          -75.1606914844,
          -75.1951919,
          -75.2399649509,
          -75.0897957,
          -75.1560202986,
          -75.2240968,
          -75.1617433,
          -75.1428020913,
          -75.1177381434,
          -75.189341,
          -75.1546818522,
          -75.19738,
          -75.1598948104,
          -75.1364096627,
          -75.172378,
          -75.1586299373,
          -75.1927263,
          -75.1926364399,
          -75.186121,
          -75.158238,
          -75.1636850461,
          -75.1595963538,
          -75.1596115,
          -75.1953032,
          -75.065267,
          -75.216551,
          -75.051423,
          -75.1874446,
          -75.1535348,
          -75.1922872,
          -75.231304,
          -75.0727989,
          -75.1536254664,
          -75.17375,
          -75.159409,
          -75.1882500574,
          -75.1646047,
          -75.1613011,
          -75.156939,
          -75.1328407,
          -75.0376145,
          -75.1281427592,
          -75.1359422,
          -75.1737892628,
          -75.1574681,
          -75.1657789,
          -75.159888,
          -75.1924658194,
          -75.125543,
          -75.1467155431,
          -75.0160069,
          -75.1645795,
          -75.2387222,
          -75.0271849,
          -75.2258074,
          -75.1698437,
          -75.1744427,
          -75.147401,
          -75.1580853,
          -75.1444936,
          -75.168465,
          -75.0291144,
          -75.1690678907,
          -75.2493189,
          -75.1294140734,
          -75.1515168,
          -75.1341975108,
          -75.199123,
          -75.167418,
          -75.208546,
          -75.176888,
          -75.2118705,
          -75.0638753,
          -75.2088726,
          -75.1694047,
          -75.2024777935,
          -75.0584119806,
          -75.162803,
          -75.084728,
          -75.1616733,
          -75.2324171306,
          -75.15014746680001,
          -75.2109622,
          -75.1571489,
          -75.1404787123,
          -75.1206855476,
          -75.0513495,
          -75.189408,
          -75.243157,
          -75.1613278,
          -75.0155362487,
          -75.1912390441,
          -75.1604664,
          -75.0617877,
          -75.1517365,
          -75.2415253,
          -75.1562308,
          -75.1442834,
          -75.1595772,
          -75.1941271,
          -75.1744313,
          -75.179707,
          -75.1593343,
          -75.1506845,
          -75.0042264,
          -75.023849,
          -75.1010248,
          -75.201033,
          -75.1627686,
          -75.166640635,
          -75.142687,
          -75.2171163,
          -75.152588,
          -75.1447514,
          -75.1588256,
          -75.1105018,
          -75.1695317,
          -75.0488526872,
          -75.1782273,
          -75.0647038,
          -75.0983244372,
          -75.1352505,
          -75.185537,
          -75.1348818,
          -75.2412965,
          -74.99373,
          -75.1481649,
          -75.1920437233,
          -75.199809,
          -75.1569778,
          -75.1658878908,
          -75.242425,
          -75.1658815,
          -75.1242153221,
          -75.1984762,
          -75.0864603,
          -75.1794707,
          -75.1718988884,
          -75.1211984,
          -75.0320455,
          -75.1680038,
          -75.1471667,
          -75.1445882,
          -75.146112,
          -75.2255949,
          -75.1609908,
          -75.144858,
          -75.1288188,
          -75.1451513171,
          -75.1594000959,
          -74.9867884,
          -75.1758562,
          -75.1356663555,
          -75.165957,
          -75.1617652,
          -75.1589957,
          -75.0146394361,
          -75.1640777588,
          -75.1636080327,
          -75.1597442,
          -75.172171,
          -75.1526227,
          -75.1394882,
          -75.1528432,
          -75.1753524,
          -75.0830385,
          -75.1691305,
          -75.2033034,
          -75.1465231,
          -75.1201379,
          -75.1657929609,
          -75.1561342,
          -75.0995155363,
          -75.1392082,
          -75.159218,
          -75.1528507,
          -75.1771098375,
          -75.2077483,
          -75.1696549,
          -75.1648441,
          -75.1617702842,
          -75.0463868,
          -75.174737909,
          -75.1629415813,
          -75.179681,
          -75.1652545,
          -75.2285063,
          -75.0181023,
          -75.2201705,
          -75.1927263,
          -75.0699667,
          -75.1806329191,
          -75.2030783,
          -75.219443,
          -75.1498359,
          -75.1363257,
          -75.1502842,
          -75.1397391496,
          -75.1360908151,
          -75.0607952,
          -75.1446305,
          -75.170789,
          -75.1563203707,
          -75.1535348,
          -75.1700395,
          -75.152868,
          -75.0446413,
          -75.1935218,
          -75.1733916253,
          -75.1283639,
          -75.1590984,
          -74.9656554,
          -75.1740837,
          -75.054423,
          -75.1631614,
          -74.95799,
          -75.1710571,
          -75.1764034,
          -75.149853,
          -75.0564261,
          -75.033531,
          -75.1917158,
          -75.2723037139,
          -75.2393831,
          -75.1635651,
          -75.1586879,
          -75.1640917,
          -75.165252,
          -75.18839,
          -75.147974,
          -75.1690735,
          -75.1651519,
          -75.102622,
          -75.1448114998,
          -75.1040227486,
          -75.1940774918,
          -75.1468728,
          -75.15667,
          -75.2250935,
          -75.2159653,
          -75.171122,
          -75.2279726,
          -74.9812645,
          -75.2023281628,
          -75.2162502,
          -75.139858747,
          -75.1577367884,
          -75.1557124,
          -75.159295,
          -75.1799987,
          -75.1726302,
          -75.1632766118,
          -75.1602197256,
          -75.1601358,
          -75.2261361708,
          -75.1440923726,
          -75.1726724432,
          -75.095721,
          -74.9789134,
          -75.0782137,
          -75.1580039,
          -75.0543384,
          -75.1258851,
          -75.2178685,
          -75.1675686,
          -75.1975032,
          -75.1358168,
          -75.1658216,
          -75.158194,
          -75.2406023,
          -75.2416848,
          -75.0562968,
          -75.1994966,
          -75.1957582,
          -75.161227,
          -75.2298320085,
          -75.1085061,
          -75.173413,
          -75.2230046,
          -75.2438501468,
          -75.0396920938,
          -75.164461,
          -75.0524675,
          -75.0600255,
          -75.1281087,
          -75.1667365,
          -75.1989265346,
          -75.1435467142,
          -75.2418031524,
          -75.0447888735,
          -75.207345,
          -75.1663147,
          -75.2104913,
          -75.2134574,
          -75.157853149,
          -75.1647046174,
          -75.2105855,
          -75.227509,
          -75.243913,
          -75.1616665689,
          -75.1222247,
          -75.1838469,
          -75.1571366,
          -75.2044998,
          -75.1673521,
          -75.2274866,
          -75.1779879,
          -75.2232,
          -75.226156,
          -75.122587,
          -75.1569770245,
          -75.173181,
          -75.1255088,
          -75.1504451,
          -75.1417470431,
          -74.9946056,
          -75.107067,
          -75.1230116,
          -75.167555809,
          -75.1536808,
          -75.0859248,
          -75.1475532699,
          -75.1932610432,
          -75.2231686,
          -75.1025302,
          -75.2469757727,
          -75.1531814,
          -75.0582505447,
          -75.239831,
          -75.0361529,
          -75.0183533,
          -75.1327757719,
          -75.1542798802,
          -75.1499321,
          -75.1682812761,
          -75.1861048,
          -75.2495468,
          -75.1682869,
          -75.154207,
          -75.1155537,
          -75.1620511,
          -75.1541474462,
          -75.2267231,
          -75.1728924,
          -75.1962727917,
          -75.0666122,
          -75.1744675,
          -75.17882,
          -75.1008423,
          -75.058484,
          -75.1757499576,
          -75.163985,
          -75.2082422376,
          -75.208836,
          -75.14619,
          -75.155228,
          -75.2061641,
          -75.0562093,
          -75.010237,
          -75.035514,
          -75.237845,
          -75.2022328,
          -74.9836156,
          -75.0474668907,
          -75.1465638354,
          -75.2220736,
          -75.1538654,
          -75.1624161,
          -75.1566358,
          -75.16935,
          -75.2158399,
          -75.2090931,
          -75.1058596,
          -75.1550992,
          -75.1692901,
          -75.1739867,
          -75.160512,
          -75.118643,
          -75.025017,
          -75.143727802,
          -75.1492561027,
          -75.1256685,
          -75.151019,
          -75.1530348233,
          -75.1485297,
          -75.1438236,
          -75.1555299,
          -75.2442216,
          -75.1441972,
          -75.1650186,
          -75.168476,
          -75.097338668,
          -75.1697461,
          -75.1819683,
          -75.158806,
          -75.1689367,
          -75.1627921,
          -75.0303380112,
          -75.1622402094,
          -75.1968805919,
          -75.1388957,
          -75.1691288928,
          -75.2030239,
          -75.165197,
          -75.1558606,
          -75.0652301544,
          -75.1746671,
          -75.221493,
          -75.02845,
          -75.1480623,
          -75.1439805,
          -75.1668733,
          -75.1798004285,
          -75.134647,
          -75.1941599,
          -75.1621538401,
          -75.1539338,
          -75.16241,
          -75.1508278,
          -75.206078,
          -75.1961457,
          -75.1960369886,
          -75.1581065,
          -75.1693602651,
          -75.1705138959,
          -75.2338566,
          -75.150981,
          -75.1607530281,
          -75.1549619,
          -75.1724036,
          -75.1015152,
          -75.1674733311,
          -75.0561751,
          -75.161082,
          -75.1616774,
          -75.143818,
          -75.0996805,
          -75.160552,
          -75.16065,
          -75.325,
          -75.0292318234,
          -75.134545,
          -75.052381,
          -75.1475720108,
          -75.1588545174,
          -75.1661556,
          -75.0358106,
          -75.1586309,
          -75.1456061,
          -75.1788794249,
          -75.173278,
          -75.159714,
          -75.0446413,
          -75.1661748827,
          -75.1615829,
          -75.218518,
          -75.135957,
          -75.2375532744,
          -75.1471324,
          -75.033565,
          -75.0360275,
          -75.144505,
          -75.2238352,
          -75.064898,
          -75.0952881,
          -75.1744997,
          -75.166731,
          -75.155571,
          -75.1666213,
          -75.1584941,
          -74.965124,
          -75.1545609,
          -75.1003371425,
          -75.160398,
          -75.035514,
          -75.1462398,
          -75.1659335862,
          -75.1801168178,
          -75.1719716,
          -75.1627479,
          -75.157349919,
          -75.1614432,
          -75.240421614,
          -75.0482692,
          -75.1666401,
          -75.15321,
          -75.1339582,
          -75.1701679,
          -75.1456224,
          -75.0774267,
          -75.2131685,
          -75.130459,
          -75.156563,
          -75.182516,
          -75.1576136221,
          -75.0884260933,
          -75.147946,
          -75.1731318,
          -75.1666386,
          -75.23814,
          -75.1042523,
          -75.1443256,
          -75.1710343,
          -75.0460788,
          -75.19941,
          -75.1708177,
          -75.170196,
          -75.14512,
          -75.159437,
          -75.127014,
          -75.1325853,
          -75.00988,
          -75.231975,
          -75.1245396,
          -75.2184817,
          -75.126027,
          -75.084254,
          -75.272689,
          -75.1333653,
          -75.173553,
          -75.14391,
          -75.1558606,
          -75.2085419744,
          -75.2022626,
          -75.1620284468,
          -75.1721331,
          -75.118084,
          -75.1808485016,
          -75.2151447,
          -75.1548581,
          -75.1583461,
          -75.0400981,
          -75.1405113,
          -75.1489862,
          -75.2688757,
          -75.2259334177,
          -75.1656306535,
          -75.0758525,
          -75.1090307,
          -75.0058696,
          -75.144364,
          -75.1473250317,
          -75.1548003,
          -75.1503968444,
          -75.2317371,
          -75.1530093,
          -75.147402,
          -75.1383708,
          -75.169194,
          -75.1688978,
          -75.1579621104,
          -75.2002489,
          -75.1468993,
          -75.1645213,
          -75.156582,
          -75.1604597172,
          -75.2112064097,
          -75.096448,
          -75.1650932751,
          -75.1518931,
          -75.0444359,
          -75.1614279837,
          -75.010779,
          -75.0734115,
          -75.1297071576,
          -75.078476,
          -75.0084942,
          -75.1354884957,
          -75.0630083,
          -75.1601715512,
          -75.247045,
          -75.204671,
          -75.2219259822,
          -75.164270103,
          -75.139991,
          -75.1836169207,
          -75.151779,
          -75.155986,
          -75.1448014,
          -75.2276399,
          -75.144955,
          -75.2453287875,
          -75.1365009,
          -75.204713,
          -75.152367,
          -75.1454078,
          -75.1590984,
          -75.2262901,
          -75.2102016,
          -75.1454045221,
          -75.1908537,
          -75.0957169,
          -74.9752556973,
          -75.0391079,
          -75.144829,
          -75.1558522595,
          -75.245419,
          -75.156315,
          -75.1994167295,
          -75.1430036973,
          -75.177133,
          -75.2008087,
          -75.2262901,
          -75.1302068,
          -75.135062,
          -75.1545039,
          -75.2023914,
          -75.1787516,
          -75.1889787,
          -75.166696,
          -75.1624631121,
          -75.1291918382,
          -75.1626553,
          -75.1639594,
          -75.1793069,
          -75.1795322,
          -75.1492998,
          -75.2097637,
          -75.1662168172,
          -75.2188,
          -75.153284,
          -75.107136,
          -75.1759543,
          -75.1308364,
          -75.023489252,
          -75.1951919,
          -75.1611276,
          -75.0836772,
          -75.1388269,
          -75.1771216,
          -75.1409495595,
          -75.1747277007,
          -75.1577516645,
          -75.189916,
          -75.2144303178,
          -75.158665
         ],
         "marker": {
          "color": "#636efa"
         },
         "mode": "markers",
         "name": "",
         "showlegend": false,
         "subplot": "mapbox",
         "type": "scattermapbox"
        }
       ],
       "layout": {
        "legend": {
         "tracegroupgap": 0
        },
        "mapbox": {
         "center": {
          "lat": 39.97845876922773,
          "lon": -75.1518603297922
         },
         "domain": {
          "x": [
           0,
           1
          ],
          "y": [
           0,
           1
          ]
         },
         "style": "open-street-map",
         "zoom": 8
        },
        "margin": {
         "t": 60
        },
        "template": {
         "data": {
          "bar": [
           {
            "error_x": {
             "color": "#2a3f5f"
            },
            "error_y": {
             "color": "#2a3f5f"
            },
            "marker": {
             "line": {
              "color": "#E5ECF6",
              "width": 0.5
             },
             "pattern": {
              "fillmode": "overlay",
              "size": 10,
              "solidity": 0.2
             }
            },
            "type": "bar"
           }
          ],
          "barpolar": [
           {
            "marker": {
             "line": {
              "color": "#E5ECF6",
              "width": 0.5
             },
             "pattern": {
              "fillmode": "overlay",
              "size": 10,
              "solidity": 0.2
             }
            },
            "type": "barpolar"
           }
          ],
          "carpet": [
           {
            "aaxis": {
             "endlinecolor": "#2a3f5f",
             "gridcolor": "white",
             "linecolor": "white",
             "minorgridcolor": "white",
             "startlinecolor": "#2a3f5f"
            },
            "baxis": {
             "endlinecolor": "#2a3f5f",
             "gridcolor": "white",
             "linecolor": "white",
             "minorgridcolor": "white",
             "startlinecolor": "#2a3f5f"
            },
            "type": "carpet"
           }
          ],
          "choropleth": [
           {
            "colorbar": {
             "outlinewidth": 0,
             "ticks": ""
            },
            "type": "choropleth"
           }
          ],
          "contour": [
           {
            "colorbar": {
             "outlinewidth": 0,
             "ticks": ""
            },
            "colorscale": [
             [
              0,
              "#0d0887"
             ],
             [
              0.1111111111111111,
              "#46039f"
             ],
             [
              0.2222222222222222,
              "#7201a8"
             ],
             [
              0.3333333333333333,
              "#9c179e"
             ],
             [
              0.4444444444444444,
              "#bd3786"
             ],
             [
              0.5555555555555556,
              "#d8576b"
             ],
             [
              0.6666666666666666,
              "#ed7953"
             ],
             [
              0.7777777777777778,
              "#fb9f3a"
             ],
             [
              0.8888888888888888,
              "#fdca26"
             ],
             [
              1,
              "#f0f921"
             ]
            ],
            "type": "contour"
           }
          ],
          "contourcarpet": [
           {
            "colorbar": {
             "outlinewidth": 0,
             "ticks": ""
            },
            "type": "contourcarpet"
           }
          ],
          "heatmap": [
           {
            "colorbar": {
             "outlinewidth": 0,
             "ticks": ""
            },
            "colorscale": [
             [
              0,
              "#0d0887"
             ],
             [
              0.1111111111111111,
              "#46039f"
             ],
             [
              0.2222222222222222,
              "#7201a8"
             ],
             [
              0.3333333333333333,
              "#9c179e"
             ],
             [
              0.4444444444444444,
              "#bd3786"
             ],
             [
              0.5555555555555556,
              "#d8576b"
             ],
             [
              0.6666666666666666,
              "#ed7953"
             ],
             [
              0.7777777777777778,
              "#fb9f3a"
             ],
             [
              0.8888888888888888,
              "#fdca26"
             ],
             [
              1,
              "#f0f921"
             ]
            ],
            "type": "heatmap"
           }
          ],
          "heatmapgl": [
           {
            "colorbar": {
             "outlinewidth": 0,
             "ticks": ""
            },
            "colorscale": [
             [
              0,
              "#0d0887"
             ],
             [
              0.1111111111111111,
              "#46039f"
             ],
             [
              0.2222222222222222,
              "#7201a8"
             ],
             [
              0.3333333333333333,
              "#9c179e"
             ],
             [
              0.4444444444444444,
              "#bd3786"
             ],
             [
              0.5555555555555556,
              "#d8576b"
             ],
             [
              0.6666666666666666,
              "#ed7953"
             ],
             [
              0.7777777777777778,
              "#fb9f3a"
             ],
             [
              0.8888888888888888,
              "#fdca26"
             ],
             [
              1,
              "#f0f921"
             ]
            ],
            "type": "heatmapgl"
           }
          ],
          "histogram": [
           {
            "marker": {
             "pattern": {
              "fillmode": "overlay",
              "size": 10,
              "solidity": 0.2
             }
            },
            "type": "histogram"
           }
          ],
          "histogram2d": [
           {
            "colorbar": {
             "outlinewidth": 0,
             "ticks": ""
            },
            "colorscale": [
             [
              0,
              "#0d0887"
             ],
             [
              0.1111111111111111,
              "#46039f"
             ],
             [
              0.2222222222222222,
              "#7201a8"
             ],
             [
              0.3333333333333333,
              "#9c179e"
             ],
             [
              0.4444444444444444,
              "#bd3786"
             ],
             [
              0.5555555555555556,
              "#d8576b"
             ],
             [
              0.6666666666666666,
              "#ed7953"
             ],
             [
              0.7777777777777778,
              "#fb9f3a"
             ],
             [
              0.8888888888888888,
              "#fdca26"
             ],
             [
              1,
              "#f0f921"
             ]
            ],
            "type": "histogram2d"
           }
          ],
          "histogram2dcontour": [
           {
            "colorbar": {
             "outlinewidth": 0,
             "ticks": ""
            },
            "colorscale": [
             [
              0,
              "#0d0887"
             ],
             [
              0.1111111111111111,
              "#46039f"
             ],
             [
              0.2222222222222222,
              "#7201a8"
             ],
             [
              0.3333333333333333,
              "#9c179e"
             ],
             [
              0.4444444444444444,
              "#bd3786"
             ],
             [
              0.5555555555555556,
              "#d8576b"
             ],
             [
              0.6666666666666666,
              "#ed7953"
             ],
             [
              0.7777777777777778,
              "#fb9f3a"
             ],
             [
              0.8888888888888888,
              "#fdca26"
             ],
             [
              1,
              "#f0f921"
             ]
            ],
            "type": "histogram2dcontour"
           }
          ],
          "mesh3d": [
           {
            "colorbar": {
             "outlinewidth": 0,
             "ticks": ""
            },
            "type": "mesh3d"
           }
          ],
          "parcoords": [
           {
            "line": {
             "colorbar": {
              "outlinewidth": 0,
              "ticks": ""
             }
            },
            "type": "parcoords"
           }
          ],
          "pie": [
           {
            "automargin": true,
            "type": "pie"
           }
          ],
          "scatter": [
           {
            "fillpattern": {
             "fillmode": "overlay",
             "size": 10,
             "solidity": 0.2
            },
            "type": "scatter"
           }
          ],
          "scatter3d": [
           {
            "line": {
             "colorbar": {
              "outlinewidth": 0,
              "ticks": ""
             }
            },
            "marker": {
             "colorbar": {
              "outlinewidth": 0,
              "ticks": ""
             }
            },
            "type": "scatter3d"
           }
          ],
          "scattercarpet": [
           {
            "marker": {
             "colorbar": {
              "outlinewidth": 0,
              "ticks": ""
             }
            },
            "type": "scattercarpet"
           }
          ],
          "scattergeo": [
           {
            "marker": {
             "colorbar": {
              "outlinewidth": 0,
              "ticks": ""
             }
            },
            "type": "scattergeo"
           }
          ],
          "scattergl": [
           {
            "marker": {
             "colorbar": {
              "outlinewidth": 0,
              "ticks": ""
             }
            },
            "type": "scattergl"
           }
          ],
          "scattermapbox": [
           {
            "marker": {
             "colorbar": {
              "outlinewidth": 0,
              "ticks": ""
             }
            },
            "type": "scattermapbox"
           }
          ],
          "scatterpolar": [
           {
            "marker": {
             "colorbar": {
              "outlinewidth": 0,
              "ticks": ""
             }
            },
            "type": "scatterpolar"
           }
          ],
          "scatterpolargl": [
           {
            "marker": {
             "colorbar": {
              "outlinewidth": 0,
              "ticks": ""
             }
            },
            "type": "scatterpolargl"
           }
          ],
          "scatterternary": [
           {
            "marker": {
             "colorbar": {
              "outlinewidth": 0,
              "ticks": ""
             }
            },
            "type": "scatterternary"
           }
          ],
          "surface": [
           {
            "colorbar": {
             "outlinewidth": 0,
             "ticks": ""
            },
            "colorscale": [
             [
              0,
              "#0d0887"
             ],
             [
              0.1111111111111111,
              "#46039f"
             ],
             [
              0.2222222222222222,
              "#7201a8"
             ],
             [
              0.3333333333333333,
              "#9c179e"
             ],
             [
              0.4444444444444444,
              "#bd3786"
             ],
             [
              0.5555555555555556,
              "#d8576b"
             ],
             [
              0.6666666666666666,
              "#ed7953"
             ],
             [
              0.7777777777777778,
              "#fb9f3a"
             ],
             [
              0.8888888888888888,
              "#fdca26"
             ],
             [
              1,
              "#f0f921"
             ]
            ],
            "type": "surface"
           }
          ],
          "table": [
           {
            "cells": {
             "fill": {
              "color": "#EBF0F8"
             },
             "line": {
              "color": "white"
             }
            },
            "header": {
             "fill": {
              "color": "#C8D4E3"
             },
             "line": {
              "color": "white"
             }
            },
            "type": "table"
           }
          ]
         },
         "layout": {
          "annotationdefaults": {
           "arrowcolor": "#2a3f5f",
           "arrowhead": 0,
           "arrowwidth": 1
          },
          "autotypenumbers": "strict",
          "coloraxis": {
           "colorbar": {
            "outlinewidth": 0,
            "ticks": ""
           }
          },
          "colorscale": {
           "diverging": [
            [
             0,
             "#8e0152"
            ],
            [
             0.1,
             "#c51b7d"
            ],
            [
             0.2,
             "#de77ae"
            ],
            [
             0.3,
             "#f1b6da"
            ],
            [
             0.4,
             "#fde0ef"
            ],
            [
             0.5,
             "#f7f7f7"
            ],
            [
             0.6,
             "#e6f5d0"
            ],
            [
             0.7,
             "#b8e186"
            ],
            [
             0.8,
             "#7fbc41"
            ],
            [
             0.9,
             "#4d9221"
            ],
            [
             1,
             "#276419"
            ]
           ],
           "sequential": [
            [
             0,
             "#0d0887"
            ],
            [
             0.1111111111111111,
             "#46039f"
            ],
            [
             0.2222222222222222,
             "#7201a8"
            ],
            [
             0.3333333333333333,
             "#9c179e"
            ],
            [
             0.4444444444444444,
             "#bd3786"
            ],
            [
             0.5555555555555556,
             "#d8576b"
            ],
            [
             0.6666666666666666,
             "#ed7953"
            ],
            [
             0.7777777777777778,
             "#fb9f3a"
            ],
            [
             0.8888888888888888,
             "#fdca26"
            ],
            [
             1,
             "#f0f921"
            ]
           ],
           "sequentialminus": [
            [
             0,
             "#0d0887"
            ],
            [
             0.1111111111111111,
             "#46039f"
            ],
            [
             0.2222222222222222,
             "#7201a8"
            ],
            [
             0.3333333333333333,
             "#9c179e"
            ],
            [
             0.4444444444444444,
             "#bd3786"
            ],
            [
             0.5555555555555556,
             "#d8576b"
            ],
            [
             0.6666666666666666,
             "#ed7953"
            ],
            [
             0.7777777777777778,
             "#fb9f3a"
            ],
            [
             0.8888888888888888,
             "#fdca26"
            ],
            [
             1,
             "#f0f921"
            ]
           ]
          },
          "colorway": [
           "#636efa",
           "#EF553B",
           "#00cc96",
           "#ab63fa",
           "#FFA15A",
           "#19d3f3",
           "#FF6692",
           "#B6E880",
           "#FF97FF",
           "#FECB52"
          ],
          "font": {
           "color": "#2a3f5f"
          },
          "geo": {
           "bgcolor": "white",
           "lakecolor": "white",
           "landcolor": "#E5ECF6",
           "showlakes": true,
           "showland": true,
           "subunitcolor": "white"
          },
          "hoverlabel": {
           "align": "left"
          },
          "hovermode": "closest",
          "mapbox": {
           "style": "light"
          },
          "paper_bgcolor": "white",
          "plot_bgcolor": "#E5ECF6",
          "polar": {
           "angularaxis": {
            "gridcolor": "white",
            "linecolor": "white",
            "ticks": ""
           },
           "bgcolor": "#E5ECF6",
           "radialaxis": {
            "gridcolor": "white",
            "linecolor": "white",
            "ticks": ""
           }
          },
          "scene": {
           "xaxis": {
            "backgroundcolor": "#E5ECF6",
            "gridcolor": "white",
            "gridwidth": 2,
            "linecolor": "white",
            "showbackground": true,
            "ticks": "",
            "zerolinecolor": "white"
           },
           "yaxis": {
            "backgroundcolor": "#E5ECF6",
            "gridcolor": "white",
            "gridwidth": 2,
            "linecolor": "white",
            "showbackground": true,
            "ticks": "",
            "zerolinecolor": "white"
           },
           "zaxis": {
            "backgroundcolor": "#E5ECF6",
            "gridcolor": "white",
            "gridwidth": 2,
            "linecolor": "white",
            "showbackground": true,
            "ticks": "",
            "zerolinecolor": "white"
           }
          },
          "shapedefaults": {
           "line": {
            "color": "#2a3f5f"
           }
          },
          "ternary": {
           "aaxis": {
            "gridcolor": "white",
            "linecolor": "white",
            "ticks": ""
           },
           "baxis": {
            "gridcolor": "white",
            "linecolor": "white",
            "ticks": ""
           },
           "bgcolor": "#E5ECF6",
           "caxis": {
            "gridcolor": "white",
            "linecolor": "white",
            "ticks": ""
           }
          },
          "title": {
           "x": 0.05
          },
          "xaxis": {
           "automargin": true,
           "gridcolor": "white",
           "linecolor": "white",
           "ticks": "",
           "title": {
            "standoff": 15
           },
           "zerolinecolor": "white",
           "zerolinewidth": 2
          },
          "yaxis": {
           "automargin": true,
           "gridcolor": "white",
           "linecolor": "white",
           "ticks": "",
           "title": {
            "standoff": 15
           },
           "zerolinecolor": "white",
           "zerolinewidth": 2
          }
         }
        }
       }
      }
     },
     "metadata": {},
     "output_type": "display_data"
    }
   ],
   "source": [
    "%matplotlib inline\n",
    "fig = px.scatter_mapbox(philly, lat = 'latitude', lon = 'longitude', hover_name = 'name', hover_data=['address', 'stars', 'review_count'], custom_data=['address', 'stars', 'review_count']) # map out restaurants\n",
    "\n",
    "fig.update_layout(mapbox_style = 'open-street-map', mapbox_center = {'lat': philly['latitude'].mean(), 'lon': philly['longitude'].mean()})\n",
    "fig.show()"
   ]
  },
  {
   "cell_type": "code",
   "execution_count": 158,
   "metadata": {},
   "outputs": [
    {
     "data": {
      "application/vnd.plotly.v1+json": {
       "config": {
        "plotlyServerURL": "https://plot.ly"
       },
       "data": [
        {
         "alignmentgroup": "True",
         "hovertemplate": "index=%{x}<br>stars=%{y}<extra></extra>",
         "legendgroup": "",
         "marker": {
          "color": "#636efa",
          "pattern": {
           "shape": ""
          }
         },
         "name": "",
         "offsetgroup": "",
         "orientation": "v",
         "showlegend": false,
         "textposition": "auto",
         "type": "bar",
         "x": [
          4,
          2,
          3,
          5,
          1
         ],
         "xaxis": "x",
         "y": [
          2366,
          559,
          462,
          117,
          23
         ],
         "yaxis": "y"
        }
       ],
       "layout": {
        "barmode": "relative",
        "legend": {
         "tracegroupgap": 0
        },
        "margin": {
         "t": 60
        },
        "template": {
         "data": {
          "bar": [
           {
            "error_x": {
             "color": "#2a3f5f"
            },
            "error_y": {
             "color": "#2a3f5f"
            },
            "marker": {
             "line": {
              "color": "#E5ECF6",
              "width": 0.5
             },
             "pattern": {
              "fillmode": "overlay",
              "size": 10,
              "solidity": 0.2
             }
            },
            "type": "bar"
           }
          ],
          "barpolar": [
           {
            "marker": {
             "line": {
              "color": "#E5ECF6",
              "width": 0.5
             },
             "pattern": {
              "fillmode": "overlay",
              "size": 10,
              "solidity": 0.2
             }
            },
            "type": "barpolar"
           }
          ],
          "carpet": [
           {
            "aaxis": {
             "endlinecolor": "#2a3f5f",
             "gridcolor": "white",
             "linecolor": "white",
             "minorgridcolor": "white",
             "startlinecolor": "#2a3f5f"
            },
            "baxis": {
             "endlinecolor": "#2a3f5f",
             "gridcolor": "white",
             "linecolor": "white",
             "minorgridcolor": "white",
             "startlinecolor": "#2a3f5f"
            },
            "type": "carpet"
           }
          ],
          "choropleth": [
           {
            "colorbar": {
             "outlinewidth": 0,
             "ticks": ""
            },
            "type": "choropleth"
           }
          ],
          "contour": [
           {
            "colorbar": {
             "outlinewidth": 0,
             "ticks": ""
            },
            "colorscale": [
             [
              0,
              "#0d0887"
             ],
             [
              0.1111111111111111,
              "#46039f"
             ],
             [
              0.2222222222222222,
              "#7201a8"
             ],
             [
              0.3333333333333333,
              "#9c179e"
             ],
             [
              0.4444444444444444,
              "#bd3786"
             ],
             [
              0.5555555555555556,
              "#d8576b"
             ],
             [
              0.6666666666666666,
              "#ed7953"
             ],
             [
              0.7777777777777778,
              "#fb9f3a"
             ],
             [
              0.8888888888888888,
              "#fdca26"
             ],
             [
              1,
              "#f0f921"
             ]
            ],
            "type": "contour"
           }
          ],
          "contourcarpet": [
           {
            "colorbar": {
             "outlinewidth": 0,
             "ticks": ""
            },
            "type": "contourcarpet"
           }
          ],
          "heatmap": [
           {
            "colorbar": {
             "outlinewidth": 0,
             "ticks": ""
            },
            "colorscale": [
             [
              0,
              "#0d0887"
             ],
             [
              0.1111111111111111,
              "#46039f"
             ],
             [
              0.2222222222222222,
              "#7201a8"
             ],
             [
              0.3333333333333333,
              "#9c179e"
             ],
             [
              0.4444444444444444,
              "#bd3786"
             ],
             [
              0.5555555555555556,
              "#d8576b"
             ],
             [
              0.6666666666666666,
              "#ed7953"
             ],
             [
              0.7777777777777778,
              "#fb9f3a"
             ],
             [
              0.8888888888888888,
              "#fdca26"
             ],
             [
              1,
              "#f0f921"
             ]
            ],
            "type": "heatmap"
           }
          ],
          "heatmapgl": [
           {
            "colorbar": {
             "outlinewidth": 0,
             "ticks": ""
            },
            "colorscale": [
             [
              0,
              "#0d0887"
             ],
             [
              0.1111111111111111,
              "#46039f"
             ],
             [
              0.2222222222222222,
              "#7201a8"
             ],
             [
              0.3333333333333333,
              "#9c179e"
             ],
             [
              0.4444444444444444,
              "#bd3786"
             ],
             [
              0.5555555555555556,
              "#d8576b"
             ],
             [
              0.6666666666666666,
              "#ed7953"
             ],
             [
              0.7777777777777778,
              "#fb9f3a"
             ],
             [
              0.8888888888888888,
              "#fdca26"
             ],
             [
              1,
              "#f0f921"
             ]
            ],
            "type": "heatmapgl"
           }
          ],
          "histogram": [
           {
            "marker": {
             "pattern": {
              "fillmode": "overlay",
              "size": 10,
              "solidity": 0.2
             }
            },
            "type": "histogram"
           }
          ],
          "histogram2d": [
           {
            "colorbar": {
             "outlinewidth": 0,
             "ticks": ""
            },
            "colorscale": [
             [
              0,
              "#0d0887"
             ],
             [
              0.1111111111111111,
              "#46039f"
             ],
             [
              0.2222222222222222,
              "#7201a8"
             ],
             [
              0.3333333333333333,
              "#9c179e"
             ],
             [
              0.4444444444444444,
              "#bd3786"
             ],
             [
              0.5555555555555556,
              "#d8576b"
             ],
             [
              0.6666666666666666,
              "#ed7953"
             ],
             [
              0.7777777777777778,
              "#fb9f3a"
             ],
             [
              0.8888888888888888,
              "#fdca26"
             ],
             [
              1,
              "#f0f921"
             ]
            ],
            "type": "histogram2d"
           }
          ],
          "histogram2dcontour": [
           {
            "colorbar": {
             "outlinewidth": 0,
             "ticks": ""
            },
            "colorscale": [
             [
              0,
              "#0d0887"
             ],
             [
              0.1111111111111111,
              "#46039f"
             ],
             [
              0.2222222222222222,
              "#7201a8"
             ],
             [
              0.3333333333333333,
              "#9c179e"
             ],
             [
              0.4444444444444444,
              "#bd3786"
             ],
             [
              0.5555555555555556,
              "#d8576b"
             ],
             [
              0.6666666666666666,
              "#ed7953"
             ],
             [
              0.7777777777777778,
              "#fb9f3a"
             ],
             [
              0.8888888888888888,
              "#fdca26"
             ],
             [
              1,
              "#f0f921"
             ]
            ],
            "type": "histogram2dcontour"
           }
          ],
          "mesh3d": [
           {
            "colorbar": {
             "outlinewidth": 0,
             "ticks": ""
            },
            "type": "mesh3d"
           }
          ],
          "parcoords": [
           {
            "line": {
             "colorbar": {
              "outlinewidth": 0,
              "ticks": ""
             }
            },
            "type": "parcoords"
           }
          ],
          "pie": [
           {
            "automargin": true,
            "type": "pie"
           }
          ],
          "scatter": [
           {
            "fillpattern": {
             "fillmode": "overlay",
             "size": 10,
             "solidity": 0.2
            },
            "type": "scatter"
           }
          ],
          "scatter3d": [
           {
            "line": {
             "colorbar": {
              "outlinewidth": 0,
              "ticks": ""
             }
            },
            "marker": {
             "colorbar": {
              "outlinewidth": 0,
              "ticks": ""
             }
            },
            "type": "scatter3d"
           }
          ],
          "scattercarpet": [
           {
            "marker": {
             "colorbar": {
              "outlinewidth": 0,
              "ticks": ""
             }
            },
            "type": "scattercarpet"
           }
          ],
          "scattergeo": [
           {
            "marker": {
             "colorbar": {
              "outlinewidth": 0,
              "ticks": ""
             }
            },
            "type": "scattergeo"
           }
          ],
          "scattergl": [
           {
            "marker": {
             "colorbar": {
              "outlinewidth": 0,
              "ticks": ""
             }
            },
            "type": "scattergl"
           }
          ],
          "scattermapbox": [
           {
            "marker": {
             "colorbar": {
              "outlinewidth": 0,
              "ticks": ""
             }
            },
            "type": "scattermapbox"
           }
          ],
          "scatterpolar": [
           {
            "marker": {
             "colorbar": {
              "outlinewidth": 0,
              "ticks": ""
             }
            },
            "type": "scatterpolar"
           }
          ],
          "scatterpolargl": [
           {
            "marker": {
             "colorbar": {
              "outlinewidth": 0,
              "ticks": ""
             }
            },
            "type": "scatterpolargl"
           }
          ],
          "scatterternary": [
           {
            "marker": {
             "colorbar": {
              "outlinewidth": 0,
              "ticks": ""
             }
            },
            "type": "scatterternary"
           }
          ],
          "surface": [
           {
            "colorbar": {
             "outlinewidth": 0,
             "ticks": ""
            },
            "colorscale": [
             [
              0,
              "#0d0887"
             ],
             [
              0.1111111111111111,
              "#46039f"
             ],
             [
              0.2222222222222222,
              "#7201a8"
             ],
             [
              0.3333333333333333,
              "#9c179e"
             ],
             [
              0.4444444444444444,
              "#bd3786"
             ],
             [
              0.5555555555555556,
              "#d8576b"
             ],
             [
              0.6666666666666666,
              "#ed7953"
             ],
             [
              0.7777777777777778,
              "#fb9f3a"
             ],
             [
              0.8888888888888888,
              "#fdca26"
             ],
             [
              1,
              "#f0f921"
             ]
            ],
            "type": "surface"
           }
          ],
          "table": [
           {
            "cells": {
             "fill": {
              "color": "#EBF0F8"
             },
             "line": {
              "color": "white"
             }
            },
            "header": {
             "fill": {
              "color": "#C8D4E3"
             },
             "line": {
              "color": "white"
             }
            },
            "type": "table"
           }
          ]
         },
         "layout": {
          "annotationdefaults": {
           "arrowcolor": "#2a3f5f",
           "arrowhead": 0,
           "arrowwidth": 1
          },
          "autotypenumbers": "strict",
          "coloraxis": {
           "colorbar": {
            "outlinewidth": 0,
            "ticks": ""
           }
          },
          "colorscale": {
           "diverging": [
            [
             0,
             "#8e0152"
            ],
            [
             0.1,
             "#c51b7d"
            ],
            [
             0.2,
             "#de77ae"
            ],
            [
             0.3,
             "#f1b6da"
            ],
            [
             0.4,
             "#fde0ef"
            ],
            [
             0.5,
             "#f7f7f7"
            ],
            [
             0.6,
             "#e6f5d0"
            ],
            [
             0.7,
             "#b8e186"
            ],
            [
             0.8,
             "#7fbc41"
            ],
            [
             0.9,
             "#4d9221"
            ],
            [
             1,
             "#276419"
            ]
           ],
           "sequential": [
            [
             0,
             "#0d0887"
            ],
            [
             0.1111111111111111,
             "#46039f"
            ],
            [
             0.2222222222222222,
             "#7201a8"
            ],
            [
             0.3333333333333333,
             "#9c179e"
            ],
            [
             0.4444444444444444,
             "#bd3786"
            ],
            [
             0.5555555555555556,
             "#d8576b"
            ],
            [
             0.6666666666666666,
             "#ed7953"
            ],
            [
             0.7777777777777778,
             "#fb9f3a"
            ],
            [
             0.8888888888888888,
             "#fdca26"
            ],
            [
             1,
             "#f0f921"
            ]
           ],
           "sequentialminus": [
            [
             0,
             "#0d0887"
            ],
            [
             0.1111111111111111,
             "#46039f"
            ],
            [
             0.2222222222222222,
             "#7201a8"
            ],
            [
             0.3333333333333333,
             "#9c179e"
            ],
            [
             0.4444444444444444,
             "#bd3786"
            ],
            [
             0.5555555555555556,
             "#d8576b"
            ],
            [
             0.6666666666666666,
             "#ed7953"
            ],
            [
             0.7777777777777778,
             "#fb9f3a"
            ],
            [
             0.8888888888888888,
             "#fdca26"
            ],
            [
             1,
             "#f0f921"
            ]
           ]
          },
          "colorway": [
           "#636efa",
           "#EF553B",
           "#00cc96",
           "#ab63fa",
           "#FFA15A",
           "#19d3f3",
           "#FF6692",
           "#B6E880",
           "#FF97FF",
           "#FECB52"
          ],
          "font": {
           "color": "#2a3f5f"
          },
          "geo": {
           "bgcolor": "white",
           "lakecolor": "white",
           "landcolor": "#E5ECF6",
           "showlakes": true,
           "showland": true,
           "subunitcolor": "white"
          },
          "hoverlabel": {
           "align": "left"
          },
          "hovermode": "closest",
          "mapbox": {
           "style": "light"
          },
          "paper_bgcolor": "white",
          "plot_bgcolor": "#E5ECF6",
          "polar": {
           "angularaxis": {
            "gridcolor": "white",
            "linecolor": "white",
            "ticks": ""
           },
           "bgcolor": "#E5ECF6",
           "radialaxis": {
            "gridcolor": "white",
            "linecolor": "white",
            "ticks": ""
           }
          },
          "scene": {
           "xaxis": {
            "backgroundcolor": "#E5ECF6",
            "gridcolor": "white",
            "gridwidth": 2,
            "linecolor": "white",
            "showbackground": true,
            "ticks": "",
            "zerolinecolor": "white"
           },
           "yaxis": {
            "backgroundcolor": "#E5ECF6",
            "gridcolor": "white",
            "gridwidth": 2,
            "linecolor": "white",
            "showbackground": true,
            "ticks": "",
            "zerolinecolor": "white"
           },
           "zaxis": {
            "backgroundcolor": "#E5ECF6",
            "gridcolor": "white",
            "gridwidth": 2,
            "linecolor": "white",
            "showbackground": true,
            "ticks": "",
            "zerolinecolor": "white"
           }
          },
          "shapedefaults": {
           "line": {
            "color": "#2a3f5f"
           }
          },
          "ternary": {
           "aaxis": {
            "gridcolor": "white",
            "linecolor": "white",
            "ticks": ""
           },
           "baxis": {
            "gridcolor": "white",
            "linecolor": "white",
            "ticks": ""
           },
           "bgcolor": "#E5ECF6",
           "caxis": {
            "gridcolor": "white",
            "linecolor": "white",
            "ticks": ""
           }
          },
          "title": {
           "x": 0.05
          },
          "xaxis": {
           "automargin": true,
           "gridcolor": "white",
           "linecolor": "white",
           "ticks": "",
           "title": {
            "standoff": 15
           },
           "zerolinecolor": "white",
           "zerolinewidth": 2
          },
          "yaxis": {
           "automargin": true,
           "gridcolor": "white",
           "linecolor": "white",
           "ticks": "",
           "title": {
            "standoff": 15
           },
           "zerolinecolor": "white",
           "zerolinewidth": 2
          }
         }
        },
        "title": {
         "text": "Star Counts"
        },
        "xaxis": {
         "anchor": "y",
         "domain": [
          0,
          1
         ],
         "title": {
          "text": "Restaurant Star Rating"
         }
        },
        "yaxis": {
         "anchor": "x",
         "domain": [
          0,
          1
         ],
         "title": {
          "text": "Count"
         }
        }
       }
      }
     },
     "metadata": {},
     "output_type": "display_data"
    }
   ],
   "source": [
    "%matplotlib inline\n",
    "philly['stars'] = philly['stars'].round()\n",
    "\n",
    "\n",
    "ratings_chart = philly['stars'].value_counts()\n",
    "star_bar = px.bar(ratings_chart, y = 'stars')\n",
    "\n",
    "star_bar.update_layout(title = 'Star Counts', xaxis_title = 'Restaurant Star Rating', yaxis_title = 'Count')\n",
    "star_bar.show()"
   ]
  },
  {
   "attachments": {},
   "cell_type": "markdown",
   "metadata": {},
   "source": [
    "## Processing Data"
   ]
  },
  {
   "cell_type": "code",
   "execution_count": 103,
   "metadata": {},
   "outputs": [],
   "source": [
    "def extract_keys(attr, key):\n",
    "    if attr == None:\n",
    "        return \"{}\"\n",
    "    if key in attr:\n",
    "        return attr.pop(key)\n",
    "\n",
    "# convert string to dictionary\n",
    "\n",
    "def str_to_dict(attr):\n",
    "    if attr != None:\n",
    "        return ast.literal_eval(attr)\n",
    "    else:\n",
    "        return ast.literal_eval(\"{}\")"
   ]
  },
  {
   "cell_type": "code",
   "execution_count": 135,
   "metadata": {},
   "outputs": [],
   "source": [
    "philly['OutdoorSeating'] = philly.apply(lambda x: \n",
    "str_to_dict(extract_keys(x['attributes'], 'OutdoorSeating')), axis = 1)\n",
    "\n",
    "\n",
    "philly['GoodforMeal'] = philly.apply(lambda x: \n",
    "str_to_dict(extract_keys(x['attributes'], 'GoodforMeal')), axis = 1)\n",
    "\n",
    "\n",
    "philly['BusinessParking'] = philly.apply(lambda x: \n",
    "str_to_dict(extract_keys(x['attributes'], 'BusinessParking')), axis = 1)\n",
    "\n",
    "\n",
    "philly['Ambience'] = philly.apply(lambda x: \n",
    "str_to_dict(extract_keys(x['attributes'], 'Ambience')), axis = 1)\n",
    "\n",
    "\n",
    "philly['Music'] = philly.apply(lambda x: \n",
    "str_to_dict(extract_keys(x['attributes'], 'Music')), axis = 1)\n",
    "\n",
    "\n",
    "philly['GoodForKids'] = philly.apply(lambda x: \n",
    "str_to_dict(extract_keys(x['attributes'], 'GoodForKids')), axis = 1)\n",
    "\n",
    "\n",
    "philly['ByAppointment'] = philly.apply(lambda x: \n",
    "str_to_dict(extract_keys(x['attributes'], 'ByAppointment')), axis = 1)\n",
    "\n",
    "\n",
    "philly['DogsAllowed'] = philly.apply(lambda x: \n",
    "str_to_dict(extract_keys(x['attributes'], 'DogsAllowed')), axis = 1)\n",
    "\n",
    "\n",
    "philly['WheelchairAccessible'] = philly.apply(lambda x: \n",
    "str_to_dict(extract_keys(x['attributes'], 'WheelchairAccessible')), axis = 1).replace('{}')\n"
   ]
  },
  {
   "cell_type": "code",
   "execution_count": 160,
   "metadata": {},
   "outputs": [],
   "source": [
    "\n",
    "philly_attributes = pd.concat([philly['attributes'].apply(pd.Series), \n",
    "philly['OutdoorSeating'].apply(pd.Series),\n",
    "philly['GoodforMeal'].apply(pd.Series),\n",
    "philly['BusinessParking'].apply(pd.Series),\n",
    "philly['Ambience'].apply(pd.Series),\n",
    "philly['Music'].apply(pd.Series),\n",
    "philly['GoodForKids'].apply(pd.Series),\n",
    "philly['ByAppointment'].apply(pd.Series),\n",
    "philly['DogsAllowed'].apply(pd.Series),\n",
    "philly['WheelchairAccessible'].apply(pd.Series),\n",
    "], axis = 1)\n",
    "\n",
    "attribute_dummies = pd.get_dummies(philly_attributes)\n",
    "#attribute_dummies\n",
    "\n",
    "#cat_dummies = pd.Series(philly['categories'].str.get_dummies(',')) # get dummy variables for categories\n",
    "\n",
    "#philly_analysis = pd.concat([attribute_dummies, cat_dummies, philly[['name', 'stars']]], axis = 1)\n",
    "cat_dummies = philly['categories'].str.get_dummies(',')\n",
    "\n",
    "\n",
    "philly_analysis = pd.concat([philly[['name', 'stars']], attribute_dummies, cat_dummies], axis=1)"
   ]
  },
  {
   "cell_type": "code",
   "execution_count": 161,
   "metadata": {},
   "outputs": [
    {
     "data": {
      "text/html": [
       "<div>\n",
       "<style scoped>\n",
       "    .dataframe tbody tr th:only-of-type {\n",
       "        vertical-align: middle;\n",
       "    }\n",
       "\n",
       "    .dataframe tbody tr th {\n",
       "        vertical-align: top;\n",
       "    }\n",
       "\n",
       "    .dataframe thead th {\n",
       "        text-align: right;\n",
       "    }\n",
       "</style>\n",
       "<table border=\"1\" class=\"dataframe\">\n",
       "  <thead>\n",
       "    <tr style=\"text-align: right;\">\n",
       "      <th></th>\n",
       "      <th>name</th>\n",
       "      <th>stars</th>\n",
       "      <th>BusinessAcceptsCreditCards_False</th>\n",
       "      <th>BusinessAcceptsCreditCards_None</th>\n",
       "      <th>BusinessAcceptsCreditCards_True</th>\n",
       "      <th>RestaurantsPriceRange2_1</th>\n",
       "      <th>RestaurantsPriceRange2_2</th>\n",
       "      <th>RestaurantsPriceRange2_3</th>\n",
       "      <th>RestaurantsPriceRange2_4</th>\n",
       "      <th>RestaurantsPriceRange2_None</th>\n",
       "      <th>...</th>\n",
       "      <th>Trinidadian</th>\n",
       "      <th>Turkish</th>\n",
       "      <th>Uzbek</th>\n",
       "      <th>Vegan</th>\n",
       "      <th>Vegetarian</th>\n",
       "      <th>Venues &amp; Event Spaces</th>\n",
       "      <th>Vietnamese</th>\n",
       "      <th>Wine Bars</th>\n",
       "      <th>Wineries</th>\n",
       "      <th>Wraps</th>\n",
       "    </tr>\n",
       "  </thead>\n",
       "  <tbody>\n",
       "    <tr>\n",
       "      <th>3</th>\n",
       "      <td>St Honore Pastries</td>\n",
       "      <td>4.0</td>\n",
       "      <td>1</td>\n",
       "      <td>0</td>\n",
       "      <td>0</td>\n",
       "      <td>1</td>\n",
       "      <td>0</td>\n",
       "      <td>0</td>\n",
       "      <td>0</td>\n",
       "      <td>0</td>\n",
       "      <td>...</td>\n",
       "      <td>0</td>\n",
       "      <td>0</td>\n",
       "      <td>0</td>\n",
       "      <td>0</td>\n",
       "      <td>0</td>\n",
       "      <td>0</td>\n",
       "      <td>0</td>\n",
       "      <td>0</td>\n",
       "      <td>0</td>\n",
       "      <td>0</td>\n",
       "    </tr>\n",
       "    <tr>\n",
       "      <th>15</th>\n",
       "      <td>Tuna Bar</td>\n",
       "      <td>4.0</td>\n",
       "      <td>0</td>\n",
       "      <td>0</td>\n",
       "      <td>1</td>\n",
       "      <td>0</td>\n",
       "      <td>1</td>\n",
       "      <td>0</td>\n",
       "      <td>0</td>\n",
       "      <td>0</td>\n",
       "      <td>...</td>\n",
       "      <td>0</td>\n",
       "      <td>0</td>\n",
       "      <td>0</td>\n",
       "      <td>0</td>\n",
       "      <td>0</td>\n",
       "      <td>0</td>\n",
       "      <td>0</td>\n",
       "      <td>0</td>\n",
       "      <td>0</td>\n",
       "      <td>0</td>\n",
       "    </tr>\n",
       "    <tr>\n",
       "      <th>19</th>\n",
       "      <td>BAP</td>\n",
       "      <td>4.0</td>\n",
       "      <td>0</td>\n",
       "      <td>0</td>\n",
       "      <td>1</td>\n",
       "      <td>1</td>\n",
       "      <td>0</td>\n",
       "      <td>0</td>\n",
       "      <td>0</td>\n",
       "      <td>0</td>\n",
       "      <td>...</td>\n",
       "      <td>0</td>\n",
       "      <td>0</td>\n",
       "      <td>0</td>\n",
       "      <td>0</td>\n",
       "      <td>0</td>\n",
       "      <td>0</td>\n",
       "      <td>0</td>\n",
       "      <td>0</td>\n",
       "      <td>0</td>\n",
       "      <td>0</td>\n",
       "    </tr>\n",
       "    <tr>\n",
       "      <th>35</th>\n",
       "      <td>Craft Hall</td>\n",
       "      <td>4.0</td>\n",
       "      <td>0</td>\n",
       "      <td>0</td>\n",
       "      <td>1</td>\n",
       "      <td>0</td>\n",
       "      <td>1</td>\n",
       "      <td>0</td>\n",
       "      <td>0</td>\n",
       "      <td>0</td>\n",
       "      <td>...</td>\n",
       "      <td>0</td>\n",
       "      <td>0</td>\n",
       "      <td>0</td>\n",
       "      <td>0</td>\n",
       "      <td>0</td>\n",
       "      <td>0</td>\n",
       "      <td>0</td>\n",
       "      <td>0</td>\n",
       "      <td>0</td>\n",
       "      <td>0</td>\n",
       "    </tr>\n",
       "    <tr>\n",
       "      <th>82</th>\n",
       "      <td>Wawa</td>\n",
       "      <td>3.0</td>\n",
       "      <td>0</td>\n",
       "      <td>0</td>\n",
       "      <td>1</td>\n",
       "      <td>1</td>\n",
       "      <td>0</td>\n",
       "      <td>0</td>\n",
       "      <td>0</td>\n",
       "      <td>0</td>\n",
       "      <td>...</td>\n",
       "      <td>0</td>\n",
       "      <td>0</td>\n",
       "      <td>0</td>\n",
       "      <td>0</td>\n",
       "      <td>0</td>\n",
       "      <td>0</td>\n",
       "      <td>0</td>\n",
       "      <td>0</td>\n",
       "      <td>0</td>\n",
       "      <td>0</td>\n",
       "    </tr>\n",
       "  </tbody>\n",
       "</table>\n",
       "<p>5 rows × 914 columns</p>\n",
       "</div>"
      ],
      "text/plain": [
       "                  name  stars  BusinessAcceptsCreditCards_False  \\\n",
       "3   St Honore Pastries    4.0                                 1   \n",
       "15            Tuna Bar    4.0                                 0   \n",
       "19                 BAP    4.0                                 0   \n",
       "35          Craft Hall    4.0                                 0   \n",
       "82                Wawa    3.0                                 0   \n",
       "\n",
       "    BusinessAcceptsCreditCards_None  BusinessAcceptsCreditCards_True  \\\n",
       "3                                 0                                0   \n",
       "15                                0                                1   \n",
       "19                                0                                1   \n",
       "35                                0                                1   \n",
       "82                                0                                1   \n",
       "\n",
       "    RestaurantsPriceRange2_1  RestaurantsPriceRange2_2  \\\n",
       "3                          1                         0   \n",
       "15                         0                         1   \n",
       "19                         1                         0   \n",
       "35                         0                         1   \n",
       "82                         1                         0   \n",
       "\n",
       "    RestaurantsPriceRange2_3  RestaurantsPriceRange2_4  \\\n",
       "3                          0                         0   \n",
       "15                         0                         0   \n",
       "19                         0                         0   \n",
       "35                         0                         0   \n",
       "82                         0                         0   \n",
       "\n",
       "    RestaurantsPriceRange2_None  ...  Trinidadian  Turkish  Uzbek  Vegan  \\\n",
       "3                             0  ...            0        0      0      0   \n",
       "15                            0  ...            0        0      0      0   \n",
       "19                            0  ...            0        0      0      0   \n",
       "35                            0  ...            0        0      0      0   \n",
       "82                            0  ...            0        0      0      0   \n",
       "\n",
       "    Vegetarian  Venues & Event Spaces  Vietnamese  Wine Bars  Wineries  Wraps  \n",
       "3            0                      0           0          0         0      0  \n",
       "15           0                      0           0          0         0      0  \n",
       "19           0                      0           0          0         0      0  \n",
       "35           0                      0           0          0         0      0  \n",
       "82           0                      0           0          0         0      0  \n",
       "\n",
       "[5 rows x 914 columns]"
      ]
     },
     "execution_count": 161,
     "metadata": {},
     "output_type": "execute_result"
    }
   ],
   "source": [
    "philly_analysis.head()"
   ]
  },
  {
   "attachments": {},
   "cell_type": "markdown",
   "metadata": {},
   "source": [
    "## Content-Based Filtering"
   ]
  },
  {
   "cell_type": "code",
   "execution_count": 164,
   "metadata": {},
   "outputs": [
    {
     "name": "stdout",
     "output_type": "stream",
     "text": [
      "knn train score 0.7100319035802907\n",
      "knn test score 0.6643059490084986\n"
     ]
    }
   ],
   "source": [
    "\n",
    "x = philly_analysis.iloc[:,2:]\n",
    "y = philly_analysis['stars']\n",
    "\n",
    "\n",
    "\n",
    "x_train, x_test, y_train, y_test = train_test_split(x,y,test_size = 0.2, random_state = 7)\n",
    "\n",
    "knn = KNeighborsClassifier(n_neighbors = 10, n_jobs = -1)\n",
    "knn.fit(x_train, y_train)\n",
    "\n",
    "ktrain_score = knn.score(x_train, y_train)\n",
    "ktest_score = knn.score(x_test, y_test)\n",
    "\n",
    "print(f'knn train score {ktrain_score}')\n",
    "print(f'knn test score {ktest_score}')"
   ]
  },
  {
   "cell_type": "code",
   "execution_count": 177,
   "metadata": {},
   "outputs": [
    {
     "data": {
      "text/html": [
       "<div>\n",
       "<style scoped>\n",
       "    .dataframe tbody tr th:only-of-type {\n",
       "        vertical-align: middle;\n",
       "    }\n",
       "\n",
       "    .dataframe tbody tr th {\n",
       "        vertical-align: top;\n",
       "    }\n",
       "\n",
       "    .dataframe thead th {\n",
       "        text-align: right;\n",
       "    }\n",
       "</style>\n",
       "<table border=\"1\" class=\"dataframe\">\n",
       "  <thead>\n",
       "    <tr style=\"text-align: right;\">\n",
       "      <th></th>\n",
       "      <th>business_id</th>\n",
       "      <th>name</th>\n",
       "      <th>address</th>\n",
       "      <th>city</th>\n",
       "      <th>state</th>\n",
       "      <th>postal_code</th>\n",
       "      <th>latitude</th>\n",
       "      <th>longitude</th>\n",
       "      <th>stars</th>\n",
       "      <th>review_count</th>\n",
       "      <th>...</th>\n",
       "      <th>BikeParking</th>\n",
       "      <th>Ambience</th>\n",
       "      <th>Music</th>\n",
       "      <th>GoodForKids</th>\n",
       "      <th>ByAppointment</th>\n",
       "      <th>DogsAllowed</th>\n",
       "      <th>WheelchairAccessible</th>\n",
       "      <th>RestaurantsReservation</th>\n",
       "      <th>GoodforMeal</th>\n",
       "      <th>BusinessParking</th>\n",
       "    </tr>\n",
       "  </thead>\n",
       "  <tbody>\n",
       "    <tr>\n",
       "      <th>3</th>\n",
       "      <td>MTSW4McQd7CbVtyjqoe9mw</td>\n",
       "      <td>St Honore Pastries</td>\n",
       "      <td>935 Race St</td>\n",
       "      <td>Philadelphia</td>\n",
       "      <td>PA</td>\n",
       "      <td>19107</td>\n",
       "      <td>39.955505</td>\n",
       "      <td>-75.155564</td>\n",
       "      <td>4.0</td>\n",
       "      <td>80</td>\n",
       "      <td>...</td>\n",
       "      <td>{}</td>\n",
       "      <td>{}</td>\n",
       "      <td>{}</td>\n",
       "      <td>{}</td>\n",
       "      <td>{}</td>\n",
       "      <td>{}</td>\n",
       "      <td>{}</td>\n",
       "      <td>{}</td>\n",
       "      <td>{}</td>\n",
       "      <td>{}</td>\n",
       "    </tr>\n",
       "    <tr>\n",
       "      <th>15</th>\n",
       "      <td>MUTTqe8uqyMdBl186RmNeA</td>\n",
       "      <td>Tuna Bar</td>\n",
       "      <td>205 Race St</td>\n",
       "      <td>Philadelphia</td>\n",
       "      <td>PA</td>\n",
       "      <td>19106</td>\n",
       "      <td>39.953949</td>\n",
       "      <td>-75.143226</td>\n",
       "      <td>4.0</td>\n",
       "      <td>245</td>\n",
       "      <td>...</td>\n",
       "      <td>{}</td>\n",
       "      <td>{}</td>\n",
       "      <td>{}</td>\n",
       "      <td>{}</td>\n",
       "      <td>{}</td>\n",
       "      <td>{}</td>\n",
       "      <td>{}</td>\n",
       "      <td>{}</td>\n",
       "      <td>{}</td>\n",
       "      <td>{}</td>\n",
       "    </tr>\n",
       "    <tr>\n",
       "      <th>19</th>\n",
       "      <td>ROeacJQwBeh05Rqg7F6TCg</td>\n",
       "      <td>BAP</td>\n",
       "      <td>1224 South St</td>\n",
       "      <td>Philadelphia</td>\n",
       "      <td>PA</td>\n",
       "      <td>19147</td>\n",
       "      <td>39.943223</td>\n",
       "      <td>-75.162568</td>\n",
       "      <td>4.0</td>\n",
       "      <td>205</td>\n",
       "      <td>...</td>\n",
       "      <td>{}</td>\n",
       "      <td>{}</td>\n",
       "      <td>{}</td>\n",
       "      <td>{}</td>\n",
       "      <td>{}</td>\n",
       "      <td>{}</td>\n",
       "      <td>{}</td>\n",
       "      <td>{}</td>\n",
       "      <td>{}</td>\n",
       "      <td>{}</td>\n",
       "    </tr>\n",
       "    <tr>\n",
       "      <th>35</th>\n",
       "      <td>aPNXGTDkf-4bjhyMBQxqpQ</td>\n",
       "      <td>Craft Hall</td>\n",
       "      <td>901 N Delaware Ave</td>\n",
       "      <td>Philadelphia</td>\n",
       "      <td>PA</td>\n",
       "      <td>19123</td>\n",
       "      <td>39.962582</td>\n",
       "      <td>-75.135657</td>\n",
       "      <td>4.0</td>\n",
       "      <td>65</td>\n",
       "      <td>...</td>\n",
       "      <td>{}</td>\n",
       "      <td>{}</td>\n",
       "      <td>{}</td>\n",
       "      <td>{}</td>\n",
       "      <td>{}</td>\n",
       "      <td>{}</td>\n",
       "      <td>{}</td>\n",
       "      <td>{}</td>\n",
       "      <td>{}</td>\n",
       "      <td>{}</td>\n",
       "    </tr>\n",
       "    <tr>\n",
       "      <th>82</th>\n",
       "      <td>ppFCk9aQkM338Rgwpl2F5A</td>\n",
       "      <td>Wawa</td>\n",
       "      <td>3604 Chestnut St</td>\n",
       "      <td>Philadelphia</td>\n",
       "      <td>PA</td>\n",
       "      <td>19104</td>\n",
       "      <td>39.954573</td>\n",
       "      <td>-75.194894</td>\n",
       "      <td>3.0</td>\n",
       "      <td>56</td>\n",
       "      <td>...</td>\n",
       "      <td>{}</td>\n",
       "      <td>{}</td>\n",
       "      <td>{}</td>\n",
       "      <td>{}</td>\n",
       "      <td>{}</td>\n",
       "      <td>{}</td>\n",
       "      <td>{}</td>\n",
       "      <td>{}</td>\n",
       "      <td>{}</td>\n",
       "      <td>{}</td>\n",
       "    </tr>\n",
       "  </tbody>\n",
       "</table>\n",
       "<p>5 rows × 27 columns</p>\n",
       "</div>"
      ],
      "text/plain": [
       "               business_id                name             address  \\\n",
       "3   MTSW4McQd7CbVtyjqoe9mw  St Honore Pastries         935 Race St   \n",
       "15  MUTTqe8uqyMdBl186RmNeA            Tuna Bar         205 Race St   \n",
       "19  ROeacJQwBeh05Rqg7F6TCg                 BAP       1224 South St   \n",
       "35  aPNXGTDkf-4bjhyMBQxqpQ          Craft Hall  901 N Delaware Ave   \n",
       "82  ppFCk9aQkM338Rgwpl2F5A                Wawa    3604 Chestnut St   \n",
       "\n",
       "            city state postal_code   latitude  longitude  stars  review_count  \\\n",
       "3   Philadelphia    PA       19107  39.955505 -75.155564    4.0            80   \n",
       "15  Philadelphia    PA       19106  39.953949 -75.143226    4.0           245   \n",
       "19  Philadelphia    PA       19147  39.943223 -75.162568    4.0           205   \n",
       "35  Philadelphia    PA       19123  39.962582 -75.135657    4.0            65   \n",
       "82  Philadelphia    PA       19104  39.954573 -75.194894    3.0            56   \n",
       "\n",
       "    ...  BikeParking Ambience Music GoodForKids ByAppointment DogsAllowed  \\\n",
       "3   ...           {}       {}    {}          {}            {}          {}   \n",
       "15  ...           {}       {}    {}          {}            {}          {}   \n",
       "19  ...           {}       {}    {}          {}            {}          {}   \n",
       "35  ...           {}       {}    {}          {}            {}          {}   \n",
       "82  ...           {}       {}    {}          {}            {}          {}   \n",
       "\n",
       "   WheelchairAccessible RestaurantsReservation GoodforMeal BusinessParking  \n",
       "3                    {}                     {}          {}              {}  \n",
       "15                   {}                     {}          {}              {}  \n",
       "19                   {}                     {}          {}              {}  \n",
       "35                   {}                     {}          {}              {}  \n",
       "82                   {}                     {}          {}              {}  \n",
       "\n",
       "[5 rows x 27 columns]"
      ]
     },
     "execution_count": 177,
     "metadata": {},
     "output_type": "execute_result"
    }
   ],
   "source": [
    "philly.head()"
   ]
  },
  {
   "attachments": {},
   "cell_type": "markdown",
   "metadata": {},
   "source": [
    "## Collaborative Filtering (SVD)"
   ]
  },
  {
   "cell_type": "code",
   "execution_count": 178,
   "metadata": {},
   "outputs": [
    {
     "data": {
      "text/html": [
       "<div>\n",
       "<style scoped>\n",
       "    .dataframe tbody tr th:only-of-type {\n",
       "        vertical-align: middle;\n",
       "    }\n",
       "\n",
       "    .dataframe tbody tr th {\n",
       "        vertical-align: top;\n",
       "    }\n",
       "\n",
       "    .dataframe thead th {\n",
       "        text-align: right;\n",
       "    }\n",
       "</style>\n",
       "<table border=\"1\" class=\"dataframe\">\n",
       "  <thead>\n",
       "    <tr style=\"text-align: right;\">\n",
       "      <th></th>\n",
       "      <th>user_id</th>\n",
       "      <th>business_id</th>\n",
       "      <th>stars</th>\n",
       "      <th>date</th>\n",
       "      <th>name</th>\n",
       "      <th>address</th>\n",
       "    </tr>\n",
       "  </thead>\n",
       "  <tbody>\n",
       "    <tr>\n",
       "      <th>0</th>\n",
       "      <td>_7bHUi9Uuf5__HHc_Q8guQ</td>\n",
       "      <td>kxX2SOes4o-D3ZQBkiMRfA</td>\n",
       "      <td>5</td>\n",
       "      <td>2015-01-04 00:01:03</td>\n",
       "      <td>Zaika</td>\n",
       "      <td>2481 Grant Ave</td>\n",
       "    </tr>\n",
       "    <tr>\n",
       "      <th>1</th>\n",
       "      <td>kSMOJwJXuEUqzfmuFncK4A</td>\n",
       "      <td>kxX2SOes4o-D3ZQBkiMRfA</td>\n",
       "      <td>2</td>\n",
       "      <td>2014-07-13 17:25:47</td>\n",
       "      <td>Zaika</td>\n",
       "      <td>2481 Grant Ave</td>\n",
       "    </tr>\n",
       "    <tr>\n",
       "      <th>2</th>\n",
       "      <td>mqBWACmaHflW4eh_Ofp16Q</td>\n",
       "      <td>kxX2SOes4o-D3ZQBkiMRfA</td>\n",
       "      <td>5</td>\n",
       "      <td>2010-08-20 19:16:04</td>\n",
       "      <td>Zaika</td>\n",
       "      <td>2481 Grant Ave</td>\n",
       "    </tr>\n",
       "    <tr>\n",
       "      <th>3</th>\n",
       "      <td>Z-xgVb4nM42943m2wbBkFw</td>\n",
       "      <td>kxX2SOes4o-D3ZQBkiMRfA</td>\n",
       "      <td>5</td>\n",
       "      <td>2017-01-02 14:25:26</td>\n",
       "      <td>Zaika</td>\n",
       "      <td>2481 Grant Ave</td>\n",
       "    </tr>\n",
       "    <tr>\n",
       "      <th>4</th>\n",
       "      <td>2SEoXb6r6hPKrl9V9VzBgA</td>\n",
       "      <td>kxX2SOes4o-D3ZQBkiMRfA</td>\n",
       "      <td>5</td>\n",
       "      <td>2015-07-28 17:15:20</td>\n",
       "      <td>Zaika</td>\n",
       "      <td>2481 Grant Ave</td>\n",
       "    </tr>\n",
       "  </tbody>\n",
       "</table>\n",
       "</div>"
      ],
      "text/plain": [
       "                  user_id             business_id  stars                date  \\\n",
       "0  _7bHUi9Uuf5__HHc_Q8guQ  kxX2SOes4o-D3ZQBkiMRfA      5 2015-01-04 00:01:03   \n",
       "1  kSMOJwJXuEUqzfmuFncK4A  kxX2SOes4o-D3ZQBkiMRfA      2 2014-07-13 17:25:47   \n",
       "2  mqBWACmaHflW4eh_Ofp16Q  kxX2SOes4o-D3ZQBkiMRfA      5 2010-08-20 19:16:04   \n",
       "3  Z-xgVb4nM42943m2wbBkFw  kxX2SOes4o-D3ZQBkiMRfA      5 2017-01-02 14:25:26   \n",
       "4  2SEoXb6r6hPKrl9V9VzBgA  kxX2SOes4o-D3ZQBkiMRfA      5 2015-07-28 17:15:20   \n",
       "\n",
       "    name         address  \n",
       "0  Zaika  2481 Grant Ave  \n",
       "1  Zaika  2481 Grant Ave  \n",
       "2  Zaika  2481 Grant Ave  \n",
       "3  Zaika  2481 Grant Ave  \n",
       "4  Zaika  2481 Grant Ave  "
      ]
     },
     "execution_count": 178,
     "metadata": {},
     "output_type": "execute_result"
    }
   ],
   "source": [
    "philly_reviews = reviews[['user_id', 'business_id', 'stars', 'date']] # get info needed for svd\n",
    "res_df = philly[['business_id', 'name', 'address']]\n",
    "\n",
    "philly_svd = pd.merge(philly_reviews, res_df, on = 'business_id')\n",
    "philly_svd.head()"
   ]
  },
  {
   "cell_type": "code",
   "execution_count": 189,
   "metadata": {},
   "outputs": [
    {
     "data": {
      "image/png": "[encoded data removed]",
      "text/plain": [
       "<Figure size 640x480 with 1 Axes>"
      ]
     },
     "metadata": {},
     "output_type": "display_data"
    },
    {
     "data": {
      "image/png": "[encoded data removed]",
      "text/plain": [
       "<Figure size 640x480 with 1 Axes>"
      ]
     },
     "metadata": {},
     "output_type": "display_data"
    }
   ],
   "source": [
    "%matplotlib inline\n",
    "s_mat = philly_svd.pivot_table(values = 'stars', index = 'user_id', columns = 'name', fill_value = 0)\n",
    "s_mat_vals = pivot_table.values.T\n",
    "svd = TruncatedSVD(n_components = 20)\n",
    "\n",
    "with parallel_backend('multiprocessing', n_jobs = -1): # runs SVD on all processes available \n",
    "    #u,s,vt = randomized_svd(A, n_components = 800, random_state = 21)\n",
    "    res_matrix = svd.fit_transform(s_mat_vals) \n",
    "    corr_matrix = np.corrcoef(res_matrix)\n",
    "    usig = res_matrix # is actually u * sigma \n",
    "    s = svd.singular_values_\n",
    "    vt = svd.components_\n",
    "    ex_var_rat = svd.explained_variance_ratio_\n",
    "\n",
    "plt.plot(np.cumsum(ex_var_rat))\n",
    "plt.xlabel('Number of Components')\n",
    "plt.ylabel('Cumulative Explained Variance')\n",
    "plt.title('Variance Explained by Components')\n",
    "plt.show()\n",
    "\n",
    "plt.bar(range(1, len(ex_var_rat) + 1), ex_var_rat)\n",
    "plt.ylabel('Explained Variance')\n",
    "plt.xlabel('Number of Components')\n",
    "plt.title('Variance Explained by Features')\n",
    "plt.show()\n",
    "\n",
    "reduced_philly = philly[['name', 'address', 'city', 'state', 'postal_code', 'stars', 'review_count']] # get reduced dataset for recommendation function"
   ]
  },
  {
   "cell_type": "code",
   "execution_count": 213,
   "metadata": {},
   "outputs": [
    {
     "data": {
      "text/html": [
       "<div>\n",
       "<style scoped>\n",
       "    .dataframe tbody tr th:only-of-type {\n",
       "        vertical-align: middle;\n",
       "    }\n",
       "\n",
       "    .dataframe tbody tr th {\n",
       "        vertical-align: top;\n",
       "    }\n",
       "\n",
       "    .dataframe thead th {\n",
       "        text-align: right;\n",
       "    }\n",
       "</style>\n",
       "<table border=\"1\" class=\"dataframe\">\n",
       "  <thead>\n",
       "    <tr style=\"text-align: right;\">\n",
       "      <th></th>\n",
       "      <th>name</th>\n",
       "      <th>address</th>\n",
       "      <th>city</th>\n",
       "      <th>state</th>\n",
       "      <th>postal_code</th>\n",
       "      <th>stars</th>\n",
       "      <th>review_count</th>\n",
       "    </tr>\n",
       "  </thead>\n",
       "  <tbody>\n",
       "    <tr>\n",
       "      <th>11</th>\n",
       "      <td>Alpen Rose</td>\n",
       "      <td>116 S 13th St</td>\n",
       "      <td>Philadelphia</td>\n",
       "      <td>PA</td>\n",
       "      <td>19107</td>\n",
       "      <td>4.0</td>\n",
       "      <td>153</td>\n",
       "    </tr>\n",
       "    <tr>\n",
       "      <th>10</th>\n",
       "      <td>Barcelona Wine Bar Passyunk</td>\n",
       "      <td>1709 E Passyunk Ave</td>\n",
       "      <td>Philadelphia</td>\n",
       "      <td>PA</td>\n",
       "      <td>19148</td>\n",
       "      <td>4.0</td>\n",
       "      <td>608</td>\n",
       "    </tr>\n",
       "    <tr>\n",
       "      <th>3</th>\n",
       "      <td>Bloomsday Cafe</td>\n",
       "      <td>414 S 2nd St</td>\n",
       "      <td>Philadelphia</td>\n",
       "      <td>PA</td>\n",
       "      <td>19147</td>\n",
       "      <td>4.0</td>\n",
       "      <td>73</td>\n",
       "    </tr>\n",
       "    <tr>\n",
       "      <th>7</th>\n",
       "      <td>Burrata</td>\n",
       "      <td>1247 S 13th St</td>\n",
       "      <td>Philadelphia</td>\n",
       "      <td>PA</td>\n",
       "      <td>19147</td>\n",
       "      <td>4.0</td>\n",
       "      <td>155</td>\n",
       "    </tr>\n",
       "    <tr>\n",
       "      <th>2</th>\n",
       "      <td>Emmy Squared - Queen Village</td>\n",
       "      <td>632 S 5th St</td>\n",
       "      <td>Philadelphia</td>\n",
       "      <td>PA</td>\n",
       "      <td>19147</td>\n",
       "      <td>4.0</td>\n",
       "      <td>177</td>\n",
       "    </tr>\n",
       "    <tr>\n",
       "      <th>9</th>\n",
       "      <td>Harper's Garden</td>\n",
       "      <td>31 S 18th St</td>\n",
       "      <td>Philadelphia</td>\n",
       "      <td>PA</td>\n",
       "      <td>19103</td>\n",
       "      <td>4.0</td>\n",
       "      <td>516</td>\n",
       "    </tr>\n",
       "    <tr>\n",
       "      <th>6</th>\n",
       "      <td>JG SkyHigh</td>\n",
       "      <td>1 N 19th St, Fl 60</td>\n",
       "      <td>Philadelphia</td>\n",
       "      <td>PA</td>\n",
       "      <td>19103</td>\n",
       "      <td>4.0</td>\n",
       "      <td>129</td>\n",
       "    </tr>\n",
       "    <tr>\n",
       "      <th>4</th>\n",
       "      <td>Kei Sushi Restaurant</td>\n",
       "      <td>1711 South St</td>\n",
       "      <td>Philadelphia</td>\n",
       "      <td>PA</td>\n",
       "      <td>19146</td>\n",
       "      <td>4.0</td>\n",
       "      <td>157</td>\n",
       "    </tr>\n",
       "    <tr>\n",
       "      <th>1</th>\n",
       "      <td>Libertine Restauraunt</td>\n",
       "      <td>261 S 13th St</td>\n",
       "      <td>Philadelphia</td>\n",
       "      <td>PA</td>\n",
       "      <td>19107</td>\n",
       "      <td>4.0</td>\n",
       "      <td>117</td>\n",
       "    </tr>\n",
       "    <tr>\n",
       "      <th>5</th>\n",
       "      <td>Royal Boucherie</td>\n",
       "      <td>52 S 2nd St</td>\n",
       "      <td>Philadelphia</td>\n",
       "      <td>PA</td>\n",
       "      <td>19106</td>\n",
       "      <td>4.0</td>\n",
       "      <td>228</td>\n",
       "    </tr>\n",
       "  </tbody>\n",
       "</table>\n",
       "</div>"
      ],
      "text/plain": [
       "                            name              address          city state  \\\n",
       "11                    Alpen Rose        116 S 13th St  Philadelphia    PA   \n",
       "10   Barcelona Wine Bar Passyunk  1709 E Passyunk Ave  Philadelphia    PA   \n",
       "3                 Bloomsday Cafe         414 S 2nd St  Philadelphia    PA   \n",
       "7                        Burrata       1247 S 13th St  Philadelphia    PA   \n",
       "2   Emmy Squared - Queen Village         632 S 5th St  Philadelphia    PA   \n",
       "9                Harper's Garden         31 S 18th St  Philadelphia    PA   \n",
       "6                     JG SkyHigh   1 N 19th St, Fl 60  Philadelphia    PA   \n",
       "4           Kei Sushi Restaurant        1711 South St  Philadelphia    PA   \n",
       "1          Libertine Restauraunt        261 S 13th St  Philadelphia    PA   \n",
       "5                Royal Boucherie          52 S 2nd St  Philadelphia    PA   \n",
       "\n",
       "   postal_code  stars  review_count  \n",
       "11       19107    4.0           153  \n",
       "10       19148    4.0           608  \n",
       "3        19147    4.0            73  \n",
       "7        19147    4.0           155  \n",
       "2        19147    4.0           177  \n",
       "9        19103    4.0           516  \n",
       "6        19103    4.0           129  \n",
       "4        19146    4.0           157  \n",
       "1        19107    4.0           117  \n",
       "5        19106    4.0           228  "
      ]
     },
     "execution_count": 213,
     "metadata": {},
     "output_type": "execute_result"
    }
   ],
   "source": [
    "def top_restaurants(restaurant, n = 10, correlation_factor = 0.97):\n",
    "    \"\"\"\n",
    "    Function returns top n correlated restaurants with given restaurant name. Can adjust Pearson correlation factor as needed in order to return more restaurants.\n",
    "    \"\"\"\n",
    "    selected_restaurant = int(list(s_mat.columns).index(str(restaurant))) # get index of restaurant from matrix\n",
    "    recommendations = s_mat.columns[(corr_matrix[selected_restaurant] < 1.0) & (corr_matrix[selected_restaurant] > correlation_factor)].sort_values(ascending = False).values.tolist() # returns highest correlated restaurants with restaurant in index of correlation matrix\n",
    "    \n",
    "    df = pd.DataFrame(recommendations)\n",
    "    df.columns = ['name']\n",
    "    res_df = pd.merge(reduced_philly, df, on = 'name', how = 'inner').drop_duplicates(keep = False) # create dataframe that contains the info about the recommended restaurants\n",
    "    res_df = res_df.drop_duplicates() # creating dataframe with recommended restaurants\n",
    "    res_df = res_df.rename({'bus_stars': 'stars'}, axis = 1)\n",
    "    restaurants = res_df.sort_values('name').drop_duplicates(subset = ['address']) # drop duplicated instances of restaurants in recommendation dataframe\n",
    "    \n",
    "    \n",
    "    \n",
    "    return restaurants[0:n].sort_values(by = ['stars'], ascending = True) \n",
    "\n",
    "top_restaurants('Tuna Bar')"
   ]
  }
 ],
 "metadata": {
  "kernelspec": {
   "display_name": "Python 3",
   "language": "python",
   "name": "python3"
  },
  "language_info": {
   "codemirror_mode": {
    "name": "ipython",
    "version": 3
   },
   "file_extension": ".py",
   "mimetype": "text/x-python",
   "name": "python",
   "nbconvert_exporter": "python",
   "pygments_lexer": "ipython3",
   "version": "3.10.11"
  },
  "orig_nbformat": 4
 },
 "nbformat": 4,
 "nbformat_minor": 2
}
